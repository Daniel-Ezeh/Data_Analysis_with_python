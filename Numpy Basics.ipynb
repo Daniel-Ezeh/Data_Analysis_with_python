{
 "cells": [
  {
   "cell_type": "markdown",
   "id": "39f6d942",
   "metadata": {},
   "source": [
    "#### IMPORTING NUMPY"
   ]
  },
  {
   "cell_type": "code",
   "execution_count": 1,
   "id": "36be8b21",
   "metadata": {},
   "outputs": [],
   "source": [
    "import numpy as np"
   ]
  },
  {
   "cell_type": "code",
   "execution_count": 2,
   "id": "84adee79",
   "metadata": {},
   "outputs": [
    {
     "name": "stdout",
     "output_type": "stream",
     "text": [
      "['ModuleDeprecationWarning', 'VisibleDeprecationWarning', '__version__', 'show_config', 'char', 'rec', 'memmap', 'newaxis', 'ndarray', 'flatiter', 'nditer', 'nested_iters', 'ufunc', 'arange', 'array', 'asarray', 'asanyarray', 'ascontiguousarray', 'asfortranarray', 'zeros', 'count_nonzero', 'empty', 'broadcast', 'dtype', 'fromstring', 'fromfile', 'frombuffer', 'where', 'argwhere', 'copyto', 'concatenate', 'fastCopyAndTranspose', 'lexsort', 'set_numeric_ops', 'can_cast', 'promote_types', 'min_scalar_type', 'result_type', 'isfortran', 'empty_like', 'zeros_like', 'ones_like', 'correlate', 'convolve', 'inner', 'dot', 'outer', 'vdot', 'roll', 'rollaxis', 'moveaxis', 'cross', 'tensordot', 'little_endian', 'fromiter', 'array_equal', 'array_equiv', 'indices', 'fromfunction', 'isclose', 'isscalar', 'binary_repr', 'base_repr', 'ones', 'identity', 'allclose', 'compare_chararrays', 'putmask', 'flatnonzero', 'Inf', 'inf', 'infty', 'Infinity', 'nan', 'NaN', 'False_', 'True_', 'bitwise_not', 'CLIP', 'RAISE', 'WRAP', 'MAXDIMS', 'BUFSIZE', 'ALLOW_THREADS', 'ComplexWarning', 'full', 'full_like', 'matmul', 'shares_memory', 'may_share_memory', 'MAY_SHARE_BOUNDS', 'MAY_SHARE_EXACT', 'TooHardError', 'AxisError', 'alen', 'all', 'alltrue', 'amax', 'amin', 'any', 'argmax', 'argmin', 'argpartition', 'argsort', 'around', 'choose', 'clip', 'compress', 'cumprod', 'cumproduct', 'cumsum', 'diagonal', 'mean', 'ndim', 'nonzero', 'partition', 'prod', 'product', 'ptp', 'put', 'ravel', 'repeat', 'reshape', 'resize', 'round_', 'searchsorted', 'shape', 'size', 'sometrue', 'sort', 'squeeze', 'std', 'sum', 'swapaxes', 'take', 'trace', 'transpose', 'var', '_UFUNC_API', 'ERR_CALL', 'ERR_DEFAULT', 'ERR_IGNORE', 'ERR_LOG', 'ERR_PRINT', 'ERR_RAISE', 'ERR_WARN', 'FLOATING_POINT_SUPPORT', 'FPE_DIVIDEBYZERO', 'FPE_INVALID', 'FPE_OVERFLOW', 'FPE_UNDERFLOW', 'NAN', 'NINF', 'NZERO', 'PINF', 'PZERO', 'SHIFT_DIVIDEBYZERO', 'SHIFT_INVALID', 'SHIFT_OVERFLOW', 'SHIFT_UNDERFLOW', 'UFUNC_BUFSIZE_DEFAULT', 'UFUNC_PYVALS_NAME', '_add_newdoc_ufunc', 'absolute', 'add', 'arccos', 'arccosh', 'arcsin', 'arcsinh', 'arctan', 'arctan2', 'arctanh', 'bitwise_and', 'bitwise_or', 'bitwise_xor', 'cbrt', 'ceil', 'conj', 'conjugate', 'copysign', 'cos', 'cosh', 'deg2rad', 'degrees', 'divide', 'divmod', 'e', 'equal', 'euler_gamma', 'exp', 'exp2', 'expm1', 'fabs', 'floor', 'floor_divide', 'float_power', 'fmax', 'fmin', 'fmod', 'frexp', 'frompyfunc', 'gcd', 'geterrobj', 'greater', 'greater_equal', 'heaviside', 'hypot', 'invert', 'isfinite', 'isinf', 'isnan', 'isnat', 'lcm', 'ldexp', 'left_shift', 'less', 'less_equal', 'log', 'log10', 'log1p', 'log2', 'logaddexp', 'logaddexp2', 'logical_and', 'logical_not', 'logical_or', 'logical_xor', 'maximum', 'minimum', 'mod', 'modf', 'multiply', 'negative', 'nextafter', 'not_equal', 'pi', 'positive', 'power', 'rad2deg', 'radians', 'reciprocal', 'remainder', 'right_shift', 'rint', 'seterrobj', 'sign', 'signbit', 'sin', 'sinh', 'spacing', 'sqrt', 'square', 'subtract', 'tan', 'tanh', 'true_divide', 'trunc', 'sctypeDict', 'sctypes', 'ScalarType', 'obj2sctype', 'cast', 'nbytes', 'sctype2char', 'maximum_sctype', 'issctype', 'typecodes', 'find_common_type', 'issubdtype', 'datetime_data', 'datetime_as_string', 'busday_offset', 'busday_count', 'is_busday', 'busdaycalendar', 'byte', 'ubyte', 'short', 'ushort', 'uint', 'intp', 'uintp', 'longlong', 'ulonglong', 'half', 'double', 'longdouble', 'cfloat', 'cdouble', 'clongdouble', 'void', 'generic', 'number', 'integer', 'inexact', 'signedinteger', 'unsignedinteger', 'floating', 'complexfloating', 'flexible', 'character', 'bool8', 'int64', 'uint64', 'float16', 'float32', 'float64', 'complex64', 'complex128', 'object0', 'bytes0', 'str0', 'void0', 'datetime64', 'timedelta64', 'Bytes0', 'Datetime64', 'Str0', 'Uint64', 'int32', 'uint32', 'int16', 'uint16', 'int8', 'uint8', 'complex_', 'int0', 'uint0', 'single', 'csingle', 'singlecomplex', 'float_', 'intc', 'uintc', 'int_', 'longfloat', 'clongfloat', 'longcomplex', 'bool_', 'bytes_', 'string_', 'str_', 'unicode_', 'object_', 'array2string', 'array_str', 'array_repr', 'set_string_function', 'set_printoptions', 'get_printoptions', 'printoptions', 'format_float_positional', 'format_float_scientific', 'require', 'seterr', 'geterr', 'setbufsize', 'getbufsize', 'seterrcall', 'geterrcall', 'errstate', 'alen', 'all', 'alltrue', 'amax', 'amin', 'any', 'argmax', 'argmin', 'argpartition', 'argsort', 'around', 'choose', 'clip', 'compress', 'cumprod', 'cumproduct', 'cumsum', 'diagonal', 'mean', 'ndim', 'nonzero', 'partition', 'prod', 'product', 'ptp', 'put', 'ravel', 'repeat', 'reshape', 'resize', 'round_', 'searchsorted', 'shape', 'size', 'sometrue', 'sort', 'squeeze', 'std', 'sum', 'swapaxes', 'take', 'trace', 'transpose', 'var', 'record', 'recarray', 'format_parser', 'chararray', 'logspace', 'linspace', 'geomspace', 'MachAr', 'finfo', 'iinfo', 'atleast_1d', 'atleast_2d', 'atleast_3d', 'block', 'hstack', 'stack', 'vstack', 'einsum', 'einsum_path', 'matrix', 'bmat', 'mat', 'asmatrix', 'emath', 'math', 'tracemalloc_domain', 'iscomplexobj', 'isrealobj', 'imag', 'iscomplex', 'isreal', 'nan_to_num', 'real', 'real_if_close', 'typename', 'asfarray', 'mintypecode', 'asscalar', 'common_type', 'ravel_multi_index', 'unravel_index', 'mgrid', 'ogrid', 'r_', 'c_', 's_', 'index_exp', 'ix_', 'ndenumerate', 'ndindex', 'fill_diagonal', 'diag_indices', 'diag_indices_from', 'select', 'piecewise', 'trim_zeros', 'copy', 'iterable', 'percentile', 'diff', 'gradient', 'angle', 'unwrap', 'sort_complex', 'disp', 'flip', 'rot90', 'extract', 'place', 'vectorize', 'asarray_chkfinite', 'average', 'bincount', 'digitize', 'cov', 'corrcoef', 'msort', 'median', 'sinc', 'hamming', 'hanning', 'bartlett', 'blackman', 'kaiser', 'trapz', 'i0', 'add_newdoc', 'add_docstring', 'meshgrid', 'delete', 'insert', 'append', 'interp', 'add_newdoc_ufunc', 'quantile', 'column_stack', 'row_stack', 'dstack', 'array_split', 'split', 'hsplit', 'vsplit', 'dsplit', 'apply_over_axes', 'expand_dims', 'apply_along_axis', 'kron', 'tile', 'get_array_wrap', 'take_along_axis', 'put_along_axis', 'broadcast_to', 'broadcast_arrays', 'broadcast_shapes', 'diag', 'diagflat', 'eye', 'fliplr', 'flipud', 'tri', 'triu', 'tril', 'vander', 'histogram2d', 'mask_indices', 'tril_indices', 'tril_indices_from', 'triu_indices', 'triu_indices_from', 'fix', 'isneginf', 'isposinf', 'pad', 'poly', 'roots', 'polyint', 'polyder', 'polyadd', 'polysub', 'polymul', 'polydiv', 'polyval', 'poly1d', 'polyfit', 'RankWarning', 'issubclass_', 'issubsctype', 'issubdtype', 'deprecate', 'deprecate_with_doc', 'get_include', 'info', 'source', 'who', 'lookfor', 'byte_bounds', 'safe_eval', 'ediff1d', 'intersect1d', 'setxor1d', 'union1d', 'setdiff1d', 'unique', 'in1d', 'isin', 'savetxt', 'loadtxt', 'genfromtxt', 'ndfromtxt', 'mafromtxt', 'recfromtxt', 'recfromcsv', 'load', 'loads', 'save', 'savez', 'savez_compressed', 'packbits', 'unpackbits', 'fromregex', 'DataSource', 'nansum', 'nanmax', 'nanmin', 'nanargmax', 'nanargmin', 'nanmean', 'nanmedian', 'nanpercentile', 'nanvar', 'nanstd', 'nanprod', 'nancumsum', 'nancumprod', 'nanquantile', 'histogram', 'histogramdd', 'histogram_bin_edges', 'linalg', 'fft', 'random', 'ctypeslib', 'ma']\n"
     ]
    }
   ],
   "source": [
    "print(np.__all__)"
   ]
  },
  {
   "cell_type": "markdown",
   "id": "e964a7db",
   "metadata": {},
   "source": [
    "##### Creating Arrays"
   ]
  },
  {
   "cell_type": "code",
   "execution_count": 5,
   "id": "68d80761",
   "metadata": {},
   "outputs": [
    {
     "name": "stdout",
     "output_type": "stream",
     "text": [
      "[1 2 3 4 4 6]\n",
      "<class 'numpy.ndarray'>\n"
     ]
    }
   ],
   "source": [
    "a = np.array([1, 2, 3, 4, 4, 6])\n",
    "print(a)\n",
    "print(type(a))"
   ]
  },
  {
   "cell_type": "code",
   "execution_count": 9,
   "id": "cf4d2793",
   "metadata": {},
   "outputs": [
    {
     "name": "stdout",
     "output_type": "stream",
     "text": [
      "[ 1  6  4  6  4 18]\n",
      "<class 'numpy.ndarray'>\n"
     ]
    }
   ],
   "source": [
    "myT = (1, 6, 4, 6, 4, 18)\n",
    "b = np.array(myT)\n",
    "print(b)\n",
    "print(type(b))"
   ]
  },
  {
   "cell_type": "markdown",
   "id": "de781d64",
   "metadata": {},
   "source": [
    "#### Dimension in Arrays"
   ]
  },
  {
   "cell_type": "code",
   "execution_count": 57,
   "id": "5d89c951",
   "metadata": {},
   "outputs": [
    {
     "name": "stdout",
     "output_type": "stream",
     "text": [
      "2\n",
      "<class 'numpy.ndarray'>\n",
      "0\n",
      "()\n"
     ]
    }
   ],
   "source": [
    "# 0-D Arrays\n",
    "a = np.array(2)\n",
    "print(a)\n",
    "print(type(a))\n",
    "print(a.ndim)\n",
    "print(a.shape)"
   ]
  },
  {
   "cell_type": "code",
   "execution_count": 54,
   "id": "8a0b4913",
   "metadata": {},
   "outputs": [
    {
     "name": "stdout",
     "output_type": "stream",
     "text": [
      "[1 2 3 4 4 6]\n",
      "1\n"
     ]
    },
    {
     "data": {
      "text/plain": [
       "(6,)"
      ]
     },
     "execution_count": 54,
     "metadata": {},
     "output_type": "execute_result"
    }
   ],
   "source": [
    "# 1 - D Arrays\n",
    "b = np.array([1, 2, 3, 4, 4, 6])\n",
    "print(b)\n",
    "print(b.ndim)\n",
    "b.shape"
   ]
  },
  {
   "cell_type": "code",
   "execution_count": 55,
   "id": "425e8ab2",
   "metadata": {},
   "outputs": [
    {
     "name": "stdout",
     "output_type": "stream",
     "text": [
      "[[ 1  4  7 54  5]\n",
      " [56 75 76 46 45]\n",
      " [43 56 34 56 34]]\n",
      "2\n",
      "(3, 5)\n"
     ]
    }
   ],
   "source": [
    "# 2 - D arrays\n",
    "c = np.array([\n",
    "    [1,4,7,54,5],\n",
    "    [56,75,76,46,45],\n",
    "    [43,56,34,56,34]\n",
    "        ])\n",
    "print(c)\n",
    "print(c.ndim)\n",
    "print(c.shape)"
   ]
  },
  {
   "cell_type": "code",
   "execution_count": 56,
   "id": "c84270a4",
   "metadata": {},
   "outputs": [
    {
     "name": "stdout",
     "output_type": "stream",
     "text": [
      "[[[  1   4   7  54   5]\n",
      "  [ 56  75  76  46  45]\n",
      "  [348  34   5  34  56]]\n",
      "\n",
      " [[  2   6   7   4   7]\n",
      "  [ 54  75  45  65  43]\n",
      "  [ 34  56  45  47  56]]\n",
      "\n",
      " [[ 34  56  65  34 565]\n",
      "  [ 67  45   4 767  45]\n",
      "  [ 45  57  67  45  76]]\n",
      "\n",
      " [[  1   4   7  54   5]\n",
      "  [ 56  75  76  46  45]\n",
      "  [348  34   5  34  56]]]\n",
      "3\n",
      "(4, 3, 5)\n"
     ]
    }
   ],
   "source": [
    "# 3-D Arrays\n",
    "d = np.array([\n",
    "    [\n",
    "        [1,4,7,54,5],\n",
    "        [56,75,76,46,45],\n",
    "        [348,34,5,34,56]\n",
    "    ],\n",
    "    [\n",
    "        [2,6,7,4,7],\n",
    "        [54, 75,45, 65,43],\n",
    "        [34,56,45,47,56]\n",
    "    ],\n",
    "    [\n",
    "        [34,56,65,34,565],\n",
    "        [67,45,4,767,45],\n",
    "        [45,57,67,45,76]\n",
    "    ],\n",
    "    [\n",
    "        [1,4,7,54,5],\n",
    "        [56,75,76,46,45],\n",
    "        [348,34,5,34,56]        \n",
    "    ]\n",
    "])\n",
    "print(d)\n",
    "print(d.ndim)\n",
    "print(d.shape)"
   ]
  },
  {
   "cell_type": "code",
   "execution_count": 32,
   "id": "25cfd07f",
   "metadata": {},
   "outputs": [
    {
     "name": "stdout",
     "output_type": "stream",
     "text": [
      "[[[[[[ 2  4  6 23 23]]]]]]\n"
     ]
    }
   ],
   "source": [
    "# Creating Higher Dimension Arrays\n",
    "f = np.array([2,4,6,23,23], ndmin=6)\n",
    "print(f)"
   ]
  },
  {
   "cell_type": "markdown",
   "id": "86585295",
   "metadata": {},
   "source": [
    "##### Array Indexing"
   ]
  },
  {
   "cell_type": "code",
   "execution_count": 34,
   "id": "60ce5ac9",
   "metadata": {},
   "outputs": [
    {
     "name": "stdout",
     "output_type": "stream",
     "text": [
      "6\n"
     ]
    }
   ],
   "source": [
    "b = np.array([1, 2, 3, 4, 4, 6])\n",
    "print(b[-1])"
   ]
  },
  {
   "cell_type": "code",
   "execution_count": 35,
   "id": "d9bc02a3",
   "metadata": {},
   "outputs": [],
   "source": [
    "d = np.array([\n",
    "    [\n",
    "        [1,4,7,54,5],\n",
    "        [56,75,76,46,45],\n",
    "        [348,34,5,34,56]\n",
    "    ],\n",
    "    [\n",
    "        [2,6,7,4,7],\n",
    "        [54, 75,45, 65,43],\n",
    "        [34,56,45,47,56]\n",
    "    ],\n",
    "    [\n",
    "        [34,56,65,34,565],\n",
    "        [67,45,4,767,45],\n",
    "        [45,57,67,45,76]\n",
    "    ],\n",
    "    [\n",
    "        [1,4,7,54,5],\n",
    "        [56,75,76,46,45],\n",
    "        [348,34,5,34,56]        \n",
    "    ]\n",
    "])"
   ]
  },
  {
   "cell_type": "code",
   "execution_count": 41,
   "id": "16a9f1e6",
   "metadata": {},
   "outputs": [
    {
     "name": "stdout",
     "output_type": "stream",
     "text": [
      "[[  1   4   7  54   5]\n",
      " [ 56  75  76  46  45]\n",
      " [348  34   5  34  56]]\n",
      "\n",
      "[348  34   5  34  56]\n",
      "\n",
      "5\n"
     ]
    }
   ],
   "source": [
    "print(d[0])\n",
    "print(\"\")\n",
    "print(d[0][2])\n",
    "print(\"\")\n",
    "print(d[0][2][2])"
   ]
  },
  {
   "cell_type": "code",
   "execution_count": 43,
   "id": "45ec80f1",
   "metadata": {},
   "outputs": [
    {
     "name": "stdout",
     "output_type": "stream",
     "text": [
      "76\n",
      "76\n"
     ]
    }
   ],
   "source": [
    "print(d[2][-1][-1])\n",
    "print(d[2,-1,-1])"
   ]
  },
  {
   "cell_type": "code",
   "execution_count": 44,
   "id": "b4d87456",
   "metadata": {},
   "outputs": [
    {
     "name": "stdout",
     "output_type": "stream",
     "text": [
      "45\n"
     ]
    }
   ],
   "source": [
    "print(d[1,1,2])"
   ]
  },
  {
   "cell_type": "code",
   "execution_count": 52,
   "id": "2a37ee95",
   "metadata": {},
   "outputs": [
    {
     "name": "stdout",
     "output_type": "stream",
     "text": [
      "[[[  1   4   7  54   5]\n",
      "  [ 56  75  76  46  45]\n",
      "  [348  34   5  34  56]]\n",
      "\n",
      " [[  2   6   7   4   7]\n",
      "  [ 54  75  45  65  43]\n",
      "  [ 34  56  45  47  56]]]\n",
      "\n",
      "[[[ 1  4  7 54  5]\n",
      "  [56 75 76 46 45]]\n",
      "\n",
      " [[ 2  6  7  4  7]\n",
      "  [54 75 45 65 43]]]\n",
      "\n",
      "[[ 7 76]\n",
      " [ 7 45]]\n"
     ]
    }
   ],
   "source": [
    "print(d[0:2])\n",
    "print(\"\")\n",
    "print(d[0:2,0:2])\n",
    "print(\"\")\n",
    "print(d[0:2,0:2,2])"
   ]
  },
  {
   "cell_type": "code",
   "execution_count": 65,
   "id": "699d74f8",
   "metadata": {},
   "outputs": [
    {
     "name": "stdout",
     "output_type": "stream",
     "text": [
      "[[[0. 0. 0. 0. 0.]\n",
      "  [0. 0. 0. 0. 0.]]\n",
      "\n",
      " [[0. 0. 0. 0. 0.]\n",
      "  [0. 0. 0. 0. 0.]]\n",
      "\n",
      " [[0. 0. 0. 0. 0.]\n",
      "  [0. 0. 0. 0. 0.]]\n",
      "\n",
      " [[0. 0. 0. 0. 0.]\n",
      "  [0. 0. 0. 0. 0.]]]\n"
     ]
    }
   ],
   "source": [
    "# Creating Arrays of Zeros\n",
    "\n",
    "a = np.zeros(shape=(4,2,5))\n",
    "print(a)"
   ]
  },
  {
   "cell_type": "code",
   "execution_count": 71,
   "id": "005bd276",
   "metadata": {},
   "outputs": [
    {
     "name": "stdout",
     "output_type": "stream",
     "text": [
      "[[[1. 1. 1. 1. 1.]\n",
      "  [1. 1. 1. 1. 1.]\n",
      "  [1. 1. 1. 1. 1.]\n",
      "  [1. 1. 1. 1. 1.]]\n",
      "\n",
      " [[1. 1. 1. 1. 1.]\n",
      "  [1. 1. 1. 1. 1.]\n",
      "  [1. 1. 1. 1. 1.]\n",
      "  [1. 1. 1. 1. 1.]]\n",
      "\n",
      " [[1. 1. 1. 1. 1.]\n",
      "  [1. 1. 1. 1. 1.]\n",
      "  [1. 1. 1. 1. 1.]\n",
      "  [1. 1. 1. 1. 1.]]]\n"
     ]
    }
   ],
   "source": [
    "# Creating arrays of ones\n",
    "import numpy as np\n",
    "a = np.ones(shape=(3,4,5))\n",
    "print(a)"
   ]
  },
  {
   "cell_type": "code",
   "execution_count": 69,
   "id": "5aea0bef",
   "metadata": {},
   "outputs": [
    {
     "name": "stdout",
     "output_type": "stream",
     "text": [
      "(3,)\n"
     ]
    }
   ],
   "source": [
    "print(a.shape)"
   ]
  },
  {
   "cell_type": "code",
   "execution_count": 85,
   "id": "951d199d",
   "metadata": {},
   "outputs": [
    {
     "name": "stdout",
     "output_type": "stream",
     "text": [
      "[  0.           3.44827586   6.89655172  10.34482759  13.79310345\n",
      "  17.24137931  20.68965517  24.13793103  27.5862069   31.03448276\n",
      "  34.48275862  37.93103448  41.37931034  44.82758621  48.27586207\n",
      "  51.72413793  55.17241379  58.62068966  62.06896552  65.51724138\n",
      "  68.96551724  72.4137931   75.86206897  79.31034483  82.75862069\n",
      "  86.20689655  89.65517241  93.10344828  96.55172414 100.        ]\n"
     ]
    }
   ],
   "source": [
    "b = np.linspace(start=0, stop=100, num=30)\n",
    "print(b)\n"
   ]
  },
  {
   "cell_type": "code",
   "execution_count": 148,
   "id": "950b0e1e",
   "metadata": {},
   "outputs": [
    {
     "name": "stdout",
     "output_type": "stream",
     "text": [
      "[[[2 2 7]\n",
      "  [9 3 4]\n",
      "  [3 4 8]]\n",
      "\n",
      " [[6 7 3]\n",
      "  [2 8 3]\n",
      "  [3 9 6]]]\n"
     ]
    }
   ],
   "source": [
    "c = np.random.randint(low=2, high=10, size=(2,3,3))\n",
    "print(c)"
   ]
  },
  {
   "cell_type": "code",
   "execution_count": 106,
   "id": "52979dba",
   "metadata": {},
   "outputs": [
    {
     "name": "stdout",
     "output_type": "stream",
     "text": [
      "[23 26 29 32 35 38 41 44 47 50 53 56 59]\n"
     ]
    }
   ],
   "source": [
    "d = np.arange(23,60,3)\n",
    "print(d)"
   ]
  },
  {
   "cell_type": "code",
   "execution_count": 137,
   "id": "ee5acb35",
   "metadata": {},
   "outputs": [],
   "source": [
    "# Shape of an array"
   ]
  },
  {
   "cell_type": "code",
   "execution_count": 138,
   "id": "d1088dad",
   "metadata": {},
   "outputs": [
    {
     "name": "stdout",
     "output_type": "stream",
     "text": [
      "(6, 4)\n"
     ]
    }
   ],
   "source": [
    "print(f.shape)"
   ]
  },
  {
   "cell_type": "code",
   "execution_count": 130,
   "id": "c93c2748",
   "metadata": {},
   "outputs": [
    {
     "name": "stdout",
     "output_type": "stream",
     "text": [
      "[['Hi' 'Hello' 'dad' '3']\n",
      " ['Hi' 'Hello' 'dad' '3']\n",
      " ['Hi' 'Hello' 'dad' '3']\n",
      " ['Hi' 'Hello' 'dad' '3']\n",
      " ['Hi' 'Hello' 'dad' '3']\n",
      " ['Hi' 'Hello' 'dad' '3']]\n"
     ]
    }
   ],
   "source": [
    "f = np.full(shape=(6,4), fill_value=[\"Hi\", \"Hello\", \"dad\", 3])\n",
    "print(f)"
   ]
  },
  {
   "cell_type": "code",
   "execution_count": 161,
   "id": "6b55b56c",
   "metadata": {},
   "outputs": [
    {
     "name": "stdout",
     "output_type": "stream",
     "text": [
      "[['Hi' 'Hello' 'dad']\n",
      " ['3' 'Hi' 'Hello']\n",
      " ['dad' '3' 'Hi']\n",
      " ['Hello' 'dad' '3']\n",
      " ['Hi' 'Hello' 'dad']\n",
      " ['3' 'Hi' 'Hello']\n",
      " ['dad' '3' 'Hi']\n",
      " ['Hello' 'dad' '3']]\n",
      "(8, 3)\n"
     ]
    }
   ],
   "source": [
    "b = f.reshape((8,3), order=\"c\")\n",
    "print(b)\n",
    "print(b.shape)"
   ]
  },
  {
   "cell_type": "code",
   "execution_count": 160,
   "id": "17941a97",
   "metadata": {},
   "outputs": [
    {
     "name": "stdout",
     "output_type": "stream",
     "text": [
      "Help on built-in function reshape:\n",
      "\n",
      "reshape(...) method of numpy.ndarray instance\n",
      "    a.reshape(shape, order='C')\n",
      "    \n",
      "    Returns an array containing the same data with a new shape.\n",
      "    \n",
      "    Refer to `numpy.reshape` for full documentation.\n",
      "    \n",
      "    See Also\n",
      "    --------\n",
      "    numpy.reshape : equivalent function\n",
      "    \n",
      "    Notes\n",
      "    -----\n",
      "    Unlike the free function `numpy.reshape`, this method on `ndarray` allows\n",
      "    the elements of the shape parameter to be passed in as separate arguments.\n",
      "    For example, ``a.reshape(10, 11)`` is equivalent to\n",
      "    ``a.reshape((10, 11))``.\n",
      "\n"
     ]
    }
   ],
   "source": [
    "help(f.reshape)"
   ]
  },
  {
   "cell_type": "code",
   "execution_count": null,
   "id": "5cce3199",
   "metadata": {},
   "outputs": [],
   "source": []
  },
  {
   "cell_type": "code",
   "execution_count": 136,
   "id": "80b8030c",
   "metadata": {},
   "outputs": [
    {
     "name": "stdout",
     "output_type": "stream",
     "text": [
      "[[ 2  4  5  7 36]\n",
      " [ 4  6  8  5  4]]\n",
      "2\n",
      "<class 'numpy.matrix'>\n"
     ]
    }
   ],
   "source": [
    "b = np.matrix([[2,4,5,7,36],[4,6,8,5,4]])\n",
    "print(b)\n",
    "print(b.ndim)\n",
    "print(type(b))"
   ]
  },
  {
   "cell_type": "code",
   "execution_count": 169,
   "id": "68e9225c",
   "metadata": {},
   "outputs": [
    {
     "name": "stdout",
     "output_type": "stream",
     "text": [
      "[ 1  2  3  4  5  6  7  8  9 10 11 12 13 14 15 16 17 18 19 20 21 22 23 24\n",
      " 25 26 27 28 29 30 31 32 33 34 35 36 37 38 39 40 41 42 43 44 45 46 47 48\n",
      " 49 50 51 52 53 54 55 56 57 58 59 60]\n"
     ]
    }
   ],
   "source": [
    "import numpy as np\n",
    "b = np.arange(1,61)\n",
    "print(b)"
   ]
  },
  {
   "cell_type": "code",
   "execution_count": 171,
   "id": "bcd9cecd",
   "metadata": {},
   "outputs": [
    {
     "name": "stdout",
     "output_type": "stream",
     "text": [
      "[[[ 1  2  3]\n",
      "  [ 4  5  6]\n",
      "  [ 7  8  9]\n",
      "  [10 11 12]\n",
      "  [13 14 15]]\n",
      "\n",
      " [[16 17 18]\n",
      "  [19 20 21]\n",
      "  [22 23 24]\n",
      "  [25 26 27]\n",
      "  [28 29 30]]\n",
      "\n",
      " [[31 32 33]\n",
      "  [34 35 36]\n",
      "  [37 38 39]\n",
      "  [40 41 42]\n",
      "  [43 44 45]]\n",
      "\n",
      " [[46 47 48]\n",
      "  [49 50 51]\n",
      "  [52 53 54]\n",
      "  [55 56 57]\n",
      "  [58 59 60]]]\n"
     ]
    }
   ],
   "source": [
    "c = b.reshape((4,5,3), order=\"c\")\n",
    "print(c)"
   ]
  },
  {
   "cell_type": "code",
   "execution_count": 179,
   "id": "58335b7b",
   "metadata": {},
   "outputs": [
    {
     "name": "stdout",
     "output_type": "stream",
     "text": [
      "[[ 94  98 102]\n",
      " [106 110 114]\n",
      " [118 122 126]\n",
      " [130 134 138]\n",
      " [142 146 150]]\n"
     ]
    }
   ],
   "source": [
    "d = c.sum(axis=0)\n",
    "print(d)"
   ]
  },
  {
   "cell_type": "code",
   "execution_count": 182,
   "id": "68200b70",
   "metadata": {},
   "outputs": [
    {
     "data": {
      "text/plain": [
       "array([ 94, 106, 118, 130, 142,  98, 110, 122, 134, 146, 102, 114, 126,\n",
       "       138, 150])"
      ]
     },
     "execution_count": 182,
     "metadata": {},
     "output_type": "execute_result"
    }
   ],
   "source": [
    "d.reshape((15,), order=\"f\")"
   ]
  },
  {
   "cell_type": "code",
   "execution_count": 184,
   "id": "62b42759",
   "metadata": {},
   "outputs": [
    {
     "name": "stdout",
     "output_type": "stream",
     "text": [
      "[[[ 1  2  3  4  5]\n",
      "  [ 6  7  8  9 10]\n",
      "  [11 12 13 14 15]\n",
      "  [16 17 18 19 20]]\n",
      "\n",
      " [[21 22 23 24 25]\n",
      "  [26 27 28 29 30]\n",
      "  [31 32 33 34 35]\n",
      "  [36 37 38 39 40]]\n",
      "\n",
      " [[41 42 43 44 45]\n",
      "  [46 47 48 49 50]\n",
      "  [51 52 53 54 55]\n",
      "  [56 57 58 59 60]]]\n"
     ]
    }
   ],
   "source": [
    "f = c.reshape((3,4,5))\n",
    "print(f)"
   ]
  },
  {
   "cell_type": "code",
   "execution_count": 186,
   "id": "87fe6559",
   "metadata": {},
   "outputs": [
    {
     "name": "stdout",
     "output_type": "stream",
     "text": [
      "[[ 1  2  3  4  5]\n",
      " [ 6  7  8  9 10]\n",
      " [11 12 13 14 15]\n",
      " [16 17 18 19 20]\n",
      " [21 22 23 24 25]\n",
      " [26 27 28 29 30]\n",
      " [31 32 33 34 35]\n",
      " [36 37 38 39 40]\n",
      " [41 42 43 44 45]\n",
      " [46 47 48 49 50]\n",
      " [51 52 53 54 55]\n",
      " [56 57 58 59 60]]\n"
     ]
    }
   ],
   "source": [
    "g = f.reshape((12,5))\n",
    "print(g)"
   ]
  },
  {
   "cell_type": "code",
   "execution_count": 195,
   "id": "b8cc019c",
   "metadata": {},
   "outputs": [
    {
     "name": "stdout",
     "output_type": "stream",
     "text": [
      "[[20 21 22]\n",
      " [23 24 25]\n",
      " [26 27 28]\n",
      " [29 30 31]]\n",
      "\n",
      "[[100 101 102]\n",
      " [103 104 105]\n",
      " [106 107 108]\n",
      " [109 110 111]]\n"
     ]
    }
   ],
   "source": [
    "p = np.arange(20,32).reshape((4,3))\n",
    "z = np.arange(100,112).reshape((4,3))\n",
    "\n",
    "print(p)\n",
    "print(\"\")\n",
    "print(z)"
   ]
  },
  {
   "cell_type": "code",
   "execution_count": 197,
   "id": "3d5e7c5b",
   "metadata": {},
   "outputs": [
    {
     "name": "stdout",
     "output_type": "stream",
     "text": [
      "[[120 122 124]\n",
      " [126 128 130]\n",
      " [132 134 136]\n",
      " [138 140 142]]\n"
     ]
    }
   ],
   "source": [
    "adder = p + z\n",
    "print(adder)"
   ]
  },
  {
   "cell_type": "code",
   "execution_count": 198,
   "id": "dca551b2",
   "metadata": {},
   "outputs": [
    {
     "name": "stdout",
     "output_type": "stream",
     "text": [
      "[[2000 2121 2244]\n",
      " [2369 2496 2625]\n",
      " [2756 2889 3024]\n",
      " [3161 3300 3441]]\n"
     ]
    }
   ],
   "source": [
    "multi = p * z\n",
    "print(multi)"
   ]
  },
  {
   "cell_type": "code",
   "execution_count": 199,
   "id": "fe74a89c",
   "metadata": {},
   "outputs": [
    {
     "name": "stdout",
     "output_type": "stream",
     "text": [
      "[[0.2        0.20792079 0.21568627]\n",
      " [0.22330097 0.23076923 0.23809524]\n",
      " [0.24528302 0.25233645 0.25925926]\n",
      " [0.26605505 0.27272727 0.27927928]]\n"
     ]
    }
   ],
   "source": [
    "divider = p / z\n",
    "print(divider)"
   ]
  },
  {
   "cell_type": "code",
   "execution_count": 203,
   "id": "47e871d8",
   "metadata": {},
   "outputs": [
    {
     "name": "stdout",
     "output_type": "stream",
     "text": [
      "[[80 80 80]\n",
      " [80 80 80]\n",
      " [80 80 80]\n",
      " [80 80 80]]\n"
     ]
    }
   ],
   "source": [
    "minus = z - p\n",
    "print(minus)"
   ]
  },
  {
   "cell_type": "code",
   "execution_count": 206,
   "id": "95e066e6",
   "metadata": {},
   "outputs": [
    {
     "name": "stdout",
     "output_type": "stream",
     "text": [
      "[[400 441 484]\n",
      " [529 576 625]\n",
      " [676 729 784]\n",
      " [841 900 961]]\n"
     ]
    }
   ],
   "source": [
    "divider2 = p**2\n",
    "print(divider2)"
   ]
  },
  {
   "cell_type": "code",
   "execution_count": null,
   "id": "8b45765c",
   "metadata": {},
   "outputs": [],
   "source": []
  },
  {
   "cell_type": "code",
   "execution_count": null,
   "id": "a7ee9c43",
   "metadata": {},
   "outputs": [],
   "source": []
  },
  {
   "cell_type": "code",
   "execution_count": null,
   "id": "d5f3bf22",
   "metadata": {},
   "outputs": [],
   "source": []
  },
  {
   "cell_type": "code",
   "execution_count": 174,
   "id": "be3bf1f7",
   "metadata": {},
   "outputs": [
    {
     "name": "stdout",
     "output_type": "stream",
     "text": [
      "Help on built-in function sum:\n",
      "\n",
      "sum(...) method of numpy.ndarray instance\n",
      "    a.sum(axis=None, dtype=None, out=None, keepdims=False, initial=0, where=True)\n",
      "    \n",
      "    Return the sum of the array elements over the given axis.\n",
      "    \n",
      "    Refer to `numpy.sum` for full documentation.\n",
      "    \n",
      "    See Also\n",
      "    --------\n",
      "    numpy.sum : equivalent function\n",
      "\n"
     ]
    }
   ],
   "source": [
    "help(c.sum)"
   ]
  },
  {
   "cell_type": "markdown",
   "id": "54d3486c",
   "metadata": {},
   "source": [
    "##### Searching Arrays"
   ]
  },
  {
   "cell_type": "code",
   "execution_count": 3,
   "id": "0f3a4e4f",
   "metadata": {},
   "outputs": [
    {
     "name": "stdout",
     "output_type": "stream",
     "text": [
      "[1 2 3 4 5 4 4]\n"
     ]
    }
   ],
   "source": [
    "import numpy as np\n",
    "a = np.array([1, 2, 3, 4, 5, 4, 4])\n",
    "print(a)"
   ]
  },
  {
   "cell_type": "code",
   "execution_count": 11,
   "id": "e83d3ab6",
   "metadata": {},
   "outputs": [
    {
     "name": "stdout",
     "output_type": "stream",
     "text": [
      "(array([3, 4, 5, 6], dtype=int64),)\n"
     ]
    }
   ],
   "source": [
    "aa = np.where(a > 3)\n",
    "print(aa)"
   ]
  },
  {
   "cell_type": "code",
   "execution_count": 9,
   "id": "f2365a0a",
   "metadata": {},
   "outputs": [
    {
     "name": "stdout",
     "output_type": "stream",
     "text": [
      "[4 5 4 4]\n"
     ]
    }
   ],
   "source": [
    "print(a[aa])"
   ]
  },
  {
   "cell_type": "markdown",
   "id": "f7f0682c",
   "metadata": {},
   "source": [
    "##### Using any( ) and all( ) function"
   ]
  },
  {
   "cell_type": "code",
   "execution_count": 15,
   "id": "2b8be82d",
   "metadata": {},
   "outputs": [
    {
     "name": "stdout",
     "output_type": "stream",
     "text": [
      "False\n",
      "True\n"
     ]
    }
   ],
   "source": [
    "a = np.array([1, 2, 3, 4, 5, 4, 4])\n",
    "\n",
    "b = np.all(a>3)\n",
    "c = np.any(a==3)\n",
    "\n",
    "print(b)\n",
    "print(c)"
   ]
  },
  {
   "cell_type": "markdown",
   "id": "101f07bc",
   "metadata": {},
   "source": [
    "##### Sorting Arrays"
   ]
  },
  {
   "cell_type": "code",
   "execution_count": 20,
   "id": "9a111a5e",
   "metadata": {},
   "outputs": [
    {
     "name": "stdout",
     "output_type": "stream",
     "text": [
      "['Mango' 'Orange' 'Banana' 'Apple' 'Guava' 'Pear' 'Watermelon']\n"
     ]
    }
   ],
   "source": [
    "fruits = np.array([\"Mango\", 'Orange', 'Banana', 'Apple', 'Guava', 'Pear', 'Watermelon'])\n",
    "print(fruits)"
   ]
  },
  {
   "cell_type": "code",
   "execution_count": 23,
   "id": "9759bbe9",
   "metadata": {},
   "outputs": [
    {
     "name": "stdout",
     "output_type": "stream",
     "text": [
      "['Apple' 'Banana' 'Guava' 'Mango' 'Orange' 'Pear' 'Watermelon']\n",
      "['Apple' 'Banana' 'Guava' 'Mango' 'Orange' 'Pear' 'Watermelon']\n"
     ]
    }
   ],
   "source": [
    "print(np.sort(fruits))\n",
    "b = np.sort(fruits)\n",
    "print(b)"
   ]
  },
  {
   "cell_type": "code",
   "execution_count": 24,
   "id": "1124e111",
   "metadata": {},
   "outputs": [
    {
     "name": "stdout",
     "output_type": "stream",
     "text": [
      "[[3 2 4]\n",
      " [5 0 1]]\n"
     ]
    }
   ],
   "source": [
    "arr = np.array([[3, 2, 4], [5, 0, 1]])\n",
    "print(arr)"
   ]
  },
  {
   "cell_type": "code",
   "execution_count": 28,
   "id": "bb537186",
   "metadata": {},
   "outputs": [
    {
     "name": "stdout",
     "output_type": "stream",
     "text": [
      "[[3 0 1]\n",
      " [5 2 4]]\n"
     ]
    }
   ],
   "source": [
    "print(np.sort(arr, axis=0))"
   ]
  },
  {
   "cell_type": "code",
   "execution_count": 29,
   "id": "a83cbe1f",
   "metadata": {},
   "outputs": [
    {
     "name": "stdout",
     "output_type": "stream",
     "text": [
      "[[2 3 4]\n",
      " [0 1 5]]\n"
     ]
    }
   ],
   "source": [
    "print(np.sort(arr))"
   ]
  },
  {
   "cell_type": "markdown",
   "id": "518b23d7",
   "metadata": {},
   "source": [
    "##### Filtering Array"
   ]
  },
  {
   "cell_type": "code",
   "execution_count": 82,
   "id": "f6ddde8e",
   "metadata": {},
   "outputs": [],
   "source": [
    "import numpy as np\n",
    "arr = np.array([41, 42, 43, 44])\n",
    "\n",
    "ind = [True, False, False, True]"
   ]
  },
  {
   "cell_type": "code",
   "execution_count": 83,
   "id": "8c026541",
   "metadata": {},
   "outputs": [
    {
     "name": "stdout",
     "output_type": "stream",
     "text": [
      "[41 44]\n"
     ]
    }
   ],
   "source": [
    "print(arr[ind])"
   ]
  },
  {
   "cell_type": "code",
   "execution_count": 84,
   "id": "0356b64f",
   "metadata": {},
   "outputs": [],
   "source": [
    "# Creating a filter that will return only values\n",
    "# less than 20\n",
    "\n",
    "a = np.array([19, 41, 42, 12, 43, 9, 44, 25, 3, 6])"
   ]
  },
  {
   "cell_type": "code",
   "execution_count": 52,
   "id": "92bc590e",
   "metadata": {},
   "outputs": [
    {
     "name": "stdout",
     "output_type": "stream",
     "text": [
      "(array([0, 3, 5, 8, 9], dtype=int64),)\n",
      "[19 12  9  3  6]\n"
     ]
    }
   ],
   "source": [
    "# Method 1: where ( ) function\n",
    "aa = np.where(arr < 20)\n",
    "print(aa)\n",
    "\n",
    "print(arr[aa])"
   ]
  },
  {
   "cell_type": "code",
   "execution_count": 58,
   "id": "33e94ab6",
   "metadata": {},
   "outputs": [
    {
     "name": "stdout",
     "output_type": "stream",
     "text": [
      "[19 41 42 12 43  9 44 25  3  6]\n",
      "[ True False False  True False  True False False  True  True]\n",
      "[19 12  9  3  6]\n"
     ]
    }
   ],
   "source": [
    "# Method 2: Boolean Indexing\n",
    "print(arr)\n",
    "aa = arr < 20\n",
    "print(aa)\n",
    "\n",
    "print(arr[aa])"
   ]
  },
  {
   "cell_type": "code",
   "execution_count": 61,
   "id": "825553b6",
   "metadata": {},
   "outputs": [
    {
     "name": "stdout",
     "output_type": "stream",
     "text": [
      "[19 41 42 12 43  9 44 25  3  6]\n",
      "[True, False, False, True, False, True, False, False, True, True]\n",
      "[19 12  9  3  6]\n"
     ]
    }
   ],
   "source": [
    "# Method 3: Using the loops \n",
    "print(arr)\n",
    "\n",
    "#Creating an empty list\n",
    "index = []\n",
    "\n",
    "# Go through each element in the array\n",
    "for x in arr:\n",
    "    if x < 20:\n",
    "        index.append(True)\n",
    "    else:\n",
    "        index.append(False)\n",
    "\n",
    "print(index)\n",
    "print(arr[index])"
   ]
  },
  {
   "cell_type": "markdown",
   "id": "244d9eb5",
   "metadata": {},
   "source": [
    "#### Ufuncs"
   ]
  },
  {
   "cell_type": "code",
   "execution_count": 62,
   "id": "212963f7",
   "metadata": {},
   "outputs": [
    {
     "name": "stdout",
     "output_type": "stream",
     "text": [
      "[ 6  7 12]\n"
     ]
    }
   ],
   "source": [
    "a = np.array([2,4,5])\n",
    "b = np.array([4,3,7])\n",
    "\n",
    "c = a + b\n",
    "print(c)"
   ]
  },
  {
   "cell_type": "code",
   "execution_count": 63,
   "id": "66039999",
   "metadata": {},
   "outputs": [
    {
     "name": "stdout",
     "output_type": "stream",
     "text": [
      "[2, 4, 5, 4, 3, 7]\n"
     ]
    }
   ],
   "source": [
    "a = [2,4,5]\n",
    "b = [4,3,7]\n",
    "c = a + b\n",
    "print(c)"
   ]
  },
  {
   "cell_type": "markdown",
   "id": "7a2f1b31",
   "metadata": {},
   "source": [
    "##### Addition"
   ]
  },
  {
   "cell_type": "code",
   "execution_count": 65,
   "id": "68de9a5c",
   "metadata": {},
   "outputs": [
    {
     "name": "stdout",
     "output_type": "stream",
     "text": [
      "[ 6  7 12]\n"
     ]
    }
   ],
   "source": [
    "c = np.add(a, b)\n",
    "print(c)"
   ]
  },
  {
   "cell_type": "code",
   "execution_count": 70,
   "id": "3ccb77f0",
   "metadata": {},
   "outputs": [
    {
     "name": "stdout",
     "output_type": "stream",
     "text": [
      "[2, 4, 5]\n",
      "[4, 3, 7]\n",
      "\n",
      "[-2  1 -2]\n"
     ]
    }
   ],
   "source": [
    "# Subtraction\n",
    "print(a)\n",
    "print(b)\n",
    "print(\"\")\n",
    "c = np.subtract(a,b)\n",
    "print(c)"
   ]
  },
  {
   "cell_type": "code",
   "execution_count": 71,
   "id": "b4aae636",
   "metadata": {},
   "outputs": [
    {
     "name": "stdout",
     "output_type": "stream",
     "text": [
      "[2, 4, 5]\n",
      "[4, 3, 7]\n",
      "\n",
      "[ 8 12 35]\n"
     ]
    }
   ],
   "source": [
    "# Multiplication\n",
    "print(a)\n",
    "print(b)\n",
    "print(\"\")\n",
    "c = np.multiply(a,b)\n",
    "print(c)"
   ]
  },
  {
   "cell_type": "code",
   "execution_count": 72,
   "id": "532f1dd7",
   "metadata": {},
   "outputs": [
    {
     "name": "stdout",
     "output_type": "stream",
     "text": [
      "[2, 4, 5]\n",
      "[4, 3, 7]\n",
      "\n",
      "[0.5        1.33333333 0.71428571]\n"
     ]
    }
   ],
   "source": [
    "# Division\n",
    "print(a)\n",
    "print(b)\n",
    "print(\"\")\n",
    "c = np.divide(a,b)\n",
    "print(c)"
   ]
  },
  {
   "cell_type": "code",
   "execution_count": 73,
   "id": "ddc2e02d",
   "metadata": {},
   "outputs": [
    {
     "name": "stdout",
     "output_type": "stream",
     "text": [
      "[2, 4, 5]\n",
      "[4, 3, 7]\n",
      "\n",
      "[   16    64 78125]\n"
     ]
    }
   ],
   "source": [
    "# Exponentiation\n",
    "print(a)\n",
    "print(b)\n",
    "print(\"\")\n",
    "c = np.power(a,b)\n",
    "print(c)"
   ]
  },
  {
   "cell_type": "code",
   "execution_count": 75,
   "id": "83efba1c",
   "metadata": {},
   "outputs": [
    {
     "name": "stdout",
     "output_type": "stream",
     "text": [
      "[2, 4, 5]\n",
      "[4, 3, 7]\n",
      "\n",
      "[2 1 5]\n"
     ]
    }
   ],
   "source": [
    "# Remainder\n",
    "print(a)\n",
    "print(b)\n",
    "print(\"\")\n",
    "c = np.mod(a,b)\n",
    "c = np.remainder(a,b)\n",
    "print(c)"
   ]
  },
  {
   "cell_type": "code",
   "execution_count": 76,
   "id": "86d3ace5",
   "metadata": {},
   "outputs": [
    {
     "name": "stdout",
     "output_type": "stream",
     "text": [
      "[2, 4, 5]\n",
      "[4, 3, 7]\n",
      "\n",
      "(array([0, 1, 0], dtype=int32), array([2, 1, 5], dtype=int32))\n"
     ]
    }
   ],
   "source": [
    "# Quotient and Mod\n",
    "print(a)\n",
    "print(b)\n",
    "print(\"\")\n",
    "c = np.divmod(a,b)\n",
    "print(c)"
   ]
  },
  {
   "cell_type": "code",
   "execution_count": 77,
   "id": "54f9e27f",
   "metadata": {},
   "outputs": [
    {
     "name": "stdout",
     "output_type": "stream",
     "text": [
      "[1 2 1 2 3 4]\n"
     ]
    }
   ],
   "source": [
    "# Absolute Values\n",
    "arr = np.array([-1, -2, 1, 2, 3, -4])\n",
    "c = np.absolute(arr)\n",
    "print(c)"
   ]
  },
  {
   "cell_type": "markdown",
   "id": "ffc382d1",
   "metadata": {},
   "source": [
    "#### Rounding Decimals"
   ]
  },
  {
   "cell_type": "code",
   "execution_count": 100,
   "id": "c31b76ad",
   "metadata": {},
   "outputs": [
    {
     "name": "stdout",
     "output_type": "stream",
     "text": [
      "[2.         3.16666667 4.33333333 5.5        6.66666667 7.83333333\n",
      " 9.        ]\n"
     ]
    }
   ],
   "source": [
    "# Truncate\n",
    "import numpy as np\n",
    "a = np.linspace(2,9,7)\n",
    "print(a)"
   ]
  },
  {
   "cell_type": "code",
   "execution_count": 101,
   "id": "3012d501",
   "metadata": {},
   "outputs": [
    {
     "name": "stdout",
     "output_type": "stream",
     "text": [
      "[2. 3. 4. 5. 6. 7. 9.]\n"
     ]
    }
   ],
   "source": [
    "print(np.trunc(a))"
   ]
  },
  {
   "cell_type": "code",
   "execution_count": 108,
   "id": "bf7c6c70",
   "metadata": {},
   "outputs": [
    {
     "name": "stdout",
     "output_type": "stream",
     "text": [
      "[2.   3.17 4.33 5.5  6.67 7.83 9.  ]\n"
     ]
    }
   ],
   "source": [
    "# Using around( )\n",
    "b = np.around(a, 2)\n",
    "print(b)"
   ]
  },
  {
   "cell_type": "code",
   "execution_count": 110,
   "id": "d424d0ff",
   "metadata": {},
   "outputs": [],
   "source": [
    "# Floor and Ceil\n",
    "aa = np.array([7.69, -4.46])"
   ]
  },
  {
   "cell_type": "code",
   "execution_count": 111,
   "id": "587316a6",
   "metadata": {},
   "outputs": [
    {
     "name": "stdout",
     "output_type": "stream",
     "text": [
      "[ 7. -5.]\n",
      "[ 8. -4.]\n"
     ]
    }
   ],
   "source": [
    "f = np.floor(aa)\n",
    "c = np.ceil(aa)\n",
    "\n",
    "print(f)\n",
    "print(c)"
   ]
  },
  {
   "cell_type": "code",
   "execution_count": 118,
   "id": "2ccc8877",
   "metadata": {},
   "outputs": [
    {
     "name": "stdout",
     "output_type": "stream",
     "text": [
      "[2.9429836  2.15704371]\n",
      "[0.88592634 0.64933486]\n",
      "[0.8859 0.6493]\n",
      "[2.03992078 1.49514877]\n"
     ]
    }
   ],
   "source": [
    "# Logarithms\n",
    "# Base 2\n",
    "aa = np.array([7.69, 4.46])\n",
    "print(np.log2(aa))\n",
    "\n",
    "# Base 10\n",
    "print(np.log10(aa))\n",
    "print(np.around(np.log10(aa),4))\n",
    "print(np.log(aa))"
   ]
  },
  {
   "cell_type": "code",
   "execution_count": 122,
   "id": "41dbde15",
   "metadata": {},
   "outputs": [
    {
     "name": "stdout",
     "output_type": "stream",
     "text": [
      "[1 2 3 4]\n",
      "[ 8  9 10 11]\n"
     ]
    }
   ],
   "source": [
    "# Addition and Summation\n",
    "a = np.arange(1,5)\n",
    "b = np.arange(8,12)\n",
    "print(a)\n",
    "print(b)\n"
   ]
  },
  {
   "cell_type": "code",
   "execution_count": 123,
   "id": "107769ba",
   "metadata": {},
   "outputs": [
    {
     "name": "stdout",
     "output_type": "stream",
     "text": [
      "[ 9 11 13 15]\n"
     ]
    }
   ],
   "source": [
    "# Add\n",
    "c = np.add(a, b)\n",
    "print(c)"
   ]
  },
  {
   "cell_type": "code",
   "execution_count": 125,
   "id": "58edf02c",
   "metadata": {},
   "outputs": [
    {
     "name": "stdout",
     "output_type": "stream",
     "text": [
      "48\n"
     ]
    }
   ],
   "source": [
    "# Sum\n",
    "c = np.sum([a, b])\n",
    "print(c)"
   ]
  },
  {
   "cell_type": "code",
   "execution_count": 132,
   "id": "497953bd",
   "metadata": {},
   "outputs": [
    {
     "name": "stdout",
     "output_type": "stream",
     "text": [
      "[10 38]\n"
     ]
    }
   ],
   "source": [
    "# Summing along an axis\n",
    "c = np.sum([a, b], axis=1)\n",
    "print(c)"
   ]
  },
  {
   "cell_type": "code",
   "execution_count": 133,
   "id": "903059f8",
   "metadata": {},
   "outputs": [
    {
     "name": "stdout",
     "output_type": "stream",
     "text": [
      "[1 2 3 4]\n",
      "[ 1  3  6 10]\n"
     ]
    }
   ],
   "source": [
    "# Cummulative sum\n",
    "print(a)\n",
    "print(np.cumsum(a))"
   ]
  },
  {
   "cell_type": "code",
   "execution_count": 134,
   "id": "a981cd8a",
   "metadata": {},
   "outputs": [
    {
     "name": "stdout",
     "output_type": "stream",
     "text": [
      "[1 2 3 4 5 6]\n",
      "720\n"
     ]
    }
   ],
   "source": [
    "# Product\n",
    "a = np.arange(1,7)\n",
    "b = np.prod(a)\n",
    "print(a)\n",
    "print(b)"
   ]
  },
  {
   "cell_type": "code",
   "execution_count": 138,
   "id": "cc4e1452",
   "metadata": {},
   "outputs": [
    {
     "name": "stdout",
     "output_type": "stream",
     "text": [
      "[1 2 3 4]\n",
      "[ 8  9 10 11]\n",
      "190080\n"
     ]
    }
   ],
   "source": [
    "a = np.arange(1,5)\n",
    "b = np.arange(8,12)\n",
    "\n",
    "c = np.prod([a,b])\n",
    "print(a)\n",
    "print(b)\n",
    "print(c)"
   ]
  },
  {
   "cell_type": "code",
   "execution_count": 141,
   "id": "0980308c",
   "metadata": {},
   "outputs": [
    {
     "name": "stdout",
     "output_type": "stream",
     "text": [
      "[1 2 3 4]\n",
      "[ 8  9 10 11]\n",
      "[  24 7920]\n"
     ]
    }
   ],
   "source": [
    "# Multiplying along an axis\n",
    "a = np.arange(1,5)\n",
    "b = np.arange(8,12)\n",
    "\n",
    "c = np.prod([a,b], axis=1)\n",
    "print(a)\n",
    "print(b)\n",
    "print(c)"
   ]
  },
  {
   "cell_type": "code",
   "execution_count": 145,
   "id": "39f7e19c",
   "metadata": {},
   "outputs": [
    {
     "name": "stdout",
     "output_type": "stream",
     "text": [
      "[ 8  9 10 11]\n",
      "[   8   72  720 7920]\n"
     ]
    }
   ],
   "source": [
    "# Cummulative Product\n",
    "b = np.arange(8,12)\n",
    "c = np.cumprod(b)\n",
    "print(b)\n",
    "print(c)"
   ]
  },
  {
   "cell_type": "code",
   "execution_count": 153,
   "id": "4c8d4b75",
   "metadata": {},
   "outputs": [
    {
     "name": "stdout",
     "output_type": "stream",
     "text": [
      "[10 15 25  5  6 10 12]\n",
      "[  5  10 -20   1   4   2]\n",
      "[  5 -30  21   3  -2]\n",
      "[-35  51 -18  -5]\n"
     ]
    }
   ],
   "source": [
    "# Differences\n",
    "a = np.array([10, 15, 25, 5, 6, 10, 12])\n",
    "\n",
    "b = np.diff(a)\n",
    "c = np.diff(a, n=2)\n",
    "d = np.diff(a, n=3)\n",
    "print(a)\n",
    "print(b)\n",
    "print(c)\n",
    "print(d)"
   ]
  },
  {
   "cell_type": "code",
   "execution_count": 155,
   "id": "edfee3ab",
   "metadata": {},
   "outputs": [
    {
     "name": "stdout",
     "output_type": "stream",
     "text": [
      "[[  5  10 -20   1   4   2]\n",
      " [ -8  73 -83  22  63 -78]]\n"
     ]
    }
   ],
   "source": [
    "a = np.array([10, 15, 25, 5, 6, 10, 12])\n",
    "b = np.array([23, 15, 88, 5, 27, 90, 12])\n",
    "c = np.diff([a,b])\n",
    "print(c)"
   ]
  },
  {
   "cell_type": "code",
   "execution_count": null,
   "id": "c7d7be81",
   "metadata": {},
   "outputs": [],
   "source": []
  },
  {
   "cell_type": "markdown",
   "id": "9e652612",
   "metadata": {},
   "source": [
    "##### LCM (Lowest Common Multiple)"
   ]
  },
  {
   "cell_type": "code",
   "execution_count": 157,
   "id": "2e8bd467",
   "metadata": {},
   "outputs": [
    {
     "name": "stdout",
     "output_type": "stream",
     "text": [
      "72\n"
     ]
    }
   ],
   "source": [
    "a = 18\n",
    "b = 24\n",
    "\n",
    "c = np.lcm(a,b)\n",
    "print(c)"
   ]
  },
  {
   "cell_type": "code",
   "execution_count": 160,
   "id": "353910af",
   "metadata": {},
   "outputs": [
    {
     "name": "stdout",
     "output_type": "stream",
     "text": [
      "300\n"
     ]
    }
   ],
   "source": [
    "# Finding the LCM of an array or list\n",
    "c = np.lcm.reduce([12, 25, 10])\n",
    "print(c)"
   ]
  },
  {
   "cell_type": "markdown",
   "id": "95d2cb2b",
   "metadata": {},
   "source": [
    "##### GCD (Greatest Common Divisor)"
   ]
  },
  {
   "cell_type": "code",
   "execution_count": 161,
   "id": "53cc197b",
   "metadata": {},
   "outputs": [
    {
     "name": "stdout",
     "output_type": "stream",
     "text": [
      "6\n"
     ]
    }
   ],
   "source": [
    "a = 18\n",
    "b = 24\n",
    "\n",
    "c = np.gcd(a,b)\n",
    "print(c)"
   ]
  },
  {
   "cell_type": "code",
   "execution_count": 164,
   "id": "439d5e41",
   "metadata": {},
   "outputs": [
    {
     "name": "stdout",
     "output_type": "stream",
     "text": [
      "12\n"
     ]
    }
   ],
   "source": [
    "# Finding the GCD of an array or list\n",
    "c = np.gcd.reduce([12, 24, 36])\n",
    "print(c)"
   ]
  },
  {
   "cell_type": "markdown",
   "id": "e1a6b8e4",
   "metadata": {},
   "source": [
    "##### Trigonometric Function"
   ]
  },
  {
   "cell_type": "code",
   "execution_count": 165,
   "id": "ffec20cc",
   "metadata": {},
   "outputs": [
    {
     "data": {
      "text/plain": [
       "3.141592653589793"
      ]
     },
     "execution_count": 165,
     "metadata": {},
     "output_type": "execute_result"
    }
   ],
   "source": [
    "np.pi"
   ]
  },
  {
   "cell_type": "code",
   "execution_count": 166,
   "id": "296f85c6",
   "metadata": {},
   "outputs": [
    {
     "name": "stdout",
     "output_type": "stream",
     "text": [
      "-0.3048106211022167\n",
      "-0.9524129804151563\n",
      "0.320040389379563\n"
     ]
    }
   ],
   "source": [
    "a  = 60\n",
    "print(np.sin(a))\n",
    "print(np.cos(a))\n",
    "print(np.tan(a))\n"
   ]
  },
  {
   "cell_type": "markdown",
   "id": "93f5fc92",
   "metadata": {},
   "source": [
    "### Set Operations"
   ]
  },
  {
   "cell_type": "code",
   "execution_count": 167,
   "id": "4086bad1",
   "metadata": {},
   "outputs": [
    {
     "name": "stdout",
     "output_type": "stream",
     "text": [
      "[1 2 3 4 5 6 7]\n"
     ]
    }
   ],
   "source": [
    "import numpy as np\n",
    "\n",
    "arr = np.array([1, 1, 1, 2, 3, 4, 5, 5, 6, 7])\n",
    "\n",
    "b = np.unique(arr)\n",
    "print(b)"
   ]
  },
  {
   "cell_type": "code",
   "execution_count": 168,
   "id": "1068059c",
   "metadata": {},
   "outputs": [
    {
     "name": "stdout",
     "output_type": "stream",
     "text": [
      "[1 2 3 4 5 6]\n"
     ]
    }
   ],
   "source": [
    "# Finding Union and Intersection of a set\n",
    "a = np.array([1, 2, 3, 4])\n",
    "b = np.array([3, 4, 5, 6])\n",
    "\n",
    "c = np.union1d(a,b)\n",
    "print(c)"
   ]
  },
  {
   "cell_type": "code",
   "execution_count": 169,
   "id": "856464d3",
   "metadata": {},
   "outputs": [
    {
     "name": "stdout",
     "output_type": "stream",
     "text": [
      "[3 4]\n"
     ]
    }
   ],
   "source": [
    "# Finding Union and Intersection of a set\n",
    "a = np.array([1, 2, 3, 4])\n",
    "b = np.array([3, 4, 5, 6])\n",
    "\n",
    "c = np.intersect1d(a,b)\n",
    "print(c)"
   ]
  },
  {
   "cell_type": "code",
   "execution_count": 172,
   "id": "8820920f",
   "metadata": {},
   "outputs": [
    {
     "name": "stdout",
     "output_type": "stream",
     "text": [
      "[1 2]\n",
      "[5 6]\n"
     ]
    }
   ],
   "source": [
    "#Set difference\n",
    "a = np.array([1, 2, 3, 4])\n",
    "b = np.array([3, 4, 5, 6])\n",
    "\n",
    "c = np.setdiff1d(a,b)\n",
    "print(c)\n",
    "\n",
    "# Returning the difference in \"b\"\n",
    "d = np.setdiff1d(b,a)\n",
    "print(d)"
   ]
  },
  {
   "cell_type": "code",
   "execution_count": 173,
   "id": "88a2205e",
   "metadata": {},
   "outputs": [
    {
     "name": "stdout",
     "output_type": "stream",
     "text": [
      "[1 2 5 6]\n"
     ]
    }
   ],
   "source": [
    "# Finding symmetric difference\n",
    "a = np.array([1, 2, 3, 4])\n",
    "b = np.array([3, 4, 5, 6])\n",
    "\n",
    "c = np.setxor1d(a,b)\n",
    "print(c)"
   ]
  },
  {
   "cell_type": "code",
   "execution_count": null,
   "id": "5a285cd0",
   "metadata": {},
   "outputs": [],
   "source": []
  },
  {
   "cell_type": "code",
   "execution_count": null,
   "id": "81772871",
   "metadata": {},
   "outputs": [],
   "source": []
  }
 ],
 "metadata": {
  "kernelspec": {
   "display_name": "Python 3 (ipykernel)",
   "language": "python",
   "name": "python3"
  },
  "language_info": {
   "codemirror_mode": {
    "name": "ipython",
    "version": 3
   },
   "file_extension": ".py",
   "mimetype": "text/x-python",
   "name": "python",
   "nbconvert_exporter": "python",
   "pygments_lexer": "ipython3",
   "version": "3.9.13"
  }
 },
 "nbformat": 4,
 "nbformat_minor": 5
}
