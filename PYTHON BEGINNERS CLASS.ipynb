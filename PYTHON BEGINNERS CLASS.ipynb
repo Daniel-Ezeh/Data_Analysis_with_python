{
 "cells": [
  {
   "cell_type": "markdown",
   "id": "9bfbd249",
   "metadata": {},
   "source": [
    "# 1.0 INTRODUCTION TO PYTHON PROGRAMING\n",
    "### What is Python?\n",
    "Python is a popular programming language. It was created by Guido van Rossum, and released in 1991.\n",
    "\n",
    "It is used for:\n",
    "\n",
    "- web development (server-side),\n",
    "- software development,\n",
    "- mathematics,\n",
    "- system scripting.\n",
    "\n",
    "### What can Python do?\n",
    "- Python can be used on a server to create web applications.\n",
    "- Python can be used alongside software to create workflows.\n",
    "- Python can connect to database systems. It can also read and modify files.\n",
    "- Python can be used to handle big data and perform complex mathematics.\n",
    "* Python can be used for rapid prototyping, or for production-ready software development\n",
    "\n",
    "### Why Python?\n",
    "- Python works on different platforms (Windows, Mac, Linux, Raspberry Pi, etc).\n",
    "- Python has a simple syntax similar to the English language.\n",
    "- Python has syntax that allows developers to write programs with fewer lines than some other programming languages.\n",
    "- Python runs on an interpreter system, meaning that code can be executed as soon as it is written. This means that prototyping can be very quick.\n",
    "- Python can be treated in a procedural way, an object-orientated way or a functional way.\n",
    "\n",
    "### Python Syntax compared to other programming languages\n",
    "- Python was designed for readability, and has some similarities to the English language with influence from mathematics.\n",
    "- Python uses new lines to complete a command, as opposed to other programming languages which often use semicolons or parentheses.\n",
    "- Python relies on indentation, using whitespace, to define scope; such as the scope of loops, functions and classes. Other programming languages often use curly-brackets for this purpose."
   ]
  },
  {
   "cell_type": "markdown",
   "id": "2cbe414a",
   "metadata": {},
   "source": [
    "### Installing Python"
   ]
  },
  {
   "cell_type": "markdown",
   "id": "005d694f",
   "metadata": {},
   "source": [
    "### Indentation\n",
    "Python uses indentation to indicate a block of code.\n",
    "- You have to use the same number of spaces in the same block of code, otherwise Python will give you an error:"
   ]
  },
  {
   "cell_type": "code",
   "execution_count": null,
   "id": "0052190a",
   "metadata": {},
   "outputs": [],
   "source": [
    "#Example\n",
    "if 5 > 2:\n",
    "    print('five is greater than two!')"
   ]
  },
  {
   "cell_type": "code",
   "execution_count": null,
   "id": "9ad34da6",
   "metadata": {},
   "outputs": [],
   "source": [
    "#Example\n",
    "if 5 > 2:\n",
    "    print('five is greater than two!')\n",
    "if 1 < 3:\n",
    "        print(\"One is less than three\")"
   ]
  },
  {
   "cell_type": "code",
   "execution_count": null,
   "id": "a28d12e1",
   "metadata": {},
   "outputs": [],
   "source": [
    "#Example\n",
    "if 5 > 2:\n",
    "    print('five is greater than two!')\n",
    "if 1 < 3:\n",
    "     print(\"One is less than three\")"
   ]
  },
  {
   "cell_type": "markdown",
   "id": "e893e1e1",
   "metadata": {},
   "source": [
    "### Comments\n",
    "Comments start with a #, and Python will render the rest of the line as a comment.\n",
    "- Comments can be used to explain Python code.\n",
    "- Comments can be used to make the code more readable.\n",
    "- Comments can be used to prevent execution when testing code."
   ]
  },
  {
   "cell_type": "code",
   "execution_count": null,
   "id": "7ff0e92c",
   "metadata": {},
   "outputs": [],
   "source": [
    "#This is an example of a comment\n",
    "print(\"Good day!!\")"
   ]
  },
  {
   "cell_type": "code",
   "execution_count": null,
   "id": "ace2077f",
   "metadata": {},
   "outputs": [],
   "source": [
    "print(\"Good day!!\") #This is an example of a comment"
   ]
  },
  {
   "cell_type": "code",
   "execution_count": null,
   "id": "fc922ca0",
   "metadata": {},
   "outputs": [],
   "source": [
    "#Multi line comments\n",
    "\n",
    "#this is a comments\n",
    "#written in\n",
    "#more than just one line\n",
    "print(\"hello world\")"
   ]
  },
  {
   "cell_type": "code",
   "execution_count": null,
   "id": "266173bd",
   "metadata": {},
   "outputs": [],
   "source": [
    "#Using triple Quotes\n",
    "\"\"\"\n",
    "This is a comment\n",
    "written in \n",
    "more than one line\n",
    "\"\"\"\n",
    "print(\"hello world\")"
   ]
  },
  {
   "cell_type": "markdown",
   "id": "d1e7b141",
   "metadata": {},
   "source": [
    "# 2.0 BASIC SYNTAX AND OPERATIONS"
   ]
  },
  {
   "cell_type": "markdown",
   "id": "d3b9999f",
   "metadata": {},
   "source": [
    "### Variables\n",
    "Variables are containers for storing data values.\n",
    "\n",
    "variables are created when you assign a value to it:\n",
    "\n",
    "Python has no command for declaring a variable.\n",
    "\n",
    "Variables do not need to be declared with any particular type and can even change type after they have been set."
   ]
  },
  {
   "cell_type": "code",
   "execution_count": null,
   "id": "b8b56461",
   "metadata": {},
   "outputs": [],
   "source": [
    "#Example\n",
    "x =65\n",
    "b = \"This is a dog\""
   ]
  },
  {
   "cell_type": "code",
   "execution_count": null,
   "id": "e297ff0a",
   "metadata": {},
   "outputs": [],
   "source": [
    "type(b)"
   ]
  },
  {
   "cell_type": "code",
   "execution_count": null,
   "id": "0d0d4eca",
   "metadata": {},
   "outputs": [],
   "source": [
    "#String variables can be declared either by using single or double quotes:\n",
    "# Example\n",
    "x = 'John'\n",
    "# is the same as\n",
    "x = \"John\""
   ]
  },
  {
   "cell_type": "markdown",
   "id": "51295e62",
   "metadata": {},
   "source": [
    "#### Variable Names\n",
    "A variable can have a short name (like x and y) or a more descriptive name (age, carname, total_volume). Rules for Python variables:\n",
    "- A variable name must start with a letter or the underscore character\n",
    "- A variable name cannot start with a number\n",
    "- A variable name can only contain alpha-numeric characters and underscores (A-z, 0-9, and _ )\n",
    "- Variable names are case-sensitive (age, Age and AGE are three different variables)"
   ]
  },
  {
   "cell_type": "code",
   "execution_count": null,
   "id": "67094c6c",
   "metadata": {},
   "outputs": [],
   "source": [
    "#Examples of legal variable name:\n",
    "myVar = \"John\"\n",
    "my_Var = \"John\"\n",
    "_myVar = \"John\"\n",
    "myvar = \"John\"\n",
    "MYVAR = \"John\""
   ]
  },
  {
   "cell_type": "code",
   "execution_count": null,
   "id": "df97cde2",
   "metadata": {},
   "outputs": [],
   "source": [
    "#Examples of Illegal names\n",
    "2myvar = \"John\"\n",
    "my-var = \"John\"\n",
    "my var = \"John\""
   ]
  },
  {
   "cell_type": "markdown",
   "id": "4ca49f3f",
   "metadata": {},
   "source": [
    "#### Assigning value to Multiple Variables"
   ]
  },
  {
   "cell_type": "code",
   "execution_count": null,
   "id": "b9780040",
   "metadata": {},
   "outputs": [],
   "source": [
    "x, y, z = \"Orange\", \"Banana\", \"Cherry\""
   ]
  },
  {
   "cell_type": "code",
   "execution_count": null,
   "id": "ed1f2768",
   "metadata": {},
   "outputs": [],
   "source": [
    "print(x)"
   ]
  },
  {
   "cell_type": "code",
   "execution_count": null,
   "id": "f713cd04",
   "metadata": {},
   "outputs": [],
   "source": [
    "print(y)"
   ]
  },
  {
   "cell_type": "code",
   "execution_count": null,
   "id": "58f5a08b",
   "metadata": {},
   "outputs": [],
   "source": [
    "print(z)"
   ]
  },
  {
   "cell_type": "code",
   "execution_count": null,
   "id": "86b3a47a",
   "metadata": {},
   "outputs": [],
   "source": [
    "#You can assign the same value to multiple variables in one line:\n",
    "x = y = z = \"Orange\""
   ]
  },
  {
   "cell_type": "code",
   "execution_count": null,
   "id": "75d89a50",
   "metadata": {},
   "outputs": [],
   "source": [
    "print(x)"
   ]
  },
  {
   "cell_type": "code",
   "execution_count": null,
   "id": "2edf3486",
   "metadata": {},
   "outputs": [],
   "source": [
    "print(y)"
   ]
  },
  {
   "cell_type": "code",
   "execution_count": null,
   "id": "372e44a8",
   "metadata": {},
   "outputs": [],
   "source": [
    "print(z)"
   ]
  },
  {
   "cell_type": "markdown",
   "id": "2b382bf9",
   "metadata": {},
   "source": [
    "Output Variables"
   ]
  },
  {
   "cell_type": "code",
   "execution_count": null,
   "id": "1c1ae347",
   "metadata": {},
   "outputs": [],
   "source": [
    "#using \"+\" to add a variable to another variable\n",
    "x = \"Python is \"\n",
    "y = \"awesome\"\n",
    "z = x + y\n",
    "print(z)"
   ]
  },
  {
   "cell_type": "code",
   "execution_count": null,
   "id": "0dc49a42",
   "metadata": {},
   "outputs": [],
   "source": [
    "#For numbers, \"+\" can work as a mathematical operator\n",
    "x = 5\n",
    "y = 26\n",
    "print(x+y)"
   ]
  },
  {
   "cell_type": "code",
   "execution_count": null,
   "id": "1c1f4279",
   "metadata": {},
   "outputs": [],
   "source": [
    "#Combining a string and a number will produce an error\n",
    "x = 5\n",
    "y = \"John\"\n",
    "print(x+y)"
   ]
  },
  {
   "cell_type": "markdown",
   "id": "086a0696",
   "metadata": {},
   "source": [
    "#### Global Variables\n",
    "Variables that are created outside of a function (as in all of the examples above) are known as global variables.\n",
    "\n",
    "Global variables can be used by everyone, both inside of functions and outside."
   ]
  },
  {
   "cell_type": "code",
   "execution_count": null,
   "id": "bf08b6ef",
   "metadata": {},
   "outputs": [],
   "source": [
    "#let's create a variable outside of a function, and use it inside the function\n",
    "x = \"nice\"\n",
    "\n",
    "def myfunc():\n",
    "    print('print is ' + x)\n",
    "    \n",
    "myfunc()"
   ]
  },
  {
   "cell_type": "markdown",
   "id": "69bf8b70",
   "metadata": {},
   "source": [
    "If you create a variable with the same name inside a function, this variable will be local, and can only be used inside the function. The global variable with the same name will remain as it was, global and with the original value."
   ]
  },
  {
   "cell_type": "code",
   "execution_count": null,
   "id": "4fcb1d4e",
   "metadata": {},
   "outputs": [],
   "source": [
    "x =\"beautiful\"\n",
    "\n",
    "def myFunc():\n",
    "    x = \"lovely\"\n",
    "    print(\"Python is \" + x)\n",
    "\n",
    "myFunc()\n",
    "\n",
    "print(\"Python is \" + x)\n",
    "    "
   ]
  },
  {
   "cell_type": "markdown",
   "id": "0c2944dd",
   "metadata": {},
   "source": [
    "##### The Global Keyword\n",
    "Normally, when you create a variable inside a function, that variable is local, and can only be used inside that function.\n",
    "\n",
    "To create a global variable inside a function, you can use the global keyword."
   ]
  },
  {
   "cell_type": "code",
   "execution_count": null,
   "id": "a0b4ddcd",
   "metadata": {},
   "outputs": [],
   "source": [
    "#example\n",
    "x= \"awesome\"\n",
    "def myFunc():\n",
    "    global x\n",
    "    x = \"beautiful\"\n",
    "    print(\"Python is \" + x)\n",
    "    \n",
    "myFunc()\n",
    "\n",
    "print(\"Python is \" + x)\n"
   ]
  },
  {
   "cell_type": "markdown",
   "id": "bfe86842",
   "metadata": {},
   "source": [
    "##### Data Types\n",
    "In programming, data type is an important concept.\n",
    "\n",
    "Variables can store data of different types, and different types can do different things.\n",
    "\n",
    "Python has the following data types built-in by default, in these categories:\n",
    "\n",
    "- Text Type:\t str\n",
    "- Numeric Types:\tint, float, complex\n",
    "- Sequence Types:\tlist, tuple, range\n",
    "- Mapping Type:\tdict\n",
    "- Set Types:\tset, frozenset\n",
    "- Boolean Type:\tbool\n",
    "- Binary Types:\tbytes, bytearray, memoryview\n"
   ]
  },
  {
   "cell_type": "code",
   "execution_count": null,
   "id": "aa8a4fd9",
   "metadata": {},
   "outputs": [],
   "source": [
    "#To get the data type \n",
    "#Exanple\n",
    "day = 78\n",
    "print(type(x))"
   ]
  },
  {
   "cell_type": "markdown",
   "id": "c4169a07",
   "metadata": {},
   "source": [
    "##### Examples "
   ]
  },
  {
   "cell_type": "code",
   "execution_count": null,
   "id": "0884a512",
   "metadata": {},
   "outputs": [],
   "source": [
    "#Strings\n",
    "x = \"Hello dear\"\n",
    "#display x\n",
    "print(x)\n",
    "\n",
    "#display the data type of x:\n",
    "print(type(x))"
   ]
  },
  {
   "cell_type": "code",
   "execution_count": null,
   "id": "6f852081",
   "metadata": {},
   "outputs": [],
   "source": [
    "#Integers\n",
    "x = 19\n",
    "#display x\n",
    "print(x)\n",
    "\n",
    "#display the data type of x:\n",
    "print(type(x))"
   ]
  },
  {
   "cell_type": "code",
   "execution_count": null,
   "id": "2826dc22",
   "metadata": {},
   "outputs": [],
   "source": [
    "#Float\n",
    "x = 3.8\n",
    "#display x\n",
    "print(x)\n",
    "\n",
    "#display the data type of x:\n",
    "print(type(x))"
   ]
  },
  {
   "cell_type": "code",
   "execution_count": null,
   "id": "b19fc365",
   "metadata": {},
   "outputs": [],
   "source": [
    "#Complex\n",
    "x = 2+3j\n",
    "#display x\n",
    "print(x)\n",
    "\n",
    "#display the data type of x:\n",
    "print(type(x))"
   ]
  },
  {
   "cell_type": "code",
   "execution_count": null,
   "id": "75daaa8a",
   "metadata": {},
   "outputs": [],
   "source": [
    "#List\n",
    "x = [\"cat\", 'dog', 'goat','hen']\n",
    "#display x\n",
    "print(x)\n",
    "\n",
    "#display the data type of x:\n",
    "print(type(x))"
   ]
  },
  {
   "cell_type": "code",
   "execution_count": null,
   "id": "c3e0e0cc",
   "metadata": {},
   "outputs": [],
   "source": [
    "#Tuple\n",
    "x = (\"cat\", 'dog', 'goat','hen')\n",
    "#display x\n",
    "print(x)\n",
    "\n",
    "#display the data type of x:\n",
    "print(type(x))"
   ]
  },
  {
   "cell_type": "code",
   "execution_count": null,
   "id": "5a124c93",
   "metadata": {},
   "outputs": [],
   "source": [
    "#Range\n",
    "x = range(6)\n",
    "#display x\n",
    "print(x)\n",
    "\n",
    "#display the data type of x:\n",
    "print(type(x))"
   ]
  },
  {
   "cell_type": "code",
   "execution_count": null,
   "id": "5f8a1829",
   "metadata": {},
   "outputs": [],
   "source": [
    "#Dictionary\n",
    "x = {'firstName':'Daniel','lastName':'Ezeh', 'Address':'Kaduna'}\n",
    "#display x\n",
    "print(x)\n",
    "\n",
    "#display the data type of x:\n",
    "print(type(x))"
   ]
  },
  {
   "cell_type": "code",
   "execution_count": null,
   "id": "3f4f0702",
   "metadata": {},
   "outputs": [],
   "source": [
    "#Set\n",
    "x = {\"cat\", 'dog', 'goat','hen'}\n",
    "#display x\n",
    "print(x)\n",
    "\n",
    "#display the data type of x:\n",
    "print(type(x))"
   ]
  },
  {
   "cell_type": "code",
   "execution_count": null,
   "id": "38ab346d",
   "metadata": {},
   "outputs": [],
   "source": [
    "#FrozenSet\n",
    "x = frozenset({\"cat\", 'dog', 'goat','hen'})\n",
    "#display x\n",
    "print(x)\n",
    "\n",
    "#display the data type of x:\n",
    "print(type(x))"
   ]
  },
  {
   "cell_type": "code",
   "execution_count": null,
   "id": "c4a3c308",
   "metadata": {},
   "outputs": [],
   "source": [
    "#Boolean\n",
    "x = True\n",
    "#display x\n",
    "print(x)\n",
    "\n",
    "#display the data type of x:\n",
    "print(type(x))"
   ]
  },
  {
   "cell_type": "code",
   "execution_count": null,
   "id": "1f1c26c9",
   "metadata": {},
   "outputs": [],
   "source": [
    "#Bytes\n",
    "x = b\"hello\"\n",
    "#display x\n",
    "print(x)\n",
    "\n",
    "#display the data type of x:\n",
    "print(type(x))"
   ]
  },
  {
   "cell_type": "code",
   "execution_count": null,
   "id": "17c79911",
   "metadata": {},
   "outputs": [],
   "source": [
    "#Bytearray\n",
    "x = bytearray(10)\n",
    "#display x\n",
    "print(x)\n",
    "\n",
    "#display the data type of x:\n",
    "print(type(x))"
   ]
  },
  {
   "cell_type": "code",
   "execution_count": null,
   "id": "13b5fb18",
   "metadata": {},
   "outputs": [],
   "source": [
    "#Memoryview\n",
    "x = memoryview(bytes(7))\n",
    "#display x\n",
    "print(x)\n",
    "\n",
    "#display the data type of x:\n",
    "print(type(x))"
   ]
  },
  {
   "cell_type": "markdown",
   "id": "ef993a3a",
   "metadata": {},
   "source": [
    "##### Setting the Specific Data Type\n",
    "You can use the constructor functions to specific the data type"
   ]
  },
  {
   "cell_type": "code",
   "execution_count": null,
   "id": "613bc48f",
   "metadata": {},
   "outputs": [],
   "source": [
    "#Example\n"
   ]
  },
  {
   "cell_type": "code",
   "execution_count": null,
   "id": "a8ce5665",
   "metadata": {},
   "outputs": [],
   "source": [
    "#Strings\n",
    "x = str(\"Hello dear\")\n",
    "#display x\n",
    "print(x)\n",
    "\n",
    "#display the data type of x:\n",
    "print(type(x))"
   ]
  },
  {
   "cell_type": "code",
   "execution_count": null,
   "id": "4eae8a83",
   "metadata": {},
   "outputs": [],
   "source": [
    "#Integers\n",
    "x = int(19)\n",
    "#display x\n",
    "print(x)\n",
    "\n",
    "#display the data type of x:\n",
    "print(type(x))"
   ]
  },
  {
   "cell_type": "code",
   "execution_count": null,
   "id": "93065d6e",
   "metadata": {},
   "outputs": [],
   "source": [
    "#Float\n",
    "x = float(3.8)\n",
    "#display x\n",
    "print(x)\n",
    "\n",
    "#display the data type of x:\n",
    "print(type(x))"
   ]
  },
  {
   "cell_type": "code",
   "execution_count": null,
   "id": "9edca4e6",
   "metadata": {},
   "outputs": [],
   "source": [
    "#Complex\n",
    "x = complex(2+3j)\n",
    "#display x\n",
    "print(x)\n",
    "\n",
    "#display the data type of x:\n",
    "print(type(x))"
   ]
  },
  {
   "cell_type": "code",
   "execution_count": null,
   "id": "4a7346d2",
   "metadata": {},
   "outputs": [],
   "source": [
    "#List\n",
    "x = list((\"cat\", 'dog', 'goat','hen'))\n",
    "#display x\n",
    "print(x)\n",
    "\n",
    "#display the data type of x:\n",
    "print(type(x))"
   ]
  },
  {
   "cell_type": "code",
   "execution_count": null,
   "id": "7cc34866",
   "metadata": {},
   "outputs": [],
   "source": [
    "#Tuple\n",
    "x = tuple((\"cat\", 'dog', 'goat','hen'))\n",
    "#display x\n",
    "print(x)\n",
    "\n",
    "#display the data type of x:\n",
    "print(type(x))"
   ]
  },
  {
   "cell_type": "code",
   "execution_count": null,
   "id": "c40aef88",
   "metadata": {},
   "outputs": [],
   "source": [
    "#Range\n",
    "x = range(6)\n",
    "#display x\n",
    "print(x)\n",
    "\n",
    "#display the data type of x:\n",
    "print(type(x))"
   ]
  },
  {
   "cell_type": "code",
   "execution_count": null,
   "id": "fdd08a7f",
   "metadata": {},
   "outputs": [],
   "source": [
    "#Dictionary\n",
    "x = dict(firstName='Daniel',lastName='Ezeh', Address='Kaduna')\n",
    "#display x\n",
    "print(x)\n",
    "\n",
    "#display the data type of x:\n",
    "print(type(x))"
   ]
  },
  {
   "cell_type": "code",
   "execution_count": null,
   "id": "1b015fb8",
   "metadata": {},
   "outputs": [],
   "source": [
    "#Set\n",
    "x = set((\"cat\", 'dog', 'goat','hen'))\n",
    "#display x\n",
    "print(x)\n",
    "\n",
    "#display the data type of x:\n",
    "print(type(x))"
   ]
  },
  {
   "cell_type": "code",
   "execution_count": null,
   "id": "6dff458b",
   "metadata": {},
   "outputs": [],
   "source": [
    "#FrozenSet\n",
    "x = frozenset((\"cat\", 'dog', 'goat','hen'))\n",
    "#display x\n",
    "print(x)\n",
    "\n",
    "#display the data type of x:\n",
    "print(type(x))"
   ]
  },
  {
   "cell_type": "code",
   "execution_count": null,
   "id": "a1ee4ed1",
   "metadata": {},
   "outputs": [],
   "source": [
    "#Boolean\n",
    "x = bool(-0)\n",
    "#display x\n",
    "print(x)\n",
    "\n",
    "#display the data type of x:\n",
    "print(type(x))"
   ]
  },
  {
   "cell_type": "code",
   "execution_count": null,
   "id": "97953b7a",
   "metadata": {},
   "outputs": [],
   "source": [
    "#Bytes\n",
    "x = bytes(12)\n",
    "#display x\n",
    "print(x)\n",
    "\n",
    "#display the data type of x:\n",
    "print(type(x))"
   ]
  },
  {
   "cell_type": "code",
   "execution_count": null,
   "id": "54e09f58",
   "metadata": {},
   "outputs": [],
   "source": [
    "#Bytearray\n",
    "x = bytearray(10)\n",
    "#display x\n",
    "print(x)\n",
    "\n",
    "#display the data type of x:\n",
    "print(type(x))"
   ]
  },
  {
   "cell_type": "code",
   "execution_count": null,
   "id": "0f6dbcf9",
   "metadata": {},
   "outputs": [],
   "source": [
    "#Memoryview\n",
    "x = memoryview(bytes(7))\n",
    "#display x\n",
    "print(x)\n",
    "\n",
    "#display the data type of x:\n",
    "print(type(x))"
   ]
  },
  {
   "cell_type": "code",
   "execution_count": null,
   "id": "e17aec78",
   "metadata": {},
   "outputs": [],
   "source": []
  },
  {
   "cell_type": "markdown",
   "id": "f58a8fad",
   "metadata": {},
   "source": [
    "### Boolean Values\n",
    "They represent one of two values: True or False\n",
    "The bool() function allows you to evaluate any value, and give you True \n",
    "or False in return.\n",
    "- Almost any value is evaluated to True if it has some sort of content.\n",
    "- Any string is True, except empty strings.\n",
    "- Any number is True, except 0.\n",
    "- Any list, tuple, set, and dictionary are True, except empty ones."
   ]
  },
  {
   "cell_type": "code",
   "execution_count": null,
   "id": "3e0b3230",
   "metadata": {},
   "outputs": [],
   "source": [
    "#Example\n",
    "print(10<9)\n",
    "print(10==9)\n",
    "print(10>9)"
   ]
  },
  {
   "cell_type": "code",
   "execution_count": null,
   "id": "aa28308b",
   "metadata": {},
   "outputs": [],
   "source": [
    "#if conditions return True or False\n",
    "#Example\n",
    "a = 47\n",
    "b = 38\n",
    "if b >a:\n",
    "    c = \"{} is greater than {}.\"\n",
    "    print(c.format(b, a))\n",
    "else:\n",
    "    c = \"{} is greater than {}.\"\n",
    "    print(c.format(b, a))"
   ]
  },
  {
   "cell_type": "code",
   "execution_count": null,
   "id": "b7ec118a",
   "metadata": {},
   "outputs": [],
   "source": [
    "#the following returns True\n",
    "print(bool(\"hello\"))  #string\n",
    "print(bool(24)) #int\n",
    "print(bool([\"apple\",\"banana\",\"cherry\"])) #list\n",
    "print(bool((\"apple\",\"banana,\",\"mango\"))) #Tuple"
   ]
  },
  {
   "cell_type": "code",
   "execution_count": null,
   "id": "33d46608",
   "metadata": {},
   "outputs": [],
   "source": [
    "#the following values Return False\n",
    "print(bool(False))\n",
    "print(bool(None))\n",
    "print(bool(0))\n",
    "print(bool(\"\"))\n",
    "print(bool(()))\n",
    "print(bool([]))\n",
    "print(bool({}))"
   ]
  },
  {
   "cell_type": "code",
   "execution_count": null,
   "id": "81edf46d",
   "metadata": {},
   "outputs": [],
   "source": [
    "#if you have an object made from a class with a __len__ function \n",
    "#that returns 0 or False\n",
    "class myClass():\n",
    "    def __len__(self):\n",
    "        return 0\n",
    "    \n",
    "myobj = myClass()\n",
    "print(bool(myobj))\n",
    "    "
   ]
  },
  {
   "cell_type": "markdown",
   "id": "8109e21a",
   "metadata": {},
   "source": [
    "You can create functions that returns a Boolean Value:\n"
   ]
  },
  {
   "cell_type": "code",
   "execution_count": null,
   "id": "92734a4e",
   "metadata": {},
   "outputs": [],
   "source": [
    "def myFunction():\n",
    "    return True\n",
    "\n",
    "print(myFunction())"
   ]
  },
  {
   "cell_type": "markdown",
   "id": "9523590b",
   "metadata": {},
   "source": [
    "Executing code based on the Boolean answer of a function:\n"
   ]
  },
  {
   "cell_type": "code",
   "execution_count": null,
   "id": "efdbbd92",
   "metadata": {},
   "outputs": [],
   "source": [
    "def myFun():\n",
    "    return True\n",
    "\n",
    "if myFun():\n",
    "    print(\"Hello\")\n",
    "else:\n",
    "    print(\"Nay!\")"
   ]
  },
  {
   "cell_type": "markdown",
   "id": "aa92bc57",
   "metadata": {},
   "source": [
    "Some other built-in function that returns a Boolean value"
   ]
  },
  {
   "cell_type": "code",
   "execution_count": null,
   "id": "bdbd5648",
   "metadata": {},
   "outputs": [],
   "source": [
    "x = 54\n",
    "print(isinstance(x,int))"
   ]
  },
  {
   "cell_type": "markdown",
   "id": "e75a94d8",
   "metadata": {},
   "source": [
    "### Operators\n",
    "Operators are used to perform operations on variables and values.\n",
    "Python divides the operators in the following groups:\n",
    "- Arithmetic operators\n",
    "- Assignment operators\n",
    "- Comparison operators\n",
    "- Logical operators\n",
    "- Identity operators\n",
    "- Membership operators\n",
    "- Bitwise operators"
   ]
  },
  {
   "cell_type": "markdown",
   "id": "de92f8f6",
   "metadata": {},
   "source": [
    "#### 1. Arithmetic Operators\n",
    "Arithmetic operators are used with numeric values to perform common mathematical operations:\n",
    "- (+\tAddition)\t x + y\t\n",
    "- (-\tSubtraction)\tx - y\t\n",
    "- (*\tMultiplication)\tx * y\t\n",
    "- /\tDivision\tx / y\t\n",
    "- %\tModulus\tx % y\t\n",
    "- **\tExponentiation\tx ** y\t\n",
    "- //\tFloor division\tx // y"
   ]
  },
  {
   "cell_type": "code",
   "execution_count": null,
   "id": "56b34634",
   "metadata": {},
   "outputs": [],
   "source": [
    "#Exanples\n",
    "a, b = 5, 3\n",
    "print(a+b)"
   ]
  },
  {
   "cell_type": "code",
   "execution_count": null,
   "id": "afaf689e",
   "metadata": {},
   "outputs": [],
   "source": [
    "a, b = 5, 3\n",
    "print(a-b)"
   ]
  },
  {
   "cell_type": "code",
   "execution_count": null,
   "id": "00411b95",
   "metadata": {},
   "outputs": [],
   "source": [
    "a, b = 5, 3\n",
    "print(a*b)"
   ]
  },
  {
   "cell_type": "code",
   "execution_count": null,
   "id": "ea67853d",
   "metadata": {},
   "outputs": [],
   "source": [
    "a, b = 5, 3\n",
    "print(a/b)"
   ]
  },
  {
   "cell_type": "code",
   "execution_count": null,
   "id": "cc98a6d8",
   "metadata": {},
   "outputs": [],
   "source": [
    "a, b = 5, 3\n",
    "print(a%b)"
   ]
  },
  {
   "cell_type": "code",
   "execution_count": null,
   "id": "24139c79",
   "metadata": {},
   "outputs": [],
   "source": [
    "a, b = 5, 3\n",
    "print(a//b)"
   ]
  },
  {
   "cell_type": "code",
   "execution_count": null,
   "id": "e16ea7f8",
   "metadata": {},
   "outputs": [],
   "source": [
    "a, b = 5, 3\n",
    "print(a**b)"
   ]
  },
  {
   "cell_type": "markdown",
   "id": "f4725395",
   "metadata": {},
   "source": [
    "##### 2. Assignment Operators\n",
    "They are used to assign values to variables:"
   ]
  },
  {
   "cell_type": "code",
   "execution_count": null,
   "id": "ad8cda79",
   "metadata": {},
   "outputs": [],
   "source": [
    "#Examles\n",
    "x = 5"
   ]
  },
  {
   "cell_type": "code",
   "execution_count": null,
   "id": "3fdc2783",
   "metadata": {},
   "outputs": [],
   "source": [
    "#same as x = x + 3\n",
    "x = 5\n",
    "x += 3\n",
    "print(x)\n"
   ]
  },
  {
   "cell_type": "code",
   "execution_count": null,
   "id": "f7d19065",
   "metadata": {},
   "outputs": [],
   "source": [
    "#same as x = x - 3\n",
    "x = 5\n",
    "x -= 3\n",
    "print(x)\n"
   ]
  },
  {
   "cell_type": "code",
   "execution_count": null,
   "id": "a19751ff",
   "metadata": {},
   "outputs": [],
   "source": [
    "#same as x = x * 3\n",
    "x = 5\n",
    "x *= 3\n",
    "print(x)\n"
   ]
  },
  {
   "cell_type": "code",
   "execution_count": null,
   "id": "e50b937e",
   "metadata": {},
   "outputs": [],
   "source": [
    "#same as x = x / 3\n",
    "x = 5\n",
    "x /= 3\n",
    "print(x)\n"
   ]
  },
  {
   "cell_type": "code",
   "execution_count": null,
   "id": "70a09ee0",
   "metadata": {},
   "outputs": [],
   "source": [
    "#same as x = x % 3\n",
    "x = 5\n",
    "x %= 3\n",
    "print(x)\n"
   ]
  },
  {
   "cell_type": "code",
   "execution_count": null,
   "id": "f147a903",
   "metadata": {},
   "outputs": [],
   "source": [
    "#same as x = x // 3\n",
    "x = 5\n",
    "x //= 3\n",
    "print(x)\n"
   ]
  },
  {
   "cell_type": "code",
   "execution_count": null,
   "id": "18d6550f",
   "metadata": {},
   "outputs": [],
   "source": [
    "#same as x = x ** 3\n",
    "x = 5\n",
    "x **= 3\n",
    "print(x)\n"
   ]
  },
  {
   "cell_type": "code",
   "execution_count": null,
   "id": "3ad0dabc",
   "metadata": {},
   "outputs": [],
   "source": [
    "#same as x = x & 3\n",
    "x = 5\n",
    "x &= 3\n",
    "print(x)\n"
   ]
  },
  {
   "cell_type": "code",
   "execution_count": null,
   "id": "7b824334",
   "metadata": {},
   "outputs": [],
   "source": [
    "#same as x = x | 3\n",
    "x = 5\n",
    "x |= 3\n",
    "print(x)\n"
   ]
  },
  {
   "cell_type": "code",
   "execution_count": null,
   "id": "d9701626",
   "metadata": {},
   "outputs": [],
   "source": [
    "#same as x = x ^ 3\n",
    "x = 5\n",
    "x ^= 3\n",
    "print(x)\n"
   ]
  },
  {
   "cell_type": "code",
   "execution_count": null,
   "id": "8e55bfc0",
   "metadata": {},
   "outputs": [],
   "source": [
    "#same as x = x >> 3\n",
    "x = 5\n",
    "x >>= 3\n",
    "print(x)\n"
   ]
  },
  {
   "cell_type": "code",
   "execution_count": null,
   "id": "440949fe",
   "metadata": {},
   "outputs": [],
   "source": [
    "#same as x = x << 3\n",
    "x = 5\n",
    "x <<= 3\n",
    "print(x)\n"
   ]
  },
  {
   "cell_type": "markdown",
   "id": "b99c0a8d",
   "metadata": {},
   "source": [
    "#### Comparison Operators\n",
    "Comparison operators are used to compare two values:\n",
    "-\tEqual\tx == y\t\n",
    "-\tNot equal\tx != y\t\n",
    "-\tGreater than\tx > y\t\n",
    "-\tLess than\tx < y\t\n",
    "-\tGreater than or equal to\tx >= y\t\n",
    "-\tLess than or equal to x <= y"
   ]
  },
  {
   "cell_type": "code",
   "execution_count": null,
   "id": "8711c95e",
   "metadata": {},
   "outputs": [],
   "source": [
    "#Examples\n",
    "x = 5\n",
    "y = 3\n",
    "print(x == y)\n",
    "#you can also assign the value\n",
    "z = x == y\n",
    "print(z)"
   ]
  },
  {
   "cell_type": "code",
   "execution_count": null,
   "id": "d02f845d",
   "metadata": {},
   "outputs": [],
   "source": [
    "x = 5\n",
    "y = 3\n",
    "print(x != y)\n",
    "#you can also assign the value\n",
    "z = x != y\n",
    "print(z)"
   ]
  },
  {
   "cell_type": "code",
   "execution_count": null,
   "id": "c560fd54",
   "metadata": {},
   "outputs": [],
   "source": [
    "#Examples\n",
    "x = 5\n",
    "y = 3\n",
    "print(x > y)\n",
    "#you can also assign the value\n",
    "z = x > y\n",
    "print(z)"
   ]
  },
  {
   "cell_type": "code",
   "execution_count": null,
   "id": "c15bf305",
   "metadata": {},
   "outputs": [],
   "source": [
    "#Examples\n",
    "x = 5\n",
    "y = 3\n",
    "print(x < y)\n",
    "#you can also assign the value\n",
    "z = x < y\n",
    "print(z)"
   ]
  },
  {
   "cell_type": "code",
   "execution_count": null,
   "id": "2ab03b81",
   "metadata": {},
   "outputs": [],
   "source": [
    "#Examples\n",
    "x = 5\n",
    "y = 3\n",
    "print(x >= y)\n",
    "#you can also assign the value\n",
    "z = x >= y\n",
    "print(z)"
   ]
  },
  {
   "cell_type": "code",
   "execution_count": null,
   "id": "ae9f1029",
   "metadata": {},
   "outputs": [],
   "source": [
    "#Examples\n",
    "x = 5\n",
    "y = 3\n",
    "print(x <= y)\n",
    "#you can also assign the value\n",
    "z = x <= y\n",
    "print(z)"
   ]
  },
  {
   "cell_type": "markdown",
   "id": "bd50201c",
   "metadata": {},
   "source": [
    "##### Logical Operators\n",
    "They are used to combine conditional statements\n",
    "- and : Returns True if both statements are True\n",
    "- or : Returns True if one of the statements is True\n",
    "- not : Reverse the result, returns False if the result is true"
   ]
  },
  {
   "cell_type": "code",
   "execution_count": null,
   "id": "bfdc5b6d",
   "metadata": {},
   "outputs": [],
   "source": [
    "#Example of \"and\"\n",
    "x = 8\n",
    "log = (x>5 and X>10)\n",
    "print(log)"
   ]
  },
  {
   "cell_type": "code",
   "execution_count": null,
   "id": "93cd123d",
   "metadata": {},
   "outputs": [],
   "source": [
    "#Example of \"or\"\n",
    "x = 8\n",
    "log = (x>5 or x>10)\n",
    "print(log)"
   ]
  },
  {
   "cell_type": "code",
   "execution_count": null,
   "id": "541fc815",
   "metadata": {},
   "outputs": [],
   "source": [
    "#Example of \"not\"\n",
    "x = 8\n",
    "log = not((x<5 and X>10))\n",
    "print(log)"
   ]
  },
  {
   "cell_type": "markdown",
   "id": "c15d0a66",
   "metadata": {},
   "source": [
    "##### Identity Operators\n",
    "Identity operators are used to compare the objects, not if they are equal, but if they are actually the same object, with the same memory location:\n",
    "- is : Reuturns True if both variables are the same objects\n",
    "- is not : Returns True if both variables are not the same object\n"
   ]
  },
  {
   "cell_type": "code",
   "execution_count": null,
   "id": "1f12d7ed",
   "metadata": {},
   "outputs": [],
   "source": [
    "#Example\n",
    "x = [\"apple\", \"banana\"]\n",
    "y = [\"apple\", \"banana\"]\n",
    "z = x\n",
    "\n",
    "#will return True because z is the same object as x\n",
    "print(x is z)\n",
    "\n",
    "#Will return False because x is not the same object as y,\n",
    "#Even if they have the same content\n",
    "print(x is y)\n",
    "\n",
    "#Will return True because x is equal to y.\n",
    "#this is to demonstrate the difference between \"is\" and \"==\"\n",
    "print(x == y)\n",
    "\n",
    "#will return True because s is not the same object as y,\n",
    "#even if they have the same content.\n",
    "print(x is not y)\n",
    "\n",
    "print(x != y)"
   ]
  },
  {
   "cell_type": "markdown",
   "id": "da63e1da",
   "metadata": {},
   "source": [
    "##### Membership Operators\n",
    "Membership operators are used to test if a sequence is presented in an object:\n",
    "- in : Returns True if a sequence with the specified value is present in the object\n",
    "- not in : Returns True if a sequence value is not present in the object"
   ]
  },
  {
   "cell_type": "code",
   "execution_count": null,
   "id": "4e0e19f0",
   "metadata": {},
   "outputs": [],
   "source": [
    "#Example\n",
    "#Will return True because a sequence with the value \"banana\" is in the list\n",
    "x = [\"apple\",\"banana\",\"carrot\"]\n",
    "print(\"carrot\" in x)\n",
    "\n",
    "print(\"pineapple\"  not in x)"
   ]
  },
  {
   "cell_type": "markdown",
   "id": "19704160",
   "metadata": {},
   "source": [
    "##### Bitwise Operators\n",
    "Bitwise operators are used to compare (binary) numbers:"
   ]
  },
  {
   "cell_type": "markdown",
   "id": "7825c92f",
   "metadata": {},
   "source": [
    "- & AND\tSets each bit to 1 if both bits are 1\n",
    "- |\tOR\tSets each bit to 1 if one of two bits is 1\n",
    "- ^\tXOR\tSets each bit to 1 if only one of two bits is 1\n",
    "- ~ NOT\tInverts all the bits\n",
    "- <<\tZero fill left shift\tShift left by pushing zeros in from the right and let the leftmost bits fall off\n",
    "- (>>\tSigned right shift\tShift right by pushing copies of the leftmost bit in from the left, and let the rightmost bits fall off)"
   ]
  },
  {
   "cell_type": "code",
   "execution_count": null,
   "id": "66184b1b",
   "metadata": {},
   "outputs": [],
   "source": [
    "x= b'00001'\n",
    "y = b'101011'\n",
    "print(type(x))\n",
    "print(type(y))\n"
   ]
  },
  {
   "cell_type": "code",
   "execution_count": null,
   "id": "034d75b1",
   "metadata": {},
   "outputs": [],
   "source": []
  },
  {
   "cell_type": "markdown",
   "id": "f868b289",
   "metadata": {},
   "source": [
    "##### Random Number\n",
    "Python does not have a random() function to make a random number, but Python has a built-in module called random that can be used to make random numbers"
   ]
  },
  {
   "cell_type": "code",
   "execution_count": null,
   "id": "37aef933",
   "metadata": {},
   "outputs": [],
   "source": [
    "#Example\n",
    "import random\n",
    "print(random.randrange(1,90))"
   ]
  },
  {
   "cell_type": "markdown",
   "id": "07cc2b02",
   "metadata": {},
   "source": [
    "##### Casting\n",
    "Casting in python is therefore done using constructor functions:\n",
    "\n",
    "- int() - constructs an integer number from an integer literal, a float literal (by rounding down to the previous whole number), or a string literal (providing the string represents a whole number)\n",
    "- float() - constructs a float number from an integer literal, a float literal or a string literal (providing the string represents a float or an integer)\n",
    "- str() - constructs a string from a wide variety of data types, including strings, integer literals and float literals"
   ]
  },
  {
   "cell_type": "code",
   "execution_count": null,
   "id": "2d236011",
   "metadata": {},
   "outputs": [],
   "source": [
    "#Casting to integers\n",
    "\n",
    "x = int(1)\n",
    "y = int(2.8)\n",
    "z = int(\"15\")\n",
    "\n",
    "print(x)\n",
    "print(type(x))\n",
    "\n",
    "print(y)\n",
    "print(type(y))\n",
    "\n",
    "print(z)\n",
    "print(type(z))"
   ]
  },
  {
   "cell_type": "code",
   "execution_count": null,
   "id": "5314064b",
   "metadata": {},
   "outputs": [],
   "source": [
    "#Floats\n",
    "x = float(1)\n",
    "y = float(2.5675)\n",
    "ad = float(\"45\")\n",
    "sa = float(\"4.5776\")\n",
    "\n",
    "print(x)\n",
    "print(type(x))\n",
    "\n",
    "print(y)\n",
    "print(type(y))\n",
    "\n",
    "print(ad)\n",
    "print(type(ad))\n",
    "\n",
    "print(sa)\n",
    "print(type(sa))"
   ]
  },
  {
   "cell_type": "code",
   "execution_count": null,
   "id": "e4d9f0b7",
   "metadata": {},
   "outputs": [],
   "source": [
    "#Strings\n",
    "x = str(\"Goat\")\n",
    "y = str(34)\n",
    "z = str(3.191)\n",
    "\n",
    "print(x)\n",
    "print(type(x))\n",
    "\n",
    "print(y)\n",
    "print(type(y))\n",
    "\n",
    "print(z)\n",
    "print(type(z))\n"
   ]
  },
  {
   "cell_type": "markdown",
   "id": "57f6ad2b",
   "metadata": {},
   "source": [
    "# 3. Strings\n",
    "A string is a sequence of characters. You can access the characters one at a time with the bracket operator:"
   ]
  },
  {
   "cell_type": "markdown",
   "id": "e35cf53d",
   "metadata": {},
   "source": [
    "### Strings are Arrays\n",
    "Like many other popular programming languages, strings in Python are arrays of bytes representing unicode characters.\n",
    "\n",
    "However, Python does not have a character data type, a single character is simply a string with a length of 1.\n",
    "\n",
    "Square brackets can be used to access elements of the string."
   ]
  },
  {
   "cell_type": "code",
   "execution_count": null,
   "id": "02ce10bc",
   "metadata": {},
   "outputs": [],
   "source": [
    "#Assigning a string to a variable\n",
    "z = \"How are you\"\n",
    "print(z)"
   ]
  },
  {
   "cell_type": "code",
   "execution_count": null,
   "id": "faec569c",
   "metadata": {},
   "outputs": [],
   "source": [
    "#Multiline strings\n",
    "a = \"\"\"I went to the market,\n",
    "I saw a beautiful dress,\n",
    "then I asked of the price,\n",
    "I was told it was expensive,\n",
    "then I left the place\"\"\"\n",
    "print(a)"
   ]
  },
  {
   "cell_type": "code",
   "execution_count": null,
   "id": "dff2e3ba",
   "metadata": {},
   "outputs": [],
   "source": [
    "# You can also use single quotes\n",
    "b = '''I went to the market,\n",
    "I saw a beautiful dress,\n",
    "then I asked of the price,\n",
    "I was told it was expensive,\n",
    "then I left the place'''\n",
    "\n",
    "print(b)\n"
   ]
  },
  {
   "cell_type": "code",
   "execution_count": null,
   "id": "1bc43b69",
   "metadata": {},
   "outputs": [],
   "source": [
    "#Slicing\n",
    "dam = \"Good morning teacher\"\n",
    "print(dam[2:9])\n",
    "print(dam[:6])\n",
    "print(dam[10:])"
   ]
  },
  {
   "cell_type": "code",
   "execution_count": null,
   "id": "54775447",
   "metadata": {},
   "outputs": [],
   "source": [
    "#Negative indexing\n",
    "dam = 'Good morning papa'\n",
    "print(dam[-8:-3])\n",
    "print(dam[2:-1])"
   ]
  },
  {
   "cell_type": "code",
   "execution_count": null,
   "id": "46302aa1",
   "metadata": {},
   "outputs": [],
   "source": [
    "#String length\n",
    "dam = 'Good morning papa'\n",
    "print(len(dam))"
   ]
  },
  {
   "cell_type": "markdown",
   "id": "7a9cee9b",
   "metadata": {},
   "source": [
    "##### String Methods"
   ]
  },
  {
   "cell_type": "code",
   "execution_count": null,
   "id": "8634e588",
   "metadata": {},
   "outputs": [],
   "source": [
    "#Strip\n",
    "#removes any whitespace from the beginning or the end\n",
    "das = \"   hello Champ\"\n",
    "print(das)\n",
    "print(das.strip())"
   ]
  },
  {
   "cell_type": "code",
   "execution_count": null,
   "id": "478b7abf",
   "metadata": {},
   "outputs": [],
   "source": [
    "#lower()\n",
    "#returns the string in lower case\n",
    "der = \"GOOD MORNING DEAR\"\n",
    "print(der)\n",
    "print(der.lower())"
   ]
  },
  {
   "cell_type": "code",
   "execution_count": null,
   "id": "c51429ab",
   "metadata": {},
   "outputs": [],
   "source": [
    "#upper()\n",
    "#Returns the string in upper case\n",
    "DES = \"good morning friend\"\n",
    "print(DES)\n",
    "print(DES.upper())\n"
   ]
  },
  {
   "cell_type": "code",
   "execution_count": null,
   "id": "a5e8e27b",
   "metadata": {},
   "outputs": [],
   "source": [
    "#Replace()\n",
    "#replaces a string with another string\n",
    "DES = \"good morning friend\"\n",
    "print(DES)\n",
    "print(DES.replace(\"goo\", \"Nice\"))"
   ]
  },
  {
   "cell_type": "code",
   "execution_count": null,
   "id": "0fd2b5ff",
   "metadata": {},
   "outputs": [],
   "source": [
    "#split\n",
    "#splits the string into substrings if it finds instances of the separator\n",
    "ad = \"Goat, Cat, Dog, Rat\"\n",
    "print(ad)\n",
    "print(type(ad))\n",
    "print(ad.split(\",\"))\n",
    "print(type(ad.split(\",\")))"
   ]
  },
  {
   "cell_type": "code",
   "execution_count": null,
   "id": "27cb9779",
   "metadata": {},
   "outputs": [],
   "source": [
    "#Check string\n",
    "#checking the presence or absence of certain phrase or character\n",
    "txt = \"The rain in Spain stays mainly in the plain\"\n",
    "x = \"ain\" in txt\n",
    "print(x)\n",
    "\n",
    "y = \"ain\" not in txt\n",
    "print(y)"
   ]
  },
  {
   "cell_type": "code",
   "execution_count": null,
   "id": "356ce9ac",
   "metadata": {},
   "outputs": [],
   "source": [
    "#String concatenation\n",
    "#Combining two or more strings\n",
    "a = \"Hello\"\n",
    "b = 'World'\n",
    "c = a +\" \"+ b\n",
    "print(c)"
   ]
  },
  {
   "cell_type": "markdown",
   "id": "c0dff440",
   "metadata": {},
   "source": [
    "#### String format"
   ]
  },
  {
   "cell_type": "code",
   "execution_count": null,
   "id": "623dea98",
   "metadata": {},
   "outputs": [],
   "source": [
    "#String format()\n",
    "#Takes the passed arguments, formats them, and places them in the string \n",
    "#where the placeholders {} are\n",
    "age = 57\n",
    "ads = \"My name is Paul, and I am  {}\"\n",
    "print(ads.format(age))"
   ]
  },
  {
   "cell_type": "code",
   "execution_count": null,
   "id": "4b2e4aba",
   "metadata": {},
   "outputs": [],
   "source": [
    "qnty = 5\n",
    "item_no = 36292\n",
    "price = 49.39\n",
    "my_order = \"\"\"I want {} piece of item {} for {} dollars,\n",
    "Make sure you bring {}. \"\"\"\n",
    "print(my_order.format(qnty, item_no, price, qnty))"
   ]
  },
  {
   "cell_type": "code",
   "execution_count": null,
   "id": "d1c90c89",
   "metadata": {},
   "outputs": [],
   "source": [
    "#Making sure the arguments are placed in the correct placeholders\n",
    "qnty = 5\n",
    "item_no = 36292\n",
    "price = 49.39\n",
    "my_order = \"\"\"I want to pay {2} dollars for {0} pieces of item {1}.\"\"\"\n",
    "print(my_order.format(qnty, item_no, price, qnty))"
   ]
  },
  {
   "cell_type": "markdown",
   "id": "4fa00e10",
   "metadata": {},
   "source": [
    "#### Escape Character\n",
    "\n",
    "- \\'\tSingle Quote\t\n",
    "- \\\\\tBackslash\t\n",
    "- \\n\tNew Line\t\n",
    "- \\r\tCarriage Return\t\n",
    "- \\t\tTab\t\n",
    "- \\b\tBackspace\t\n",
    "- \\f\tForm Feed\t\n",
    "- \\ooo\tOctal value\t\n",
    "- \\xhh\tHex value"
   ]
  },
  {
   "cell_type": "code",
   "execution_count": null,
   "id": "19e9e179",
   "metadata": {},
   "outputs": [],
   "source": [
    "ASD = \"His first name was \\\"John\\\"\"\n",
    "print(ASD)"
   ]
  },
  {
   "cell_type": "code",
   "execution_count": null,
   "id": "15b94c2e",
   "metadata": {},
   "outputs": [],
   "source": [
    "asd = \"I want to go to a \\n new line\"\n",
    "print(asd)"
   ]
  },
  {
   "cell_type": "markdown",
   "id": "b830b5dc",
   "metadata": {},
   "source": [
    "#### More String functions"
   ]
  },
  {
   "cell_type": "code",
   "execution_count": null,
   "id": "2ee58a73",
   "metadata": {},
   "outputs": [],
   "source": [
    "#Capitalize()\n",
    "#Returns a string where the first character is upper case\n",
    "dse = \"hello, and welcome to the meeting\"\n",
    "print(dse)\n",
    "print(dse.capitalize())"
   ]
  },
  {
   "cell_type": "code",
   "execution_count": null,
   "id": "2be20586",
   "metadata": {},
   "outputs": [],
   "source": [
    "#Casefold\n",
    "#Returns a string where all the characters are lower case.\n",
    "#Similar to lower()\n",
    "tst = \"Hello, And Welcome TO MY WORLD\"\n",
    "asd = tst.casefold()\n",
    "print(tst)\n",
    "print(asd)"
   ]
  },
  {
   "cell_type": "code",
   "execution_count": null,
   "id": "c0528ef0",
   "metadata": {},
   "outputs": [],
   "source": [
    "#Count\n",
    "#Returns the number of times a specified value appears in the string\n",
    "dsa = \"I love meat, meat is good for me\"\n",
    "aa = dsa.count(\"meat\")\n",
    "print(dsa)\n",
    "print(aa)\n"
   ]
  },
  {
   "cell_type": "code",
   "execution_count": null,
   "id": "4f5989ce",
   "metadata": {},
   "outputs": [],
   "source": [
    "#Searching form position 10 to the end\n",
    "dsa = \"I love meat, meat is good for me\"\n",
    "aa = dsa.count(\"meat\",10,)\n",
    "print(dsa)\n",
    "print(aa)\n"
   ]
  },
  {
   "cell_type": "code",
   "execution_count": null,
   "id": "7b7ae4d5",
   "metadata": {},
   "outputs": [],
   "source": [
    "#Center()\n",
    "#center align the string, using a specified character, (default is space)\n",
    "#string.center(length, character)\n",
    "txt = \"guava\"\n",
    "x = txt.center(15,\"_\")\n",
    "print(x)"
   ]
  },
  {
   "cell_type": "code",
   "execution_count": null,
   "id": "d7c25838",
   "metadata": {},
   "outputs": [],
   "source": [
    "#Encode()\n",
    "#Returns an encoded version of the string\n",
    "#string.encode(encoding=encoding, errors=errors)\n",
    "txt = \"my name is Dave\"\n",
    "x = txt.encode()\n",
    "\n",
    "print(x)\n",
    "print(txt.encode(encoding=\"ascii\",errors=\"backslashreplace\"))"
   ]
  },
  {
   "cell_type": "code",
   "execution_count": null,
   "id": "7c925bd2",
   "metadata": {},
   "outputs": [],
   "source": [
    "#Endwith()\n",
    "#Returns True if the string ends with the specified value, otherwise False\n",
    "# It is case-sensitive\n",
    "#string.endswith(value,start, end)\n",
    "txt = \"my name is Dave\"\n",
    "x = txt.endswith(\"ave\")\n",
    "\n",
    "print(x)"
   ]
  },
  {
   "cell_type": "code",
   "execution_count": null,
   "id": "a32bc10c",
   "metadata": {},
   "outputs": [],
   "source": [
    "#Find()\n",
    "#Finds the first occurence of the specified value\n",
    "# Returns -1 if the value is not found\n",
    "#string.find(value, start, end)\n",
    "#start and end are optional\n",
    "\n",
    "txt = \"my name is Dave\"\n",
    "x = txt.find(\"a\",2, 10)\n",
    "\n",
    "print(x)\n"
   ]
  },
  {
   "cell_type": "code",
   "execution_count": null,
   "id": "bc9fdabd",
   "metadata": {},
   "outputs": [],
   "source": [
    "#format()\n",
    "#formats the specified value(s) and insert them inside the string's placeholder\n",
    "#Placeholder is defined using curly brackets\n",
    "\n",
    "price = 67\n",
    "txt = \"For only {} dollars!\"\n",
    "x = txt.format((price))\n",
    "\n",
    "print(x)"
   ]
  },
  {
   "cell_type": "code",
   "execution_count": null,
   "id": "c8d3ad6d",
   "metadata": {},
   "outputs": [],
   "source": [
    "#index()\n",
    "#finds the first occurence of the specified value\n",
    "#raises an exception if the value is not found\n",
    "#syntax: string.index(value, start, end)\n",
    "\n",
    "txt = \"Hello, welcome to my world\"\n",
    "z = txt.index(\"w\")\n",
    "x = txt.find(\"q\")\n",
    "#y = txt.index(\"q\")\n",
    "\n",
    "print(z)\n",
    "print(x)\n",
    "print(y)"
   ]
  },
  {
   "cell_type": "code",
   "execution_count": null,
   "id": "3c634e5a",
   "metadata": {},
   "outputs": [],
   "source": [
    "#isalnum()\n",
    "#Returns True if all the characters are alphanumeric, meaning alphabet letter\n",
    "#(a-z) and number (0-9)\n",
    "#syntax: string.isalnum()\n",
    "\n",
    "txt = \"Company12\"\n",
    "x = txt.isalnum()\n",
    "print(x)"
   ]
  },
  {
   "cell_type": "code",
   "execution_count": null,
   "id": "434e1c3c",
   "metadata": {},
   "outputs": [],
   "source": [
    "#isalnum()\n",
    "#Returns True if all the characters are alphanumeric, meaning alphabet letter\n",
    "#(a-z) and number (0-9)\n",
    "#syntax: string.isalpha()\n",
    "\n",
    "txt = \"Company12\"\n",
    "txt2 = \"Pres\"\n",
    "x = txt.isalpha()\n",
    "print(x)"
   ]
  },
  {
   "cell_type": "markdown",
   "id": "e5a2f0ae",
   "metadata": {},
   "source": [
    "# 3.0 FUNCTIONS\n",
    "- A function is a block of code which only runs when it is called.\n",
    "- You can pass data, known as parameters, into a function.\n",
    "- A function can return data as a result.\n",
    "\n",
    "When you define a function, you specify the name and\n",
    "the sequence of statements. Later, you can “call” the function by name.\n",
    "\n",
    "#### Why functions?\n",
    "It may not be clear why it is worth the trouble to divide a program into functions.\n",
    "There are several reasons:\n",
    "- Creating a new function gives you an opportunity to name a group of statements, which makes your program easier to read, understand, and debug.\n",
    "- Functions can make a program smaller by eliminating repetitive code. Later, if you make a change, you only have to make it in one place.\n",
    "- Dividing a long program into functions allows you to debug the parts one at a time and then assemble them into a working whole.\n",
    "- Well-designed functions are often useful for many programs. Once you write and debug one, you can reuse it."
   ]
  },
  {
   "cell_type": "code",
   "execution_count": null,
   "id": "fc944a13",
   "metadata": {},
   "outputs": [],
   "source": [
    "#Example\n",
    "#Function is defined using the 'def' keyword\n",
    "def a_func():\n",
    "    print(\"This is an example \\n of a function\")"
   ]
  },
  {
   "cell_type": "code",
   "execution_count": null,
   "id": "0974fa77",
   "metadata": {},
   "outputs": [],
   "source": [
    "a_func()"
   ]
  },
  {
   "cell_type": "markdown",
   "id": "92f48cc0",
   "metadata": {},
   "source": [
    "#### Built-in Functions\n",
    "Python provides a number of important built-in functions that we can use without needing to provide the function definition."
   ]
  },
  {
   "cell_type": "code",
   "execution_count": null,
   "id": "d3c951f0",
   "metadata": {},
   "outputs": [],
   "source": [
    "#Examples\n",
    "#Tells the largest Character\n",
    "max(\"This is a function\")"
   ]
  },
  {
   "cell_type": "code",
   "execution_count": null,
   "id": "89bc8b70",
   "metadata": {},
   "outputs": [],
   "source": [
    "#tells the smallest character\n",
    "min(\"This is also a function\")"
   ]
  },
  {
   "cell_type": "code",
   "execution_count": null,
   "id": "ad35b00a",
   "metadata": {},
   "outputs": [],
   "source": [
    "print(min([\"tomato\", \"banana\", \"mango\", \"orange\"]))\n",
    "print(max([\"tomato\", \"banana\", \"mango\", \"orange\"]))"
   ]
  },
  {
   "cell_type": "code",
   "execution_count": null,
   "id": "3cf1fd8c",
   "metadata": {},
   "outputs": [],
   "source": [
    "len(\"This is a function\")"
   ]
  },
  {
   "cell_type": "code",
   "execution_count": null,
   "id": "839ceb91",
   "metadata": {},
   "outputs": [],
   "source": [
    "#round() function\n",
    "#For rounding numbers\n",
    "#syntax: round(number, digits)\n",
    "print(round(67.34985))\n",
    "print(type(round(67.34985)))"
   ]
  },
  {
   "cell_type": "code",
   "execution_count": null,
   "id": "7c8e4877",
   "metadata": {},
   "outputs": [],
   "source": [
    "#slice()\n",
    "#Returns a slice object\n",
    "#syntax(start,end,step)\n",
    "#Exmample\n",
    "a = (\"tomato\", \"banana\", \"mango\", \"orange\", \"cashew\", \"pineapple\")\n",
    "s = slice(1,3)\n",
    "print(a[s])"
   ]
  },
  {
   "cell_type": "code",
   "execution_count": null,
   "id": "12532869",
   "metadata": {},
   "outputs": [],
   "source": [
    "#id()\n",
    "#Returns the id of an object\n",
    "#syntax: id(object)\n",
    "#Example\n",
    "a = (\"tomato\", \"banana\", \"mango\", \"orange\", \"cashew\", \"pineapple\")\n",
    "id(a)\n",
    "#This value is the memory address of the object and will be different every \n",
    "# time you run the program."
   ]
  },
  {
   "cell_type": "code",
   "execution_count": null,
   "id": "95d9cf44",
   "metadata": {},
   "outputs": [],
   "source": [
    "#eval()\n",
    "# Evaluates and executes an expression\n",
    "#eval(expression, globals, locals)\n",
    "# Example\n",
    "a = '(\"tomato\", \"banana\", \"mango\", \"orange\", \"cashew\", \"pineapple\")'\n",
    "eval(a)\n"
   ]
  },
  {
   "cell_type": "code",
   "execution_count": null,
   "id": "e9a2ca4a",
   "metadata": {},
   "outputs": [],
   "source": [
    "#filter() \n",
    "#returns an iterator were the items are filtered through \n",
    "#a function to test if the item is accepted or not.\n",
    "# Syntax: filter(function, iterable)\n",
    "\n",
    "ages = [5, 12, 17, 18, 24, 32]\n",
    "\n",
    "def myFunc(x):\n",
    "  if x < 18:\n",
    "    return False\n",
    "  else:\n",
    "    return True\n",
    "\n",
    "adults = filter(myFunc, ages)\n",
    "\n",
    "for x in adults:\n",
    "  print(x)\n"
   ]
  },
  {
   "cell_type": "code",
   "execution_count": null,
   "id": "e7c4cf1e",
   "metadata": {},
   "outputs": [],
   "source": [
    "# divmod()\n",
    "# Returns the quotient and remainder when argument1 is divided by argument2\n",
    "# Syntax: divmod(divident, divisor)\n",
    "x = divmod(57, 35)\n",
    "print(x)\n",
    "print(type(x))"
   ]
  },
  {
   "cell_type": "code",
   "execution_count": null,
   "id": "78b6855c",
   "metadata": {},
   "outputs": [],
   "source": [
    "# bin()\n",
    "# Returns the binary version of a number\n",
    "# Syntax: bin(n)\n",
    "\n",
    "x = bin(47583)\n",
    "print(x)\n",
    "print(type(x))"
   ]
  },
  {
   "cell_type": "code",
   "execution_count": null,
   "id": "346e8e19",
   "metadata": {},
   "outputs": [],
   "source": [
    "# callable()\n",
    "# Returns True if the specified object is callable, otherwise False\n",
    "# Check if a function is callable\n",
    "\n",
    "def x():\n",
    "    print(\"The day is bright\")\n",
    "    \n",
    "print(callable(x))\n",
    "\n",
    "a = 57    \n",
    "print(callable(a))"
   ]
  },
  {
   "cell_type": "code",
   "execution_count": null,
   "id": "e19b16b9",
   "metadata": {},
   "outputs": [],
   "source": [
    "# format()\n",
    "# formats a specified value into a specified format\n",
    "# Syntax: format(value, format)\n"
   ]
  },
  {
   "cell_type": "markdown",
   "id": "d309c794",
   "metadata": {},
   "source": [
    "The format you want to format the value into.\n",
    "Legal values:\n",
    "- '<' - Left aligns the result (within the available space)\n",
    "- '>' - Right aligns the result (within the available space)\n",
    "- '^' - Center aligns the result (within the available space)\n",
    "- '=' - Places the sign to the left most position\n",
    "- '+' - Use a plus sign to indicate if the result is positive or negative\n",
    "- '-' - Use a minus sign for negative values only\n",
    "- ' ' - Use a leading space for positive numbers\n",
    "- ',' - Use a comma as a thousand separator\n",
    "- '_' - Use a underscore as a thousand separator\n",
    "- 'b' - Binary format\n",
    "- 'c' - Converts the value into the corresponding unicode character\n",
    "- 'd' - Decimal format\n",
    "- 'e' - Scientific format, with a lower case e\n",
    "- 'E' - Scientific format, with an upper case E\n",
    "- 'f' - Fix point number format\n",
    "- 'F' - Fix point number format, upper case\n",
    "- 'g' - General format\n",
    "- 'G' - General format (using a upper case E for scientific notations)\n",
    "- 'o' - Octal format\n",
    "- 'x' - Hex format, lower case\n",
    "- 'X' - Hex format, upper case\n",
    "- 'n' - Number format\n",
    "- '%' - Percentage format"
   ]
  },
  {
   "cell_type": "code",
   "execution_count": null,
   "id": "f2d1767b",
   "metadata": {},
   "outputs": [],
   "source": [
    "# Example\n",
    "#scientific format\n",
    "print(format(48932400, \"E\"))\n",
    "\n",
    "# indicating positive or negative number\n",
    "print(format(48932400, \"+\"))\n",
    "\n",
    "# Thousand separator\n",
    "print(format(48932400, \",\"))\n",
    "\n",
    "# Fixed point number\n",
    "print(format(48932400, \"F\"))\n",
    "\n",
    "# Decimal format\n",
    "print(format(48932400, \"X\"))"
   ]
  },
  {
   "cell_type": "markdown",
   "id": "96e0e7d2",
   "metadata": {},
   "source": [
    "#### Assignment\n",
    "explain, write out the syntax and give example of how the following built-in functions can be used.\n",
    "- isinstance()\n",
    "- help()\n",
    "- list()\n",
    "- map()\n",
    "- next()\n",
    "- pow()\n",
    "- range()\n",
    "- sorted()\n",
    "- set()\n",
    "- oct()"
   ]
  },
  {
   "cell_type": "markdown",
   "id": "ba513b62",
   "metadata": {},
   "source": [
    "#### Type conversion Functions\n",
    "Python also provides built-in functions that convert values from one type to another."
   ]
  },
  {
   "cell_type": "code",
   "execution_count": null,
   "id": "9bc8c9e9",
   "metadata": {},
   "outputs": [],
   "source": [
    "int('489')"
   ]
  },
  {
   "cell_type": "code",
   "execution_count": null,
   "id": "653cb8cd",
   "metadata": {},
   "outputs": [],
   "source": [
    "int(\"nice\")"
   ]
  },
  {
   "cell_type": "code",
   "execution_count": null,
   "id": "298b6d31",
   "metadata": {},
   "outputs": [],
   "source": [
    "# Chops off floating point numbers\n",
    "int(3.9849)"
   ]
  },
  {
   "cell_type": "code",
   "execution_count": null,
   "id": "a56e97ee",
   "metadata": {},
   "outputs": [],
   "source": [
    "int(-4.93849)"
   ]
  },
  {
   "cell_type": "code",
   "execution_count": null,
   "id": "b2edf404",
   "metadata": {},
   "outputs": [],
   "source": [
    "# float converts integers and strings to floating-point numbers:\n",
    "float('3.7328')"
   ]
  },
  {
   "cell_type": "code",
   "execution_count": null,
   "id": "dd4a2bbb",
   "metadata": {},
   "outputs": [],
   "source": [
    "float(38)"
   ]
  },
  {
   "cell_type": "code",
   "execution_count": null,
   "id": "4d0e220c",
   "metadata": {},
   "outputs": [],
   "source": [
    "# String converts its arguments to a string\n",
    "str(32)"
   ]
  },
  {
   "cell_type": "code",
   "execution_count": null,
   "id": "acf55c8d",
   "metadata": {},
   "outputs": [],
   "source": [
    "str('4.3728')"
   ]
  },
  {
   "cell_type": "markdown",
   "id": "c650df2e",
   "metadata": {},
   "source": [
    "#### Math functions"
   ]
  },
  {
   "cell_type": "markdown",
   "id": "b6232eee",
   "metadata": {},
   "source": [
    "Python has a math module that provides most of the familiar mathematical functions.\n",
    "Before we can use the module, we have to import it:"
   ]
  },
  {
   "cell_type": "code",
   "execution_count": null,
   "id": "b73e4081",
   "metadata": {},
   "outputs": [],
   "source": [
    "import math"
   ]
  },
  {
   "cell_type": "markdown",
   "id": "6728f938",
   "metadata": {},
   "source": [
    "This statement creates a module object named math. If you print the module\n",
    "object, you get some information about it:\n",
    "\n",
    "The module object contains the functions and variables defined in the module. To access one of the functions, you have to specify the name of the module and the name of the function, separated by a dot (also known as a period). This format is called dot notation."
   ]
  },
  {
   "cell_type": "code",
   "execution_count": null,
   "id": "e3bb6de4",
   "metadata": {},
   "outputs": [],
   "source": [
    "print(math)"
   ]
  },
  {
   "cell_type": "markdown",
   "id": "6bedcd4e",
   "metadata": {},
   "source": [
    "Math Constants"
   ]
  },
  {
   "cell_type": "code",
   "execution_count": null,
   "id": "09f0792e",
   "metadata": {},
   "outputs": [],
   "source": [
    "print(math.e) #Euler's number\n",
    "print(math.inf) # Floating-point positive infinity\n",
    "print(math.nan) #floating-point Not a Number value\n",
    "print(math.pi) # PI\n",
    "print(math.tau) #Tau"
   ]
  },
  {
   "cell_type": "code",
   "execution_count": null,
   "id": "d2b1a735",
   "metadata": {},
   "outputs": [],
   "source": [
    "#Trgonometric functions\n",
    "x = 45\n",
    "print(math.sin(x))\n",
    "print(math.cos(x))\n",
    "print(math.tan(x))\n",
    "print(math.sinh(x))\n",
    "print(math.cosh(x))\n",
    "print(math.tanh(x))\n"
   ]
  },
  {
   "cell_type": "code",
   "execution_count": null,
   "id": "d6ff0537",
   "metadata": {},
   "outputs": [],
   "source": [
    "#Combination\n",
    "# \tReturns the number of ways to choose k items from n \n",
    "# items without repetition and order\n",
    "# Syntax: math.comb(n,k)\n",
    "print(math.comb(7,5))"
   ]
  },
  {
   "cell_type": "code",
   "execution_count": null,
   "id": "bed0c973",
   "metadata": {},
   "outputs": [],
   "source": [
    "# math.ceil()\n",
    "# Rounds a number upwards to the nearest integer, and returns the result\n",
    "print(math.ceil(1.6))\n",
    "print(math.ceil(4.2))\n",
    "print(math.ceil(-1.6))\n",
    "print(math.ceil(51.6))\n",
    "print(math.ceil(76.1))\n",
    "print(\"\\n\")\n",
    "\n",
    "#math.floor()\n",
    "#Rounds a number downwards to the nearest integer, and returns the result\n",
    "print(math.floor(1.6))\n",
    "print(math.floor(4.2))\n",
    "print(math.floor(-1.6))\n",
    "print(math.floor(51.6))\n",
    "print(math.floor(76.1))"
   ]
  },
  {
   "cell_type": "code",
   "execution_count": null,
   "id": "c445c1b0",
   "metadata": {},
   "outputs": [],
   "source": [
    "#fmod()\n",
    "# Return the remainder after modulo operation\n",
    "print(math.fmod(47,3))"
   ]
  },
  {
   "cell_type": "code",
   "execution_count": null,
   "id": "a88036c6",
   "metadata": {},
   "outputs": [],
   "source": [
    "# math.factorial()\n",
    "# Returns the factorial of a number\n",
    "math.factorial(8)"
   ]
  },
  {
   "cell_type": "code",
   "execution_count": null,
   "id": "65e37bb7",
   "metadata": {},
   "outputs": [],
   "source": [
    "# math.gcd()\n",
    "# Returns the highest value that can divide two integers\n",
    "print(math.gcd(47, 37, 93))\n",
    "print(math.lcm(47,384, 7))"
   ]
  },
  {
   "cell_type": "code",
   "execution_count": null,
   "id": "014a4d4a",
   "metadata": {},
   "outputs": [],
   "source": [
    "# finding the sine of radians\n",
    "degrees = 45\n",
    "pie = math.pi\n",
    "radians = degrees / 360 * 2 * pie\n",
    "x = math.sin(radians)\n",
    "\n",
    "print(round(x, 4))"
   ]
  },
  {
   "cell_type": "code",
   "execution_count": null,
   "id": "db4d9a41",
   "metadata": {},
   "outputs": [],
   "source": [
    "#Finding square root of numbers\n",
    "x = 48\n",
    "sqrt = math.sqrt(x)\n",
    "print(sqrt)"
   ]
  },
  {
   "cell_type": "markdown",
   "id": "a7f13672",
   "metadata": {},
   "source": [
    "#### Assignment\n",
    "explain, write out the syntax and give example of how the following math functions can be used.\n",
    "- math.copysign()\n",
    "- math.degrees()\n",
    "- math.exp()\n",
    "- math.fabs()\n",
    "- math.fsum()\n",
    "- math.isinf()\n",
    "- math.isclose()\n",
    "- math.log10()\n",
    "- math.perm()\n",
    "- math.pow()\n",
    "- math.radians()\n",
    "- math.trunc()\n"
   ]
  },
  {
   "cell_type": "markdown",
   "id": "5bae48c7",
   "metadata": {},
   "source": [
    "#### Random numbers\n",
    "Given the same inputs, most computer programs generate the same outputs every\n",
    "time, so they are said to be deterministic. Determinism is usually a good thing, since we expect the same calculation to yield the same result. For some applications, though, we want the computer to be unpredictable. Games are an obvious example, but there are more.\n",
    "\n",
    "The random module provides functions that generate pseudorandom numbers"
   ]
  },
  {
   "cell_type": "code",
   "execution_count": null,
   "id": "96a4a1f8",
   "metadata": {},
   "outputs": [],
   "source": [
    "import random\n"
   ]
  },
  {
   "cell_type": "code",
   "execution_count": null,
   "id": "04670573",
   "metadata": {},
   "outputs": [],
   "source": [
    "print(random.getstate()) #Returns a object with the current state of the \n",
    "# random number generator"
   ]
  },
  {
   "cell_type": "code",
   "execution_count": null,
   "id": "f779b035",
   "metadata": {},
   "outputs": [],
   "source": [
    "# seed() method is used to initialize the random number generator.\n",
    "# By default the random number generator uses the current system time.\n",
    "# If you use the same seed value twice you will get the same \n",
    "# random number twice\n",
    "\n",
    "random.seed(19)"
   ]
  },
  {
   "cell_type": "code",
   "execution_count": null,
   "id": "a38afde2",
   "metadata": {},
   "outputs": [],
   "source": [
    "print(random.random())"
   ]
  },
  {
   "cell_type": "code",
   "execution_count": null,
   "id": "0903d03b",
   "metadata": {},
   "outputs": [],
   "source": [
    "for x in range(10):\n",
    "    x = random.random()\n",
    "    print(x)"
   ]
  },
  {
   "cell_type": "code",
   "execution_count": null,
   "id": "dd4384ed",
   "metadata": {},
   "outputs": [],
   "source": [
    "# randint()\n",
    "# Returns a random number between the given range\n",
    "# Syntax: random.randint(start, stop)\n",
    "for x in range(5):\n",
    "    x = random.randint(5, 20)\n",
    "    print(x)"
   ]
  },
  {
   "cell_type": "code",
   "execution_count": null,
   "id": "4bdb7895",
   "metadata": {},
   "outputs": [],
   "source": [
    "# random.randrange()\n",
    "# Returns a randomly selected element from the specified range\n",
    "# Syntax: random.randrange(start, stop, step)\n",
    "\n",
    "for x in range(3):\n",
    "    print(random.randrange(3, 10))\n",
    "# returns a number between 3 (included) and 9 (not included)"
   ]
  },
  {
   "cell_type": "code",
   "execution_count": null,
   "id": "8cd3141e",
   "metadata": {},
   "outputs": [],
   "source": [
    "# random.uniform()\n",
    "# Returns a random floating number between the two specifed number\n",
    "# (both included)\n",
    "# Syntax: random.uniform(a, b)\n",
    "\n",
    "for x in range(5):\n",
    "    print(random.uniform(20, 30))"
   ]
  },
  {
   "cell_type": "code",
   "execution_count": null,
   "id": "efaa068a",
   "metadata": {},
   "outputs": [],
   "source": [
    "# random.choice()\n",
    "# Returns a random element from a list\n",
    "\n",
    "fruits = (\"apple\", \"mango\", \"pear\", \"pawpaw\", \"guava\", \"orange\", \"lemon\")\n",
    "for x in range(3):\n",
    "    print(random.choice(fruits))"
   ]
  },
  {
   "cell_type": "code",
   "execution_count": null,
   "id": "81928dfd",
   "metadata": {},
   "outputs": [],
   "source": [
    "# random.choices()\n",
    "# returns a list with the randomly \n",
    "# selected element from the specified sequence.\n",
    "# Syntax: random.choices(sequence, weights=None, cum_weights=None, k=1)\n",
    "\n",
    "fruits = (\"apple\", \"mango\", \"pear\", \"pawpaw\", \"guava\", \"orange\", \"lemon\")\n",
    "print(random.choices(fruits, k=5))"
   ]
  },
  {
   "cell_type": "code",
   "execution_count": null,
   "id": "41b5c824",
   "metadata": {},
   "outputs": [],
   "source": [
    "# random.shuffle()\n",
    "# method takes a sequence (list, string, or tuple) and reorganize \n",
    "# the order of the items\n",
    "# The original sequence is changed.\n",
    "# Syntax: random.shuffle(sequence, function=random())\n",
    "\n",
    "#def my_func():\n",
    " #   return 0.1\n",
    "\n",
    "fruits = [\"apple\", \"mango\", \"pear\", \"pawpaw\", \"guava\", \"orange\", \"lemon\"]\n",
    "random.shuffle(fruits)\n",
    "\n",
    "print(fruits)"
   ]
  },
  {
   "cell_type": "code",
   "execution_count": null,
   "id": "72a21e85",
   "metadata": {},
   "outputs": [],
   "source": [
    "# random.sample()\n",
    "# returns a list with a randomly selection of a specified number of items\n",
    "# from a sequence. the original sequence is not changed.\n",
    "# Syntax: random.sample(sequence, k)\n",
    "\n",
    "fruits = [\"apple\", \"mango\", \"pear\", \"pawpaw\", \"guava\", \"orange\", \"lemon\"]\n",
    "random.sample(fruits, k=4)\n"
   ]
  },
  {
   "cell_type": "markdown",
   "id": "02afd2bf",
   "metadata": {},
   "source": [
    "### Adding new functions\n",
    "A function definition specifies the name of a new\n",
    "function and the sequence of statements that execute when the function is called.\n",
    "\n",
    "Once we define a function, we can reuse the function over and over throughout ourprogram."
   ]
  },
  {
   "cell_type": "code",
   "execution_count": null,
   "id": "925d06c5",
   "metadata": {},
   "outputs": [],
   "source": [
    "# Creating a function\n",
    "def simp_func():\n",
    "    print(\"This is an example of simple function\")"
   ]
  },
  {
   "cell_type": "code",
   "execution_count": null,
   "id": "1232abff",
   "metadata": {},
   "outputs": [],
   "source": [
    "# Calling a function\n",
    "simp_func()\n",
    "print(type(simp_func))"
   ]
  },
  {
   "cell_type": "code",
   "execution_count": null,
   "id": "60d99149",
   "metadata": {},
   "outputs": [],
   "source": [
    "# A function, once defined can be used in another another function\n",
    "\n",
    "double()\n",
    "\n",
    "def lines():\n",
    "    print(\"Twinkle Twinkle little stars\")\n",
    "    print(\"How I wonder what you are\")\n",
    "    \n",
    "def double():\n",
    "    lines()\n",
    "    print(\"\\n\")\n",
    "    lines()\n",
    "    \n"
   ]
  },
  {
   "cell_type": "markdown",
   "id": "7a42a765",
   "metadata": {},
   "source": [
    "#### The pass Statement\n",
    "function definitions cannot be empty, but if you for some reason have a function definition with no content, put in the pass statement to avoid getting an error."
   ]
  },
  {
   "cell_type": "code",
   "execution_count": null,
   "id": "9b0b2e77",
   "metadata": {},
   "outputs": [],
   "source": [
    "def myfunction():\n",
    "  pass\n",
    "\n",
    "myfunction()"
   ]
  },
  {
   "cell_type": "markdown",
   "id": "74624ead",
   "metadata": {},
   "source": [
    "#### Arguments\n",
    "Information can be passed into functions as arguments.\n",
    "\n",
    "Arguments are specified after the function name, inside the parentheses. You can add as many arguments as you want, just separate them with a comma.\n",
    "\n",
    "Arguments are often shortened to args in Python documentations\n",
    "\n",
    "#### Parameters or Arguments?\n",
    "\n",
    "A parameter is the variable listed inside the parentheses in the function definition.\n",
    "\n",
    "An argument is the value that is sent to the function when it is called.\n"
   ]
  },
  {
   "cell_type": "code",
   "execution_count": null,
   "id": "f6ac6f9e",
   "metadata": {},
   "outputs": [],
   "source": [
    "def Full_name():\n",
    "    f_name = input(\"Please enter your first name: \")\n",
    "    m_name = input(\"Please enter your middle name: \")\n",
    "    l_name = input(\"Please enter your last name: \")\n",
    "    \n",
    "    full_name = f\"\\n Your full name is \\n {f_name} {m_name} {l_name}\"\n",
    "    print(full_name)\n",
    "Full_name()"
   ]
  },
  {
   "cell_type": "markdown",
   "id": "a51c48e3",
   "metadata": {},
   "source": [
    "#### Number of Arguments\n",
    "By default, a function must be called with the correct number of arguments. Meaning that if your function expects 2 arguments, you have to call the function with 2 arguments, not more, and not less."
   ]
  },
  {
   "cell_type": "code",
   "execution_count": null,
   "id": "8f3b55d1",
   "metadata": {},
   "outputs": [],
   "source": [
    "def love_fruit(FRUIT):\n",
    "    print(f\"I love {FRUIT}\")\n",
    "    \n",
    "    \n",
    "love_fruit(\"cashew\")"
   ]
  },
  {
   "cell_type": "code",
   "execution_count": null,
   "id": "1752c92c",
   "metadata": {},
   "outputs": [],
   "source": []
  },
  {
   "cell_type": "markdown",
   "id": "e2a0e265",
   "metadata": {},
   "source": [
    "#### Default Parameter Value\n",
    "The following example shows how to use a default parameter value.\n",
    "\n",
    "If we call the function without argument, it uses the default value:"
   ]
  },
  {
   "cell_type": "code",
   "execution_count": null,
   "id": "846c0777",
   "metadata": {},
   "outputs": [],
   "source": [
    "# Example\n",
    "def a_fu(country = \"Nigeria\"):\n",
    "    print(f\"I am from {country}\")\n",
    "    \n",
    "a_fu()\n",
    "a_fu(\"Norway\")\n",
    "a_fu(\"Britain\")"
   ]
  },
  {
   "cell_type": "markdown",
   "id": "84104aca",
   "metadata": {},
   "source": [
    "#### Passing a List as an Argument\n",
    "You can send any data types of argument to a function (string, number, list, dictionary etc.), and it will be treated as the same data type inside the function.\n",
    "\n",
    "E.g. if you send a List as an argument, it will still be a List when it reaches the function:"
   ]
  },
  {
   "cell_type": "code",
   "execution_count": null,
   "id": "3e9d7618",
   "metadata": {},
   "outputs": [],
   "source": [
    "def this_func(pets):\n",
    "    for x in pets:\n",
    "        print(f\"I love {x}\")\n",
    "    \n",
    "my_pets = [\"cats\", \"rabbits\", \"monkey\", \"parrots\", \"doves\"]\n",
    "this_func(my_pets)"
   ]
  },
  {
   "cell_type": "code",
   "execution_count": null,
   "id": "7d25bd77",
   "metadata": {},
   "outputs": [],
   "source": []
  },
  {
   "cell_type": "code",
   "execution_count": null,
   "id": "917419d5",
   "metadata": {},
   "outputs": [],
   "source": []
  },
  {
   "cell_type": "code",
   "execution_count": null,
   "id": "0f04001a",
   "metadata": {},
   "outputs": [],
   "source": []
  },
  {
   "cell_type": "markdown",
   "id": "1ab3b389",
   "metadata": {},
   "source": [
    "#### Arbitrary Arguments, *args\n",
    "If you do not know how many arguments that will be passed into your function, add a * before the parameter name in the function definition.\n",
    "\n",
    "This way the function will receive a tuple of arguments, and can access the items accordingly:\n",
    "\n"
   ]
  },
  {
   "cell_type": "code",
   "execution_count": null,
   "id": "5f80a186",
   "metadata": {},
   "outputs": [],
   "source": [
    "def youngest_kids(*kids):\n",
    "    print(f\"The youngest kid is {kids[-1]}\")\n",
    "    \n",
    "youngest_kids(\"James\", \"John\", \"Juliet\", \"Michael\")"
   ]
  },
  {
   "cell_type": "code",
   "execution_count": null,
   "id": "90983b96",
   "metadata": {},
   "outputs": [],
   "source": [
    "def find_largest_number(*args):\n",
    "    if not args:\n",
    "        print(\"No arguments provided.\")\n",
    "    else:\n",
    "        largest = max(args)\n",
    "        print(f\"The largest number is: {largest}\")"
   ]
  },
  {
   "cell_type": "markdown",
   "id": "3c84b1b9",
   "metadata": {},
   "source": [
    "#### Keyword Arguments\n",
    "You can also send arguments with the key = value syntax.\n",
    "\n",
    "This way the order of the arguments does not matter."
   ]
  },
  {
   "cell_type": "code",
   "execution_count": null,
   "id": "0c05df0f",
   "metadata": {},
   "outputs": [],
   "source": [
    "def youngest(C1, C2, C3):\n",
    "    print(f\"The youngest child is {C3}\")\n",
    "        \n",
    "youngest(C3 = \"James\", C1 = \"Clement\", C2 = \"Cephas\")    \n"
   ]
  },
  {
   "cell_type": "markdown",
   "id": "c0ab5a37",
   "metadata": {},
   "source": [
    "#### Arbitrary Keyword Arguments, **kwargs\n",
    "If you do not know how many keyword arguments that will be passed into your function, add two asterisk: ** before the parameter name in the function definition.\n",
    "\n",
    "This way the function will receive a dictionary of arguments, and can access the items accordingly:"
   ]
  },
  {
   "cell_type": "code",
   "execution_count": null,
   "id": "fbf9663b",
   "metadata": {},
   "outputs": [],
   "source": [
    "# Example\n",
    "def a_func(**kid):\n",
    "    print(\"His last name is \" + kid[\"lname\"])\n",
    "    \n",
    "a_func(fname = \"Michael\", lname = \"Jonah\")"
   ]
  },
  {
   "cell_type": "code",
   "execution_count": null,
   "id": "6fb155d1",
   "metadata": {},
   "outputs": [],
   "source": [
    "# Example \n",
    "# Printing user info from a dictionary\n",
    "def display_user_info(**info):\n",
    "    for key, value in info.items():\n",
    "        print(f\"{key}: \\t {value}\")\n",
    "    print(\"\\n Thank you!\")\n",
    "    \n",
    "user_info = {\n",
    "    \"name\": \"Michael Smith\",\n",
    "    \"age\": 16,\n",
    "    \"city\": 'Kaduna',\n",
    "    'prof': \"Graphics designer\",\n",
    "    'hobby': 'Football'\n",
    "}\n",
    "        \n",
    "display_user_info(**user_info)"
   ]
  },
  {
   "cell_type": "code",
   "execution_count": null,
   "id": "88815d6b",
   "metadata": {},
   "outputs": [],
   "source": [
    "# Example\n",
    "# creating a dictionary with default values using arbitrary keyword arguments.\n",
    "def create_student(**info):\n",
    "    defaults = {\n",
    "        \"name\": \"Unknown\",\n",
    "        \"age\": 0,\n",
    "        \"grade\": \"N/A\"\n",
    "    }\n",
    "    student_info = {**defaults, **info}\n",
    "    return student_info\n",
    "\n",
    "student = create_student(name=\"David Miller\", Age=22)\n",
    "print(\"Student Info:\", student)"
   ]
  },
  {
   "cell_type": "markdown",
   "id": "2760682e",
   "metadata": {},
   "source": [
    "#### Recursion\n",
    "Python also accepts function recursion, which means a defined function can call itself.\n",
    "\n",
    "Recursion is a common mathematical and programming concept. It means that a function calls itself. This has the benefit of meaning that you can loop through data to reach a result.\n",
    "\n",
    "The developer should be very careful with recursion as it can be quite easy to slip into writing a function which never terminates, or one that uses excess amounts of memory or processor power. However, when written correctly recursion can be a very efficient and mathematically-elegant approach to programming."
   ]
  },
  {
   "cell_type": "code",
   "execution_count": null,
   "id": "4e70d010",
   "metadata": {},
   "outputs": [],
   "source": [
    "# Example\n",
    "# Count Down from n to 1\n",
    "def countdown(n):\n",
    "    if n == 0:\n",
    "        return\n",
    "    else:\n",
    "        print(n)\n",
    "        countdown(n-1)\n",
    "        \n",
    "def go__(n):\n",
    "    countdown(n)\n",
    "    print(\"There you go!\")\n",
    "        \n",
    "go__(9)"
   ]
  },
  {
   "cell_type": "code",
   "execution_count": null,
   "id": "7ed38528",
   "metadata": {},
   "outputs": [],
   "source": [
    "# Sum of natural numbers\n",
    "\n",
    "def sum_of_numbers(n):\n",
    "    if n == 0:\n",
    "        return 0\n",
    "    else:\n",
    "        return n + sum_of_numbers(n-1)\n",
    "    \n",
    "def printout(num):\n",
    "    print(f\"the sum of the first {num} numbers is {sum_of_numbers(num)}\")\n",
    "    \n",
    "printout(7)"
   ]
  },
  {
   "cell_type": "code",
   "execution_count": null,
   "id": "d5d1fa6d",
   "metadata": {},
   "outputs": [],
   "source": [
    "# Factorial calculation\n",
    "# Calculating the factorial of a number using recursion\n",
    "def factorial(n):\n",
    "    if n == 0:\n",
    "        return 1\n",
    "    else:\n",
    "        return n*factorial(n-1)\n",
    "\n",
    "def printout(num):\n",
    "    print(f\"The Factorial of {num} is {factorial(num)}\")\n",
    "    \n",
    "printout(6)\n",
    "printout(5)\n",
    "printout(4)"
   ]
  },
  {
   "cell_type": "code",
   "execution_count": null,
   "id": "73878eb7",
   "metadata": {},
   "outputs": [],
   "source": [
    "# Reversing a string\n",
    "def reverse_string(s):\n",
    "    if len(s) == 0:\n",
    "        return s\n",
    "    else:\n",
    "        return reverse_string(s[1:]) + s[0]\n",
    "    \n",
    "text = \"Hello, World!\"\n",
    "print(f\"Reversed string: {reverse_string(text)}\")"
   ]
  },
  {
   "cell_type": "code",
   "execution_count": null,
   "id": "6d9f5d5f",
   "metadata": {},
   "outputs": [],
   "source": []
  },
  {
   "cell_type": "code",
   "execution_count": null,
   "id": "f3e23c69",
   "metadata": {},
   "outputs": [],
   "source": []
  },
  {
   "cell_type": "markdown",
   "id": "8a75ffa8",
   "metadata": {},
   "source": [
    "# 3.0 PYTHON COLLECTIONS (SEQUENCE) "
   ]
  },
  {
   "cell_type": "markdown",
   "id": "e6b4a501",
   "metadata": {},
   "source": [
    "There are four collection data types in the Python programming language:\n",
    "\n",
    "- List is a collection which is ordered and changeable. Allows duplicate members.\n",
    "- Tuple is a collection which is ordered and unchangeable. Allows duplicate members.\n",
    "- Set is a collection which is unordered and unindexed. No duplicate members.\n",
    "- Dictionary is a collection which is unordered, changeable and indexed. No duplicate members."
   ]
  },
  {
   "cell_type": "markdown",
   "id": "0ae1a6fa",
   "metadata": {},
   "source": [
    "### List\n",
    "A list is a collection which is ordered and changeable. In Python lists are written with square brackets."
   ]
  },
  {
   "cell_type": "code",
   "execution_count": null,
   "id": "1fc20464",
   "metadata": {},
   "outputs": [],
   "source": [
    "#creating a list\n",
    "myList = [\"apple\", \"banana\", \"cherry\"]\n",
    "print(myList)"
   ]
  },
  {
   "cell_type": "code",
   "execution_count": null,
   "id": "5818d254",
   "metadata": {},
   "outputs": [],
   "source": [
    "#the list() constructor\n",
    "newList = list((\"apple\", \"orange\", \"mango\")) #note the double round brackets\n",
    "print(newList)"
   ]
  },
  {
   "cell_type": "code",
   "execution_count": null,
   "id": "374e130f",
   "metadata": {},
   "outputs": [],
   "source": [
    "#Accessing Items\n",
    "#YOu access the list items by referring to the index number\n",
    "c\n",
    "print(myList[2])"
   ]
  },
  {
   "cell_type": "markdown",
   "id": "77dc75ad",
   "metadata": {},
   "source": [
    "Negative Indexing"
   ]
  },
  {
   "cell_type": "code",
   "execution_count": null,
   "id": "47b352dd",
   "metadata": {},
   "outputs": [],
   "source": [
    "thislist = [\"apple\", \"banana\", \"cherry\"]\n",
    "print(thislist[-1])"
   ]
  },
  {
   "cell_type": "markdown",
   "id": "beccc0f8",
   "metadata": {},
   "source": [
    "##### Range of Indexes\n",
    "You can specify a range of indexes by specifying where to start and where to end the range.\n",
    "\n",
    "When specifying a range, the return value will be a new list with the specified items."
   ]
  },
  {
   "cell_type": "code",
   "execution_count": null,
   "id": "ef996fe2",
   "metadata": {},
   "outputs": [],
   "source": [
    "myList = [\"apple\", \"banana\", \"cherry\", \"orange\", \"kiwi\", \"melon\", \"mango\"]\n",
    "print(myList[4:7])\n",
    "\n",
    "print(myList[:4])\n",
    "\n",
    "print(myList[5:])\n",
    "\n",
    "print(myList[-4:-1])"
   ]
  },
  {
   "cell_type": "markdown",
   "id": "7851e5a8",
   "metadata": {},
   "source": [
    "Loop through a List"
   ]
  },
  {
   "cell_type": "code",
   "execution_count": null,
   "id": "953e46fa",
   "metadata": {},
   "outputs": [],
   "source": [
    "myList = [\"apple\", \"banana\", \"cherry\", \"orange\", \"kiwi\", \"melon\", \"mango\"]\n",
    "for x in myList:\n",
    "    if x.startswith(\"m\") or x.endswith(\"e\"):\n",
    "        print(\"I hate \"+ x)\n",
    "    else:\n",
    "        print(\"I love \"+x)\n",
    "    "
   ]
  },
  {
   "cell_type": "markdown",
   "id": "168bd56c",
   "metadata": {},
   "source": [
    "Length of List"
   ]
  },
  {
   "cell_type": "code",
   "execution_count": null,
   "id": "1540b619",
   "metadata": {},
   "outputs": [],
   "source": [
    "myList = [\"apple\", \"banana\", \"cherry\", \"orange\", \"kiwi\", \"melon\", \"mango\"]\n",
    "print(len(myList))"
   ]
  },
  {
   "cell_type": "markdown",
   "id": "dca950e2",
   "metadata": {},
   "source": [
    "Adding Items"
   ]
  },
  {
   "cell_type": "code",
   "execution_count": null,
   "id": "eea5f744",
   "metadata": {},
   "outputs": [],
   "source": [
    "#using the append()\n",
    "#Adds an item to the end of the list\n",
    "myList = [\"apple\", \"banana\", \"cherry\", \"orange\", \"kiwi\", \"melon\", \"mango\"]\n",
    "myList.append(\"orange\")\n",
    "print(myList)"
   ]
  },
  {
   "cell_type": "code",
   "execution_count": null,
   "id": "8ea25167",
   "metadata": {},
   "outputs": [],
   "source": [
    "#Insert()\n",
    "#Inserts an item at the specified index\n",
    "myList = [\"apple\", \"banana\", \"cherry\", \"mango\"]\n",
    "myList.insert(2, \"guava\")\n",
    "print(myList)"
   ]
  },
  {
   "cell_type": "markdown",
   "id": "c461a0f9",
   "metadata": {},
   "source": [
    "Removing Items from a list"
   ]
  },
  {
   "cell_type": "code",
   "execution_count": null,
   "id": "290ddc54",
   "metadata": {},
   "outputs": [],
   "source": [
    "#pop()\n",
    "#Removes the specified index (or last item if index is not specified)\n",
    "myList = [\"apple\", \"banana\", \"cherry\", \"mango\"]\n",
    "myList.pop(1)\n",
    "print(myList)"
   ]
  },
  {
   "cell_type": "code",
   "execution_count": null,
   "id": "57a360d2",
   "metadata": {},
   "outputs": [],
   "source": [
    "#remove()\n",
    "#removes the first occurrence of the element with the specified value\n",
    "#syntax: list.remove(elmnt)\n",
    "\n",
    "myList = [\"apple\", \"banana\", \"cherry\", \"mango\"]\n",
    "a = myList.remove(\"cherry\")\n",
    "print(a)\n",
    "print(myList)"
   ]
  },
  {
   "cell_type": "code",
   "execution_count": null,
   "id": "d9d48fb1",
   "metadata": {},
   "outputs": [],
   "source": [
    "#del keyword\n",
    "#Removes the specified index\n",
    "myList = [\"apple\", \"banana\", \"cherry\", \"mango\"]\n",
    "del myList[0]\n",
    "print(myList)\n",
    "\n",
    "#del can also be used to remove a list completely\n",
    "#del myList"
   ]
  },
  {
   "cell_type": "code",
   "execution_count": null,
   "id": "8bb11ad2",
   "metadata": {},
   "outputs": [],
   "source": [
    "#clear()\n",
    "#method empties the list\n",
    "myList = [\"apple\", \"banana\", \"cherry\", \"mango\"]\n",
    "myList.clear()\n",
    "print(myList)"
   ]
  },
  {
   "cell_type": "markdown",
   "id": "7c445be8",
   "metadata": {},
   "source": [
    "Copying a List\n",
    "\n",
    "You cannot copy a list simply by typing list2 = list1, because: list2 will only be a reference to list1, and changes made in list1 will automatically also be made in list2.\n",
    "\n",
    "There are ways to make a copy, one way is to use the built-in List method copy()."
   ]
  },
  {
   "cell_type": "code",
   "execution_count": null,
   "id": "bb28cacb",
   "metadata": {},
   "outputs": [],
   "source": [
    "#copy method\n",
    "myList = [\"apple\", \"banana\", \"cherry\", \"mango\"]\n",
    "newList = myList.copy()\n",
    "print(newList)"
   ]
  },
  {
   "cell_type": "code",
   "execution_count": null,
   "id": "a6273d8d",
   "metadata": {},
   "outputs": [],
   "source": [
    "#list() method\n",
    "myList = [\"apple\", \"banana\", \"cherry\", \"mango\"]\n",
    "newList = list(myList)\n",
    "print(newList)"
   ]
  },
  {
   "cell_type": "markdown",
   "id": "259f9bc1",
   "metadata": {},
   "source": [
    "Joining Two Lists\n"
   ]
  },
  {
   "cell_type": "code",
   "execution_count": null,
   "id": "082f7a1d",
   "metadata": {},
   "outputs": [],
   "source": [
    "list1 = [\"lion\", \"bear\", \"tiger\", \"elephant\"]\n",
    "list2 = [\"hen\", \"duck\", \"goat\"]\n",
    "\n",
    "list3 = list1 + list2\n",
    "print(list3)"
   ]
  },
  {
   "cell_type": "code",
   "execution_count": null,
   "id": "8bf9eae7",
   "metadata": {},
   "outputs": [],
   "source": [
    "#using loop \n",
    "list1 = [\"lion\", \"bear\", \"tiger\", \"elephant\"]\n",
    "list2 = [\"hen\", \"duck\", \"goat\"]\n",
    "\n",
    "for x in list2:\n",
    "    list1.append(x)\n",
    "    \n",
    "print(list1)"
   ]
  },
  {
   "cell_type": "code",
   "execution_count": null,
   "id": "656b6aaa",
   "metadata": {},
   "outputs": [],
   "source": [
    "#List in a list\n",
    "list1 = [\"lion\", \"bear\", \"tiger\", \"elephant\"]\n",
    "list2 = [\"hen\", \"duck\", \"goat\"]\n",
    "\n",
    "list1.append(list2)\n",
    "    \n",
    "print(list1)"
   ]
  },
  {
   "cell_type": "code",
   "execution_count": null,
   "id": "319578aa",
   "metadata": {},
   "outputs": [],
   "source": [
    "#Using the extend() method\n",
    "#using loop \n",
    "list1 = [\"lion\", \"bear\", \"tiger\", \"elephant\"]\n",
    "list2 = [\"hen\", \"duck\", \"goat\"]\n",
    "\n",
    "list1.extend(list2)\n",
    "print(list1)"
   ]
  },
  {
   "cell_type": "markdown",
   "id": "dc022623",
   "metadata": {},
   "source": [
    "#### Other list functions"
   ]
  },
  {
   "cell_type": "code",
   "execution_count": null,
   "id": "051f0cfb",
   "metadata": {},
   "outputs": [],
   "source": [
    "#count()\n",
    "#Returns the number of elements with the specified value\n",
    "#syntax: list.count(value)\n",
    "\n",
    "list1 = [\"lion\", \"bear\", \"tiger\", \"elephant\"]\n",
    "print(list1.count({\"bear\"}))\n"
   ]
  },
  {
   "cell_type": "code",
   "execution_count": null,
   "id": "46f47573",
   "metadata": {},
   "outputs": [],
   "source": [
    "#index()\n",
    "#Returns the position at the first occurrence of the specified value\n",
    "#Syntax: list.index(elmnt)\n",
    "\n",
    "myList = [\"apple\", \"banana\", \"cherry\", \"mango\"]\n",
    "x = myList.index(\"cherry\")\n",
    "print(x)"
   ]
  },
  {
   "cell_type": "code",
   "execution_count": null,
   "id": "1a3fa34a",
   "metadata": {},
   "outputs": [],
   "source": [
    "#reverse()\n",
    "#Reverses the sorting order of the elements\n",
    "#syntax: list.reverse()\n",
    "\n",
    "myList = [\"apple\", \"banana\", \"cherry\", \"mango\"]\n",
    "myList.reverse()\n",
    "print(myList)"
   ]
  },
  {
   "cell_type": "code",
   "execution_count": null,
   "id": "aa8ced1e",
   "metadata": {},
   "outputs": [],
   "source": [
    "#sort\n",
    "#Sorts thte list alphabetically\n",
    "#syntax: list.sort(reverse=True|False, key=myFunc)\n",
    "\n",
    "myList = [\"apple\", \"banana\", \"cherry\", \"mango\"]\n",
    "myList.sort(reverse=True)\n",
    "print(myList)"
   ]
  },
  {
   "cell_type": "markdown",
   "id": "6ebdd388",
   "metadata": {},
   "source": [
    "#### List Comprehension"
   ]
  },
  {
   "cell_type": "markdown",
   "id": "077ef0e4",
   "metadata": {},
   "source": [
    "List comprehension is a concise and efficient way to create lists in Python. It allows you to generate a new list by applying an expression to each item in an existing iterable (such as a list, tuple, or string) and filtering the items based on a condition. List comprehensions are a more readable and compact alternative to traditional for loops for creating lists.\n",
    "\n",
    "The basic syntax of a list comprehension is as follows:\n",
    "\n",
    "new_list = [expression for item in iterable if condition]\n",
    "\n",
    "Here's a breakdown of the components:\n",
    "\n",
    "- expression: This is the expression that gets evaluated for each item in the iterable. The result of this expression is included in the new list.\n",
    "\n",
    "- item: This variable represents each item in the iterable.\n",
    "\n",
    "- iterable: This is the collection (list, tuple, string, etc.) that you are iterating over.\n",
    "\n",
    "- condition (optional): You can include an optional condition that filters the items from the iterable. Only items that satisfy the condition are included in the new list."
   ]
  },
  {
   "cell_type": "code",
   "execution_count": 3,
   "id": "3857b399",
   "metadata": {},
   "outputs": [
    {
     "name": "stdout",
     "output_type": "stream",
     "text": [
      "[0.5, 1.0, 1.5, 2.0, 2.5, 3.0, 3.5, 4.0, 4.5, 5.0]\n"
     ]
    }
   ],
   "source": [
    "# Example\n",
    "\n",
    "numbers = [1, 2, 3, 4, 5, 6, 7, 8, 9, 10]\n",
    "squares = [n/2 for n in numbers]\n",
    "print(squares)"
   ]
  },
  {
   "cell_type": "code",
   "execution_count": 9,
   "id": "4407e1d4",
   "metadata": {},
   "outputs": [
    {
     "name": "stdout",
     "output_type": "stream",
     "text": [
      "['2 is even', '4 is even', '6 is even']\n"
     ]
    }
   ],
   "source": [
    "numbers = [1, 2, 3, 4, 5, 6]\n",
    "even_numbers = [f\"{n} is even\" for n in numbers if not n % 2 == 1]\n",
    "print(even_numbers)"
   ]
  },
  {
   "cell_type": "code",
   "execution_count": null,
   "id": "1ecfef7b",
   "metadata": {},
   "outputs": [],
   "source": [
    "print()"
   ]
  },
  {
   "cell_type": "code",
   "execution_count": null,
   "id": "8aa09dd4",
   "metadata": {},
   "outputs": [],
   "source": []
  },
  {
   "cell_type": "code",
   "execution_count": null,
   "id": "ec682765",
   "metadata": {},
   "outputs": [],
   "source": []
  },
  {
   "cell_type": "markdown",
   "id": "883ffc0e",
   "metadata": {},
   "source": [
    "### Tuple\n",
    "A tuple is a collection which is ordered and unchangeable. In Python tuples are written with round brackets.\n",
    "\n",
    "tuples in Python are practical for situations where immutability, ordered data, or grouping multiple values together is required. They are often used in scenarios where data should remain constant or when you need to return multiple values from a function. Namedtuples, in particular, provide a convenient way to create simple, structured data types."
   ]
  },
  {
   "cell_type": "markdown",
   "id": "47d16e75",
   "metadata": {},
   "source": [
    "Creating a Tuple"
   ]
  },
  {
   "cell_type": "code",
   "execution_count": null,
   "id": "ec42b6d6",
   "metadata": {},
   "outputs": [],
   "source": [
    "myTuple = (\"apple\", \"banana\", \"orange\", \"pawpaw\")"
   ]
  },
  {
   "cell_type": "code",
   "execution_count": null,
   "id": "84d090d8",
   "metadata": {},
   "outputs": [],
   "source": []
  },
  {
   "cell_type": "markdown",
   "id": "0f77e0d8",
   "metadata": {},
   "source": [
    "# 5. FILE HANDLING \n",
    "File handling is an important part of any web application.\n",
    "\n",
    "Python has several functions for creating, reading, updating, and deleting files.\n",
    "\n",
    "The key function for working with files in Python is the open() function.\n",
    "\n",
    "The open() function takes two parameters; filename, and mode.\n",
    "\n",
    "There are four different methods (modes) for opening a file:\n",
    "\n",
    "- \"r\" - Read - Default value. Opens a file for reading, error if the file does not exist\n",
    "\n",
    "- \"a\" - Append - Opens a file for appending, creates the file if it does not exist\n",
    "\n",
    "- \"w\" - Write - Opens a file for writing, creates the file if it does not exist\n",
    "\n",
    "- \"x\" - Create - Creates the specified file, returns an error if the file exists\n",
    "\n",
    "- \"r+\" - opens a file for both reading and writing.\n",
    "\n",
    "In addition you can specify if the file should be handled as binary or text mode\n",
    "\n",
    "- \"t\" - Text - Default value. Text mode\n",
    "\n",
    "- \"b\" - Binary - Binary mode (e.g. images)"
   ]
  },
  {
   "cell_type": "markdown",
   "id": "b557e7a9",
   "metadata": {},
   "source": [
    "##### Opening a file\n",
    "You have to specify the file path. \n",
    "\n",
    "Remember to escape the \\ character."
   ]
  },
  {
   "cell_type": "code",
   "execution_count": null,
   "id": "0e86d04c",
   "metadata": {},
   "outputs": [],
   "source": [
    "#Example\n",
    "f = open(\"C:\\\\Users\\DANIEL C E\\\\Desktop\\\\My Python Work\\\\New Add\\\\words.txt\")\n",
    "\n",
    "# the code is the same as\n",
    "# f = open(\"C:\\\\Users\\DANIEL C E\\\\Desktop\\\\My Python Work\\\\New Add\\\\words.txt\", \"rt\")\n",
    "\n"
   ]
  },
  {
   "cell_type": "markdown",
   "id": "75685fb3",
   "metadata": {},
   "source": [
    "The open() function returns a file object, which has a read() method for reading the content of the file:"
   ]
  },
  {
   "cell_type": "code",
   "execution_count": null,
   "id": "ede13bd3",
   "metadata": {},
   "outputs": [],
   "source": [
    "f = open(\"C:\\\\Users\\DANIEL C E\\\\Desktop\\\\My Python Work\\\\New Add\\\\words.txt\", \"r\")\n",
    "re = f.read()\n",
    "print(re)\n",
    "\n"
   ]
  },
  {
   "cell_type": "markdown",
   "id": "82da4dd6",
   "metadata": {},
   "source": [
    "##### Read Only Parts of the File\n",
    "By default the read() method returns the whole text, but you can also specify how many characters you want to return:"
   ]
  },
  {
   "cell_type": "code",
   "execution_count": null,
   "id": "00ada0e8",
   "metadata": {},
   "outputs": [],
   "source": [
    "f = open(\"C:\\\\Users\\DANIEL C E\\\\Desktop\\\\My Python Work\\\\New Add\\\\words.txt\", \"r\")\n",
    "re = f.read(20)\n",
    "print(re)\n"
   ]
  },
  {
   "cell_type": "markdown",
   "id": "7ea318db",
   "metadata": {},
   "source": [
    "##### Read Lines\n",
    "You can return one line by using the readline() method:"
   ]
  },
  {
   "cell_type": "code",
   "execution_count": null,
   "id": "8a474019",
   "metadata": {},
   "outputs": [],
   "source": [
    "f = open(\"C:\\\\Users\\DANIEL C E\\\\Desktop\\\\My Python Work\\\\New Add\\\\words.txt\", \"r\")\n",
    "re = f.readline()\n",
    "print(re)"
   ]
  },
  {
   "cell_type": "code",
   "execution_count": null,
   "id": "0ce2b890",
   "metadata": {},
   "outputs": [],
   "source": [
    "## Reading more lines\n",
    "f = open(\"C:\\\\Users\\DANIEL C E\\\\Desktop\\\\My Python Work\\\\New Add\\\\words.txt\", \"r\")\n",
    "print(f.readline())\n",
    "print(f.readline())\n",
    "print(f.readline())\n",
    "\n"
   ]
  },
  {
   "cell_type": "code",
   "execution_count": 12,
   "id": "4698040c",
   "metadata": {},
   "outputs": [
    {
     "name": "stdout",
     "output_type": "stream",
     "text": [
      "['Writing programs or programming is a very creative\\n', 'and rewarding activity  You can write programs for\\n', 'many reasons ranging from making your living to solving\\n']\n"
     ]
    }
   ],
   "source": [
    "## Reading more lines\n",
    "f = open(\"C:\\\\Users\\DANIEL C E\\\\Desktop\\\\My Python Work\\\\New Add\\\\words.txt\", \"r\")\n",
    "print(f.readlines()[:3])\n",
    "\n",
    "\n"
   ]
  },
  {
   "cell_type": "markdown",
   "id": "aa792feb",
   "metadata": {},
   "source": [
    "##### Looping through the lines of the file\n",
    "you can read the whole file line by line\n"
   ]
  },
  {
   "cell_type": "code",
   "execution_count": null,
   "id": "93c1db5c",
   "metadata": {
    "scrolled": true
   },
   "outputs": [],
   "source": [
    "f = open(\"C:\\\\Users\\\\DANIEL C E\\\\Desktop\\\\My Python Work\\\\New Add\\\\words.txt\", \"r\")\n",
    "for lines in f:\n",
    "    print(lines)"
   ]
  },
  {
   "cell_type": "markdown",
   "id": "0df6492d",
   "metadata": {},
   "source": [
    "##### Counting the number of Line"
   ]
  },
  {
   "cell_type": "code",
   "execution_count": null,
   "id": "6cef9fcc",
   "metadata": {},
   "outputs": [],
   "source": [
    "f = open(\"C:\\\\Users\\\\DANIEL C E\\\\Desktop\\\\My Python Work\\\\New Add\\\\words.txt\", \"r\")\n",
    "count = 0\n",
    "for lines in f:\n",
    "    count += 1\n",
    "print(f\"Total number of lines is {count}\")"
   ]
  },
  {
   "cell_type": "code",
   "execution_count": null,
   "id": "d8a1c113",
   "metadata": {},
   "outputs": [],
   "source": [
    "f_handle = open(\"C:\\\\Users\\\\DANIEL C E\\\\Documents\\KAD ICT HUB\\\\PYTHON\\\\\\mbox-short.txt\")\n",
    "liner = f_handle.read()\n",
    "print(liner)"
   ]
  },
  {
   "cell_type": "code",
   "execution_count": null,
   "id": "97936302",
   "metadata": {},
   "outputs": [],
   "source": [
    "f_handle = open(\"C:\\\\Users\\\\DANIEL C E\\\\Documents\\KAD ICT HUB\\\\PYTHON\\\\\\mbox-short.txt\")\n",
    "liner = f_handle.read()\n",
    "print(len(liner))\n",
    "\n",
    "print(liner[:30])"
   ]
  },
  {
   "cell_type": "markdown",
   "id": "82017f3c",
   "metadata": {},
   "source": [
    "##### Searching through a file"
   ]
  },
  {
   "cell_type": "code",
   "execution_count": null,
   "id": "d3d13ceb",
   "metadata": {},
   "outputs": [],
   "source": [
    "# Searching for specific text\n",
    "f_handle = open(\"C:\\\\Users\\\\DANIEL C E\\\\Documents\\KAD ICT HUB\\\\PYTHON\\\\\\mbox-short.txt\")\n",
    "count = 0\n",
    "for liner in f_handle:\n",
    "    if liner.startswith(\"From: \"):\n",
    "        count += 1\n",
    "        #print(liner)\n",
    "print(f\"Total senders: {count}\")"
   ]
  },
  {
   "cell_type": "code",
   "execution_count": null,
   "id": "938a6d9d",
   "metadata": {},
   "outputs": [],
   "source": [
    "f_handle = open(\"C:\\\\Users\\\\DANIEL C E\\\\Documents\\KAD ICT HUB\\\\PYTHON\\\\mbox-short.txt\")\n",
    "for liner in f_handle:\n",
    "    stripp = liner.rstrip()\n",
    "    if stripp.find('@uct.ac.za') == -1:\n",
    "        continue\n",
    "    print(stripp)"
   ]
  },
  {
   "cell_type": "markdown",
   "id": "775572cc",
   "metadata": {},
   "source": [
    "##### Letting the user choose the file name "
   ]
  },
  {
   "cell_type": "code",
   "execution_count": null,
   "id": "91cc9bf4",
   "metadata": {},
   "outputs": [],
   "source": [
    "fll = input(\"Enter the file name: \")\n",
    "dirr = \"C:\\\\Users\\\\DANIEL C E\\\\Documents\\KAD ICT HUB\\\\PYTHON\\\\\"\n",
    "fname = dirr+fll\n",
    "f_handle = open(fname)\n",
    "count = 0 \n",
    "for liner in f_handle:\n",
    "    if liner.startswith(\"Subject:\"):\n",
    "        count += 1\n",
    "print(f\"There are {count} subject lines in {fll}\")"
   ]
  },
  {
   "cell_type": "markdown",
   "id": "ac52f6bf",
   "metadata": {},
   "source": [
    "##### Using try, except, and open"
   ]
  },
  {
   "cell_type": "code",
   "execution_count": null,
   "id": "70ba207f",
   "metadata": {},
   "outputs": [],
   "source": [
    "fll = input(\"Enter the file name: \")\n",
    "dirr = \"C:\\\\Users\\\\DANIEL C E\\\\Documents\\KAD ICT HUB\\\\PYTHON\\\\\"\n",
    "fname = dirr+fll\n",
    "\n",
    "try: \n",
    "    f_handle = open(fname)\n",
    "    count = 0 \n",
    "    for liner in f_handle:\n",
    "        if liner.startswith(\"Subject:\"):\n",
    "            count += 1\n",
    "    print(f\"There are {count} subject lines in {fll}\")\n",
    "    \n",
    "except:\n",
    "    print(f\"File cannot be opened: {fll}\")\n",
    "    exit()\n",
    "    \n"
   ]
  },
  {
   "cell_type": "code",
   "execution_count": null,
   "id": "3838f5b9",
   "metadata": {},
   "outputs": [],
   "source": [
    "# Syntax:\n",
    "\n",
    "try: \n",
    "    block of code\n",
    "except:\n",
    "    execute when error happens\n",
    "else:\n",
    "    execute when there is no error\n",
    "finally:\n",
    "    always execute\n",
    "    \n",
    "    \n",
    "raise exception --> User defined exceptions"
   ]
  },
  {
   "cell_type": "code",
   "execution_count": 4,
   "id": "cd1c1fcc",
   "metadata": {},
   "outputs": [
    {
     "name": "stdout",
     "output_type": "stream",
     "text": [
      "3\n",
      "22\n",
      "Invalid Number\n",
      "101\n",
      "Execution completed!\n"
     ]
    }
   ],
   "source": [
    "# Examples\n",
    "def addNumbers(num1, num2):\n",
    "    try:\n",
    "        return (num1 + num2)\n",
    "    except TypeError:\n",
    "        return (\"Invalid Number\")\n",
    "    except NameError:\n",
    "        return (\"Invalid Parameter\")\n",
    "    except Exception as e:\n",
    "        return (e)\n",
    "    \n",
    "print(addNumbers(1,2))\n",
    "print(addNumbers(5,17))\n",
    "print(addNumbers(7,\"a\"))\n",
    "print(addNumbers(99,2))\n",
    "print(\"Execution completed!\")"
   ]
  },
  {
   "cell_type": "code",
   "execution_count": 10,
   "id": "eb72ea74",
   "metadata": {},
   "outputs": [
    {
     "name": "stdout",
     "output_type": "stream",
     "text": [
      "3\n",
      "22\n",
      "unsupported operand type(s) for +: 'int' and 'str'\n",
      "101\n",
      "Execution completed!\n"
     ]
    }
   ],
   "source": [
    "def addNumbers(num1, num2):\n",
    "    try:\n",
    "        if (isinstance(num1,int) or isinstance(num1,float) and isinstance(num2,int) or isinstance(num2,float)):\n",
    "            return (num1 + num2)\n",
    "        else:\n",
    "            raise Exception (\"Only int and float values are allowed\")\n",
    "    except Exception as e:\n",
    "        return e\n",
    " \n",
    "                                                                 \n",
    "print(addNumbers(1,2))\n",
    "print(addNumbers(5,17))\n",
    "print(addNumbers(7,\"a\"))\n",
    "print(addNumbers(99,2))\n",
    "print(\"Execution completed!\")                                                                "
   ]
  },
  {
   "cell_type": "markdown",
   "id": "bb6de18b",
   "metadata": {},
   "source": [
    "##### Closing Files\n",
    "It is a good practice to always close the file when you are done with it.\n",
    "\n",
    "Note: You should always close your files, in some cases, due to buffering, changes made to a file may not show until you close the file."
   ]
  },
  {
   "cell_type": "code",
   "execution_count": null,
   "id": "1866a7e6",
   "metadata": {},
   "outputs": [],
   "source": [
    "f_handle = open(\"C:\\\\Users\\\\DANIEL C E\\\\Documents\\KAD ICT HUB\\\\PYTHON\\\\mbox-short.txt\")\n",
    "print(f_handle.readline())\n",
    "f_handle.close()"
   ]
  },
  {
   "cell_type": "markdown",
   "id": "e7a994a7",
   "metadata": {},
   "source": [
    "##### Write to an Existing File\n",
    "To write to an existing file, you must add a parameter to the open() function:\n",
    "- \"a\" - Append - will append to the end of the file\n",
    "- \"w\" - Write - will overwrite any existing content"
   ]
  },
  {
   "cell_type": "code",
   "execution_count": null,
   "id": "da5cd25b",
   "metadata": {},
   "outputs": [],
   "source": [
    "f = open(\"C:\\\\Users\\\\DANIEL C E\\\\Desktop\\\\My Python Work\\\\New Add\\\\words.txt\", \"r\")\n",
    "print(f.read())\n",
    "f.close()"
   ]
  },
  {
   "cell_type": "code",
   "execution_count": null,
   "id": "25e7de78",
   "metadata": {},
   "outputs": [],
   "source": [
    "f = open(\"C:\\\\Users\\\\DANIEL C E\\\\Desktop\\\\My Python Work\\\\New Add\\\\words.txt\", \"a\")\n",
    "f.write(\" \\n I am adding this new line\")\n",
    "f.close()"
   ]
  },
  {
   "cell_type": "code",
   "execution_count": null,
   "id": "18d1c733",
   "metadata": {},
   "outputs": [],
   "source": [
    "# Overwriting the content\n",
    "f = open(\"C:\\\\Users\\\\DANIEL C E\\\\Desktop\\\\My Python Work\\\\New Add\\\\words.txt\", \"w\")\n",
    "f.write(\"The content is deleted!\")\n",
    "f.close()"
   ]
  },
  {
   "cell_type": "markdown",
   "id": "cda0b9da",
   "metadata": {},
   "source": [
    "##### Creating a New File\n",
    "To create a new file in Python, use the open() method, with one of the following parameters:\n",
    "\n",
    "- \"x\" - Create - will create a file, returns an error if the file exist\n",
    "\n",
    "- \"a\" - Append - will create a file if the specified file does not exist\n",
    "\n",
    "- \"w\" - Write - will create a file if the specified file does not exist"
   ]
  },
  {
   "cell_type": "code",
   "execution_count": null,
   "id": "27799f34",
   "metadata": {},
   "outputs": [],
   "source": [
    "f = open(\"C:\\\\Users\\\\DANIEL C E\\\\Desktop\\\\My Python Work\\\\New Add\\\\words.txt\", \"x\")"
   ]
  },
  {
   "cell_type": "markdown",
   "id": "a38a1439",
   "metadata": {},
   "source": [
    "##### Deleting a File\n",
    "To delete a file, you must import the OS module, and run its os.remove() function:"
   ]
  },
  {
   "cell_type": "code",
   "execution_count": null,
   "id": "03309c17",
   "metadata": {},
   "outputs": [],
   "source": [
    "import os\n",
    "os.remove(\"Directory+fileName.txt\")"
   ]
  },
  {
   "cell_type": "code",
   "execution_count": null,
   "id": "a959f101",
   "metadata": {},
   "outputs": [],
   "source": [
    "# To avoid getting an error\n",
    "# Checking if file exists, then delete it\n",
    "import os\n",
    "if os.path.exists(\"Directory+fileName.txt\"):\n",
    "    os.remove(\"Directory+fileName.txt\")\n",
    "else:\n",
    "    print(\"The file does not exist\")"
   ]
  },
  {
   "cell_type": "code",
   "execution_count": null,
   "id": "b3f21629",
   "metadata": {},
   "outputs": [],
   "source": [
    "# Deleting a folder\n",
    "# You can only remove empty folders\n",
    "import os\n",
    "os.rmdir(\"Directory\")"
   ]
  },
  {
   "cell_type": "code",
   "execution_count": null,
   "id": "bae3cab0",
   "metadata": {},
   "outputs": [],
   "source": []
  },
  {
   "cell_type": "markdown",
   "id": "f3f0bf61",
   "metadata": {},
   "source": [
    "# 6.0 DATE \n",
    "A date in Python is not a data type of its own, but we can import a module named datetime to work with dates as date objects."
   ]
  },
  {
   "cell_type": "markdown",
   "id": "3d3ece7d",
   "metadata": {},
   "source": [
    "Importing the datetime and displaying the current date:"
   ]
  },
  {
   "cell_type": "code",
   "execution_count": 14,
   "id": "6e8ff2f6",
   "metadata": {},
   "outputs": [
    {
     "name": "stdout",
     "output_type": "stream",
     "text": [
      "2023-10-06 16:40:16.684734\n"
     ]
    }
   ],
   "source": [
    "import datetime as dt\n",
    "\n",
    "x = dt.datetime.now()\n",
    "print(x)"
   ]
  },
  {
   "cell_type": "code",
   "execution_count": null,
   "id": "0ebb1f9e",
   "metadata": {},
   "outputs": [],
   "source": [
    "import datetime as dt\n",
    "\n",
    "x = dt.datetime.now()\n",
    "print(x)\n",
    "\n",
    "print(x.weekday())\n",
    "print(x.strftime(\"%A\"))\n",
    "print(x.year)"
   ]
  },
  {
   "cell_type": "markdown",
   "id": "5a4adfb8",
   "metadata": {},
   "source": [
    "#### Creating Date Objects\n",
    "To create a date, we can use the datetime() class (constructor) of the datetime module.\n",
    "\n",
    "The datetime() class requires three parameters to create a date: year, month, day."
   ]
  },
  {
   "cell_type": "code",
   "execution_count": null,
   "id": "a4e23afd",
   "metadata": {},
   "outputs": [],
   "source": [
    "import datetime as dt\n",
    "\n",
    "x = dt.datetime(2023, 5, 19)\n",
    "y = dt.datetime(2023, 5, 12, 12,50,28)\n",
    "\n",
    "print(x)\n",
    "print(y)"
   ]
  },
  {
   "cell_type": "markdown",
   "id": "0ad7794d",
   "metadata": {},
   "source": [
    "##### The strftime() Method\n",
    "The datetime object has a method for formatting date objects into readable strings.\n",
    "\n",
    "The method is called strftime(), and takes one parameter, format, to specify the format of the returned string:"
   ]
  },
  {
   "cell_type": "code",
   "execution_count": null,
   "id": "ffbf926d",
   "metadata": {},
   "outputs": [],
   "source": [
    "import datetime as dt\n",
    "x = dt.datetime.now()\n",
    "\n",
    "print(x)\n",
    "print(x.strftime(\"%B\")) # Month full\n",
    "print(x.strftime(\"%b\")) # Month short\n",
    "print(x.strftime(\"%A\")) # Weekday full\n",
    "print(x.strftime(\"%a\")) # Weekday short\n",
    "print(x.strftime(\"%d\")) # Day of the month\n",
    "print(x.strftime(\"%m\")) # Month as a number"
   ]
  },
  {
   "cell_type": "code",
   "execution_count": null,
   "id": "ad209656",
   "metadata": {},
   "outputs": [],
   "source": [
    "import datetime as dt\n",
    "x = dt.datetime.now()\n",
    "\n",
    "print(x, '\\n')\n",
    "print(x.strftime(\"%y\")) # Year short\n",
    "print(x.strftime(\"%Y\")) # Year Full\n",
    "print(x.strftime(\"%H\")) # Hour 24-format\n",
    "print(x.strftime(\"%I\")) # Hour 12-format\n",
    "print(x.strftime(\"%p\")) # AM/PM\n",
    "print(x.strftime(\"%M\")) # Minute"
   ]
  },
  {
   "cell_type": "code",
   "execution_count": null,
   "id": "333ba559",
   "metadata": {},
   "outputs": [],
   "source": [
    "import datetime as dt\n",
    "x = dt.datetime.now()\n",
    "\n",
    "print(x, '\\n')\n",
    "print(x.strftime(\"%S\")) # Second\n",
    "print(x.strftime(\"%f\")) # Microsecond\n",
    "print(x.strftime(\"%c\")) # Local version of date and time\n",
    "print(x.strftime(\"%x\")) # local version of date\n",
    "print(x.strftime(\"%X\")) # local version of time\n",
    "print(x.strftime(\"%j\")) # Day number of year\n",
    "print(x.strftime(\"%U\")) # Week number of year"
   ]
  },
  {
   "cell_type": "code",
   "execution_count": null,
   "id": "02982a57",
   "metadata": {},
   "outputs": [],
   "source": []
  },
  {
   "cell_type": "markdown",
   "id": "bd68fc68",
   "metadata": {},
   "source": [
    "# 8.0 REGULAR EXPRESSION\n",
    "A RegEx, or Regular Expression, is a sequence of characters that forms a search pattern.\n",
    "\n",
    "RegEx can be used to check if a string contains the specified search pattern.\n",
    "\n",
    "##### RegEx Module\n",
    "Python has a built-in package called re, which can be used to work with Regular Expressions.\n",
    "\n",
    "Import the re module:"
   ]
  },
  {
   "cell_type": "code",
   "execution_count": 38,
   "id": "241c8d16",
   "metadata": {},
   "outputs": [
    {
     "name": "stdout",
     "output_type": "stream",
     "text": [
      "We are surrounded in our daily lives with computers ranging\n",
      "from laptops to cell phones  We can think of these computers\n",
      "on our behalf  The hardware in our current-day computers\n",
      "Our computers are fast and have vasts amounts of memory and\n",
      "Interestingly, the kinds of things computers can do best\n",
      "\n",
      " We are surrounded in our daily lives with computers ranging from laptops to cell phones  We can think of these computers on our behalf  The hardware in our current-day computers Our computers are fast and have vasts amounts of memory and Interestingly, the kinds of things computers can do best \n"
     ]
    }
   ],
   "source": [
    "\n",
    "\n",
    "import re\n",
    "\n",
    "f_handle = open(\"C:\\\\Users\\\\DANIEL C E\\\\Desktop\\\\My Python Work\\\\New Add\\\\words.txt\", \"r\")\n",
    "#x = f_handle.read()\n",
    "#print(x)\n",
    "\n",
    "stringer = \"\"\n",
    "for line in f_handle:\n",
    "    line = line.rstrip()\n",
    "    if re.search(\"computers\", line):\n",
    "        stringer = stringer + line + \" \"\n",
    "        print(line)\n",
    "\n",
    "print(\"\\n\",stringer)"
   ]
  },
  {
   "cell_type": "code",
   "execution_count": 30,
   "id": "52fd2ba7",
   "metadata": {},
   "outputs": [
    {
     "name": "stdout",
     "output_type": "stream",
     "text": [
      "We are surrounded in our daily lives with computers ranging from laptops to cell phones  We can think of these computers on our behalf  The hardware in our current-day computers Our computers are fast and have vasts amounts of memory and Interestingly, the kinds of things computers can do best \n",
      "['a', 'a', 'c', 'a', 'a', 'c', 'c', 'a', 'c', 'b', 'a', 'a', 'a', 'c', 'a', 'c', 'c', 'a', 'a', 'a', 'a', 'a', 'a', 'a', 'c', 'c', 'a', 'b']\n",
      "28\n"
     ]
    }
   ],
   "source": [
    "# []\n",
    "# Returns a list of a set of a characters enlisted\n",
    "\n",
    "print(stringer)\n",
    "x = re.findall(\"[a-c]\",stringer)\n",
    "print(x)\n",
    "print(len(x))"
   ]
  },
  {
   "cell_type": "code",
   "execution_count": 36,
   "id": "50c2ad3a",
   "metadata": {},
   "outputs": [
    {
     "name": "stdout",
     "output_type": "stream",
     "text": [
      "['5', '9']\n"
     ]
    }
   ],
   "source": [
    "# \\d Finding all digit characters:\n",
    "# Returns a list of all integers\n",
    "\n",
    "txt = \"That will be 59 dollars\"\n",
    "x = re.findall(\"\\d\", txt)\n",
    "print(x)"
   ]
  },
  {
   "cell_type": "code",
   "execution_count": 41,
   "id": "d9e19c41",
   "metadata": {},
   "outputs": [
    {
     "name": "stdout",
     "output_type": "stream",
     "text": [
      "We are surrounded in our daily lives with computers ranging from laptops to cell phones  We can think of these computers on our behalf  The hardware in our current-day computers Our computers are fast and have vasts amounts of memory and Interestingly, the kinds of things computers can do best \n",
      "['We']\n"
     ]
    }
   ],
   "source": [
    "# ^ Starts with\n",
    "# Checking if the string starts with the specified word\n",
    "\n",
    "print(stringer)\n",
    "x = re.findall(\"^We\",stringer)\n",
    "print(x)"
   ]
  },
  {
   "cell_type": "code",
   "execution_count": 42,
   "id": "e0179ab7",
   "metadata": {},
   "outputs": [
    {
     "name": "stdout",
     "output_type": "stream",
     "text": [
      "We are surrounded in our daily lives with computers ranging from laptops to cell phones  We can think of these computers on our behalf  The hardware in our current-day computers Our computers are fast and have vasts amounts of memory and Interestingly, the kinds of things computers can do best \n",
      "['fast', 'vast']\n"
     ]
    }
   ],
   "source": [
    "# .\n",
    "# Searches for a sequence that start with any character and\n",
    "# has \"ast\"\n",
    "\n",
    "print(stringer)\n",
    "x = re.findall(\".ast\",stringer)\n",
    "print(x)"
   ]
  },
  {
   "cell_type": "code",
   "execution_count": null,
   "id": "01bbcd67",
   "metadata": {},
   "outputs": [],
   "source": []
  },
  {
   "cell_type": "code",
   "execution_count": null,
   "id": "4b61a2a2",
   "metadata": {},
   "outputs": [],
   "source": []
  },
  {
   "cell_type": "code",
   "execution_count": null,
   "id": "400a9c5f",
   "metadata": {},
   "outputs": [],
   "source": []
  },
  {
   "cell_type": "code",
   "execution_count": null,
   "id": "2b0dc43e",
   "metadata": {},
   "outputs": [],
   "source": []
  },
  {
   "cell_type": "code",
   "execution_count": null,
   "id": "c13b092a",
   "metadata": {},
   "outputs": [],
   "source": []
  },
  {
   "cell_type": "markdown",
   "id": "9cce846c",
   "metadata": {},
   "source": [
    "# 7.0 CLASSES AND OBJECTS "
   ]
  },
  {
   "cell_type": "code",
   "execution_count": null,
   "id": "8da0d44a",
   "metadata": {},
   "outputs": [],
   "source": []
  },
  {
   "cell_type": "code",
   "execution_count": null,
   "id": "014a949e",
   "metadata": {},
   "outputs": [],
   "source": []
  },
  {
   "cell_type": "code",
   "execution_count": null,
   "id": "34f93290",
   "metadata": {},
   "outputs": [],
   "source": []
  },
  {
   "cell_type": "code",
   "execution_count": null,
   "id": "d34fd8d3",
   "metadata": {},
   "outputs": [],
   "source": []
  },
  {
   "cell_type": "code",
   "execution_count": null,
   "id": "e9de199e",
   "metadata": {},
   "outputs": [],
   "source": []
  },
  {
   "cell_type": "code",
   "execution_count": null,
   "id": "fa3bf7ba",
   "metadata": {},
   "outputs": [],
   "source": []
  },
  {
   "cell_type": "code",
   "execution_count": null,
   "id": "e3e176df",
   "metadata": {},
   "outputs": [],
   "source": []
  },
  {
   "cell_type": "code",
   "execution_count": null,
   "id": "33ef596d",
   "metadata": {},
   "outputs": [],
   "source": []
  },
  {
   "cell_type": "code",
   "execution_count": null,
   "id": "705ff1e3",
   "metadata": {},
   "outputs": [],
   "source": []
  },
  {
   "cell_type": "code",
   "execution_count": null,
   "id": "38713298",
   "metadata": {},
   "outputs": [],
   "source": []
  },
  {
   "cell_type": "code",
   "execution_count": null,
   "id": "a3642e5b",
   "metadata": {},
   "outputs": [],
   "source": []
  }
 ],
 "metadata": {
  "kernelspec": {
   "display_name": "Python 3 (ipykernel)",
   "language": "python",
   "name": "python3"
  },
  "language_info": {
   "codemirror_mode": {
    "name": "ipython",
    "version": 3
   },
   "file_extension": ".py",
   "mimetype": "text/x-python",
   "name": "python",
   "nbconvert_exporter": "python",
   "pygments_lexer": "ipython3",
   "version": "3.9.13"
  }
 },
 "nbformat": 4,
 "nbformat_minor": 5
}
