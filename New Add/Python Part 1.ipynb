{
 "cells": [
  {
   "cell_type": "markdown",
   "metadata": {},
   "source": [
    "# KAD ICT HUB\n",
    "### INTRODUCTION TO PROGRAMMING"
   ]
  },
  {
   "cell_type": "markdown",
   "metadata": {},
   "source": [
    "## MODULE I: PROGRAMMING IN PYTHON\n",
    "\n",
    "### 1.1 A COMPUTER WITHOUT SOFTWARE IS A DUMB MACHINE\n",
    "A computer, which is understood to be an incredibly fast digital machine, is actually dumb when it is not loaded with any software. The question that would likely pop up in your mind is: what is this software that without it a computer becomes dumb? \n",
    "\n",
    "A software (also called a computer program or simply, program) is a set of instructions that the computer follows in a step-wise manner to perform any task. Computer programs range in complexity from simple programs like a calculator program that is used for basic arithmetic computations to very much complex computer programs like Stuxnet: the most sophisticated piece of software ever written as mentioned by John Byrd, CEO, Gigantic Software (https://www.quora.com/What-is-the-most-sophisticated-piece-of-software-code-ever-written/answer/John-Byrd-2).\n",
    "\n",
    "Computer programs make computers what they are and the art of writing computer programs is referred to as programming. One that performs the art of writing computer programs is also referred to as a computer programmer. I hope that at the end of this course you will derive comfort in being a computer programmer. \n",
    "\n",
    "### 1.2 OVERVIEW OF COMPUTER PROGRAMMING\n",
    "Computers understands only 0s and 1s. In the 1950s computers were programmed using binary codes which are refered to as machine language. An early improvement was the assembler, which enables computer programs to be written in assembly language. The assembler translates more intuitive command names such as Move, Add and Jump into the corresponding binary code and programmers find constructs such as “Add r0, r1, r2” to be more easily understood and rendered without\n",
    "error than 0110101110101101.\n",
    "\n",
    "Programming in assembly language was still difficult because it requires much training to become an assembly programmer and it also requires much time to write an assembly language program. There was also need to write programs that could run on different machines. This led to the first practical programming language, FORTRAN. The important thing about FORTRAN was that the compiler could turn lines of FORTRAN into assembly code that was as good, or better, than what assembly programmers could write. This gave rise to a dicothomy which regards assembly language as low-level language and those that abstract assembly language programming as high level languages e.g FORTRAN, COBOL, BASIC, C, C++ (an improved \"object oriented\" version of C), Java, Python etc. \n",
    "\n",
    "### 1.3 PROGRAMMING IN PYTHON\n",
    "Python is a general-purpose programming language that blends procedural, functional, and object-oriented paradigms—a statement that captures the richness and scope of today’s Python. Python is an interpreted programming language, whcih means that Python programs can be written and run on the fly. Unlike other high-level languages that have to be compiled before they can be run, the Python interpreter reads a Python program and carried out the instruction it contains. So to program in Python, the first requirement is to install a Python interpreter which comes bundled in Python Integrated Development Environment (IDE) such as Thonny, PyCharm, Netbeans, Eclipse, Anaconda etc (for a detailed instruction on how to setup Python, refer to Appendix A, page 1421-1436 of Learning Python, Fifth Edition by Mark Lutz). Lecture notes for this course will be in the from of a Python notebook (xx.ipynb) which can be launched by Jupyter notebook that comes bundled with Anaconda IDE. Python also has two release branches: Python 2.x and Python 3.x. In this course we will be using Python 3.7, but any version of Python 3.x branch should work as well.\n",
    "\n",
    "#### References (for further reading)\n",
    "1. Overview of programming languages: http://web.cs.iastate.edu/~cs104/notes/histlanguage.html\n",
    "2. A History of Computer Programming Languages: https://www.onlinecollegeplan.com/computer-programming-languages/\n",
    "3. The History of Programming Languages Infographic: https://www.veracode.com/blog/2013/04/the-history-of-programming-languages-infographic\n",
    "4. Mark Lutz. 2013. Learning Python (5 ed.). O'Reilly & Associates, Inc., Sebastopol, CA, USA.\n",
    "5. Introduction to Python: http://www.cs.utexas.edu/~mitra/bytes/python_intro.html \n",
    "\n"
   ]
  },
  {
   "cell_type": "markdown",
   "metadata": {},
   "source": [
    "### 1.3.1 How to run Python programs\n",
    "There are two ways to run Python programs: you can either write Python codes directly in the interactive command terminal (also called Shell) or run an already written Python code from a .py file. With Jupyter notebook you can have enjoy both features of the interactive shell and editor. Because you can have your program interpreted as you code and you can also save it continue later on. This makes Jupyter notebook a good resource for teaching and learning Python programming.\n",
    "\n",
    "To begin, click on the following code cell to make it active. Then press Shift+Enter to run the content of the cell. You will see the output of the interpreter (i.e the result of your code) appear just below the cell."
   ]
  },
  {
   "cell_type": "code",
   "execution_count": null,
   "metadata": {},
   "outputs": [],
   "source": [
    "########################### This is a comment and it will be ignored by the interpreter ###########################\n",
    "#Any line that begins with # symbol is ignored by the interpreter. \n",
    "#It is a good programming practice to comment out your code. So that you can visit it after a very long time to improve on it\n",
    "\n",
    "print(\"Welcome to Programming in Python on this day of 27 October\")"
   ]
  },
  {
   "cell_type": "code",
   "execution_count": null,
   "metadata": {},
   "outputs": [],
   "source": [
    "########## Have a feel of having the interpreter return an output for your own code ##########\n",
    "########## Type in a code similar to the one above and run it! ##########\n",
    "\n",
    "#Put your code here..\n",
    "print(\"This is my first python class\")"
   ]
  },
  {
   "cell_type": "markdown",
   "metadata": {},
   "source": [
    "## 2.1 PYTHON OBJECT TYPES AND OPERATIONS\n",
    "A computer is a digital machine that accepts **data**, process it according to some set of instructions, and output some sort of information. From this definition of a computer we can conclude that everything that occurs in a computer surrounds **data**. Likewise in Python we do things with **data**. That is why it is very important to have an overview of Python data types and the operations that are performed on them to translate them into information. In general, Python programs can be decomposed into the folowing heirarchy:\n",
    "1. Programs are composed of modules.\n",
    "2. Modules contain statements.\n",
    "3. Statements contain expressions.\n",
    "4. Expressions create and process objects\n",
    "\n",
    "In this course we shall take it from bottom to top. \n",
    "\n",
    "## 2.2 PYTHON CORE OBJECT TYPES\n",
    "Python is an object-oriented language, which means that you can create your own objects by leveraging Python core object types i.e built-in object types. The following is a list of the Python core object types:\n",
    "1. Numbers \n",
    "2. Strings\n",
    "3. Lists\n",
    "4. Dictionaries\n",
    "5. Tuples\n",
    "6. Files\n",
    "7. Sets\n",
    "8. Others: Boolean, None and many more.\n",
    "\n"
   ]
  },
  {
   "cell_type": "markdown",
   "metadata": {},
   "source": [
    "## 2.2.1 Numbers\n",
    "Python data types that are used to indicate a numeric quantity are grouped together as numbers. They include integers that have no fractional part, floating-point numbers that do, and more exotic types sich as complex numbers with imaginary parts, decimals with fixed precision, rationals with numerator and denominator, and full-featured sets. At this point in this course we will concentrate on two of the numeric data types (integers and floating-point numbers) and operations that are used to manipulate them.\n",
    "\n",
    "**Integers** are positive and negative whole numbers that have no fractional part and can have as many precision as memory space allows. Example integers are: ***1234*, *-256*, *0*, *999999999999999999999999999999***\n",
    "\n",
    "**Floating-point numbers** (also referred to as float) are those with decimal point and/or an optional signed exponent introduced by an **e** or **E** and followed by an optional sign. Example floats are: ***1.23*, *-3.*, *10e-3*, *4E210***\n",
    "\n",
    "***Hexadecimal, Octal and Binary***\n",
    "Integers may be coded in decimal (base 10), hexadecimal (base 16), octal (base 8), or binary (base 2), the last three of which are common in some programming domains. Hexadecimals start with a leading 0x or 0X, followed by a string of hexadecimal digits (0–9 and A–F). Hex digits may be coded in lower- or uppercase. Octal literals start with a leading 0o, followed by a string of digits (0–7). Binary literals begin with a leading 0b or 0B, followed by binary digits (0–1). \n",
    "\n",
    "Note that all of these literals produce integer objects in program code; they are just alternative syntaxes for specifying values. The built-in calls hex(I), oct(I), and bin(I) convert an integer to its representation string in these three bases, and int(str, base) converts a runtime string to an integer per a given base.\n",
    "\n",
    "**Complex numbers** In Python complex numbers are written as **realpart + imaginarypart**, where the imaginarypart is terminated with a j or J. The realpart is technically optional, so the imaginarypart may appear on its own. Internally, complex numbers are implemented as pairs of floating-point numbers, but all numeric operations perform\n",
    "complex math when applied to complex numbers. Complex numbers may also be created with the complex(real, imag) built-in call."
   ]
  },
  {
   "cell_type": "markdown",
   "metadata": {},
   "source": [
    "## Numeric Operations\n",
    "The numeric data types we have seen so far can be manipulated using numeric operations such as:\n",
    "- Addition (+)\n",
    "- Subtraction (-)\n",
    "- Multiplication (*)\n",
    "- Division (/)\n",
    "- Floor Division (//)\n",
    "- Power (**)\n",
    "- Modulo (%) etc.\n",
    "\n",
    "Lets see these operations in action. "
   ]
  },
  {
   "cell_type": "markdown",
   "metadata": {},
   "source": [
    "## Addition"
   ]
  },
  {
   "cell_type": "code",
   "execution_count": null,
   "metadata": {},
   "outputs": [],
   "source": [
    "#Integer addition\n",
    "2+2"
   ]
  },
  {
   "cell_type": "markdown",
   "metadata": {},
   "source": [
    "## "
   ]
  },
  {
   "cell_type": "code",
   "execution_count": null,
   "metadata": {},
   "outputs": [],
   "source": [
    "#Floating-point addition\n",
    "3e1 + 4.9"
   ]
  },
  {
   "cell_type": "code",
   "execution_count": null,
   "metadata": {},
   "outputs": [],
   "source": [
    "#Complex-number addition\n",
    "(4+2j) + (3+1j)"
   ]
  },
  {
   "cell_type": "code",
   "execution_count": null,
   "metadata": {},
   "outputs": [],
   "source": [
    "#Addition with Hexadecimal Integer\n",
    "0x4f + 0x56"
   ]
  },
  {
   "cell_type": "code",
   "execution_count": null,
   "metadata": {},
   "outputs": [],
   "source": [
    "#Addition with Octal Integer\n",
    "0o401 + 0o051"
   ]
  },
  {
   "cell_type": "code",
   "execution_count": null,
   "metadata": {},
   "outputs": [],
   "source": [
    "#Addition with Binary Integer\n",
    "0b010010 + 0b110010"
   ]
  },
  {
   "cell_type": "markdown",
   "metadata": {},
   "source": [
    "## Subtraction"
   ]
  },
  {
   "cell_type": "code",
   "execution_count": null,
   "metadata": {},
   "outputs": [],
   "source": [
    "#Integer subtraction\n",
    "800 - 9"
   ]
  },
  {
   "cell_type": "code",
   "execution_count": null,
   "metadata": {},
   "outputs": [],
   "source": [
    "#Subtraction with Hexadecimal Integer\n",
    "0x78f - 0x5a4"
   ]
  },
  {
   "cell_type": "code",
   "execution_count": null,
   "metadata": {},
   "outputs": [],
   "source": [
    "#Subtraction with Octal Integer\n",
    "0o412 + 0o300"
   ]
  },
  {
   "cell_type": "code",
   "execution_count": null,
   "metadata": {},
   "outputs": [],
   "source": [
    "#Subtraction with Binary Integer\n",
    "0b011100 - 0b100010"
   ]
  },
  {
   "cell_type": "code",
   "execution_count": null,
   "metadata": {},
   "outputs": [],
   "source": [
    "#Floating-point subtraction\n",
    "4.98e2 - 3009.23409"
   ]
  },
  {
   "cell_type": "code",
   "execution_count": null,
   "metadata": {},
   "outputs": [],
   "source": [
    "#Complex-number subtraction\n",
    "(100+90j) - (12+87j)"
   ]
  },
  {
   "cell_type": "markdown",
   "metadata": {},
   "source": [
    "## Multiplication"
   ]
  },
  {
   "cell_type": "code",
   "execution_count": null,
   "metadata": {},
   "outputs": [],
   "source": [
    "#Integer multiplication\n",
    "400 * 56"
   ]
  },
  {
   "cell_type": "code",
   "execution_count": null,
   "metadata": {},
   "outputs": [],
   "source": [
    "#Multiplication with Hexadecimal Integer\n",
    "0x4f * 0x56"
   ]
  },
  {
   "cell_type": "code",
   "execution_count": null,
   "metadata": {},
   "outputs": [],
   "source": [
    "#Multiplication with Octal Integer\n",
    "0o406 * 0o056"
   ]
  },
  {
   "cell_type": "code",
   "execution_count": null,
   "metadata": {},
   "outputs": [],
   "source": [
    "#Multiplication with Binary Integer\n",
    "0b010010 * 0b110010"
   ]
  },
  {
   "cell_type": "code",
   "execution_count": null,
   "metadata": {},
   "outputs": [],
   "source": [
    "#Floating-point multiplication\n",
    "23.98E3 * 13.23409e2"
   ]
  },
  {
   "cell_type": "code",
   "execution_count": null,
   "metadata": {},
   "outputs": [],
   "source": [
    "#Complex-number multiplication\n",
    "(100+90j) * (12+87j)"
   ]
  },
  {
   "cell_type": "markdown",
   "metadata": {},
   "source": [
    "## Division"
   ]
  },
  {
   "cell_type": "code",
   "execution_count": null,
   "metadata": {},
   "outputs": [],
   "source": [
    "#Integer Division\n",
    "345 / 67"
   ]
  },
  {
   "cell_type": "code",
   "execution_count": null,
   "metadata": {},
   "outputs": [],
   "source": [
    "#Division with Hexadecimal Integer\n",
    "0x4f / 0x56"
   ]
  },
  {
   "cell_type": "code",
   "execution_count": null,
   "metadata": {},
   "outputs": [],
   "source": [
    "#Division with Octal Integer\n",
    "0o406 / 0o056"
   ]
  },
  {
   "cell_type": "code",
   "execution_count": null,
   "metadata": {},
   "outputs": [],
   "source": [
    "#Division with Binary Integer\n",
    "0b010010 / 0b110010"
   ]
  },
  {
   "cell_type": "code",
   "execution_count": null,
   "metadata": {},
   "outputs": [],
   "source": [
    "#Division with floating point numbers\n",
    "3.998 / 4.008"
   ]
  },
  {
   "cell_type": "code",
   "execution_count": null,
   "metadata": {},
   "outputs": [],
   "source": [
    "#Division with complex numbers\n",
    "(45+34j) / (2+3j)"
   ]
  },
  {
   "cell_type": "code",
   "execution_count": null,
   "metadata": {},
   "outputs": [],
   "source": []
  },
  {
   "cell_type": "markdown",
   "metadata": {},
   "source": [
    "## Floor Division"
   ]
  },
  {
   "cell_type": "code",
   "execution_count": null,
   "metadata": {},
   "outputs": [],
   "source": [
    "#Integer floor division \n",
    "89 // 6"
   ]
  },
  {
   "cell_type": "code",
   "execution_count": null,
   "metadata": {},
   "outputs": [],
   "source": [
    "#Floating-point floor division\n",
    "45.90 // 7.0"
   ]
  },
  {
   "cell_type": "code",
   "execution_count": null,
   "metadata": {},
   "outputs": [],
   "source": [
    "#Complex-number floor division\n",
    "# !!!\n",
    "(9+4j) // (23+7j)"
   ]
  },
  {
   "cell_type": "markdown",
   "metadata": {},
   "source": [
    "## Modulo Division"
   ]
  },
  {
   "cell_type": "code",
   "execution_count": null,
   "metadata": {},
   "outputs": [],
   "source": [
    "#Integer modulo division\n",
    "34 % 6"
   ]
  },
  {
   "cell_type": "code",
   "execution_count": null,
   "metadata": {},
   "outputs": [],
   "source": [
    "#Floating-point modulo division\n",
    "312.34 % 67.4"
   ]
  },
  {
   "cell_type": "code",
   "execution_count": null,
   "metadata": {},
   "outputs": [],
   "source": [
    "#Complex number modulo division\n",
    "# !!!\n",
    "(22+4j) % (21+3j)"
   ]
  },
  {
   "cell_type": "markdown",
   "metadata": {},
   "source": [
    "## Power (exponentiation)"
   ]
  },
  {
   "cell_type": "code",
   "execution_count": null,
   "metadata": {},
   "outputs": [],
   "source": [
    "#Integer exponentiation\n",
    "3 ** 65"
   ]
  },
  {
   "cell_type": "code",
   "execution_count": null,
   "metadata": {},
   "outputs": [],
   "source": [
    "#Floating-point exponentiation\n",
    "312.34 ** 67.4"
   ]
  },
  {
   "cell_type": "code",
   "execution_count": null,
   "metadata": {},
   "outputs": [],
   "source": [
    "#Complex number exponentiation\n",
    "(3+45j) ** (2+9j)"
   ]
  },
  {
   "cell_type": "markdown",
   "metadata": {},
   "source": [
    "## Variables\n",
    "Generally, in programming, variables are placeholders for data. A Python variable can contain any of the above listed object types. In addition:\n",
    "- Python variables are created when they are first assigned values.\n",
    "- Python variables are replaced with their values when used in expressions.\n",
    "- Python variables must be assigned before they can be used in expressions.\n",
    "- Python variables refer to objects and are never declared ahead of time."
   ]
  },
  {
   "cell_type": "code",
   "execution_count": null,
   "metadata": {},
   "outputs": [],
   "source": [
    "a = 2.45\n",
    "b = 3\n",
    "c = 3+1j\n",
    "\n",
    "type(b)"
   ]
  },
  {
   "cell_type": "markdown",
   "metadata": {},
   "source": [
    "In the code cell above, we have declared three variables. We can check the type of data type that is stored in each of the variables."
   ]
  },
  {
   "cell_type": "code",
   "execution_count": null,
   "metadata": {},
   "outputs": [],
   "source": [
    "type(c)\n",
    "print(a)"
   ]
  },
  {
   "cell_type": "code",
   "execution_count": null,
   "metadata": {},
   "outputs": [],
   "source": [
    "type(b)"
   ]
  },
  {
   "cell_type": "code",
   "execution_count": null,
   "metadata": {},
   "outputs": [],
   "source": [
    "type(c)"
   ]
  },
  {
   "cell_type": "markdown",
   "metadata": {},
   "source": [
    "We can also change from one variable type to the other. This is known as **type casting**"
   ]
  },
  {
   "cell_type": "code",
   "execution_count": null,
   "metadata": {},
   "outputs": [],
   "source": [
    "int(a)"
   ]
  },
  {
   "cell_type": "code",
   "execution_count": null,
   "metadata": {},
   "outputs": [],
   "source": [
    "a = 3\n",
    "print(\"Originally, 'a' is: \", a)\n",
    "\n",
    "print(\"After type casting 'a' from float to int, it is now: \", int(a))\n",
    "type(\"After type casting 'a' from float to\" a)"
   ]
  },
  {
   "cell_type": "code",
   "execution_count": null,
   "metadata": {},
   "outputs": [],
   "source": [
    "print(\"Originally, 'b' is: \", b)\n",
    "\n",
    "print(\"After type casting 'b' from int to float, it is now: \", float(b))"
   ]
  },
  {
   "cell_type": "markdown",
   "metadata": {},
   "source": [
    "#### Try on your own\n",
    "Type cast a complex variable to int and float "
   ]
  },
  {
   "cell_type": "code",
   "execution_count": null,
   "metadata": {},
   "outputs": [],
   "source": [
    "type(int(a))"
   ]
  },
  {
   "cell_type": "code",
   "execution_count": null,
   "metadata": {},
   "outputs": [],
   "source": [
    "a = 1.5\n",
    "b = int(a)\n",
    "c = float(b)\n",
    "\n",
    "print(a)\n",
    "print(b)\n",
    "print(c)"
   ]
  },
  {
   "cell_type": "markdown",
   "metadata": {},
   "source": [
    "## Number Bases"
   ]
  },
  {
   "cell_type": "markdown",
   "metadata": {},
   "source": [
    "As mentioned earlier, an integer can be converted from one base to another."
   ]
  },
  {
   "cell_type": "code",
   "execution_count": null,
   "metadata": {},
   "outputs": [],
   "source": [
    "#Let us convert from base 10 to base 16 i.e decimal to hexadecimal\n",
    "a = 234\n",
    "print(\"type of variable 'a' is: \", type(a))\n"
   ]
  },
  {
   "cell_type": "code",
   "execution_count": null,
   "metadata": {},
   "outputs": [],
   "source": [
    "a = 234\n",
    "hex_a = hex(a)\n",
    "\n",
    "print(\"when converted to hexadecimal (base 16), variable 'a' becomes: \", hex_a)"
   ]
  },
  {
   "cell_type": "code",
   "execution_count": null,
   "metadata": {},
   "outputs": [],
   "source": [
    "oct_a = oct(a)\n",
    "\n",
    "print(\"when converted to octal (base 8), variable 'a' becomes: \", oct_a)"
   ]
  },
  {
   "cell_type": "code",
   "execution_count": null,
   "metadata": {},
   "outputs": [],
   "source": [
    "bin_a = bin(a)\n",
    "\n",
    "print(\"when converted to binary, variable 'a' becomes: \", bin_a)"
   ]
  },
  {
   "cell_type": "markdown",
   "metadata": {},
   "source": [
    "## Mixed Types are Converted Up\n",
    "When different mumeric data types are mixed in a single expression, Python converts the simpler ones to the most complex type before evaluating the expression. **Integers are simpler than Floating-point numbers which are also simpler than Complex numbers.**"
   ]
  },
  {
   "cell_type": "code",
   "execution_count": null,
   "metadata": {},
   "outputs": [],
   "source": [
    "#For example\n",
    "3.04 + 5"
   ]
  },
  {
   "cell_type": "markdown",
   "metadata": {},
   "source": [
    "In the example above, the interger, 5, is first converted to a float before the operation is performed"
   ]
  },
  {
   "cell_type": "code",
   "execution_count": null,
   "metadata": {},
   "outputs": [],
   "source": [
    "#Another example\n",
    "\n",
    "(4.09 + 3j) + 4.1"
   ]
  },
  {
   "cell_type": "markdown",
   "metadata": {},
   "source": [
    "Likewise in this case, Python converts the float to a complex before performing the operation."
   ]
  },
  {
   "cell_type": "markdown",
   "metadata": {},
   "source": [
    "## Order of Numeric Operations \n",
    "When an expression contains more than one type of numeric operator, the expression is evaluated based on **operator precedence**. According to the operator precedence rules the following applies (based on the operators we have seen so far):\n",
    "\n",
    "1. x ** y\n",
    "2. -x, +x\n",
    "3. x / y, x // y\n",
    "4. x % y\n",
    "5. x * y\n",
    "6. x - y\n",
    "7. x + y\n",
    "\n",
    "The operator with the highest precedence (among those we have discussed so far) is the exponentiation operator and the one with the least precedence is the addition operator. Operators on the same level (e.g / and //) generally group from left to right when combined (except for exponentiation, which groups right to left).\n"
   ]
  },
  {
   "cell_type": "code",
   "execution_count": null,
   "metadata": {},
   "outputs": [],
   "source": [
    "#Example\n",
    "2.03 * 8 + 9 ** 3"
   ]
  },
  {
   "cell_type": "markdown",
   "metadata": {},
   "source": [
    "In the example above, Python will first perform the exponentiation, so that we have: **2.03 * 8 + 729**\n",
    "\n",
    "Then it performs the multiplication operation, so that we have: **16.24 + 729**, then finally it performs the addition operation to get **745.24**"
   ]
  },
  {
   "cell_type": "code",
   "execution_count": null,
   "metadata": {},
   "outputs": [],
   "source": [
    "#Operators on the same level\n",
    "46 / 2 // 4"
   ]
  },
  {
   "cell_type": "markdown",
   "metadata": {},
   "source": [
    "In the example above, since both operators are on the same level Python will evaluate them from left to right. Starting with the division, then floor division."
   ]
  },
  {
   "cell_type": "code",
   "execution_count": null,
   "metadata": {},
   "outputs": [],
   "source": [
    "#Exponentiation group from right to left\n",
    "2 ** 4 ** 3"
   ]
  },
  {
   "cell_type": "markdown",
   "metadata": {},
   "source": [
    "As opposed to other operators that group from left to right, the exponentiation operator groups from right to left. So in the expression above, Python evaluates (4 ** 3) to get 64. The expression now becoomes: 2 ** 64, which results to **18446744073709551616** when evaluated"
   ]
  },
  {
   "cell_type": "markdown",
   "metadata": {},
   "source": [
    "### Parentheses overide operator precedence\n",
    "In any expression, those enclosed in parentheses are evaluated first. \n"
   ]
  },
  {
   "cell_type": "code",
   "execution_count": null,
   "metadata": {},
   "outputs": [],
   "source": [
    "(2 ** 4) ** 3"
   ]
  },
  {
   "cell_type": "markdown",
   "metadata": {},
   "source": [
    "By enclosing expressions in parentheses, Python is forced to evaluate them first before using their result in evaluating the remaining expression. \n"
   ]
  },
  {
   "cell_type": "markdown",
   "metadata": {},
   "source": [
    "## Further Reading\n",
    "So far we have been able to cover a few aspects of numeric data types. For a more detailed discussion about Python numeric data types, check out **Chapter 5 of Learning Python by Mark Lutz**. Also read on **Python Dynamic Typing Interlude in Chapter 6 of the same book.**"
   ]
  },
  {
   "attachments": {
    "image.png": {
     "image/png": "[encoded data removed]"
    }
   },
   "cell_type": "markdown",
   "metadata": {},
   "source": [
    "## 2.2.2 Strings\n",
    "A character is a group of bits that represents a natural language symbol such as alphabets, numbers or symbols (!@#$%^&) etc. In this course we shall be focusing on ASCII (American Standard Code for Information Interchange) characters which are those that you see on standard keyboards. \n",
    "![image.png](attachment:image.png)\n",
    "A Python string is a sequence of one or more characters.\n",
    "Python strings are represented as characters enclosed within double or single quotation marks, as below\n"
   ]
  },
  {
   "cell_type": "code",
   "execution_count": null,
   "metadata": {},
   "outputs": [],
   "source": [
    "#Python strings \n",
    "\n",
    "s = \"string\""
   ]
  },
  {
   "cell_type": "code",
   "execution_count": null,
   "metadata": {},
   "outputs": [],
   "source": [
    "print(type(s))"
   ]
  },
  {
   "cell_type": "markdown",
   "metadata": {},
   "source": [
    "### Double and Single Quotes can be used interchangeably"
   ]
  },
  {
   "cell_type": "code",
   "execution_count": null,
   "metadata": {},
   "outputs": [],
   "source": [
    "s = \"Python's nature\"\n",
    "print(s)"
   ]
  },
  {
   "cell_type": "code",
   "execution_count": null,
   "metadata": {},
   "outputs": [],
   "source": [
    "s = 'Python\"s nature'\n",
    "print(s)"
   ]
  },
  {
   "cell_type": "code",
   "execution_count": null,
   "metadata": {},
   "outputs": [],
   "source": [
    "a = 'manger\\'s desk\\n' 'python'\n",
    "print(a)"
   ]
  },
  {
   "cell_type": "markdown",
   "metadata": {},
   "source": [
    "### Escape Sequences Represent Special Characters"
   ]
  },
  {
   "cell_type": "markdown",
   "metadata": {},
   "source": [
    "Special characters are embedded in strings by preceding them with a backslash \\. The combination of a backslash and the character that follows it is called an **Escape Sequence** \n",
    "\n",
    "The following figure shows some of the common escape sequences. "
   ]
  },
  {
   "attachments": {
    "image.png": {
     "image/png": "[encoded data removed]"
    }
   },
   "cell_type": "markdown",
   "metadata": {},
   "source": [
    "![image.png](attachment:image.png) "
   ]
  },
  {
   "cell_type": "code",
   "execution_count": null,
   "metadata": {},
   "outputs": [],
   "source": [
    "s=\"This is an example that shows the use of escape sequences in strings.\\n\\tThis is a horizontal tab.\" \n",
    "print(s)"
   ]
  },
  {
   "cell_type": "markdown",
   "metadata": {},
   "source": [
    "## String Operations\n"
   ]
  },
  {
   "cell_type": "markdown",
   "metadata": {},
   "source": [
    "### Length of a String\n",
    "To find out the length of a string i.e the number of characters contained in the string, we call the **len** function which is an inbuilt string function"
   ]
  },
  {
   "cell_type": "code",
   "execution_count": null,
   "metadata": {},
   "outputs": [],
   "source": [
    "s = \"KAD ICT HUB\"\n",
    "len(s)\n",
    "s.upper()"
   ]
  },
  {
   "cell_type": "code",
   "execution_count": null,
   "metadata": {},
   "outputs": [],
   "source": [
    "s.upper()"
   ]
  },
  {
   "cell_type": "markdown",
   "metadata": {},
   "source": [
    "### Concatenation\n",
    "Concatenation is the process of joining two strings together using the **+** operator."
   ]
  },
  {
   "cell_type": "code",
   "execution_count": null,
   "metadata": {},
   "outputs": [],
   "source": [
    "\"KAD\"+\"ICT\"+\"HUB\""
   ]
  },
  {
   "cell_type": "markdown",
   "metadata": {},
   "source": [
    "You may wonder that the **+** operator  is used for addition. Yes! you are right, but it is also used for concatenating strings. \n",
    "\n",
    "When the two operands are number types, the **+** operator performs addition and when the two operands are strings, the **+** operator performs concatenation. This phenomenom is referred to as **operator overloading**.\n",
    "\n",
    "Read more about **operator overloading**"
   ]
  },
  {
   "cell_type": "markdown",
   "metadata": {},
   "source": [
    "### Repitition\n",
    "Just as we overloaded the addition operator (**+**) to perfrom concatenation, we can also overload it to perform repitition."
   ]
  },
  {
   "cell_type": "code",
   "execution_count": null,
   "metadata": {},
   "outputs": [],
   "source": [
    "\"ha!\" * 30"
   ]
  },
  {
   "cell_type": "code",
   "execution_count": null,
   "metadata": {},
   "outputs": [],
   "source": [
    "s=\"This is a usage example of repitition \\n\" + \"-\" * 50 + \"\\nCan you see the output?\"\n",
    "print(s)"
   ]
  },
  {
   "cell_type": "markdown",
   "metadata": {},
   "source": [
    "### Indexing and Slicing\n",
    "As mentioned earlier, strings are a sequence of characters and as with all sequence-like data types each character can be accessed using an **index** or a group of characters can be accessed by **splicing** \n",
    "\n",
    "The first element of a sequence in Python corresponds to index **0** and it counts upward until the length of the sequence less one."
   ]
  },
  {
   "cell_type": "code",
   "execution_count": 1,
   "metadata": {},
   "outputs": [
    {
     "data": {
      "text/plain": [
       "('s', 't', 'r', 'i', 'n', 'g')"
      ]
     },
     "execution_count": 1,
     "metadata": {},
     "output_type": "execute_result"
    }
   ],
   "source": [
    "s=\"string\"\n",
    "\n",
    "# The first character has index 0 and the counting goes upward..\n",
    "\n",
    "s[0], s[1], s[2], s[3], s[4], s[5]\n"
   ]
  },
  {
   "cell_type": "code",
   "execution_count": 2,
   "metadata": {},
   "outputs": [
    {
     "name": "stdout",
     "output_type": "stream",
     "text": [
      "r\n"
     ]
    }
   ],
   "source": [
    "s=\"string\"\n",
    "print(s[2])"
   ]
  },
  {
   "cell_type": "code",
   "execution_count": null,
   "metadata": {},
   "outputs": [],
   "source": [
    "s=\"string\""
   ]
  },
  {
   "cell_type": "markdown",
   "metadata": {},
   "source": [
    "Negative sequences can also be specified.\n",
    "When ne gative sequences are specified, they are automatically treated as *len_of_sequence - specified_index* "
   ]
  },
  {
   "cell_type": "code",
   "execution_count": null,
   "metadata": {},
   "outputs": [],
   "source": [
    "# Negative indexing\n",
    "\n",
    "s = \"string\"\n",
    "print(\"length of s is \", len(s))\n",
    "s[-1], s[-2], s[-3], s[-4], s[-5], s[-6]"
   ]
  },
  {
   "cell_type": "code",
   "execution_count": null,
   "metadata": {},
   "outputs": [],
   "source": [
    "s[-3]"
   ]
  },
  {
   "cell_type": "code",
   "execution_count": null,
   "metadata": {},
   "outputs": [],
   "source": [
    "# Here we show that negative indices are interpreted as len(s) - specified_index\n",
    "s[6-1], s[6-2], s[6-3], s[6-4], s[6-5], s[6-6]"
   ]
  },
  {
   "cell_type": "markdown",
   "metadata": {},
   "source": [
    "### Slicing\n",
    "Just as we slice bread to get a portion of it, we can also slice sequence-like objects to get a portion of it. \n",
    "To splice a string, we specify the **start** and **end** indices seperated by a **colon**. \n"
   ]
  },
  {
   "cell_type": "code",
   "execution_count": 4,
   "metadata": {},
   "outputs": [
    {
     "data": {
      "text/plain": [
       "'ring'"
      ]
     },
     "execution_count": 4,
     "metadata": {},
     "output_type": "execute_result"
    }
   ],
   "source": [
    "s = \"string\"\n",
    "s[2:6]"
   ]
  },
  {
   "cell_type": "code",
   "execution_count": null,
   "metadata": {},
   "outputs": [],
   "source": [
    "s = 'kad ict hub'\n",
    "c = s[1:10:2]\n",
    "print(c)\n",
    "print(len(c))"
   ]
  },
  {
   "cell_type": "code",
   "execution_count": 3,
   "metadata": {},
   "outputs": [
    {
     "name": "stdout",
     "output_type": "stream",
     "text": [
      "kdn n\n"
     ]
    }
   ],
   "source": [
    "s = 'kaduna information communication technology centre'\n",
    "print(s[0:10:2])"
   ]
  },
  {
   "cell_type": "code",
   "execution_count": null,
   "metadata": {},
   "outputs": [],
   "source": [
    "y=\"KAD ICT HUB\"\n",
    "y=y[7:12]\n",
    "print(y)"
   ]
  },
  {
   "cell_type": "code",
   "execution_count": null,
   "metadata": {},
   "outputs": [],
   "source": [
    "s[7:]"
   ]
  },
  {
   "cell_type": "code",
   "execution_count": null,
   "metadata": {},
   "outputs": [],
   "source": [
    "s[:-10]"
   ]
  },
  {
   "cell_type": "markdown",
   "metadata": {},
   "source": [
    "**Note:** Whenever you slice a string (or any sequence-like object), the upperbound is not included.\n",
    "s[2:4] will pick the item at index 2 and 3 only, that is why it returns \"ri\". \n",
    "\n",
    "Positive and negative indices can also be specified."
   ]
  },
  {
   "cell_type": "code",
   "execution_count": null,
   "metadata": {},
   "outputs": [],
   "source": [
    "s = \"string\"\n",
    "s[-4:-1]"
   ]
  },
  {
   "cell_type": "markdown",
   "metadata": {},
   "source": [
    "When lowerbound or upperbound is not specified, it defaults to the 0"
   ]
  },
  {
   "cell_type": "code",
   "execution_count": null,
   "metadata": {},
   "outputs": [],
   "source": [
    "s = \"string\"\n",
    "s[:5]"
   ]
  },
  {
   "cell_type": "code",
   "execution_count": null,
   "metadata": {},
   "outputs": [],
   "source": [
    "s = \"string\"\n",
    "s[2:]"
   ]
  },
  {
   "cell_type": "markdown",
   "metadata": {},
   "source": [
    "What happens when both of them are not specified?"
   ]
  },
  {
   "cell_type": "code",
   "execution_count": null,
   "metadata": {},
   "outputs": [],
   "source": [
    "s = \"string\"\n",
    "s[:]"
   ]
  },
  {
   "cell_type": "markdown",
   "metadata": {},
   "source": [
    "When both of them are not specified, the slicing begins from the beginning till the end of the string."
   ]
  },
  {
   "cell_type": "markdown",
   "metadata": {},
   "source": [
    "***When three indices are specified, seperated by colons, the splicing is done in windows***\n",
    "\n",
    "It is also possible to slice a string from a start index to an en index, but this time arroud in ***batches***.\n",
    "\n",
    "For example, s[i:j:k] means extract all characters from i through j-1, in steps of +k"
   ]
  },
  {
   "cell_type": "code",
   "execution_count": null,
   "metadata": {},
   "outputs": [],
   "source": [
    "s=\"KAD ICT HUB\"\n",
    "s[-7:-4]"
   ]
  },
  {
   "cell_type": "code",
   "execution_count": null,
   "metadata": {},
   "outputs": [],
   "source": [
    "s[22]"
   ]
  },
  {
   "cell_type": "markdown",
   "metadata": {},
   "source": [
    "In the example above, we want to extract characters in \"KAD ICT HUB\", but this time arround when we begin at index 0, the next index will be 2, the next will be 4 and so on until the end. At the end we expect to get a string of characters at the following indices: 0, 2, 4, 6, 8, 10, 12, 14, 16, 18, 20 and 22.\n",
    "\n",
    "What if the step size is negative? Like say ***s[::-1]***"
   ]
  },
  {
   "cell_type": "markdown",
   "metadata": {},
   "source": [
    "### Typecasting to Strings\n",
    "\n",
    "Just as we saw typecasting earlier when we were discussing about numeric data types, we can also typecast numeric data types to strings and vice versa."
   ]
  },
  {
   "cell_type": "code",
   "execution_count": 5,
   "metadata": {},
   "outputs": [
    {
     "ename": "TypeError",
     "evalue": "int() argument must be a string, a bytes-like object or a number, not 'method'",
     "output_type": "error",
     "traceback": [
      "\u001b[1;31m---------------------------------------------------------------------------\u001b[0m",
      "\u001b[1;31mTypeError\u001b[0m                                 Traceback (most recent call last)",
      "Cell \u001b[1;32mIn [5], line 1\u001b[0m\n\u001b[1;32m----> 1\u001b[0m num1 \u001b[38;5;241m=\u001b[39m \u001b[38;5;28;43mint\u001b[39;49m\u001b[43m(\u001b[49m\u001b[38;5;28;43minput\u001b[39;49m\u001b[43m)\u001b[49m\n\u001b[0;32m      2\u001b[0m num2 \u001b[38;5;241m=\u001b[39m \u001b[38;5;28mint\u001b[39m(\u001b[38;5;28minput\u001b[39m(\u001b[38;5;124m\"\u001b[39m\u001b[38;5;124mPlease enter another number: \u001b[39m\u001b[38;5;124m\"\u001b[39m))\n\u001b[0;32m      3\u001b[0m \u001b[38;5;28mprint\u001b[39m(num1\u001b[38;5;241m+\u001b[39mnum2)\n",
      "\u001b[1;31mTypeError\u001b[0m: int() argument must be a string, a bytes-like object or a number, not 'method'"
     ]
    }
   ],
   "source": [
    "num1 = int(input)\n",
    "num2 = int(input(\"Please enter another number: \"))\n",
    "print(num1+num2)"
   ]
  },
  {
   "cell_type": "code",
   "execution_count": 6,
   "metadata": {},
   "outputs": [
    {
     "name": "stdout",
     "output_type": "stream",
     "text": [
      "Enter your first name: FDAH\n",
      "Enter your last name: DHA\n",
      "Your name is FDAH DHA\n"
     ]
    }
   ],
   "source": [
    "first_name = input('Enter your first name: ')\n",
    "second_name = input('Enter your last name: ')\n",
    "z = first_name + ' ' + second_name\n",
    "print(f'Your name is {z}')"
   ]
  },
  {
   "cell_type": "code",
   "execution_count": null,
   "metadata": {},
   "outputs": [],
   "source": [
    "a = 42\n",
    "print(\"The type of variable in 'a' is: \", type(a))"
   ]
  },
  {
   "cell_type": "code",
   "execution_count": null,
   "metadata": {},
   "outputs": [],
   "source": [
    "s=\"KAD\"\n",
    "type(s)"
   ]
  },
  {
   "cell_type": "code",
   "execution_count": null,
   "metadata": {},
   "outputs": [],
   "source": []
  },
  {
   "cell_type": "code",
   "execution_count": null,
   "metadata": {},
   "outputs": [],
   "source": [
    "#We can typecast it to string using str(1)\n",
    "str(a)"
   ]
  },
  {
   "cell_type": "code",
   "execution_count": null,
   "metadata": {},
   "outputs": [],
   "source": [
    "print(\"After type casting it to string, it becomes: \", type(str(a)))"
   ]
  },
  {
   "cell_type": "markdown",
   "metadata": {},
   "source": [
    "Similarly, strings can be casted to numeric data types such as int, using **int(s)**"
   ]
  },
  {
   "cell_type": "code",
   "execution_count": null,
   "metadata": {},
   "outputs": [],
   "source": [
    "a = \"9.89\"\n",
    "type(a)"
   ]
  },
  {
   "cell_type": "code",
   "execution_count": null,
   "metadata": {},
   "outputs": [],
   "source": [
    "float(a)"
   ]
  },
  {
   "cell_type": "markdown",
   "metadata": {},
   "source": [
    "### Conversion from ASCII Integer Code to Character\n",
    "There are functions that allows conversion from integer code of a character to actual character and vice versa. **ord('character_string')** allows conversion of characters to their corresponding integer code while **chr(int)** allows conversion from integer code to the corresponding character."
   ]
  },
  {
   "cell_type": "code",
   "execution_count": null,
   "metadata": {},
   "outputs": [],
   "source": [
    "ord(']')"
   ]
  },
  {
   "cell_type": "code",
   "execution_count": 7,
   "metadata": {},
   "outputs": [
    {
     "data": {
      "text/plain": [
       "'c'"
      ]
     },
     "execution_count": 7,
     "metadata": {},
     "output_type": "execute_result"
    }
   ],
   "source": [
    "chr(99)"
   ]
  },
  {
   "cell_type": "markdown",
   "metadata": {},
   "source": [
    "### Immutability of Strings\n",
    "Sequences can be mutable or immutable. By mutable, we mean they can be changed in place and by being immutable we mean otherwise. Strings are immutable sequences because we cannot change them in place"
   ]
  },
  {
   "cell_type": "code",
   "execution_count": null,
   "metadata": {},
   "outputs": [],
   "source": [
    "s = \"Python\"\n",
    "s[0] = 'C'"
   ]
  },
  {
   "cell_type": "markdown",
   "metadata": {},
   "source": [
    "### String methods"
   ]
  },
  {
   "cell_type": "code",
   "execution_count": null,
   "metadata": {},
   "outputs": [],
   "source": [
    "s = 'string'\n",
    "print(s.capitalize())"
   ]
  },
  {
   "cell_type": "code",
   "execution_count": null,
   "metadata": {},
   "outputs": [],
   "source": [
    "s = \"string\"\n",
    "print(s[0])\n",
    "print(s.find('s'))"
   ]
  },
  {
   "cell_type": "code",
   "execution_count": null,
   "metadata": {},
   "outputs": [],
   "source": [
    "line = ' here we go '\n",
    "print(line.strip().upper())"
   ]
  },
  {
   "cell_type": "code",
   "execution_count": null,
   "metadata": {},
   "outputs": [],
   "source": [
    "linex = 'have a Nice Day'\n",
    "print(linex.lower().startswith('Have'))"
   ]
  },
  {
   "cell_type": "code",
   "execution_count": null,
   "metadata": {},
   "outputs": [],
   "source": [
    "s = 'Python*Programming*Language'\n",
    "d = '*'\n",
    "print(s.split(d))"
   ]
  },
  {
   "cell_type": "code",
   "execution_count": 1,
   "metadata": {},
   "outputs": [
    {
     "name": "stdout",
     "output_type": "stream",
     "text": [
      "Python*Programming*Language\n"
     ]
    }
   ],
   "source": [
    "s = ['Python', 'Programming', 'Language']\n",
    "d = '*'\n",
    "print(d.join(s))"
   ]
  },
  {
   "cell_type": "markdown",
   "metadata": {},
   "source": [
    "### Also check on\n",
    "Read about the use of the following String methods (let S be a string):\n",
    "1. S.find()\n",
    "2. S.replace()\n",
    "3. S.capitalize() \n",
    "4. S.ljust(width [, fill])\n",
    "5. S.casefold() S.lower()\n",
    "6. S.center(width [, fill]) \n",
    "7. S.lstrip([chars])\n",
    "8. S.count(sub [, start [, end]]) \n",
    "9. S.maketrans(x[, y[, z]])\n",
    "10. S.encode([encoding [,errors]]) \n",
    "11. S.partition(sep)\n",
    "12. S.endswith(suffix [, start [, end]]) \n",
    "13. S.replace(old, new [, count])\n",
    "14. S.expandtabs([tabsize]) \n",
    "15. S.rfind(sub [,start [,end]])\n",
    "16. S.find(sub [, start [, end]]) \n",
    "17. S.rindex(sub [, start [, end]])\n",
    "18. S.format(fmtstr, *args, **kwargs) \n",
    "19. S.rjust(width [, fill])\n",
    "20. S.index(sub [, start [, end]]) \n",
    "21. S.rpartition(sep)\n",
    "21. S.isalnum() \n",
    "22. S.rsplit([sep[, maxsplit]])\n",
    "23. S.isalpha() \n",
    "24. S.rstrip([chars])\n",
    "25. S.isdecimal() \n",
    "26. S.split([sep [,maxsplit]])\n",
    "27. S.isdigit() \n",
    "28. S.splitlines([keepends])\n",
    "29. S.isidentifier() \n",
    "30. S.startswith(prefix [, start [, end]])\n",
    "31. S.islower() \n",
    "32. S.strip([chars])\n",
    "33. S.isnumeric() \n",
    "34. S.swapcase()\n",
    "35. S.isprintable() \n",
    "36. S.title()\n",
    "37. S.isspace() \n",
    "38. S.translate(map)\n",
    "39. S.istitle() \n",
    "40. S.upper()\n",
    "41. S.isupper()\n",
    "42. S.zfill(width)\n",
    "43. S.join(iterable)"
   ]
  },
  {
   "attachments": {
    "image.png": {
     "image/png": "[encoded data removed]"
    }
   },
   "cell_type": "markdown",
   "metadata": {},
   "source": [
    "### String Formatting Expressions\n",
    "With string formatting expressions, other types of data can be conveniently inserted into a string using the modulo division operator **%**. To insert any data type into a string, simply place % then dollowed by the type code e.g %i for integer. \n",
    "![image.png](attachment:image.png)"
   ]
  },
  {
   "cell_type": "code",
   "execution_count": null,
   "metadata": {},
   "outputs": [],
   "source": [
    "#for example\n",
    "name = \"Ali\"\n",
    "age = 15\n",
    "balance = 890.09\n",
    "\n",
    "print(\"%s is %i years old and he has a balance of %f naira in his bank account\" %(name, age, balance))"
   ]
  },
  {
   "cell_type": "code",
   "execution_count": null,
   "metadata": {},
   "outputs": [],
   "source": [
    "name = \"Ali\"\n",
    "age = 15\n",
    "balance = 890.09\n",
    "\n",
    "print(\"{} is {} years old and he has a balance of {} naira in his bank account\" .format(name, age, balance))"
   ]
  },
  {
   "cell_type": "code",
   "execution_count": null,
   "metadata": {},
   "outputs": [],
   "source": [
    "name = \"Ali\"\n",
    "age = 15\n",
    "balance = 890.09\n",
    "\n",
    "print(f\"{name} is {age} years old and he has a balance of {balance} naira in his bank account\")"
   ]
  },
  {
   "cell_type": "markdown",
   "metadata": {},
   "source": [
    "## 2.2.3 Functions\n",
    "4.1 Function calls\n",
    "In the context of programming, a function is a named sequence of statements that\n",
    "performs a computation. When you define a function, you specify the name and\n",
    "the sequence of statements. Later, you can “call” the function by name."
   ]
  },
  {
   "cell_type": "code",
   "execution_count": null,
   "metadata": {},
   "outputs": [],
   "source": [
    "# We have already seen one example of a function call\n",
    "type(32)"
   ]
  },
  {
   "cell_type": "code",
   "execution_count": null,
   "metadata": {},
   "outputs": [],
   "source": []
  },
  {
   "cell_type": "markdown",
   "metadata": {},
   "source": [
    "### Built-in functions\n",
    "Python provides a number of important built-in functions that we can use without\n",
    "needing to provide the function definition. The creators of Python wrote a set of\n",
    "functions to solve common problems and included them in Python for us to use."
   ]
  },
  {
   "cell_type": "code",
   "execution_count": 8,
   "metadata": {},
   "outputs": [
    {
     "data": {
      "text/plain": [
       "'w'"
      ]
     },
     "execution_count": 8,
     "metadata": {},
     "output_type": "execute_result"
    }
   ],
   "source": [
    "max('Hello world')"
   ]
  },
  {
   "cell_type": "code",
   "execution_count": 9,
   "metadata": {},
   "outputs": [
    {
     "data": {
      "text/plain": [
       "' '"
      ]
     },
     "execution_count": 9,
     "metadata": {},
     "output_type": "execute_result"
    }
   ],
   "source": [
    "min('Hello world')"
   ]
  },
  {
   "cell_type": "code",
   "execution_count": null,
   "metadata": {},
   "outputs": [],
   "source": [
    "len('Hello world')"
   ]
  },
  {
   "cell_type": "markdown",
   "metadata": {},
   "source": [
    "### Type conversion functions\n",
    "Python also provides built-in functions that convert values from one type to an\u0002other. The int function takes any value and converts it to an integer, if it can, or\n",
    "complains otherwise."
   ]
  },
  {
   "cell_type": "code",
   "execution_count": null,
   "metadata": {},
   "outputs": [],
   "source": [
    "int('32')"
   ]
  },
  {
   "cell_type": "code",
   "execution_count": null,
   "metadata": {},
   "outputs": [],
   "source": [
    "int('Hello')"
   ]
  },
  {
   "cell_type": "code",
   "execution_count": null,
   "metadata": {},
   "outputs": [],
   "source": [
    "int(3.99999)"
   ]
  },
  {
   "cell_type": "code",
   "execution_count": null,
   "metadata": {},
   "outputs": [],
   "source": [
    "int(-2.3)"
   ]
  },
  {
   "cell_type": "code",
   "execution_count": null,
   "metadata": {},
   "outputs": [],
   "source": [
    "float(32)"
   ]
  },
  {
   "cell_type": "code",
   "execution_count": null,
   "metadata": {},
   "outputs": [],
   "source": [
    "float('3.14159')"
   ]
  },
  {
   "cell_type": "code",
   "execution_count": null,
   "metadata": {},
   "outputs": [],
   "source": [
    "# Finally, str converts its argument to a string.\n",
    "\n",
    "str(32)\n",
    "str(3.14159)"
   ]
  },
  {
   "cell_type": "markdown",
   "metadata": {},
   "source": [
    "### Math functions\n",
    "Python has a math module that provides most of the familiar mathematical func\u0002tions. Before we can use the module, we have to import it."
   ]
  },
  {
   "cell_type": "code",
   "execution_count": null,
   "metadata": {},
   "outputs": [],
   "source": [
    "import math"
   ]
  },
  {
   "cell_type": "markdown",
   "metadata": {},
   "source": [
    "The above statement creates a module object named math. If you print the module\n",
    "object, you get some information about it."
   ]
  },
  {
   "cell_type": "code",
   "execution_count": null,
   "metadata": {},
   "outputs": [],
   "source": [
    "import math\n",
    "\n",
    "radians = 0.7\n",
    "height = math.sin(radians)\n",
    "\n",
    "print(height)"
   ]
  },
  {
   "cell_type": "markdown",
   "metadata": {},
   "source": [
    "### Random numbers\n",
    "Given the same inputs, most computer programs generate the same outputs every\n",
    "time, so they are said to be deterministic. Determinism is usually a good thing,\n",
    "since we expect the same calculation to yield the same result. For some applica\u0002tions, though, we want the computer to be unpredictable. Games are an obvious\n",
    "example, but there are more.\n",
    "\n",
    "Making a program truly nondeterministic turns out to be not so easy, but there\n",
    "are ways to make it at least seem nondeterministic. One of them is to use al\u0002gorithms that generate pseudorandom numbers.\n",
    "\n",
    "Pseudorandom numbers are not\n",
    "truly random because they are generated by a deterministic computation, but just\n",
    "by looking at the numbers it is all but impossible to distinguish them from random.\n",
    "The random module provides functions that generate pseudorandom numbers\n",
    "(which I will simply call “random” from here on).\n",
    "\n",
    "The function random returns a random float between 0.0 and 1.0 (including 0.0\n",
    "but not 1.0). Each time you call random, you get the next number in a long series.\n",
    "To see a sample, run this loop"
   ]
  },
  {
   "cell_type": "code",
   "execution_count": null,
   "metadata": {},
   "outputs": [],
   "source": [
    "import random\n",
    "\n",
    "list = [\"Apple\", \"Orange\", \"Banana\", \"Pear\", \"Pawpaw\", \"Grapes\", \"Guava\"]\n",
    "\n",
    "print(random.choice(list))\n",
    "\n",
    "print(random.choices(list, weights=[1, 2, 1, 1, 1, 9, 1], k=5))\n",
    "\n",
    "print(random.sample(list, 4))\n",
    "\n",
    "shuf = random.shuffle(list)\n",
    "print(shuf)"
   ]
  },
  {
   "cell_type": "code",
   "execution_count": null,
   "metadata": {},
   "outputs": [],
   "source": [
    "import random\n",
    "\n",
    "print(random.random())"
   ]
  },
  {
   "cell_type": "code",
   "execution_count": null,
   "metadata": {},
   "outputs": [],
   "source": [
    "import random\n",
    "\n",
    "print(random.randint(3, 7))"
   ]
  },
  {
   "cell_type": "code",
   "execution_count": null,
   "metadata": {},
   "outputs": [],
   "source": [
    "import random\n",
    "\n",
    "for i in range(2):\n",
    "    random.seed(5)\n",
    "    print(random.randint(3, 7))"
   ]
  },
  {
   "cell_type": "markdown",
   "metadata": {},
   "source": [
    "### Adding new functions\n",
    "So far, we have only been using the functions that come with Python, but it is also\n",
    "possible to add new functions. A function definition specifies the name of a new\n",
    "function and the sequence of statements that execute when the function is called.\n",
    "\n",
    "Once we define a function, we can reuse the function over and over throughout our\n",
    "program.\n",
    "\n",
    "Here is an example:"
   ]
  },
  {
   "cell_type": "code",
   "execution_count": null,
   "metadata": {},
   "outputs": [],
   "source": [
    "def print_lyrics():\n",
    "    print(\"I'm a lumberjack, and I'm okay.\")\n",
    "    print('I sleep all night and I work all day.')\n",
    "    \n",
    "print(print_lyrics())"
   ]
  },
  {
   "cell_type": "code",
   "execution_count": null,
   "metadata": {},
   "outputs": [],
   "source": [
    "def addTwo(a, b):\n",
    "    added = a + b\n",
    "    return added * 4 / 2\n",
    "\n",
    "\n",
    "a = eval(input(\"Enter a number: \"))\n",
    "b = eval(input(\"Enter a number: \"))\n",
    "x = addTwo(a, b)\n",
    "print(x)"
   ]
  },
  {
   "cell_type": "code",
   "execution_count": null,
   "metadata": {},
   "outputs": [],
   "source": [
    "def python(name, love):\n",
    "    details = (f\"My name is {name} and I love {love}\")\n",
    "    return details\n",
    "\n",
    "\n",
    "name = input('Enter name: ')\n",
    "love = input('Enter what you love: ')\n",
    "\n",
    "print(python(name, love))"
   ]
  },
  {
   "cell_type": "code",
   "execution_count": null,
   "metadata": {},
   "outputs": [],
   "source": [
    "def count(letter, words):\n",
    "    counts = 0\n",
    "    for letter in words:\n",
    "        if letter == 'a':\n",
    "            counts += 1\n",
    "    return counts\n",
    "\n",
    "\n",
    "word = input(\"Type a word to loop in: \")\n",
    "letter = input(\"Type a letter to loop through: \")\n",
    "\n",
    "print(count(letter, word))"
   ]
  },
  {
   "cell_type": "markdown",
   "metadata": {},
   "source": [
    "## 2.2.4 Conditional execution\n",
    "\n",
    "A boolean expression is an expression that is either true or false. The following\n",
    "examples use the operator ==, which compares two operands and produces True if\n",
    "they are equal and False otherwise:"
   ]
  },
  {
   "cell_type": "code",
   "execution_count": null,
   "metadata": {},
   "outputs": [],
   "source": [
    "5 == 5"
   ]
  },
  {
   "cell_type": "code",
   "execution_count": null,
   "metadata": {},
   "outputs": [],
   "source": [
    "# True and False are special values that belong to the class bool; they are not strings:\n",
    "type(True)\n",
    "type(False)"
   ]
  },
  {
   "cell_type": "markdown",
   "metadata": {},
   "source": [
    "The == operator is one of the comparison operators; the others are:\n",
    "- x != y # x is not equal to y\n",
    "- x > y # x is greater than y\n",
    "- x < y # x is less than y\n",
    "- x >= y # x is greater than or equal to y\n",
    "- x <= y # x is less than or equal to y\n",
    "- x is y # x is the same as y\n",
    "- x is not y # x is not the same as y"
   ]
  },
  {
   "cell_type": "markdown",
   "metadata": {},
   "source": [
    "## Logical operators\n",
    "There are three logical operators: and, or, and not. The semantics (meaning) of\n",
    "these operators is similar to their meaning in English. For example,\n",
    "- x > 0 and x < 10\n",
    "- is true only if x is greater than 0 and less than 10.\n",
    "- n%2 == 0 or n%3 == 0 is true if either of the conditions is true, that is, if the\n",
    "number is divisible by 2 or 3.\n",
    "- Finally, the not operator negates a boolean expression, so not (x > y) is true if\n",
    "- x > y is false; that is, if x is less than or equal to y.\n",
    "- Strictly speaking, the operands of the logical operators should be boolean expres-\n",
    "sions, but Python is not very strict. Any nonzero number is interpreted as “true.”"
   ]
  },
  {
   "cell_type": "code",
   "execution_count": 10,
   "metadata": {},
   "outputs": [
    {
     "name": "stdout",
     "output_type": "stream",
     "text": [
      "True\n"
     ]
    }
   ],
   "source": [
    "a = 5\n",
    "b = a > 1 < 10\n",
    "print(b)"
   ]
  },
  {
   "cell_type": "markdown",
   "metadata": {},
   "source": [
    "## Conditional execution\n",
    "- In order to write useful programs, we almost always need the ability to check condi-\n",
    "tions and change the behavior of the program accordingly. Conditional statements\n",
    "give us this ability. The simplest form is the if statement:\n",
    "\n",
    "- The boolean expression after the if statement is called the condition. We end the\n",
    "if statement with a colon character (:) and the line(s) after the if statement are\n",
    "indented."
   ]
  },
  {
   "cell_type": "code",
   "execution_count": null,
   "metadata": {},
   "outputs": [],
   "source": [
    "if 10 > 5:\n",
    "    print('True')"
   ]
  },
  {
   "cell_type": "markdown",
   "metadata": {},
   "source": [
    "## Alternative execution\n",
    "A second form of the if statement is alternative execution, in which there are two\n",
    "possibilities and the condition determines which one gets executed."
   ]
  },
  {
   "cell_type": "code",
   "execution_count": null,
   "metadata": {},
   "outputs": [],
   "source": [
    "if 10 > 5:\n",
    "    print('True')\n",
    "    \n",
    "else:\n",
    "    print('False')"
   ]
  },
  {
   "cell_type": "markdown",
   "metadata": {},
   "source": [
    "## Chained conditionals\n",
    "Sometimes there are more than two possibilities and we need more than two\n",
    "branches. One way to express a computation like that is a chained conditional:"
   ]
  },
  {
   "cell_type": "code",
   "execution_count": null,
   "metadata": {},
   "outputs": [],
   "source": [
    "x = 2\n",
    "y = 4\n",
    "\n",
    "if x < y:\n",
    "    print('x is less than y')\n",
    "    \n",
    "elif x > y:\n",
    "    print('x is greater than y')\n",
    "    \n",
    "else:\n",
    "    print('x and y are equal')"
   ]
  },
  {
   "cell_type": "markdown",
   "metadata": {},
   "source": [
    "## Nested conditionals\n",
    "One conditional can also be nested within another. We could have written the\n",
    "three-branch example like this"
   ]
  },
  {
   "cell_type": "code",
   "execution_count": null,
   "metadata": {},
   "outputs": [],
   "source": [
    "if x == y:\n",
    "    print('x and y are equal')\n",
    "else:\n",
    "    if x < y:\n",
    "        print('x is less than y')\n",
    "    else:\n",
    "        print('x is greater than y')"
   ]
  },
  {
   "cell_type": "markdown",
   "metadata": {},
   "source": [
    "## Catching exceptions using try and except\n",
    "Earlier we saw a code segment where we used the input and int functions to read\n",
    "and parse an integer number entered by the user. We also saw how treacherous\n",
    "doing this could be"
   ]
  },
  {
   "cell_type": "code",
   "execution_count": null,
   "metadata": {},
   "outputs": [],
   "source": [
    "inp = input('Enter Fahrenheit Temperature: ')\n",
    "fahr = float(inp)\n",
    "cel = (fahr - 32.0) * 5.0 / 9.0\n",
    "print(cel)"
   ]
  },
  {
   "cell_type": "markdown",
   "metadata": {},
   "source": [
    "- There is a conditional execution structure built into Python to handle these types\n",
    "of expected and unexpected errors called “try / except”. The idea of try and\n",
    "except is that you know that some sequence of instruction(s) may have a problem\n",
    "and you want to add some statements to be executed if an error occurs. These\n",
    "extra statements (the except block) are ignored if there is no error.\n",
    "You can think of the try and except feature in Python as an “insurance policy”\n",
    "on a sequence of statements.\n",
    "\n",
    "- We can rewrite our temperature converter as follows:"
   ]
  },
  {
   "cell_type": "code",
   "execution_count": null,
   "metadata": {},
   "outputs": [],
   "source": [
    "inp = input('Enter Fahrenheit Temperature:')\n",
    "\n",
    "try:\n",
    "    fahr = float(inp)\n",
    "    cel = (fahr - 32.0) * 5.0 / 9.0\n",
    "    print(cel)\n",
    "    \n",
    "except:\n",
    "    print('Please enter a number')"
   ]
  },
  {
   "cell_type": "code",
   "execution_count": null,
   "metadata": {},
   "outputs": [],
   "source": [
    "try:\n",
    "    name = input('Enter full name: ')\n",
    "    email = input('Enter email address: ')\n",
    "    username = input('Enter username: ')\n",
    "    phoneNumber = int(input('Enter phone number: '))\n",
    "    print(name, email, username, phoneNumber)\n",
    "        \n",
    "except ValueError:\n",
    "    print('Invalid phone number entered')"
   ]
  },
  {
   "cell_type": "markdown",
   "metadata": {},
   "source": [
    "## Short-circuit evaluation of logical expressions\n",
    "- When Python is processing a logical expression such as x >= 2 and (x/y) > 2, it\n",
    "evaluates the expression from left to right. Because of the definition of and, if x is\n",
    "less than 2, the expression x >= 2 is False and so the whole expression is False\n",
    "regardless of whether (x/y) > 2 evaluates to True or False.\n",
    "\n",
    "- When Python detects that there is nothing to be gained by evaluating the rest\n",
    "of a logical expression, it stops its evaluation and does not do the computations\n",
    "in the rest of the logical expression. When the evaluation of a logical expression\n",
    "stops because the overall value is already known, it is called short-circuiting the\n",
    "evaluation.\n",
    "\n",
    "- While this may seem like a fine point, the short-circuit behavior leads to a clever\n",
    "technique called the guardian pattern. Consider the following code sequence in the\n",
    "Python interpreter:"
   ]
  },
  {
   "cell_type": "code",
   "execution_count": null,
   "metadata": {},
   "outputs": [],
   "source": [
    "x = 6\n",
    "y = 2\n",
    "x >= 2 and (x/y) > 2"
   ]
  },
  {
   "cell_type": "markdown",
   "metadata": {},
   "source": [
    "## 2.2.5 Iteration\n",
    "\n",
    "### The while statement\n",
    "Computers are often used to automate repetitive tasks. Repeating identical or\n",
    "similar tasks without making errors is something that computers do well and people\n",
    "do poorly. Because iteration is so common, Python provides several language\n",
    "features to make it easier.\n",
    "\n",
    "One form of iteration in Python is the while statement. Here is a simple program\n",
    "that counts down from five and then says “Blastoff!”.\n"
   ]
  },
  {
   "cell_type": "code",
   "execution_count": null,
   "metadata": {},
   "outputs": [],
   "source": [
    "n = 5\n",
    "while n > 0:\n",
    "    print(n)\n",
    "    n = n - 1\n",
    "print('Blastoff!')"
   ]
  },
  {
   "cell_type": "markdown",
   "metadata": {},
   "source": [
    "You can almost read the while statement as if it were English. It means, “While\n",
    "n is greater than 0, display the value of n and then reduce the value of n by 1.\n",
    "When you get to 0, exit the while statement and display the word Blastoff!”\n",
    "More formally, here is the flow of execution for a while statement:\n",
    "1. Evaluate the condition, yielding True or False.\n",
    "2. If the condition is false, exit the while statement and continue execution at\n",
    "the next statement.\n",
    "3. If the condition is true, execute the body and then go back to step 1.\n",
    "\n",
    "This type of flow is called a loop because the third step loops back around to the\n",
    "top. We call each time we execute the body of the loop an iteration. For the above\n",
    "loop, we would say, “It had five iterations”, which means that the body of the loop\n",
    "was executed five times.\n",
    "\n",
    "The body of the loop should change the value of one or more variables so that\n",
    "eventually the condition becomes false and the loop terminates. We call the vari\u0002able that changes each time the loop executes and controls when the loop finishes\n",
    "the iteration variable. If there is no iteration variable, the loop will repeat forever,\n",
    "resulting in an infinite loop.\n",
    "\n",
    "### Infinite loops\n",
    "An endless source of amusement for programmers is the observation that the di\u0002rections on shampoo, “Lather, rinse, repeat,” are an infinite loop because there is\n",
    "no iteration variable telling you how many times to execute the loop.\n",
    "\n",
    "In the case of countdown, we can prove that the loop terminates because we know\n",
    "that the value of n is finite, and we can see that the value of n gets smaller each\n",
    "time through the loop, so eventually we have to get to 0. Other times a loop is\n",
    "obviously infinite because it has no iteration variable at all.\n",
    "\n",
    "Sometimes you don’t know it’s time to end a loop until you get half way through\n",
    "the body. In that case you can write an infinite loop on purpose and then use the\n",
    "break statement to jump out of the loop.\n",
    "\n",
    "This loop is obviously an infinite loop because the logical expression on the while\n",
    "statement is simply the logical constant True:\n"
   ]
  },
  {
   "cell_type": "code",
   "execution_count": null,
   "metadata": {},
   "outputs": [],
   "source": [
    "n = 10\n",
    "while True:\n",
    "    print(n, end=' ')\n",
    "    n = n - 1\n",
    "print('Done!')\n"
   ]
  },
  {
   "cell_type": "code",
   "execution_count": null,
   "metadata": {},
   "outputs": [],
   "source": [
    "while True:\n",
    "    line = input('> ')\n",
    "    if line == 'done':\n",
    "        break\n",
    "    print(line)\n",
    "print('Done!')"
   ]
  },
  {
   "cell_type": "markdown",
   "metadata": {},
   "source": [
    "### Finishing iterations with continue\n",
    "Sometimes you are in an iteration of a loop and want to finish the current iteration\n",
    "and immediately jump to the next iteration. In that case you can use the continue\n",
    "statement to skip to the next iteration without finishing the body of the loop for\n",
    "the current iteration.\n",
    "\n",
    "Here is an example of a loop that copies its input until the user types “done”, but\n",
    "treats lines that start with the hash character as lines not to be printed (kind of\n",
    "like Python comments).\n"
   ]
  },
  {
   "cell_type": "code",
   "execution_count": null,
   "metadata": {},
   "outputs": [],
   "source": [
    "while True:\n",
    "    text = input(\n",
    "        \"Write or past your text and type 'Done' when you are through: \")\n",
    "    if text == \"done\":\n",
    "        break\n",
    "    print(text)\n",
    "    count = 0\n",
    "    for itervar in text:\n",
    "        count = count + 1\n",
    "    print(count, end=\" characters counted\")\n",
    "print('\\nThis code was written in python')"
   ]
  },
  {
   "cell_type": "code",
   "execution_count": null,
   "metadata": {},
   "outputs": [],
   "source": [
    "count = 0\n",
    "total = 0\n",
    "average = 0\n",
    "\n",
    "while True:\n",
    "    number = input('Enter a number: ')\n",
    "    \n",
    "    \n",
    "    try:\n",
    "        if number == 'done':\n",
    "            break\n",
    "        total += float(number)\n",
    "        count += 1\n",
    "        average = total/count\n",
    "        \n",
    "    except:\n",
    "        print('Invalid input!')\n",
    "        continue\n",
    "        \n",
    "print(f\"Total: {total}, Count: {count}, Average: {average}\")"
   ]
  },
  {
   "cell_type": "markdown",
   "metadata": {},
   "source": [
    "### Definite loops using for\n",
    "Sometimes we want to loop through a set of things such as a list of words, the lines\n",
    "in a file, or a list of numbers. When we have a list of things to loop through, we\n",
    "can construct a definite loop using a for statement. We call the while statement\n",
    "an indefinite loop because it simply loops until some condition becomes False,\n",
    "whereas the for loop is looping through a known set of items so it runs through\n",
    "as many iterations as there are items in the set.\n",
    "\n",
    "The syntax of a for loop is similar to the while loop in that there is a for\n",
    "statement and a loop body:"
   ]
  },
  {
   "cell_type": "code",
   "execution_count": null,
   "metadata": {},
   "outputs": [],
   "source": [
    "friends = ['Joseph', 'Glenn', 'Sally']\n",
    "for friend in friends:\n",
    "    print('Happy New Year:', friend)\n",
    "print('Done!')"
   ]
  },
  {
   "cell_type": "markdown",
   "metadata": {},
   "source": [
    "In Python terms, the variable friends is a list1 of three strings and the for loop\n",
    "goes through the list and executes the body once for each of the three strings in\n",
    "the list.\n",
    "\n",
    "Often we use a for or while loop to go through a list of items or the contents of\n",
    "a file and we are looking for something such as the largest or smallest value of the\n",
    "data we scan through.\n",
    "These loops are generally constructed by:\n",
    "- Initializing one or more variables before the loop starts.\n",
    "- Performing some computation on each item in the loop body, possibly chang\u0002ing the variables in the body of the loop.\n",
    "- Looking at the resulting variables when the loop completes."
   ]
  },
  {
   "cell_type": "markdown",
   "metadata": {},
   "source": [
    "### Counting and summing loops\n",
    "For example, to count the number of items in a list, we would write the following\n",
    "for loop:"
   ]
  },
  {
   "cell_type": "code",
   "execution_count": null,
   "metadata": {},
   "outputs": [],
   "source": [
    "count = 0\n",
    "for itervar in [3, 41, 12, 9, 74, 15]:\n",
    "    count = count + 1\n",
    "print('Count: ', count)\n"
   ]
  },
  {
   "cell_type": "code",
   "execution_count": null,
   "metadata": {},
   "outputs": [],
   "source": [
    "total = 0\n",
    "for itervar in [3, 41, 12, 9, 74, 15]:\n",
    "    total = total + itervar\n",
    "print('Total: ', total)"
   ]
  },
  {
   "cell_type": "markdown",
   "metadata": {},
   "source": [
    "### Maximum and minimum loops\n",
    "To find the largest value in a list or sequence, we construct the following loop:"
   ]
  },
  {
   "cell_type": "code",
   "execution_count": null,
   "metadata": {},
   "outputs": [],
   "source": [
    "largest = None\n",
    "print('Before:', largest)\n",
    "for itervar in [3, 41, 12, 9, 74, 15]:\n",
    "    if largest is None or itervar > largest :\n",
    "        largest = itervar\n",
    "    print('Loop:', itervar, largest)\n",
    "print('Largest:', largest)"
   ]
  },
  {
   "cell_type": "code",
   "execution_count": null,
   "metadata": {},
   "outputs": [],
   "source": [
    "smallest = None\n",
    "print('Before:', smallest)\n",
    "for itervar in [3, 41, 12, 9, 74, 15]:\n",
    "    if smallest is None or itervar < smallest:\n",
    "        smallest = itervar\n",
    "    print('Loop:', itervar, smallest)\n",
    "print('Smallest:', smallest)\n"
   ]
  },
  {
   "cell_type": "markdown",
   "metadata": {},
   "source": [
    "Again, smallest is the “smallest so far” before, during, and after the loop executes.\n",
    "When the loop has completed, smallest contains the minimum value in the list.\n",
    "Again as in counting and summing, the built-in functions max() and min() make\n",
    "writing these exact loops unnecessary.\n",
    "The following is a simple version of the Python built-in min() function:"
   ]
  },
  {
   "cell_type": "code",
   "execution_count": null,
   "metadata": {},
   "outputs": [],
   "source": [
    "def min(values):\n",
    "    smallest = None\n",
    "    for value in values:\n",
    "        if smallest is None or value < smallest:\n",
    "            smallest = value\n",
    "    return smallest\n",
    "\n",
    "values = input(\"Enter some set of numbers: \")\n",
    "print(min(values))"
   ]
  },
  {
   "cell_type": "code",
   "execution_count": null,
   "metadata": {},
   "outputs": [],
   "source": [
    "def max(values):\n",
    "    biggest = None\n",
    "    for value in values:\n",
    "        if biggest is None or value > biggest:\n",
    "            biggest = value\n",
    "    return biggest\n",
    "\n",
    "values = input(\"Enter some set of numbers: \")\n",
    "print(max(values))"
   ]
  },
  {
   "cell_type": "markdown",
   "metadata": {},
   "source": [
    "## 2.2.6 Lists\n",
    "A List is a Python data type and is also a sequence. A list can contain an arbitrary collection of objects such as integers, floats, strings etc. Just like strings, elements of a list can be accessed using an index and sequence operations such as concatenation, slicing can be performed on a string. However unlike strings, a Python list is a mutable sequence i.e it allows inplace operation.\n",
    "\n",
    "Strings are wrapped arround quotation marks (whether single **' '** or double **\" \"**). Lists are also wrapped arround square brackets **[ ]**.\n"
   ]
  },
  {
   "cell_type": "code",
   "execution_count": null,
   "metadata": {},
   "outputs": [],
   "source": [
    "L = [] #An empty list\n",
    "L = [123, \"coen307\", 3.4e-9] #A list containing an integer, string and float"
   ]
  },
  {
   "cell_type": "code",
   "execution_count": null,
   "metadata": {},
   "outputs": [],
   "source": [
    "type(L)"
   ]
  },
  {
   "cell_type": "code",
   "execution_count": null,
   "metadata": {},
   "outputs": [],
   "source": [
    "L = [123, \"coen307\", 3.4e-9]\n",
    "L[0], L[1], L[2]"
   ]
  },
  {
   "cell_type": "markdown",
   "metadata": {},
   "source": [
    "A list can house any object type, that means it can  house another list."
   ]
  },
  {
   "cell_type": "code",
   "execution_count": null,
   "metadata": {},
   "outputs": [],
   "source": [
    "L = [[\"Bala\", 22], [\"Sabbah\", 20], [\"Aisha\", 18]]"
   ]
  },
  {
   "cell_type": "code",
   "execution_count": null,
   "metadata": {},
   "outputs": [],
   "source": [
    "#index\n",
    "L[1]\n",
    "print(\"The first element in the list is list: \", L[1])"
   ]
  },
  {
   "cell_type": "code",
   "execution_count": null,
   "metadata": {},
   "outputs": [],
   "source": [
    "#index of index\n",
    "L[1][0]\n",
    "print(\"The first element in the list of the first list is: \", L[1][0])"
   ]
  },
  {
   "cell_type": "code",
   "execution_count": null,
   "metadata": {},
   "outputs": [],
   "source": [
    "L[1][0][2:]"
   ]
  },
  {
   "cell_type": "code",
   "execution_count": null,
   "metadata": {},
   "outputs": [],
   "source": [
    "L1 = [1, 2, 3]\n",
    "L2 = [4, 5, 6]"
   ]
  },
  {
   "cell_type": "code",
   "execution_count": null,
   "metadata": {},
   "outputs": [],
   "source": [
    "#Concatenation of L1 and L2\n",
    "L1 = [1, 2, 3]\n",
    "L2 = [4, 5, 6]\n",
    "\n",
    "L1 + L2"
   ]
  },
  {
   "cell_type": "code",
   "execution_count": null,
   "metadata": {},
   "outputs": [],
   "source": [
    "#Repetition of L1\n",
    "L1*4"
   ]
  },
  {
   "cell_type": "code",
   "execution_count": null,
   "metadata": {},
   "outputs": [],
   "source": [
    "L3 = (L1+L2)*3\n",
    "\n",
    "#Slicing\n",
    "L3[0:4]"
   ]
  },
  {
   "cell_type": "markdown",
   "metadata": {},
   "source": [
    "### In Place Operation on Lists\n",
    "Because lists are mutable we can edit their contents: in place operation. "
   ]
  },
  {
   "cell_type": "code",
   "execution_count": null,
   "metadata": {},
   "outputs": [],
   "source": [
    "L = [[\"Bala\", 22], [\"Sabbah\", 20], [\"Aisha\", 18]]"
   ]
  },
  {
   "cell_type": "code",
   "execution_count": null,
   "metadata": {},
   "outputs": [],
   "source": [
    "#replacing the list iten at index 1 with a string\n",
    "L[1] = \"200\"\n",
    "L"
   ]
  },
  {
   "cell_type": "code",
   "execution_count": null,
   "metadata": {},
   "outputs": [],
   "source": [
    "#appending item to a list\n",
    "L.append([123, 23])\n",
    "L"
   ]
  },
  {
   "cell_type": "code",
   "execution_count": null,
   "metadata": {},
   "outputs": [],
   "source": [
    "L4 = ['Google', \"Apple\"]"
   ]
  },
  {
   "cell_type": "code",
   "execution_count": null,
   "metadata": {},
   "outputs": [],
   "source": [
    "#extending a list by adding elements of another list\n",
    "L.extend(L4)\n",
    "L"
   ]
  },
  {
   "cell_type": "code",
   "execution_count": null,
   "metadata": {},
   "outputs": [],
   "source": [
    "names = [\"John\", \"Dan\", \"Amina\", \"Tahir\"]\n",
    "\n",
    "#To sort the names, we call the sorth method of lists\n",
    "# names.sort()\n",
    "\n",
    "# names\n",
    "del(names[1])\n",
    "print(names)"
   ]
  },
  {
   "cell_type": "code",
   "execution_count": null,
   "metadata": {},
   "outputs": [],
   "source": [
    "#We can pop out an item of a list by calling the pop method of lists\n",
    "names.pop()\n",
    "\n"
   ]
  },
  {
   "cell_type": "code",
   "execution_count": null,
   "metadata": {},
   "outputs": [],
   "source": [
    "#When called without passing an index, it pops out the last item of the list\n",
    "\n",
    "#To pop out the element at index 1\n",
    "names.pop(1)"
   ]
  },
  {
   "cell_type": "code",
   "execution_count": null,
   "metadata": {},
   "outputs": [],
   "source": [
    "names"
   ]
  },
  {
   "cell_type": "markdown",
   "metadata": {},
   "source": [
    "## 2.2.7 Dictionaries\n",
    "Lists and dictionaries are Python data types. They are similar but they have some differences. Dictionaries can also house any data type but elements of a dictionary can only be accessed by its corresponding key. A dictionary is a collection of items that are in a **key:item** format. elements of a dictionary are wrapped arround curly brackets **{ }**. Dictionaries are not sequences but rather they are called mappings and they are mutable."
   ]
  },
  {
   "cell_type": "code",
   "execution_count": 12,
   "metadata": {},
   "outputs": [],
   "source": [
    "#An empty dictionary\n",
    "D1 = {}"
   ]
  },
  {
   "cell_type": "code",
   "execution_count": 13,
   "metadata": {},
   "outputs": [],
   "source": [
    "D2 = {\"name\":\"Yusuf\", \"gender\": \"male\", \"country\": \"Nigeria\", \"age\": 19 }"
   ]
  },
  {
   "cell_type": "markdown",
   "metadata": {},
   "source": [
    "#### Indexing a dictionary"
   ]
  },
  {
   "cell_type": "code",
   "execution_count": 14,
   "metadata": {},
   "outputs": [
    {
     "data": {
      "text/plain": [
       "'Yusuf'"
      ]
     },
     "execution_count": 14,
     "metadata": {},
     "output_type": "execute_result"
    }
   ],
   "source": [
    "D2['name']"
   ]
  },
  {
   "cell_type": "code",
   "execution_count": 15,
   "metadata": {},
   "outputs": [
    {
     "data": {
      "text/plain": [
       "19"
      ]
     },
     "execution_count": 15,
     "metadata": {},
     "output_type": "execute_result"
    }
   ],
   "source": [
    "D2['age']"
   ]
  },
  {
   "cell_type": "code",
   "execution_count": 16,
   "metadata": {},
   "outputs": [
    {
     "data": {
      "text/plain": [
       "'Nigeria'"
      ]
     },
     "execution_count": 16,
     "metadata": {},
     "output_type": "execute_result"
    }
   ],
   "source": [
    "D2['country']"
   ]
  },
  {
   "cell_type": "code",
   "execution_count": 17,
   "metadata": {},
   "outputs": [
    {
     "data": {
      "text/plain": [
       "dict_keys(['name', 'gender', 'country', 'age'])"
      ]
     },
     "execution_count": 17,
     "metadata": {},
     "output_type": "execute_result"
    }
   ],
   "source": [
    "#To access the keys of a dictionary, we call the key method \n",
    "D2.keys()"
   ]
  },
  {
   "cell_type": "markdown",
   "metadata": {},
   "source": [
    "### In Place Operation on Dictionaries"
   ]
  },
  {
   "cell_type": "code",
   "execution_count": null,
   "metadata": {},
   "outputs": [],
   "source": [
    "#Editing a value\n",
    "D2['age'] = 23\n",
    "D2"
   ]
  },
  {
   "cell_type": "code",
   "execution_count": 18,
   "metadata": {},
   "outputs": [
    {
     "data": {
      "text/plain": [
       "{'name': 'Yusuf', 'gender': 'male', 'age': 19}"
      ]
     },
     "execution_count": 18,
     "metadata": {},
     "output_type": "execute_result"
    }
   ],
   "source": [
    "#Deleting a dictionary entry\n",
    "del(D2['country'])\n",
    "D2"
   ]
  },
  {
   "cell_type": "code",
   "execution_count": null,
   "metadata": {},
   "outputs": [],
   "source": [
    "#Adding a new item to a dictionary\n",
    "D2[\"state\"] = \"Kano\"\n",
    "D2"
   ]
  },
  {
   "cell_type": "markdown",
   "metadata": {},
   "source": [
    "### 2.2.8 Tuples\n",
    "Tuples are exactly like lists but they are immutable and are wrapped arround parentheses **( )**. \n",
    "\n",
    "Read more about **Tuples and Sets**.\n"
   ]
  },
  {
   "cell_type": "markdown",
   "metadata": {},
   "source": [
    "### 2.2.9 Accessing Files in Python\n",
    "Files are storage containers on a computer system for storing information. They are created using application programs and they have file extensions that tells the type of application program that created the file. Here we shall be dealing with .txt files, which can be created with simple text editors such as GNU Nano, Notepad etc. In this section, we will learn how to access the contents of a file residing somewhere on a PC, directly in Python.\n",
    "\n",
    "To access a file in Python, we first call the built-in **open** function and pass the filename alongside the operation mode (Read or Write)."
   ]
  },
  {
   "cell_type": "code",
   "execution_count": null,
   "metadata": {},
   "outputs": [],
   "source": [
    "file = open(\"sample.txt\", 'w')"
   ]
  },
  {
   "cell_type": "markdown",
   "metadata": {},
   "source": [
    "The open function returns an object which can be called henceforth to transfer strings to and from the file named **sample.txt**\n",
    "To write a string to the file, we call the write method and pass in the string."
   ]
  },
  {
   "cell_type": "code",
   "execution_count": null,
   "metadata": {},
   "outputs": [],
   "source": [
    "file.write(\"This string is from Python to you\\n\")\n",
    "file.close() #This is not compulsory in standard Python but when you do it it doesn't hurt anyone."
   ]
  },
  {
   "cell_type": "markdown",
   "metadata": {},
   "source": [
    "We have seen how to write in a string into a file. Lets read the content of the file by specifying **read mode**"
   ]
  },
  {
   "cell_type": "code",
   "execution_count": null,
   "metadata": {},
   "outputs": [],
   "source": [
    "file = open('sample.txt', 'r')"
   ]
  },
  {
   "cell_type": "code",
   "execution_count": null,
   "metadata": {},
   "outputs": [],
   "source": [
    "#To read the entire content of the file into a string object, we call the file object's read method\n",
    "file_content = file.read()\n",
    "print(\"-\"*20)\n",
    "print(\"The file's content is:\\n\\n\", file_content)\n",
    "file.close() "
   ]
  },
  {
   "cell_type": "markdown",
   "metadata": {},
   "source": [
    "This is how file operation works in Python"
   ]
  },
  {
   "cell_type": "markdown",
   "metadata": {},
   "source": [
    "#### Writing and Reading Multiple Lines"
   ]
  },
  {
   "cell_type": "code",
   "execution_count": null,
   "metadata": {},
   "outputs": [],
   "source": [
    "#A Python list that contains 100 strings\n",
    "line_100 = [\"This is a string from Python\\n\"]*100\n",
    "line_100"
   ]
  },
  {
   "cell_type": "code",
   "execution_count": null,
   "metadata": {},
   "outputs": [],
   "source": [
    "file = open(\"sample2.txt\", \"w\")\n",
    "file.writelines(line_100)\n",
    "file.close()"
   ]
  },
  {
   "cell_type": "markdown",
   "metadata": {},
   "source": [
    "We can also read each line of a file or the entire lines at a go."
   ]
  },
  {
   "cell_type": "code",
   "execution_count": null,
   "metadata": {},
   "outputs": [],
   "source": [
    "file = open(\"sample2.txt\", \"r\")\n",
    "output = file.readline()\n",
    "file.close()"
   ]
  },
  {
   "cell_type": "code",
   "execution_count": null,
   "metadata": {},
   "outputs": [],
   "source": [
    "file = open(\"sample2.txt\", \"r\")\n",
    "output = file.readlines()\n",
    "file.close()"
   ]
  },
  {
   "cell_type": "code",
   "execution_count": null,
   "metadata": {},
   "outputs": [],
   "source": [
    "# But it is much better to open a file by the following method\n",
    "\n",
    "with open(\"file location or path\", mode='mode', encoding=\"cp1252\") as fhand:\n",
    "    pass"
   ]
  },
  {
   "cell_type": "markdown",
   "metadata": {},
   "source": [
    "So we will be using the above method to work with files in python."
   ]
  },
  {
   "cell_type": "code",
   "execution_count": null,
   "metadata": {},
   "outputs": [],
   "source": [
    "# This is use to know the location of your current notebook.\n",
    "\n",
    "import os\n",
    "os.getcwd()"
   ]
  },
  {
   "cell_type": "markdown",
   "metadata": {},
   "source": [
    "## Exercises"
   ]
  },
  {
   "cell_type": "markdown",
   "metadata": {},
   "source": [
    "### Chapter 2"
   ]
  },
  {
   "cell_type": "code",
   "execution_count": null,
   "metadata": {},
   "outputs": [],
   "source": [
    "# Exercise 2\n",
    "\n",
    "inp = input(\"Enter your name: \")\n",
    "print('Hello ', inp)"
   ]
  },
  {
   "cell_type": "code",
   "execution_count": null,
   "metadata": {},
   "outputs": [],
   "source": [
    "# Exercise 3\n",
    "\n",
    "hours = eval(input('Enter hours: '))\n",
    "rate = eval(input('Enter rate: '))\n",
    "pay = hours * rate\n",
    "\n",
    "print('Pay ', pay)"
   ]
  },
  {
   "cell_type": "code",
   "execution_count": null,
   "metadata": {
    "scrolled": true
   },
   "outputs": [],
   "source": [
    "# Exersise 4\n",
    "\n",
    "width = 17\n",
    "height = 12.0\n",
    "\n",
    "a = width//2\n",
    "b = width/2.0\n",
    "c = height/3\n",
    "d = a + b * 5\n",
    "\n",
    "print(a)\n",
    "print(b)\n",
    "print(c)\n",
    "print(d)"
   ]
  },
  {
   "cell_type": "code",
   "execution_count": null,
   "metadata": {
    "scrolled": true
   },
   "outputs": [],
   "source": [
    "# Exercise 5\n",
    "\n",
    "cel = eval(input('Enter temrature in celsius: '))\n",
    "conv = (cel + 32) * 9/5\n",
    "\n",
    "print('Temprature converted: ', conv)"
   ]
  },
  {
   "cell_type": "markdown",
   "metadata": {},
   "source": [
    "### Chapter 3"
   ]
  },
  {
   "cell_type": "code",
   "execution_count": null,
   "metadata": {
    "scrolled": true
   },
   "outputs": [],
   "source": [
    "# Exercise 1\n",
    "\n",
    "hours = eval(input('Enter employee working hours: '))\n",
    "rate = eval(input('Enter employee work rate: '))\n",
    "\n",
    "if hours > 40:\n",
    "    hours = hours + 1.5\n",
    "    pay = hours * rate\n",
    "\n",
    "print(f'Total employee payout is {pay}')"
   ]
  },
  {
   "cell_type": "code",
   "execution_count": null,
   "metadata": {},
   "outputs": [],
   "source": [
    "# Exercise 2\n",
    "\n",
    "try:\n",
    "    hours = eval(input('Enter employee working hours: '))\n",
    "    rate = eval(input('Enter employee work rate: '))\n",
    "\n",
    "    if hours > 40:\n",
    "        hours = hours + 1.5\n",
    "        pay = hours * rate\n",
    "        \n",
    "        print(f'Total employee payout is {pay}')\n",
    "        \n",
    "except:\n",
    "    print('invalid input')\n",
    "\n"
   ]
  },
  {
   "cell_type": "code",
   "execution_count": null,
   "metadata": {},
   "outputs": [],
   "source": [
    "# Exercise 3\n",
    "\n",
    "score = eval(input('Enter score: '))\n",
    "\n",
    "if score > 1.0:\n",
    "    print('Score out of range')\n",
    "\n",
    "elif score >= 0.9:\n",
    "    print('A')\n",
    "    \n",
    "elif score >= 0.8:\n",
    "    print('B')\n",
    "    \n",
    "elif score >= 0.7:\n",
    "    print('C')\n",
    "    \n",
    "elif score >= 0.6:\n",
    "    print('C')\n",
    "    \n",
    "else:\n",
    "    score < 0.6\n",
    "    print('F')\n",
    "    \n"
   ]
  },
  {
   "cell_type": "markdown",
   "metadata": {},
   "source": [
    "### Chapter 4"
   ]
  },
  {
   "cell_type": "code",
   "execution_count": null,
   "metadata": {},
   "outputs": [],
   "source": [
    "# Exercise 6\n",
    "\n",
    "def computepay(hours, rate):\n",
    "    hours = hours * 1.5\n",
    "    pay = hours * rate\n",
    "    return pay\n",
    "    \n",
    "hours = eval(input('Enter employee working hours: '))\n",
    "rate = eval(input('Enter employee work rate: '))\n",
    "\n",
    "computepay(hours, rate)"
   ]
  },
  {
   "cell_type": "code",
   "execution_count": null,
   "metadata": {},
   "outputs": [],
   "source": [
    "# Exercise 7\n",
    "\n",
    "try:\n",
    "    def computegrade(score):\n",
    "        if score > 1.0:\n",
    "            print('Score out of range')\n",
    "\n",
    "        elif score >= 0.9:\n",
    "            print('A')\n",
    "\n",
    "        elif score >= 0.8:\n",
    "            print('B')\n",
    "\n",
    "        elif score >= 0.7:\n",
    "            print('C')\n",
    "\n",
    "        elif score >= 0.6:\n",
    "            print('C')\n",
    "\n",
    "        else:\n",
    "            score < 0.6\n",
    "            print('F')\n",
    "        return score\n",
    "\n",
    "    score = eval(input('Enter score: '))\n",
    "    computegrade(score)\n",
    "    \n",
    "except:\n",
    "    print('Bad score')"
   ]
  },
  {
   "cell_type": "markdown",
   "metadata": {},
   "source": [
    "### chapter 5"
   ]
  },
  {
   "cell_type": "code",
   "execution_count": null,
   "metadata": {},
   "outputs": [],
   "source": [
    "# Exercise 1\n",
    "\n",
    "total = 0\n",
    "count = 0\n",
    "average = 0\n",
    "\n",
    "while True:\n",
    "    numbers = input('Enter a number: ')\n",
    "    \n",
    "    if numbers == 'done':\n",
    "        break\n",
    "    \n",
    "    try:\n",
    "        total = total + float(numbers)\n",
    "        count = count + 1\n",
    "        average = total/count\n",
    "        \n",
    "    except:\n",
    "        print('Invalid input!')\n",
    "        continueb\n",
    "        \n",
    "print(f'Total: {total}, Count: {count}, Average: {average}') "
   ]
  },
  {
   "cell_type": "code",
   "execution_count": null,
   "metadata": {},
   "outputs": [],
   "source": [
    "# Exercise 2\n",
    "\n",
    "count = 0\n",
    "lst = []\n",
    "\n",
    "while True:\n",
    "    numbers = input('Enter a number: ')\n",
    "    \n",
    "    if numbers == 'done':\n",
    "        break\n",
    "    \n",
    "    try:\n",
    "        count = count + 1\n",
    "        lst.append(int(numbers))\n",
    "        \n",
    "    except:\n",
    "        print('Invalid input!')\n",
    "        continue\n",
    "        \n",
    "print('Maximum: ',max(lst), 'Minimum: ',min(lst), f'Count: {count}')"
   ]
  },
  {
   "cell_type": "markdown",
   "metadata": {},
   "source": [
    "### Chapter 6"
   ]
  },
  {
   "cell_type": "code",
   "execution_count": null,
   "metadata": {
    "scrolled": true
   },
   "outputs": [],
   "source": [
    "# Exercise 1\n",
    "\n",
    "string = 'backward'\n",
    "if string != 'backward':\n",
    "    reverse = string[::-1]\n",
    "    for c in reverse:\n",
    "        print(c) \n",
    "        \n",
    "else:\n",
    "    print(string)"
   ]
  },
  {
   "cell_type": "code",
   "execution_count": null,
   "metadata": {},
   "outputs": [],
   "source": [
    "# Exercise 2\n",
    "\n",
    "fruit = 'fruit'\n",
    "print(fruit[:])"
   ]
  },
  {
   "cell_type": "code",
   "execution_count": null,
   "metadata": {},
   "outputs": [],
   "source": [
    "# Exercise  3\n",
    "\n",
    "def count(string, letter):\n",
    "    count = 0\n",
    "    for i in string:   \n",
    "        if i == letter:\n",
    "            count = count + 1\n",
    "    print(f'We have {count} {letter}s count in {string}')\n",
    "            \n",
    "string = input('Write a string: ')\n",
    "letter = input('Enter a letter to count: ')\n",
    "count(string, letter)"
   ]
  },
  {
   "cell_type": "code",
   "execution_count": null,
   "metadata": {},
   "outputs": [],
   "source": [
    "# Exercise 5\n",
    "\n",
    "string = 'X-DSPAM-Confidence:0.8475'\n",
    "start = string.find('0')\n",
    "end = string.find('5')\n",
    "extract = string[start:end+1]\n",
    "conv = float(extract)\n",
    "\n",
    "print(conv)\n",
    "type(conv)"
   ]
  }
 ],
 "metadata": {
  "kernelspec": {
   "display_name": "Python 3 (ipykernel)",
   "language": "python",
   "name": "python3"
  },
  "language_info": {
   "codemirror_mode": {
    "name": "ipython",
    "version": 3
   },
   "file_extension": ".py",
   "mimetype": "text/x-python",
   "name": "python",
   "nbconvert_exporter": "python",
   "pygments_lexer": "ipython3",
   "version": "3.9.13"
  },
  "vscode": {
   "interpreter": {
    "hash": "29dbc28412beea474f109ae924f6c9cac327a19bec6edba13e7da8465059a749"
   }
  }
 },
 "nbformat": 4,
 "nbformat_minor": 2
}
