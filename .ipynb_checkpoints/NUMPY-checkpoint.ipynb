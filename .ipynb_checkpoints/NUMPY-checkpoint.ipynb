{
 "cells": [
  {
   "cell_type": "markdown",
   "id": "23e8567d",
   "metadata": {},
   "source": [
    "# WHAT IS NUMPY?"
   ]
  },
  {
   "cell_type": "markdown",
   "id": "f0caf5f6",
   "metadata": {},
   "source": [
    "Numpy is the core library for scientific computing in Python.\n",
    "It provides a high-performance multidimensional array object, and tools for working with these array\n",
    "\n",
    "### Application of Numpy\n",
    "-Image Processing \n",
    "\n",
    "-Signal Processing\n",
    "\n",
    "-Linear algebra\n",
    "\n"
   ]
  },
  {
   "cell_type": "code",
   "execution_count": null,
   "id": "bf2e8ce8",
   "metadata": {},
   "outputs": [],
   "source": [
    "import numpy as np"
   ]
  },
  {
   "cell_type": "code",
   "execution_count": null,
   "id": "2bdaf2d6",
   "metadata": {},
   "outputs": [],
   "source": [
    "a = np.array([1,2,3])\n",
    "b = np.array([(1,2,3),(4,5,6)])"
   ]
  },
  {
   "cell_type": "code",
   "execution_count": null,
   "id": "61ba0f64",
   "metadata": {},
   "outputs": [],
   "source": [
    "print(a)"
   ]
  },
  {
   "cell_type": "code",
   "execution_count": null,
   "id": "b3bb971c",
   "metadata": {},
   "outputs": [],
   "source": [
    "print(b)"
   ]
  },
  {
   "cell_type": "markdown",
   "id": "91aa6dd5",
   "metadata": {},
   "source": [
    "# Advantage of Numpy over List"
   ]
  },
  {
   "cell_type": "markdown",
   "id": "2a2d3642",
   "metadata": {},
   "source": [
    "It occupies less memory.\n",
    "It is fast. \n",
    "It is more convenient.\n"
   ]
  },
  {
   "cell_type": "markdown",
   "id": "f15ffb4c",
   "metadata": {},
   "source": [
    "# A Multidimensional Array Object"
   ]
  },
  {
   "cell_type": "markdown",
   "id": "1bac1976",
   "metadata": {},
   "source": [
    "Arrays enable you to perform mathematical operations on whole blocks of data using similar syntax to the equivalentoperations between scalar elements:"
   ]
  },
  {
   "cell_type": "markdown",
   "id": "697293d7",
   "metadata": {},
   "source": [
    "## Creating ndarrays"
   ]
  },
  {
   "cell_type": "code",
   "execution_count": null,
   "id": "6cffadda",
   "metadata": {},
   "outputs": [],
   "source": [
    "data1 = [6, 5, 7, 3, 3.6]"
   ]
  },
  {
   "cell_type": "code",
   "execution_count": null,
   "id": "7d08fc27",
   "metadata": {},
   "outputs": [],
   "source": [
    "arr1 = np.array(data1)"
   ]
  },
  {
   "cell_type": "code",
   "execution_count": null,
   "id": "3007bc08",
   "metadata": {},
   "outputs": [],
   "source": [
    "arr1"
   ]
  },
  {
   "cell_type": "code",
   "execution_count": null,
   "id": "3291a29c",
   "metadata": {},
   "outputs": [],
   "source": [
    "data2 = [[1,2,3,1],[4,2,7,6]]\n",
    "arr2 = np.array(data2)"
   ]
  },
  {
   "cell_type": "code",
   "execution_count": null,
   "id": "b8ef8306",
   "metadata": {},
   "outputs": [],
   "source": [
    "#Specifying the data type\n",
    "arr4 = np.array(data2, dtype=np.float64)\n",
    "arr4"
   ]
  },
  {
   "cell_type": "code",
   "execution_count": null,
   "id": "ea6d3e06",
   "metadata": {},
   "outputs": [],
   "source": [
    "arr4.dtype\n"
   ]
  },
  {
   "cell_type": "code",
   "execution_count": null,
   "id": "a1473973",
   "metadata": {},
   "outputs": [],
   "source": [
    "#Item size\n",
    "arr4.itemsize"
   ]
  },
  {
   "cell_type": "code",
   "execution_count": null,
   "id": "947b26f7",
   "metadata": {},
   "outputs": [],
   "source": [
    "arr2"
   ]
  },
  {
   "cell_type": "code",
   "execution_count": null,
   "id": "6b079593",
   "metadata": {},
   "outputs": [],
   "source": [
    "#You can also use the 'matrix' function\n",
    "arr3 = np.matrix(data2)\n",
    "arr3"
   ]
  },
  {
   "cell_type": "code",
   "execution_count": null,
   "id": "ee8e7e1d",
   "metadata": {},
   "outputs": [],
   "source": [
    "#Printing the dimension\n",
    "arr2.ndim"
   ]
  },
  {
   "cell_type": "code",
   "execution_count": null,
   "id": "caa92159",
   "metadata": {},
   "outputs": [],
   "source": [
    "#Printing the size of an array\n",
    "arr2.size"
   ]
  },
  {
   "cell_type": "code",
   "execution_count": null,
   "id": "b4b2bf41",
   "metadata": {},
   "outputs": [],
   "source": [
    "#Printing the shape\n",
    "arr2.shape"
   ]
  },
  {
   "cell_type": "markdown",
   "id": "82f58a42",
   "metadata": {},
   "source": [
    "#### You can Reshape an array\n",
    "It is just like transposing the array, but I think there is a difference.\n",
    "\n",
    "When reshaping arrays, the size must be consistent with the original."
   ]
  },
  {
   "cell_type": "code",
   "execution_count": null,
   "id": "981aa16b",
   "metadata": {},
   "outputs": [],
   "source": [
    "arr2"
   ]
  },
  {
   "cell_type": "code",
   "execution_count": null,
   "id": "7b9da87f",
   "metadata": {},
   "outputs": [],
   "source": [
    "res = arr2.reshape(4,2)\n",
    "res"
   ]
  },
  {
   "cell_type": "code",
   "execution_count": null,
   "id": "b7994d6e",
   "metadata": {},
   "outputs": [],
   "source": [
    "#This case, the second condition is determined automatically\n",
    "res = arr2.reshape(4,-1)\n",
    "res"
   ]
  },
  {
   "cell_type": "code",
   "execution_count": null,
   "id": "bf45a00c",
   "metadata": {},
   "outputs": [],
   "source": [
    "res = arr2.reshape(8,1)\n",
    "res"
   ]
  },
  {
   "cell_type": "code",
   "execution_count": null,
   "id": "939c06ee",
   "metadata": {},
   "outputs": [],
   "source": [
    "#Transpose of an array\n",
    "# (2,3,4,5) becomes (5,4,3,2)\n",
    "res = arr2.T\n",
    "res"
   ]
  },
  {
   "cell_type": "code",
   "execution_count": null,
   "id": "60da2363",
   "metadata": {},
   "outputs": [],
   "source": [
    "#Data type used\n",
    "arr2.dtype"
   ]
  },
  {
   "cell_type": "code",
   "execution_count": null,
   "id": "adbe025e",
   "metadata": {},
   "outputs": [],
   "source": [
    "arr1.dtype"
   ]
  },
  {
   "cell_type": "code",
   "execution_count": null,
   "id": "1c636ce8",
   "metadata": {},
   "outputs": [],
   "source": [
    "foo = np.random.randint(low=1, high=6, size=(8))\n",
    "foo"
   ]
  },
  {
   "cell_type": "code",
   "execution_count": null,
   "id": "572a5268",
   "metadata": {},
   "outputs": [],
   "source": [
    "# Row major order\n",
    "# orders the row axis first\n",
    "foo.reshape((4,2), order='C')"
   ]
  },
  {
   "cell_type": "code",
   "execution_count": null,
   "id": "59ce899c",
   "metadata": {},
   "outputs": [],
   "source": [
    "# Row major order\n",
    "# orders the row axis first\n",
    "foo.reshape((2,2,2), order='C')"
   ]
  },
  {
   "cell_type": "code",
   "execution_count": null,
   "id": "c6b2097f",
   "metadata": {},
   "outputs": [],
   "source": [
    "# Column major order\n",
    "#Orders the last axis (column) first\n",
    "foo.reshape((4,2), order='F')"
   ]
  },
  {
   "cell_type": "code",
   "execution_count": null,
   "id": "979229cc",
   "metadata": {},
   "outputs": [],
   "source": [
    "# Column major order\n",
    "#Orders the last axis (column) first\n",
    "foo.reshape((2,2,2), order='F')"
   ]
  },
  {
   "cell_type": "code",
   "execution_count": null,
   "id": "8269fedd",
   "metadata": {},
   "outputs": [],
   "source": [
    "foo.shape = (4,2)\n",
    "foo"
   ]
  },
  {
   "cell_type": "code",
   "execution_count": null,
   "id": "951ae1ca",
   "metadata": {},
   "outputs": [],
   "source": [
    "foo.T\n",
    "# or\n",
    "np.transpose(foo)"
   ]
  },
  {
   "cell_type": "markdown",
   "id": "79263164",
   "metadata": {},
   "source": [
    "There are other number of functions for creating new arrays"
   ]
  },
  {
   "cell_type": "code",
   "execution_count": 3,
   "id": "7d5eb030",
   "metadata": {},
   "outputs": [
    {
     "name": "stdout",
     "output_type": "stream",
     "text": [
      "Help on built-in function arange in module numpy:\n",
      "\n",
      "arange(...)\n",
      "    arange([start,] stop[, step,], dtype=None, *, like=None)\n",
      "    \n",
      "    Return evenly spaced values within a given interval.\n",
      "    \n",
      "    Values are generated within the half-open interval ``[start, stop)``\n",
      "    (in other words, the interval including `start` but excluding `stop`).\n",
      "    For integer arguments the function is equivalent to the Python built-in\n",
      "    `range` function, but returns an ndarray rather than a list.\n",
      "    \n",
      "    When using a non-integer step, such as 0.1, the results will often not\n",
      "    be consistent.  It is better to use `numpy.linspace` for these cases.\n",
      "    \n",
      "    Parameters\n",
      "    ----------\n",
      "    start : integer or real, optional\n",
      "        Start of interval.  The interval includes this value.  The default\n",
      "        start value is 0.\n",
      "    stop : integer or real\n",
      "        End of interval.  The interval does not include this value, except\n",
      "        in some cases where `step` is not an integer and floating point\n",
      "        round-off affects the length of `out`.\n",
      "    step : integer or real, optional\n",
      "        Spacing between values.  For any output `out`, this is the distance\n",
      "        between two adjacent values, ``out[i+1] - out[i]``.  The default\n",
      "        step size is 1.  If `step` is specified as a position argument,\n",
      "        `start` must also be given.\n",
      "    dtype : dtype\n",
      "        The type of the output array.  If `dtype` is not given, infer the data\n",
      "        type from the other input arguments.\n",
      "    like : array_like\n",
      "        Reference object to allow the creation of arrays which are not\n",
      "        NumPy arrays. If an array-like passed in as ``like`` supports\n",
      "        the ``__array_function__`` protocol, the result will be defined\n",
      "        by it. In this case, it ensures the creation of an array object\n",
      "        compatible with that passed in via this argument.\n",
      "    \n",
      "        .. versionadded:: 1.20.0\n",
      "    \n",
      "    Returns\n",
      "    -------\n",
      "    arange : ndarray\n",
      "        Array of evenly spaced values.\n",
      "    \n",
      "        For floating point arguments, the length of the result is\n",
      "        ``ceil((stop - start)/step)``.  Because of floating point overflow,\n",
      "        this rule may result in the last element of `out` being greater\n",
      "        than `stop`.\n",
      "    \n",
      "    See Also\n",
      "    --------\n",
      "    numpy.linspace : Evenly spaced numbers with careful handling of endpoints.\n",
      "    numpy.ogrid: Arrays of evenly spaced numbers in N-dimensions.\n",
      "    numpy.mgrid: Grid-shaped arrays of evenly spaced numbers in N-dimensions.\n",
      "    \n",
      "    Examples\n",
      "    --------\n",
      "    >>> np.arange(3)\n",
      "    array([0, 1, 2])\n",
      "    >>> np.arange(3.0)\n",
      "    array([ 0.,  1.,  2.])\n",
      "    >>> np.arange(3,7)\n",
      "    array([3, 4, 5, 6])\n",
      "    >>> np.arange(3,7,2)\n",
      "    array([3, 5])\n",
      "\n"
     ]
    }
   ],
   "source": [
    "help(np.arange)"
   ]
  },
  {
   "cell_type": "code",
   "execution_count": 27,
   "id": "fae9eae5",
   "metadata": {},
   "outputs": [
    {
     "data": {
      "text/plain": [
       "array([ 5. ,  5.3,  5.6,  5.9,  6.2,  6.5,  6.8,  7.1,  7.4,  7.7,  8. ,\n",
       "        8.3,  8.6,  8.9,  9.2,  9.5,  9.8, 10.1, 10.4, 10.7, 11. , 11.3,\n",
       "       11.6, 11.9])"
      ]
     },
     "execution_count": 27,
     "metadata": {},
     "output_type": "execute_result"
    }
   ],
   "source": [
    "#With starting point and steps\n",
    "np.arange(5,12,0.3)"
   ]
  },
  {
   "cell_type": "markdown",
   "id": "77cefcb7",
   "metadata": {},
   "source": [
    "### SLICING"
   ]
  },
  {
   "cell_type": "code",
   "execution_count": null,
   "id": "54f682bc",
   "metadata": {},
   "outputs": [],
   "source": [
    "arr2"
   ]
  },
  {
   "cell_type": "code",
   "execution_count": null,
   "id": "735da5c5",
   "metadata": {},
   "outputs": [],
   "source": [
    "# Selecting the 3rd element in the second row\n",
    "arr2[1,2]\n"
   ]
  },
  {
   "cell_type": "markdown",
   "id": "cb478dd1",
   "metadata": {},
   "source": [
    "### Splitting Arrays\n",
    "It takes two arguments, the array to be splitted and the number of splits"
   ]
  },
  {
   "cell_type": "code",
   "execution_count": null,
   "id": "4f971cd7",
   "metadata": {},
   "outputs": [],
   "source": [
    "arr2"
   ]
  },
  {
   "cell_type": "code",
   "execution_count": null,
   "id": "b9db92d1",
   "metadata": {},
   "outputs": [],
   "source": [
    "np.hsplit(arr2,4)"
   ]
  },
  {
   "cell_type": "code",
   "execution_count": null,
   "id": "2e81278e",
   "metadata": {},
   "outputs": [],
   "source": [
    "#Indexing the splitted array\n",
    "np.hsplit(arr2,4)[1][1][0]"
   ]
  },
  {
   "cell_type": "code",
   "execution_count": null,
   "id": "6d7de11f",
   "metadata": {},
   "outputs": [],
   "source": [
    "np.vsplit(arr2,2)"
   ]
  },
  {
   "cell_type": "markdown",
   "id": "6661cda2",
   "metadata": {},
   "source": [
    "#### linspace function prints equidistant numbers between two range"
   ]
  },
  {
   "cell_type": "code",
   "execution_count": 8,
   "id": "eb2bbd04",
   "metadata": {},
   "outputs": [
    {
     "data": {
      "text/plain": [
       "array([1.        , 1.14285714, 1.28571429, 1.42857143, 1.57142857,\n",
       "       1.71428571, 1.85714286, 2.        ])"
      ]
     },
     "execution_count": 8,
     "metadata": {},
     "output_type": "execute_result"
    }
   ],
   "source": [
    "#Specifies the range and the number of elements\n",
    "#The default space is 50\n",
    "new = np.linspace(1,2,8)\n",
    "new"
   ]
  },
  {
   "cell_type": "code",
   "execution_count": null,
   "id": "e831906b",
   "metadata": {},
   "outputs": [],
   "source": [
    "np.linspace(start=0, stop=10, num = 8)"
   ]
  },
  {
   "cell_type": "code",
   "execution_count": null,
   "id": "946e43c6",
   "metadata": {},
   "outputs": [],
   "source": [
    "np.linspace(start=[0,5,6], stop=[10,15,7], num = 10)"
   ]
  },
  {
   "cell_type": "code",
   "execution_count": null,
   "id": "f14404ec",
   "metadata": {},
   "outputs": [],
   "source": [
    "np.linspace(start=[0,5,6], stop=[10,15,7], num = 10, axis=1)"
   ]
  },
  {
   "cell_type": "code",
   "execution_count": null,
   "id": "ace8afe7",
   "metadata": {},
   "outputs": [],
   "source": []
  },
  {
   "cell_type": "markdown",
   "id": "1906ea6e",
   "metadata": {},
   "source": [
    "#### Printing sum, max, min"
   ]
  },
  {
   "cell_type": "code",
   "execution_count": null,
   "id": "2add6616",
   "metadata": {},
   "outputs": [],
   "source": [
    "#Returns the maximum number\n",
    "arr2.max()"
   ]
  },
  {
   "cell_type": "code",
   "execution_count": null,
   "id": "dcfff2b0",
   "metadata": {},
   "outputs": [],
   "source": [
    "#Returns the minimum number\n",
    "arr2.min()"
   ]
  },
  {
   "cell_type": "code",
   "execution_count": null,
   "id": "e83f1970",
   "metadata": {},
   "outputs": [],
   "source": [
    "#Returns the sum of the array\n",
    "arr2.sum()"
   ]
  },
  {
   "cell_type": "markdown",
   "id": "6df9aa32",
   "metadata": {},
   "source": [
    "#### The rows are called axis1 and the columns are called axis 0\n",
    "You can find the sum of the variious axes"
   ]
  },
  {
   "cell_type": "code",
   "execution_count": null,
   "id": "03bd48e8",
   "metadata": {},
   "outputs": [],
   "source": [
    "arr2.sum(axis=0)"
   ]
  },
  {
   "cell_type": "code",
   "execution_count": null,
   "id": "886b61af",
   "metadata": {},
   "outputs": [],
   "source": [
    "arr2.sum(axis=1)"
   ]
  },
  {
   "cell_type": "code",
   "execution_count": null,
   "id": "43ec3cb4",
   "metadata": {},
   "outputs": [],
   "source": [
    "arr2"
   ]
  },
  {
   "cell_type": "code",
   "execution_count": null,
   "id": "2c55f34f",
   "metadata": {},
   "outputs": [],
   "source": [
    "#Finding the square root \n",
    "np.sqrt(arr2)"
   ]
  },
  {
   "cell_type": "code",
   "execution_count": null,
   "id": "16e488d7",
   "metadata": {},
   "outputs": [],
   "source": [
    "#Finding the standard deviation\n",
    "np.std(arr2)"
   ]
  },
  {
   "cell_type": "markdown",
   "id": "6fa8d331",
   "metadata": {},
   "source": [
    "## BASIC ARITHMETIC OPERATIONS\n",
    "These operations are done element wise."
   ]
  },
  {
   "cell_type": "code",
   "execution_count": null,
   "id": "cd05c083",
   "metadata": {},
   "outputs": [],
   "source": [
    "#Example\n",
    "a =np.array([[1,5,7],[4,7,9]])\n",
    "b =np.array([[5,9,1],[4.3,8,3]])\n"
   ]
  },
  {
   "cell_type": "code",
   "execution_count": null,
   "id": "a03c042f",
   "metadata": {},
   "outputs": [],
   "source": [
    "c =np.array([[5,9],[4.3,8],[33,6]])"
   ]
  },
  {
   "cell_type": "code",
   "execution_count": null,
   "id": "c572a609",
   "metadata": {},
   "outputs": [],
   "source": [
    "a"
   ]
  },
  {
   "cell_type": "code",
   "execution_count": null,
   "id": "c978d8c8",
   "metadata": {},
   "outputs": [],
   "source": [
    "b\n"
   ]
  },
  {
   "cell_type": "code",
   "execution_count": null,
   "id": "bf96668b",
   "metadata": {},
   "outputs": [],
   "source": [
    "c\n"
   ]
  },
  {
   "cell_type": "code",
   "execution_count": null,
   "id": "bbc2633d",
   "metadata": {},
   "outputs": [],
   "source": [
    "#ADDITION\n",
    "a+b"
   ]
  },
  {
   "cell_type": "code",
   "execution_count": null,
   "id": "0125b450",
   "metadata": {},
   "outputs": [],
   "source": [
    "dd = np.full(shape=(2,3), fill_value=6)\n",
    "dd\n",
    "a + dd"
   ]
  },
  {
   "cell_type": "code",
   "execution_count": null,
   "id": "bcfa4836",
   "metadata": {},
   "outputs": [],
   "source": [
    "#SUBTRACTION\n",
    "a-b"
   ]
  },
  {
   "cell_type": "code",
   "execution_count": null,
   "id": "16641ffa",
   "metadata": {},
   "outputs": [],
   "source": [
    "#MULTIPLICATION\n",
    "a*b"
   ]
  },
  {
   "cell_type": "code",
   "execution_count": null,
   "id": "72dd13ae",
   "metadata": {},
   "outputs": [],
   "source": [
    "#Matrix multiplication\n",
    "a @ c"
   ]
  },
  {
   "cell_type": "code",
   "execution_count": null,
   "id": "17d4dc71",
   "metadata": {},
   "outputs": [],
   "source": [
    "#DIVISION\n",
    "a/b"
   ]
  },
  {
   "cell_type": "markdown",
   "id": "e2cb1e5f",
   "metadata": {},
   "source": [
    "#### Vertical Stacking and Horizontal Stacking."
   ]
  },
  {
   "cell_type": "code",
   "execution_count": null,
   "id": "266b6a98",
   "metadata": {},
   "outputs": [],
   "source": [
    "## Vertical stacking\n",
    "np.vstack((a,b))"
   ]
  },
  {
   "cell_type": "code",
   "execution_count": null,
   "id": "7c7d4e8e",
   "metadata": {},
   "outputs": [],
   "source": [
    "## Horizontal stacking\n",
    "np.hstack((a,b))"
   ]
  },
  {
   "cell_type": "code",
   "execution_count": null,
   "id": "76405721",
   "metadata": {},
   "outputs": [],
   "source": [
    "#Converting ndarray to one dimension\n",
    "a.ravel()"
   ]
  },
  {
   "cell_type": "markdown",
   "id": "d48b90b0",
   "metadata": {},
   "source": [
    "## SPECIAL FUNCTIONS"
   ]
  },
  {
   "cell_type": "code",
   "execution_count": null,
   "id": "71fccd71",
   "metadata": {},
   "outputs": [],
   "source": [
    "import matplotlib.pyplot as plt"
   ]
  },
  {
   "cell_type": "code",
   "execution_count": null,
   "id": "265fa8b5",
   "metadata": {},
   "outputs": [],
   "source": [
    "x = np.arange(0,3*np.pi, 0.1)"
   ]
  },
  {
   "cell_type": "code",
   "execution_count": null,
   "id": "be44c0f9",
   "metadata": {},
   "outputs": [],
   "source": [
    "x\n"
   ]
  },
  {
   "cell_type": "code",
   "execution_count": null,
   "id": "e152cb56",
   "metadata": {},
   "outputs": [],
   "source": [
    "y= np.sin(x)"
   ]
  },
  {
   "cell_type": "code",
   "execution_count": null,
   "id": "ff613789",
   "metadata": {},
   "outputs": [],
   "source": [
    "y = np.cos(x)"
   ]
  },
  {
   "cell_type": "code",
   "execution_count": null,
   "id": "d9cee2e6",
   "metadata": {},
   "outputs": [],
   "source": [
    "y = np.tan(x)"
   ]
  },
  {
   "cell_type": "code",
   "execution_count": null,
   "id": "202e1dd3",
   "metadata": {},
   "outputs": [],
   "source": [
    "y\n"
   ]
  },
  {
   "cell_type": "code",
   "execution_count": null,
   "id": "47657b8b",
   "metadata": {},
   "outputs": [],
   "source": [
    "plt.plot(x,y)"
   ]
  },
  {
   "cell_type": "code",
   "execution_count": null,
   "id": "31d04dde",
   "metadata": {},
   "outputs": [],
   "source": [
    "plt.show()"
   ]
  },
  {
   "cell_type": "markdown",
   "id": "b577af76",
   "metadata": {},
   "source": [
    "### Exponential and Logarithmic Function"
   ]
  },
  {
   "cell_type": "code",
   "execution_count": null,
   "id": "a3974860",
   "metadata": {},
   "outputs": [],
   "source": [
    "arr2"
   ]
  },
  {
   "cell_type": "code",
   "execution_count": null,
   "id": "9f188c70",
   "metadata": {},
   "outputs": [],
   "source": [
    "ar = np.exp(arr2)\n",
    "ar"
   ]
  },
  {
   "cell_type": "code",
   "execution_count": null,
   "id": "7075e83b",
   "metadata": {},
   "outputs": [],
   "source": [
    "#Finding the natural logarithm\n",
    "ar = np.log(arr2)\n",
    "ar"
   ]
  },
  {
   "cell_type": "code",
   "execution_count": null,
   "id": "eb8fbc18",
   "metadata": {},
   "outputs": [],
   "source": [
    "#Finding the logarithm to base 10\n",
    "ar = np.log10(arr2)\n",
    "ar"
   ]
  },
  {
   "cell_type": "code",
   "execution_count": null,
   "id": "42dd3a36",
   "metadata": {},
   "outputs": [],
   "source": []
  },
  {
   "cell_type": "code",
   "execution_count": null,
   "id": "299473b5",
   "metadata": {},
   "outputs": [],
   "source": [
    "##25/08/2023"
   ]
  },
  {
   "cell_type": "markdown",
   "id": "24d5e648",
   "metadata": {},
   "source": [
    " Every element in the array must be of the same type and size.\n",
    "\n",
    "If an array's elements are also arrays, those inner arrays must have the same type and number of elements as each other."
   ]
  },
  {
   "cell_type": "code",
   "execution_count": null,
   "id": "cc3072cd",
   "metadata": {},
   "outputs": [],
   "source": [
    "np.zeros(shape=(3,5))"
   ]
  },
  {
   "cell_type": "code",
   "execution_count": 40,
   "id": "e2b5c04f",
   "metadata": {},
   "outputs": [
    {
     "data": {
      "text/plain": [
       "array([['dog', 'dog', 'dog', 'dog', 'dog'],\n",
       "       ['dog', 'dog', 'dog', 'dog', 'dog'],\n",
       "       ['dog', 'dog', 'dog', 'dog', 'dog']], dtype='<U3')"
      ]
     },
     "execution_count": 40,
     "metadata": {},
     "output_type": "execute_result"
    }
   ],
   "source": [
    "##Making use of the fill value\n",
    "np.full(shape=(3,5), fill_value=\"dog\")"
   ]
  },
  {
   "cell_type": "code",
   "execution_count": 39,
   "id": "18cc3e56",
   "metadata": {},
   "outputs": [
    {
     "data": {
      "text/plain": [
       "array([1, 3, 5, 7, 9])"
      ]
     },
     "execution_count": 39,
     "metadata": {},
     "output_type": "execute_result"
    }
   ],
   "source": [
    "np.arange(start=1, stop=10, step=2)"
   ]
  },
  {
   "cell_type": "markdown",
   "id": "aa00fc74",
   "metadata": {},
   "source": [
    "#### Slicing operation\n",
    "Syntax: foo[Start index : end index : Step size]"
   ]
  },
  {
   "cell_type": "code",
   "execution_count": 38,
   "id": "78dd06a4",
   "metadata": {},
   "outputs": [
    {
     "data": {
      "text/plain": [
       "array([[[19, 48, 22, 70, 34],\n",
       "        [52, 61,  1, 39, 32]],\n",
       "\n",
       "       [[85, 23, 11, 13, 89],\n",
       "        [58, 63, 40, 52, 65]],\n",
       "\n",
       "       [[ 5, 48,  5, 57, 84],\n",
       "        [ 6, 62, 83, 18, 12]]])"
      ]
     },
     "execution_count": 38,
     "metadata": {},
     "output_type": "execute_result"
    }
   ],
   "source": [
    "np.random.randint(low=1, high=90, size=(3,2,5))"
   ]
  },
  {
   "cell_type": "code",
   "execution_count": 43,
   "id": "ac23dae3",
   "metadata": {},
   "outputs": [],
   "source": [
    "foo = np.random.randint(low=1, high=90, size=(8))"
   ]
  },
  {
   "cell_type": "code",
   "execution_count": null,
   "id": "12d92eb0",
   "metadata": {},
   "outputs": [],
   "source": [
    "foo"
   ]
  },
  {
   "cell_type": "code",
   "execution_count": null,
   "id": "ba10fe5d",
   "metadata": {},
   "outputs": [],
   "source": [
    "#Prints from the begining to the fourth element\n",
    "foo[:4]"
   ]
  },
  {
   "cell_type": "code",
   "execution_count": null,
   "id": "75f379f4",
   "metadata": {},
   "outputs": [],
   "source": [
    "#Prints from the fifth element to the end\n",
    "foo[4:]"
   ]
  },
  {
   "cell_type": "code",
   "execution_count": 44,
   "id": "2784e309",
   "metadata": {},
   "outputs": [
    {
     "data": {
      "text/plain": [
       "array([89, 70, 86])"
      ]
     },
     "execution_count": 44,
     "metadata": {},
     "output_type": "execute_result"
    }
   ],
   "source": [
    "#Prints from the begining to the end skipping with steps\n",
    "foo[::3]"
   ]
  },
  {
   "cell_type": "code",
   "execution_count": null,
   "id": "b09e6372",
   "metadata": {},
   "outputs": [],
   "source": [
    "#we can modify multiple element at once\n",
    "# However the shape must be same\n",
    "foo[::3] = [100,200,300]"
   ]
  },
  {
   "cell_type": "code",
   "execution_count": null,
   "id": "94ddc02d",
   "metadata": {},
   "outputs": [],
   "source": [
    "foo"
   ]
  },
  {
   "cell_type": "code",
   "execution_count": null,
   "id": "1b6e5be8",
   "metadata": {},
   "outputs": [],
   "source": [
    "##For the last element\n",
    "foo[-1]\n",
    "foo[len(foo)-1]"
   ]
  },
  {
   "cell_type": "code",
   "execution_count": null,
   "id": "715fe36b",
   "metadata": {},
   "outputs": [],
   "source": [
    "##You can pass in a list\n",
    "foo[[1,2,1,-1]]"
   ]
  },
  {
   "cell_type": "code",
   "execution_count": null,
   "id": "4e42c499",
   "metadata": {},
   "outputs": [],
   "source": [
    "##the inner expression produces a list of zeros\n",
    "##Which is used as the index\n",
    "foo[np.zeros(shape=3, dtype='int32')]"
   ]
  },
  {
   "cell_type": "markdown",
   "id": "5dc91044",
   "metadata": {},
   "source": [
    "#### Working with 2-D Arrays"
   ]
  },
  {
   "cell_type": "code",
   "execution_count": null,
   "id": "6e39a5dc",
   "metadata": {},
   "outputs": [],
   "source": [
    "bar = np.array(\n",
    "    [\n",
    "        [5,10,15,20],\n",
    "        [25,30,35,40],\n",
    "        [45,50,55,60]\n",
    "    ]\n",
    ")"
   ]
  },
  {
   "cell_type": "code",
   "execution_count": null,
   "id": "a542a134",
   "metadata": {},
   "outputs": [],
   "source": [
    "bar"
   ]
  },
  {
   "cell_type": "code",
   "execution_count": null,
   "id": "7f567106",
   "metadata": {},
   "outputs": [],
   "source": [
    "#Entire row\n",
    "bar[0]"
   ]
  },
  {
   "cell_type": "code",
   "execution_count": null,
   "id": "7ad5b38b",
   "metadata": {},
   "outputs": [],
   "source": [
    "#single row as a 2-d array\n",
    "bar[1,None]"
   ]
  },
  {
   "cell_type": "code",
   "execution_count": null,
   "id": "67692709",
   "metadata": {},
   "outputs": [],
   "source": [
    "bar[-1]"
   ]
  },
  {
   "cell_type": "code",
   "execution_count": null,
   "id": "8353e965",
   "metadata": {},
   "outputs": [],
   "source": [
    "bar[:2]"
   ]
  },
  {
   "cell_type": "code",
   "execution_count": null,
   "id": "f41f3524",
   "metadata": {},
   "outputs": [],
   "source": [
    "#comma can be used to swparate row index from the column index\n",
    "bar[1:3,[-2,-1]]"
   ]
  },
  {
   "cell_type": "code",
   "execution_count": null,
   "id": "53f38d37",
   "metadata": {},
   "outputs": [],
   "source": [
    "#same thing\n",
    "bar[0,0]\n",
    "bar[0][0]"
   ]
  },
  {
   "cell_type": "code",
   "execution_count": null,
   "id": "baab75b4",
   "metadata": {},
   "outputs": [],
   "source": [
    "#replacing values\n",
    "bar[0,0] = -1\n",
    "bar"
   ]
  },
  {
   "cell_type": "code",
   "execution_count": null,
   "id": "ac34791a",
   "metadata": {},
   "outputs": [],
   "source": [
    "#replacing one row with the other\n",
    "bar[1] = bar[2]\n",
    "bar"
   ]
  },
  {
   "cell_type": "code",
   "execution_count": null,
   "id": "1ce66435",
   "metadata": {},
   "outputs": [],
   "source": [
    "#Printing zeros across the diagnal\n",
    "bar[np.arange(3),np.arange(3)] = np.zeros(3, 'int32')\n",
    "bar\n",
    "\n",
    "#bar[[0,1,2],[0,1,2]] = [0,0,0]"
   ]
  },
  {
   "cell_type": "code",
   "execution_count": null,
   "id": "9110854e",
   "metadata": {},
   "outputs": [],
   "source": [
    "np.zeros(3, 'int32')"
   ]
  },
  {
   "cell_type": "markdown",
   "id": "c96964d1",
   "metadata": {},
   "source": [
    "ONE DIMENSIONAL ARRAY --> ROW\n",
    "\n",
    "TWO DIMENSIONAL ARRAY --> MATRIX\n",
    "\n",
    "THREE DIMENSIONAL ARRAY --> ROW OF MATRICES\n",
    "\n",
    "FOUR DIMENSIONAL ARRAY --> MATRIX OF MATRICES"
   ]
  },
  {
   "cell_type": "code",
   "execution_count": null,
   "id": "22ad75dd",
   "metadata": {},
   "outputs": [],
   "source": [
    "#Creating a three dimensional array\n",
    "zoo =  np.array([\n",
    "    [\n",
    "        [10,20],\n",
    "        [30,40],\n",
    "        [50,60]\n",
    "    ],\n",
    "    [\n",
    "        [11,12],\n",
    "        [13,14],\n",
    "        [15,16]\n",
    "    ],\n",
    "])\n",
    "zoo"
   ]
  },
  {
   "cell_type": "code",
   "execution_count": null,
   "id": "fab083e2",
   "metadata": {},
   "outputs": [],
   "source": [
    "##Replacing 1 matrix, every row, of the 2 column with a number\n",
    "zoo[0,:,1] = 5\n",
    "zoo\n"
   ]
  },
  {
   "cell_type": "markdown",
   "id": "542ab6ff",
   "metadata": {},
   "source": [
    "### Challenge 1\n",
    "#### Setup\n",
    "With your high school reunion fast approaching, you decide to get in shape and lose some weight. You record your weight every day for five weeks on a Monday. Given these daily weights, build an array with your average weight per weekend\n"
   ]
  },
  {
   "cell_type": "code",
   "execution_count": null,
   "id": "208feb1f",
   "metadata": {},
   "outputs": [],
   "source": [
    "dailywts = 185 - np.arange(5*7)/5\n",
    "dailywts\n"
   ]
  },
  {
   "cell_type": "code",
   "execution_count": null,
   "id": "5b8bc69e",
   "metadata": {},
   "outputs": [],
   "source": [
    "np.arange(5*7)/5"
   ]
  },
  {
   "cell_type": "code",
   "execution_count": null,
   "id": "50397064",
   "metadata": {},
   "outputs": [],
   "source": [
    "np.arange(35)/5"
   ]
  },
  {
   "cell_type": "markdown",
   "id": "59c3c69a",
   "metadata": {},
   "source": [
    "#### Solution"
   ]
  },
  {
   "cell_type": "code",
   "execution_count": null,
   "id": "7af32248",
   "metadata": {},
   "outputs": [],
   "source": [
    "##Getting Friday and Saturday\n",
    "dailywts[5::7]"
   ]
  },
  {
   "cell_type": "code",
   "execution_count": null,
   "id": "b14a95ce",
   "metadata": {},
   "outputs": [],
   "source": [
    "#Saturday\n",
    "dailywts[6::7]"
   ]
  },
  {
   "cell_type": "code",
   "execution_count": null,
   "id": "8c35c85e",
   "metadata": {},
   "outputs": [],
   "source": [
    "#Adding the two arrays element wise\n",
    "dailywts[5::7] + dailywts[6::7]"
   ]
  },
  {
   "cell_type": "code",
   "execution_count": null,
   "id": "61fb83c5",
   "metadata": {},
   "outputs": [],
   "source": [
    "#Getting the average by division\n",
    "(dailywts[5::7] + dailywts[6::7])/2"
   ]
  },
  {
   "cell_type": "code",
   "execution_count": null,
   "id": "cabbde2d",
   "metadata": {},
   "outputs": [],
   "source": []
  },
  {
   "cell_type": "markdown",
   "id": "291b3499",
   "metadata": {},
   "source": [
    "### Challenge 2\n",
    "#### Setup\n",
    "After binge watching the discovery channel, you dich your job as a trial lawyer to become a gold miner. You decide to prospect five locations underneath a 7*7 grid of land. How much gold to you uncover at each location?\n"
   ]
  },
  {
   "cell_type": "code",
   "execution_count": null,
   "id": "8f2766d7",
   "metadata": {},
   "outputs": [],
   "source": [
    "np.random.seed(5555)\n",
    "gold = np.random.randint(0,10,(7,7))\n",
    "## gold = np.random.randint(low=0,high=10,size=(7,7))\n",
    "gold"
   ]
  },
  {
   "cell_type": "code",
   "execution_count": null,
   "id": "6d8951a7",
   "metadata": {},
   "outputs": [],
   "source": [
    "locs = np.array([\n",
    "    [0,4],\n",
    "    [2,2],\n",
    "    [2,3],\n",
    "    [5,1],\n",
    "    [6,3]\n",
    "])\n",
    "locs"
   ]
  },
  {
   "cell_type": "markdown",
   "id": "07c0fd34",
   "metadata": {},
   "source": [
    "#### Solution"
   ]
  },
  {
   "cell_type": "code",
   "execution_count": null,
   "id": "a4a997e3",
   "metadata": {},
   "outputs": [],
   "source": [
    "gold[0,4]"
   ]
  },
  {
   "cell_type": "code",
   "execution_count": null,
   "id": "38f1f4ec",
   "metadata": {},
   "outputs": [],
   "source": [
    "gold[2,2]"
   ]
  },
  {
   "cell_type": "code",
   "execution_count": null,
   "id": "22e3bbf7",
   "metadata": {},
   "outputs": [],
   "source": [
    "#Passing a list of row indices and column indices\n",
    "gold[[0,2],[4,2]]"
   ]
  },
  {
   "cell_type": "code",
   "execution_count": null,
   "id": "b476dfef",
   "metadata": {},
   "outputs": [],
   "source": [
    "#getting entire row and column indices\n",
    "locs[:, 0]"
   ]
  },
  {
   "cell_type": "code",
   "execution_count": null,
   "id": "3072d243",
   "metadata": {},
   "outputs": [],
   "source": [
    "locs[:,1]"
   ]
  },
  {
   "cell_type": "code",
   "execution_count": null,
   "id": "34e8c80b",
   "metadata": {},
   "outputs": [],
   "source": [
    "gold[locs[:, 0],locs[:,1]]"
   ]
  },
  {
   "cell_type": "markdown",
   "id": "8df01cf2",
   "metadata": {},
   "source": [
    "### Broadcasting \n",
    "Suppose we want to add two arrays, A and B...\n",
    "\n",
    "Moving Backwards from the last dimension of each array, we check if their dimensions are compatible.\n",
    "\n",
    "Dimensions are compatible if they are equal or either of them is one.\n",
    "\n",
    "If all of A's dimension are compatible with B's dimensions, or vice versa, they are compatible arrays."
   ]
  },
  {
   "cell_type": "code",
   "execution_count": null,
   "id": "8145de6e",
   "metadata": {},
   "outputs": [],
   "source": [
    "#Examples\n",
    "np.random.seed(1234)\n",
    "A = np.random.randint(low=1, high=10, size = (3,4))\n",
    "B = np.random.randint(low=1, high=10, size = (3,1))\n"
   ]
  },
  {
   "cell_type": "code",
   "execution_count": null,
   "id": "4fa53d64",
   "metadata": {},
   "outputs": [],
   "source": [
    "A"
   ]
  },
  {
   "cell_type": "code",
   "execution_count": null,
   "id": "9df9c614",
   "metadata": {},
   "outputs": [],
   "source": [
    "B"
   ]
  },
  {
   "cell_type": "code",
   "execution_count": null,
   "id": "65609eec",
   "metadata": {},
   "outputs": [],
   "source": [
    "A+B"
   ]
  },
  {
   "cell_type": "code",
   "execution_count": null,
   "id": "a4bfb3b4",
   "metadata": {},
   "outputs": [],
   "source": [
    "np.random.seed(1234)\n",
    "A = np.random.randint(low=1, high=10, size = (4,4))\n",
    "B = np.random.randint(low=1, high=10, size = (2,1))\n"
   ]
  },
  {
   "cell_type": "code",
   "execution_count": null,
   "id": "52b65b93",
   "metadata": {},
   "outputs": [],
   "source": [
    "A + B"
   ]
  },
  {
   "cell_type": "code",
   "execution_count": null,
   "id": "b2ad6d58",
   "metadata": {},
   "outputs": [],
   "source": [
    "np.random.seed(1234)\n",
    "A = np.random.randint(low=1, high=10, size = (3,1,4))\n",
    "B = np.random.randint(low=1, high=10, size = (2,1))\n"
   ]
  },
  {
   "cell_type": "code",
   "execution_count": null,
   "id": "14ee37b6",
   "metadata": {},
   "outputs": [],
   "source": [
    "A"
   ]
  },
  {
   "cell_type": "code",
   "execution_count": null,
   "id": "3ffa7f8d",
   "metadata": {},
   "outputs": [],
   "source": [
    "B"
   ]
  },
  {
   "cell_type": "code",
   "execution_count": null,
   "id": "0aac773b",
   "metadata": {},
   "outputs": [],
   "source": [
    "A+B"
   ]
  },
  {
   "cell_type": "code",
   "execution_count": null,
   "id": "8a002f65",
   "metadata": {},
   "outputs": [],
   "source": [
    "##Making use of the newaxis\n",
    "#Creates a new axis either in front or behind, depending on where the functtion\n",
    "# is placed. It converts a 1-d array to 2,3...d array."
   ]
  },
  {
   "cell_type": "code",
   "execution_count": null,
   "id": "72d698b9",
   "metadata": {},
   "outputs": [],
   "source": [
    "#Example\n",
    "aa = np.array([3, 11, 4, 5])\n",
    "bb = np.array([5, 0, 3])"
   ]
  },
  {
   "cell_type": "code",
   "execution_count": null,
   "id": "a2a4b362",
   "metadata": {},
   "outputs": [],
   "source": [
    "aa\n"
   ]
  },
  {
   "cell_type": "code",
   "execution_count": null,
   "id": "ad5709fd",
   "metadata": {},
   "outputs": [],
   "source": [
    "bb"
   ]
  },
  {
   "cell_type": "code",
   "execution_count": null,
   "id": "24006daa",
   "metadata": {},
   "outputs": [],
   "source": [
    "#More of a transpose\n",
    "aa[:, np.newaxis]"
   ]
  },
  {
   "cell_type": "code",
   "execution_count": null,
   "id": "a23f379b",
   "metadata": {},
   "outputs": [],
   "source": [
    "bb[np.newaxis,:]"
   ]
  },
  {
   "cell_type": "code",
   "execution_count": null,
   "id": "1eb985e7",
   "metadata": {},
   "outputs": [],
   "source": [
    "##Newaxis is an alias for the 'None' keyword\n",
    "bb[None,:]"
   ]
  },
  {
   "cell_type": "markdown",
   "id": "9725dff2",
   "metadata": {},
   "source": [
    "### Boolean Indexing"
   ]
  },
  {
   "cell_type": "code",
   "execution_count": null,
   "id": "913a061d",
   "metadata": {},
   "outputs": [],
   "source": [
    "import numpy as np"
   ]
  },
  {
   "cell_type": "code",
   "execution_count": null,
   "id": "1ac54d55",
   "metadata": {},
   "outputs": [],
   "source": [
    "np.random.seed(1234)\n",
    "foo = np.random.randint(1,9,(3,3))\n",
    "foo"
   ]
  },
  {
   "cell_type": "code",
   "execution_count": null,
   "id": "bbbb9bdc",
   "metadata": {},
   "outputs": [],
   "source": [
    "#Gives an array of boolean values\n",
    "foo == 5"
   ]
  },
  {
   "cell_type": "code",
   "execution_count": null,
   "id": "186e141b",
   "metadata": {},
   "outputs": [],
   "source": [
    "foo < 5"
   ]
  },
  {
   "cell_type": "code",
   "execution_count": null,
   "id": "a8a95460",
   "metadata": {},
   "outputs": [],
   "source": [
    "foo > 5"
   ]
  },
  {
   "cell_type": "code",
   "execution_count": null,
   "id": "46f25fff",
   "metadata": {},
   "outputs": [],
   "source": [
    "foo <= 5"
   ]
  },
  {
   "cell_type": "code",
   "execution_count": null,
   "id": "fc81b460",
   "metadata": {},
   "outputs": [],
   "source": [
    "foo >= 5"
   ]
  },
  {
   "cell_type": "code",
   "execution_count": null,
   "id": "e6d50bfe",
   "metadata": {},
   "outputs": [],
   "source": [
    "(foo == 5) | (foo != 5)"
   ]
  },
  {
   "cell_type": "code",
   "execution_count": null,
   "id": "f53e6182",
   "metadata": {},
   "outputs": [],
   "source": [
    "(foo == 5) & (foo != 5)"
   ]
  },
  {
   "cell_type": "code",
   "execution_count": null,
   "id": "8a837953",
   "metadata": {},
   "outputs": [],
   "source": [
    "foo != 5"
   ]
  },
  {
   "cell_type": "code",
   "execution_count": null,
   "id": "24ab4acf",
   "metadata": {},
   "outputs": [],
   "source": [
    "mask = foo != 5"
   ]
  },
  {
   "cell_type": "code",
   "execution_count": null,
   "id": "3f9f1909",
   "metadata": {},
   "outputs": [],
   "source": [
    "foo"
   ]
  },
  {
   "cell_type": "code",
   "execution_count": null,
   "id": "d4b2df6e",
   "metadata": {},
   "outputs": [],
   "source": [
    "foo[mask]"
   ]
  },
  {
   "cell_type": "code",
   "execution_count": null,
   "id": "ee004815",
   "metadata": {},
   "outputs": [],
   "source": [
    "#We can set all the values that corresponds to True to zero or any number\n",
    "foo[mask] = 100\n",
    "foo"
   ]
  },
  {
   "cell_type": "markdown",
   "id": "301f180d",
   "metadata": {},
   "source": [
    "#### Using a 1-D boolean array to pick rows from a 2-D array"
   ]
  },
  {
   "cell_type": "code",
   "execution_count": null,
   "id": "d33ee29c",
   "metadata": {},
   "outputs": [],
   "source": [
    "#You can use a 1-D boolean array to pick rows from a 2-D array\n",
    "rows_1_and_3 = np.array([True, False, True])\n",
    "cols_2_and_3 = np.array([False, True, True])"
   ]
  },
  {
   "cell_type": "code",
   "execution_count": null,
   "id": "2e10db2d",
   "metadata": {},
   "outputs": [],
   "source": [
    "#It since the array is a 1-D array, it pick the first and the third row\n",
    "foo[rows_1_and_3] #like foo[[0,2]]"
   ]
  },
  {
   "cell_type": "code",
   "execution_count": null,
   "id": "43746bbd",
   "metadata": {},
   "outputs": [],
   "source": [
    " foo[[0,2]]"
   ]
  },
  {
   "cell_type": "code",
   "execution_count": null,
   "id": "ceec7044",
   "metadata": {},
   "outputs": [],
   "source": [
    "#It since the array is a 1-D array, it pick the second and the third row\n",
    "foo[cols_2_and_3] #like foo[:, [1,2]]"
   ]
  },
  {
   "cell_type": "code",
   "execution_count": null,
   "id": "49c56b06",
   "metadata": {},
   "outputs": [],
   "source": [
    "# Selecting all the rows, then the column number that corresponds to True in\n",
    "# boolean array\n",
    "foo[:, rows_2_and_3]"
   ]
  },
  {
   "cell_type": "code",
   "execution_count": null,
   "id": "ba91e362",
   "metadata": {},
   "outputs": [],
   "source": [
    "foo[:, [1,2]]"
   ]
  },
  {
   "cell_type": "code",
   "execution_count": null,
   "id": "641ca555",
   "metadata": {},
   "outputs": [],
   "source": [
    "foo[rows_1_and_3, cols_2_and_3] #like foo[[0,2],[1,2]]"
   ]
  },
  {
   "cell_type": "code",
   "execution_count": null,
   "id": "332e8b74",
   "metadata": {},
   "outputs": [],
   "source": [
    "# Here we have lists of pairs of row indices and column indices\n",
    "foo[[0,2],[1,2]] "
   ]
  },
  {
   "cell_type": "markdown",
   "id": "912327a4",
   "metadata": {},
   "source": [
    "#### Examples of Boolean indexing in action"
   ]
  },
  {
   "cell_type": "code",
   "execution_count": null,
   "id": "f8f1c06d",
   "metadata": {},
   "outputs": [],
   "source": [
    "import numpy as np"
   ]
  },
  {
   "cell_type": "code",
   "execution_count": null,
   "id": "0fcdf1ba",
   "metadata": {},
   "outputs": [],
   "source": [
    "names = np.array([\"Dennis\", \"Lucius\", \"Mike\", \"Frank\", \"Bae\"])\n",
    "ages = np.array([43, 44, 43, 42, 74])\n",
    "genders =np.array(['male', 'female', 'male', 'male', 'female'])"
   ]
  },
  {
   "cell_type": "code",
   "execution_count": null,
   "id": "b29c36cb",
   "metadata": {},
   "outputs": [],
   "source": [
    "#Who's at least 44?\n",
    "ages >= 44"
   ]
  },
  {
   "cell_type": "code",
   "execution_count": null,
   "id": "cf6b1300",
   "metadata": {},
   "outputs": [],
   "source": [
    "names[ages >= 44]"
   ]
  },
  {
   "cell_type": "code",
   "execution_count": null,
   "id": "367a84b5",
   "metadata": {},
   "outputs": [],
   "source": [
    "#Which males are over 42?\n",
    "genders == 'male'"
   ]
  },
  {
   "cell_type": "code",
   "execution_count": null,
   "id": "a8b82322",
   "metadata": {},
   "outputs": [],
   "source": [
    "ages > 42"
   ]
  },
  {
   "cell_type": "code",
   "execution_count": null,
   "id": "0706fd25",
   "metadata": {},
   "outputs": [],
   "source": [
    "(genders == 'male') & (ages > 42)"
   ]
  },
  {
   "cell_type": "code",
   "execution_count": null,
   "id": "f5400929",
   "metadata": {},
   "outputs": [],
   "source": [
    "names[(genders == 'male') & (ages > 42)]"
   ]
  },
  {
   "cell_type": "code",
   "execution_count": null,
   "id": "fe01f38d",
   "metadata": {},
   "outputs": [],
   "source": [
    "#And who's not a male or is younger than 43?\n",
    "~(genders == 'male') | (ages < 43)"
   ]
  },
  {
   "cell_type": "code",
   "execution_count": null,
   "id": "96fd81e8",
   "metadata": {},
   "outputs": [],
   "source": [
    "names[~(genders == 'male') | (ages < 43)]"
   ]
  },
  {
   "cell_type": "markdown",
   "id": "0e1a5124",
   "metadata": {},
   "source": [
    "### nan\n",
    "Use to represent missing or invalid values"
   ]
  },
  {
   "cell_type": "code",
   "execution_count": null,
   "id": "91d97bcd",
   "metadata": {},
   "outputs": [],
   "source": [
    "bot = np.ones(shape=(3,4))\n",
    "bot[[0,2],[1,2]] = np.nan\n",
    "bot"
   ]
  },
  {
   "cell_type": "code",
   "execution_count": null,
   "id": "8848520f",
   "metadata": {},
   "outputs": [],
   "source": [
    "## you may want to identify which element are nan,\n",
    "# but the result will surprise you\n",
    "bot == np.nan"
   ]
  },
  {
   "cell_type": "code",
   "execution_count": null,
   "id": "69d01753",
   "metadata": {},
   "outputs": [],
   "source": [
    "np.nan == np.nan"
   ]
  },
  {
   "cell_type": "code",
   "execution_count": null,
   "id": "5f61b328",
   "metadata": {},
   "outputs": [],
   "source": [
    "#Equivalence between missing or invalid values is not well defined\n",
    "np.nan != np.nan"
   ]
  },
  {
   "cell_type": "code",
   "execution_count": null,
   "id": "9ffc3e11",
   "metadata": {},
   "outputs": [],
   "source": [
    "#you can use this function to check which element is nan\n",
    "np.isnan(bot)"
   ]
  },
  {
   "cell_type": "code",
   "execution_count": null,
   "id": "e721d9dc",
   "metadata": {},
   "outputs": [],
   "source": [
    "#nan is a special floating point constant, it can only exist in an arrya of\n",
    "#floats\n",
    "doo = np.array([1,2,1,5], dtype='int32')\n",
    "doo[:2] = np.nan"
   ]
  },
  {
   "cell_type": "markdown",
   "id": "40d18bf1",
   "metadata": {},
   "source": [
    "#### Infinite Values in Numpy"
   ]
  },
  {
   "cell_type": "code",
   "execution_count": null,
   "id": "b4994191",
   "metadata": {},
   "outputs": [],
   "source": [
    "import numpy as np"
   ]
  },
  {
   "cell_type": "code",
   "execution_count": null,
   "id": "a7a22354",
   "metadata": {},
   "outputs": [],
   "source": [
    "np.array([np.inf, np.NINF])"
   ]
  },
  {
   "cell_type": "code",
   "execution_count": null,
   "id": "fa3294f4",
   "metadata": {},
   "outputs": [],
   "source": [
    "#These value occur when you divide by zero\n",
    "np.array([1, -1])/0"
   ]
  },
  {
   "cell_type": "code",
   "execution_count": null,
   "id": "2fbeb6c4",
   "metadata": {},
   "outputs": [],
   "source": [
    "np.inf * 2 "
   ]
  },
  {
   "cell_type": "code",
   "execution_count": null,
   "id": "4d50d247",
   "metadata": {},
   "outputs": [],
   "source": [
    "np.inf + np.inf"
   ]
  },
  {
   "cell_type": "code",
   "execution_count": null,
   "id": "ae883896",
   "metadata": {},
   "outputs": [],
   "source": [
    "np.inf - np.inf"
   ]
  },
  {
   "cell_type": "code",
   "execution_count": null,
   "id": "d1e75b22",
   "metadata": {},
   "outputs": [],
   "source": [
    "np.inf / np.inf"
   ]
  },
  {
   "cell_type": "code",
   "execution_count": null,
   "id": "f4b37fbe",
   "metadata": {},
   "outputs": [],
   "source": [
    "np.inf == np.inf"
   ]
  },
  {
   "cell_type": "code",
   "execution_count": null,
   "id": "4f929354",
   "metadata": {},
   "outputs": [],
   "source": [
    "np.NINF == np.NINF"
   ]
  },
  {
   "cell_type": "code",
   "execution_count": null,
   "id": "26711f8e",
   "metadata": {},
   "outputs": [],
   "source": [
    "coo = np.array([2, 4, np.inf, 8, np.NINF])"
   ]
  },
  {
   "cell_type": "code",
   "execution_count": null,
   "id": "abbaf56d",
   "metadata": {},
   "outputs": [],
   "source": [
    "coo == np.NINF"
   ]
  },
  {
   "cell_type": "code",
   "execution_count": null,
   "id": "19b113a3",
   "metadata": {},
   "outputs": [],
   "source": [
    "coo == np.inf"
   ]
  },
  {
   "cell_type": "code",
   "execution_count": null,
   "id": "f08a3ff0",
   "metadata": {},
   "outputs": [],
   "source": [
    "np.isposinf(coo)"
   ]
  },
  {
   "cell_type": "code",
   "execution_count": null,
   "id": "911366ea",
   "metadata": {},
   "outputs": [],
   "source": [
    "np.isneginf(coo)"
   ]
  },
  {
   "cell_type": "code",
   "execution_count": null,
   "id": "d0e6d61f",
   "metadata": {},
   "outputs": [],
   "source": [
    "np.isinf(coo)"
   ]
  },
  {
   "cell_type": "markdown",
   "id": "f7215bac",
   "metadata": {},
   "source": [
    "#### Random Values in Numpy"
   ]
  },
  {
   "cell_type": "code",
   "execution_count": null,
   "id": "f102b883",
   "metadata": {},
   "outputs": [],
   "source": [
    "import numpy as np"
   ]
  },
  {
   "cell_type": "code",
   "execution_count": null,
   "id": "57abd8a4",
   "metadata": {},
   "outputs": [],
   "source": [
    "#Getting reproducable result\n",
    "np.random.seed(1111)\n",
    "np.random.randint(low=1, high=7, size=3)"
   ]
  },
  {
   "cell_type": "code",
   "execution_count": null,
   "id": "6839098a",
   "metadata": {},
   "outputs": [],
   "source": [
    "##Drawing values without replacement\n",
    "np.random.seed(22357)\n",
    "np.random.choice(\n",
    "    a = np.arange(1,7), #this is the choice of list\n",
    "    size = 3,\n",
    "    replace = False,\n",
    "    p = None\n",
    ")"
   ]
  },
  {
   "cell_type": "code",
   "execution_count": null,
   "id": "781e6c80",
   "metadata": {},
   "outputs": [],
   "source": [
    "##Creating samples with different probabilites\n",
    "## 'p' should have the same number of element as \n",
    "##the array of values\n",
    "## sum of the probability should be equal to one\n",
    "##Drawing values without replacement\n",
    "\n",
    "np.random.choice(\n",
    "    a = np.arange(1,7), #this is the choice of list\n",
    "    size = 3,\n",
    "    replace = False, \n",
    "    p = np.array([0.1,0.1,0.1,0.1,0.3,0.3])\n",
    ")"
   ]
  },
  {
   "cell_type": "code",
   "execution_count": null,
   "id": "aad51150",
   "metadata": {},
   "outputs": [],
   "source": [
    "## Sampling strins without replacement\n",
    "np.random.choice(\n",
    "    a = np.array(['you', 'can', 'use', 'strings','too']),\n",
    "    size = 3, \n",
    "    replace = False,\n",
    "    p = None\n",
    ")"
   ]
  },
  {
   "cell_type": "code",
   "execution_count": null,
   "id": "9d1beb15",
   "metadata": {},
   "outputs": [],
   "source": [
    "##Sampling rows from a 2-D array\n",
    "soo = np.arange(1,11)\n",
    "soo"
   ]
  },
  {
   "cell_type": "code",
   "execution_count": null,
   "id": "b86f9446",
   "metadata": {},
   "outputs": [],
   "source": [
    "soo = soo.reshape((5,-1), order = 'C')\n",
    "soo"
   ]
  },
  {
   "cell_type": "code",
   "execution_count": null,
   "id": "d054df20",
   "metadata": {},
   "outputs": [],
   "source": [
    "soo.shape[0]"
   ]
  },
  {
   "cell_type": "code",
   "execution_count": null,
   "id": "523f1914",
   "metadata": {},
   "outputs": [],
   "source": [
    "##Sampling 3 rows with replacement\n",
    "np.random.seed()\n",
    "rand_rows = np.random.randint(\n",
    "    low = 0,\n",
    "    high = soo.shape[0],\n",
    "    size = 3\n",
    ")\n",
    "rand_rows"
   ]
  },
  {
   "cell_type": "code",
   "execution_count": null,
   "id": "4692039b",
   "metadata": {},
   "outputs": [],
   "source": [
    "soo[rand_rows]"
   ]
  },
  {
   "cell_type": "code",
   "execution_count": null,
   "id": "db5e5624",
   "metadata": {},
   "outputs": [],
   "source": [
    "#Sampling without replacement\n",
    "np.random.seed(1234)\n",
    "rand_rows = np.random.choice(\n",
    "    a = np.arange(start=0, stop=soo.shape[0]),\n",
    "    replace = False,\n",
    "    size = 3\n",
    ")\n",
    "print(rand_rows)"
   ]
  },
  {
   "cell_type": "code",
   "execution_count": null,
   "id": "6e03324b",
   "metadata": {},
   "outputs": [],
   "source": [
    "#Subsetting soo\n",
    "soo[rand_rows]"
   ]
  },
  {
   "cell_type": "code",
   "execution_count": null,
   "id": "058d9426",
   "metadata": {},
   "outputs": [],
   "source": [
    "soo\n"
   ]
  },
  {
   "cell_type": "code",
   "execution_count": null,
   "id": "89210d52",
   "metadata": {},
   "outputs": [],
   "source": [
    "##it only shuffles the data along its first axis\n",
    "#only the rows\n",
    "np.random.permutation(soo)"
   ]
  },
  {
   "cell_type": "code",
   "execution_count": null,
   "id": "8f165761",
   "metadata": {},
   "outputs": [],
   "source": [
    "##uniform distribution\n",
    "np.random.uniform(low=1.0, high=3.0, size=(2,2))"
   ]
  },
  {
   "cell_type": "code",
   "execution_count": null,
   "id": "24476b61",
   "metadata": {},
   "outputs": [],
   "source": [
    "#Normal distribution\n",
    "#here 'loc'= mean, 'scale' = stdev, 'size' = tuple\n",
    "np.random.normal(loc=0.0, scale=1.0, size=(2,3))"
   ]
  },
  {
   "cell_type": "code",
   "execution_count": null,
   "id": "142bc651",
   "metadata": {},
   "outputs": [],
   "source": [
    "#Binomial distribution\n",
    "np.random.binomial(n = 60, p = 0.25, size = (4,2))"
   ]
  },
  {
   "cell_type": "markdown",
   "id": "753e1b65",
   "metadata": {},
   "source": [
    "##### Creating a Customized Random Generator"
   ]
  },
  {
   "cell_type": "code",
   "execution_count": null,
   "id": "4597af81",
   "metadata": {},
   "outputs": [],
   "source": [
    "#Create a generator\n",
    "generator = np.random.default_rng(seed=123)"
   ]
  },
  {
   "cell_type": "code",
   "execution_count": null,
   "id": "80064d8f",
   "metadata": {},
   "outputs": [],
   "source": [
    "#Sampling three ints between 1 and 6 with replacement\n",
    "#np.random.randint(low=1, high=7, size=3)\n",
    "generator.integers(low=1, high=7, size=3)"
   ]
  },
  {
   "cell_type": "code",
   "execution_count": null,
   "id": "4d5b44f2",
   "metadata": {},
   "outputs": [],
   "source": [
    "#Sampling three ints between 1 and 8 without replacement\n",
    "#np.random.choice(a=9, size=3, replace=True)\n",
    "generator.choice(a=9, size=3, replace=True)"
   ]
  },
  {
   "cell_type": "code",
   "execution_count": null,
   "id": "bb72d0a9",
   "metadata": {},
   "outputs": [],
   "source": [
    "soo"
   ]
  },
  {
   "cell_type": "code",
   "execution_count": null,
   "id": "59d6b1bc",
   "metadata": {},
   "outputs": [],
   "source": [
    "#Randomly shuffling the rows of a 2d array, soo\n",
    "#np.random.permutation(foo)\n",
    "\n",
    "generator.permutation(soo, axis=1)"
   ]
  },
  {
   "cell_type": "code",
   "execution_count": null,
   "id": "43034568",
   "metadata": {},
   "outputs": [],
   "source": [
    "#Randomly sampling values from a uniform distribution\n",
    "#np.random.uniform(low=1.0, high=2.0, size=(2,2))\n",
    "generator.uniform(low=1.0, high=2.0, size=(2,2))"
   ]
  },
  {
   "cell_type": "code",
   "execution_count": null,
   "id": "4d833d61",
   "metadata": {},
   "outputs": [],
   "source": [
    "#Randomly sampling values from a standard normal distribution\n",
    "#np.random.normal(loc=0.0, scale=1.0, size=2)\n",
    "generator.normal(loc=0.0, scale=1.0, size=3)"
   ]
  },
  {
   "cell_type": "markdown",
   "id": "348782d8",
   "metadata": {},
   "source": [
    "### Challenge 3\n",
    "You're a relationship scientist and you've developed a questionaire that determines a person's love score, a real-valued number between 0 and 100. Your theory is that two people with similar love score should make a good match. Given the love scores for 10 different people, create a matrix where (i,j) give the absolute difference of the love scores for person i and person j."
   ]
  },
  {
   "cell_type": "code",
   "execution_count": null,
   "id": "098487f6",
   "metadata": {},
   "outputs": [],
   "source": [
    "import numpy as np"
   ]
  },
  {
   "cell_type": "code",
   "execution_count": null,
   "id": "885c9a0c",
   "metadata": {},
   "outputs": [],
   "source": [
    "generator = np.random.default_rng(1010)\n",
    "love_scores = np.round(generator.uniform(low=0, high=100, size=10), 2)\n",
    "love_scores"
   ]
  },
  {
   "cell_type": "markdown",
   "id": "41c09bfe",
   "metadata": {},
   "source": [
    "#### Solution"
   ]
  },
  {
   "cell_type": "code",
   "execution_count": null,
   "id": "6cbc9206",
   "metadata": {},
   "outputs": [],
   "source": [
    "np.set_printoptions(linewidth=999)\n",
    "#don't wrap print until 999 characters"
   ]
  },
  {
   "cell_type": "code",
   "execution_count": null,
   "id": "44854ec4",
   "metadata": {},
   "outputs": [],
   "source": [
    "a = love_scores[:,None]\n",
    "a"
   ]
  },
  {
   "cell_type": "code",
   "execution_count": null,
   "id": "a64a8069",
   "metadata": {},
   "outputs": [],
   "source": [
    "b = love_scores[None, :]\n",
    "b"
   ]
  },
  {
   "cell_type": "code",
   "execution_count": null,
   "id": "a8a8ac64",
   "metadata": {},
   "outputs": [],
   "source": [
    "np.set_printoptions(linewidth=999)\n",
    "a - b"
   ]
  },
  {
   "cell_type": "code",
   "execution_count": null,
   "id": "f4a531c8",
   "metadata": {},
   "outputs": [],
   "source": [
    "np.set_printoptions(linewidth=999)\n",
    "abs(a - b)"
   ]
  },
  {
   "cell_type": "markdown",
   "id": "ecc7b60e",
   "metadata": {},
   "source": [
    "### Challenge 4\n",
    "You're a vindictive, hate professor and one of your pet peeves is when students rush through their exams. To teach them a lesson, you decide to give 0s to the first three students who score less than sixty, in the order they turned in their exams. So, given a 1d array of integers, identify the first three values less than sixty and replace them with zero\n"
   ]
  },
  {
   "cell_type": "code",
   "execution_count": null,
   "id": "97d32d8d",
   "metadata": {},
   "outputs": [],
   "source": [
    "import numpy as np"
   ]
  },
  {
   "cell_type": "code",
   "execution_count": null,
   "id": "905330a9",
   "metadata": {},
   "outputs": [],
   "source": [
    "genrator = np.random.default_rng(80085)\n",
    "score = np.round(generator.uniform(low=30, high=100, size=15))\n",
    "score"
   ]
  },
  {
   "cell_type": "markdown",
   "id": "f0cf25ca",
   "metadata": {},
   "source": [
    "#### Solution"
   ]
  },
  {
   "cell_type": "code",
   "execution_count": null,
   "id": "a4950698",
   "metadata": {},
   "outputs": [],
   "source": [
    "score < 60"
   ]
  },
  {
   "cell_type": "code",
   "execution_count": null,
   "id": "a5a726da",
   "metadata": {},
   "outputs": [],
   "source": [
    "(score<60).nonzero()"
   ]
  },
  {
   "cell_type": "code",
   "execution_count": null,
   "id": "a102f474",
   "metadata": {},
   "outputs": [],
   "source": [
    "(score<60).nonzero()[0]"
   ]
  },
  {
   "cell_type": "code",
   "execution_count": null,
   "id": "e4dc68f5",
   "metadata": {},
   "outputs": [],
   "source": [
    "(score<60).nonzero()[0][:3]"
   ]
  },
  {
   "cell_type": "code",
   "execution_count": null,
   "id": "a74d2d3a",
   "metadata": {},
   "outputs": [],
   "source": [
    "score[(score<60).nonzero()[0][:3]]=0\n",
    "score"
   ]
  },
  {
   "cell_type": "code",
   "execution_count": null,
   "id": "81090132",
   "metadata": {},
   "outputs": [],
   "source": []
  },
  {
   "cell_type": "code",
   "execution_count": null,
   "id": "4d2a152f",
   "metadata": {},
   "outputs": [],
   "source": []
  },
  {
   "cell_type": "markdown",
   "id": "135a6ba0",
   "metadata": {},
   "source": [
    "# NUMPY INTRODUCTION"
   ]
  },
  {
   "cell_type": "markdown",
   "id": "f0660ad2",
   "metadata": {},
   "source": [
    "### What is NumPy?\n",
    "NumPy is a python library used for working with arrays.\n",
    "\n",
    "It also has functions for working in domain of linear algebra, fourier transform, and matrices.\n",
    "\n",
    "NumPy was created in 2005 by Travis Oliphant. It is an open source project and you can use it freely.\n",
    "\n",
    "NumPy stands for Numerical Python."
   ]
  },
  {
   "cell_type": "markdown",
   "id": "a1bb177f",
   "metadata": {},
   "source": [
    "### Why Use NumPy ?\n",
    "- In Python we have lists that serve the purpose of arrays, but they are slow to process.\n",
    "- NumPy aims to provide an array object that is up to 50x faster that traditional Python lists.\n",
    "- The array object in NumPy is called ndarray, it provides a lot of supporting functions that make working with ndarray very easy.\n",
    "- Arrays are very frequently used in data science, where speed and resources are very important."
   ]
  },
  {
   "cell_type": "markdown",
   "id": "19d2dba4",
   "metadata": {},
   "source": [
    "### Why is NumPy Faster Than Lists?\n",
    "NumPy arrays are stored at one continuous place in memory unlike lists, so processes can access and manipulate them very efficiently.\n",
    "\n",
    "This behavior is called locality of reference in computer science.\n",
    "\n",
    "This is the main reason why NumPy is faster than lists. Also it is optimized to work with latest CPU architectures.\n",
    "\n",
    "### Which Language is NumPy written in?\n",
    "NumPy is a Python library and is written partially in Python, but most of the parts that require fast computation are written in C or C++.\n",
    "\n",
    "### Where is the NumPy Codebase?\n",
    "The source code for NumPy is located at this github repository https://github.com/numpy/numpy"
   ]
  },
  {
   "cell_type": "code",
   "execution_count": 1,
   "id": "b0c66804",
   "metadata": {},
   "outputs": [],
   "source": [
    "import numpy as np"
   ]
  },
  {
   "cell_type": "code",
   "execution_count": null,
   "id": "61c41f4e",
   "metadata": {},
   "outputs": [],
   "source": [
    "print(np.__all__)"
   ]
  },
  {
   "cell_type": "code",
   "execution_count": null,
   "id": "2bf41e3a",
   "metadata": {},
   "outputs": [],
   "source": [
    "import random as rd"
   ]
  },
  {
   "cell_type": "code",
   "execution_count": null,
   "id": "9a1d67f4",
   "metadata": {},
   "outputs": [],
   "source": [
    "help(rd.randint)"
   ]
  },
  {
   "cell_type": "code",
   "execution_count": 2,
   "id": "13e2b12c",
   "metadata": {},
   "outputs": [],
   "source": [
    "import numpy as np"
   ]
  },
  {
   "cell_type": "code",
   "execution_count": null,
   "id": "d27c1890",
   "metadata": {},
   "outputs": [],
   "source": [
    "help(np.array)"
   ]
  },
  {
   "cell_type": "code",
   "execution_count": 2,
   "id": "a90e3f38",
   "metadata": {},
   "outputs": [],
   "source": [
    "arr = np.array([[1,2,3,4,5], [6,7,8,9,10]])"
   ]
  },
  {
   "cell_type": "code",
   "execution_count": 4,
   "id": "59daab54",
   "metadata": {},
   "outputs": [
    {
     "name": "stdout",
     "output_type": "stream",
     "text": [
      "[[ 1  2  3  4  5]\n",
      " [ 6  7  8  9 10]]\n"
     ]
    }
   ],
   "source": [
    "print(arr)"
   ]
  },
  {
   "cell_type": "code",
   "execution_count": 5,
   "id": "9198f579",
   "metadata": {},
   "outputs": [
    {
     "name": "stdout",
     "output_type": "stream",
     "text": [
      "10\n"
     ]
    }
   ],
   "source": [
    "print(arr[1,-1])"
   ]
  },
  {
   "cell_type": "code",
   "execution_count": null,
   "id": "6cbf2304",
   "metadata": {},
   "outputs": [],
   "source": [
    "arr = np.array([[[1, 2, 3], [4, 5, 6]], [[7, 8, 9], [10, 11, 12]]])"
   ]
  },
  {
   "cell_type": "code",
   "execution_count": 4,
   "id": "cc7570d8",
   "metadata": {},
   "outputs": [],
   "source": [
    "arr1 = np.array([\n",
    "    [\n",
    "        [1,2,3],\n",
    "        [4,5,6]\n",
    "    ],\n",
    "    \n",
    "    [\n",
    "        [7,8,9],\n",
    "        [10,11,12]\n",
    "    ],\n",
    "    \n",
    "    [\n",
    "        [47,48,73],\n",
    "        [35,92,-23]\n",
    "    ]\n",
    "])"
   ]
  },
  {
   "cell_type": "code",
   "execution_count": 5,
   "id": "b0fddae8",
   "metadata": {},
   "outputs": [
    {
     "name": "stdout",
     "output_type": "stream",
     "text": [
      "(array([0, 0, 0, 0, 0, 0, 1, 1, 1, 1, 1, 1, 2, 2, 2, 2, 2, 2], dtype=int64), array([0, 0, 0, 1, 1, 1, 0, 0, 0, 1, 1, 1, 0, 0, 0, 1, 1, 1], dtype=int64), array([0, 1, 2, 0, 1, 2, 0, 1, 2, 0, 1, 2, 0, 1, 2, 0, 1, 2], dtype=int64))\n"
     ]
    }
   ],
   "source": [
    "print(arr1.nonzero())"
   ]
  },
  {
   "cell_type": "markdown",
   "id": "6124551b",
   "metadata": {},
   "source": [
    "### Creating a NumPy ndarray Object\n",
    "NumPy is used to work with arrays. The array object in NumPy is called ndarray.\n",
    "\n",
    "We can create a NumPy ndarray object by using the array() function."
   ]
  },
  {
   "cell_type": "code",
   "execution_count": 8,
   "id": "f2aeb679",
   "metadata": {},
   "outputs": [
    {
     "name": "stdout",
     "output_type": "stream",
     "text": [
      "[1 2 3 4 6]\n",
      "<class 'numpy.ndarray'>\n"
     ]
    }
   ],
   "source": [
    "import numpy as np\n",
    "arr = np.array([1, 2, 3, 4, 6])\n",
    "print(arr)\n",
    "print(type(arr))"
   ]
  },
  {
   "cell_type": "code",
   "execution_count": 9,
   "id": "1eeaf979",
   "metadata": {},
   "outputs": [
    {
     "name": "stdout",
     "output_type": "stream",
     "text": [
      "[1 2 3 4 6]\n"
     ]
    }
   ],
   "source": [
    "# Using tuple to create arrays\n",
    "import numpy as np\n",
    "arr = np.array((1, 2, 3, 4, 6))\n",
    "print(arr)"
   ]
  },
  {
   "cell_type": "markdown",
   "id": "d58ed0f1",
   "metadata": {},
   "source": [
    "#### 0-D Arrays\n",
    "0-D arrays, or Scalars, are the elements in an array. Each value in an array is a 0-D array."
   ]
  },
  {
   "cell_type": "code",
   "execution_count": 11,
   "id": "1841d134",
   "metadata": {},
   "outputs": [
    {
     "name": "stdout",
     "output_type": "stream",
     "text": [
      "48\n"
     ]
    }
   ],
   "source": [
    "import numpy as np\n",
    "arr = np.array(48)\n",
    "print(arr)"
   ]
  },
  {
   "cell_type": "markdown",
   "id": "636c868c",
   "metadata": {},
   "source": [
    "#### 1-D Arrays\n",
    "An array that has 0-D arrays as its elements is called uni-dimensional or 1-D array.\n",
    "\n",
    "These are the most common and basic arrays."
   ]
  },
  {
   "cell_type": "code",
   "execution_count": 12,
   "id": "9825e133",
   "metadata": {},
   "outputs": [
    {
     "name": "stdout",
     "output_type": "stream",
     "text": [
      "[1 2 3 4 6]\n"
     ]
    }
   ],
   "source": [
    "import numpy as np\n",
    "arr = np.array([1, 2, 3, 4, 6])\n",
    "print(arr)"
   ]
  },
  {
   "cell_type": "markdown",
   "id": "c9441952",
   "metadata": {},
   "source": [
    "#### 2-D Arrays\n",
    "An array that has 1-D arrays as its elements is called a 2-D array.\n",
    "\n",
    "These are often used to represent matrix or 2nd order tensors."
   ]
  },
  {
   "cell_type": "code",
   "execution_count": 17,
   "id": "9c62f2ad",
   "metadata": {},
   "outputs": [
    {
     "name": "stdout",
     "output_type": "stream",
     "text": [
      "[[1 2 3]\n",
      " [4 5 7]]\n"
     ]
    }
   ],
   "source": [
    "import numpy as np\n",
    "arr = np.array([\n",
    "    [1,2,3],\n",
    "    [4,5,7]\n",
    "])\n",
    "\n",
    "print(arr)"
   ]
  },
  {
   "cell_type": "markdown",
   "id": "462103f5",
   "metadata": {},
   "source": [
    "#### 3-D arrays\n",
    "An array that has 2-D arrays (matrices) as its elements is called 3-D array.\n",
    "\n",
    "These are often used to represent a 3rd order tensor."
   ]
  },
  {
   "cell_type": "code",
   "execution_count": 18,
   "id": "376654ef",
   "metadata": {},
   "outputs": [
    {
     "name": "stdout",
     "output_type": "stream",
     "text": [
      "[[[2 3 4]\n",
      "  [6 8 4]]\n",
      "\n",
      " [[1 8 4]\n",
      "  [6 9 2]]]\n"
     ]
    }
   ],
   "source": [
    "import numpy as np\n",
    "arr = np.array([\n",
    "    [\n",
    "        [2,3,4],\n",
    "        [6,8,4]\n",
    "    ],\n",
    "    \n",
    "    [\n",
    "        [1,8,4],\n",
    "        [6,9,2]\n",
    "    ]\n",
    "])\n",
    "\n",
    "print(arr)"
   ]
  },
  {
   "cell_type": "markdown",
   "id": "64326b2f",
   "metadata": {},
   "source": [
    "#### Checking Number of Dimensions\n",
    "NumPy Arrays provides the ndim attribute that returns an integer that tells us how many dimensions the array have."
   ]
  },
  {
   "cell_type": "code",
   "execution_count": 19,
   "id": "7411ac15",
   "metadata": {},
   "outputs": [
    {
     "name": "stdout",
     "output_type": "stream",
     "text": [
      "0\n",
      "1\n",
      "2\n",
      "3\n"
     ]
    }
   ],
   "source": [
    "a = np.array(48)\n",
    "b = np.array([1, 2, 3, 4, 6])\n",
    "\n",
    "c = np.array([\n",
    "    [1,2,3],\n",
    "    [4,5,7]\n",
    "])\n",
    "\n",
    "d = np.array([\n",
    "    [\n",
    "        [2,3,4],\n",
    "        [6,8,4]\n",
    "    ],\n",
    "    \n",
    "    [\n",
    "        [1,8,4],\n",
    "        [6,9,2]\n",
    "    ]\n",
    "])\n",
    "\n",
    "print(a.ndim)\n",
    "print(b.ndim)\n",
    "print(c.ndim)\n",
    "print(d.ndim)\n"
   ]
  },
  {
   "cell_type": "markdown",
   "id": "cb580fd7",
   "metadata": {},
   "source": [
    "#### Higher Dimensional Arrays\n",
    "An array can have any number of dimensions.\n",
    "\n",
    "When the array is created, you can define the number of dimensions by using the ndmin argument."
   ]
  },
  {
   "cell_type": "code",
   "execution_count": 21,
   "id": "df1dd3d2",
   "metadata": {},
   "outputs": [
    {
     "name": "stdout",
     "output_type": "stream",
     "text": [
      "[[[[[1 2 3]\n",
      "    [4 5 7]]]]]\n",
      "5\n"
     ]
    }
   ],
   "source": [
    "import numpy as np\n",
    "c = np.array([\n",
    "    [1,2,3],\n",
    "    [4,5,7]\n",
    "], ndmin=5)\n",
    "\n",
    "print(c)\n",
    "print(c.ndim)"
   ]
  },
  {
   "cell_type": "code",
   "execution_count": 23,
   "id": "0c90f345",
   "metadata": {},
   "outputs": [
    {
     "data": {
      "text/plain": [
       "6"
      ]
     },
     "execution_count": 23,
     "metadata": {},
     "output_type": "execute_result"
    }
   ],
   "source": [
    "#Printing the size of an array\n",
    "c.size"
   ]
  },
  {
   "cell_type": "code",
   "execution_count": 22,
   "id": "be0bc760",
   "metadata": {},
   "outputs": [
    {
     "data": {
      "text/plain": [
       "(1, 1, 1, 2, 3)"
      ]
     },
     "execution_count": 22,
     "metadata": {},
     "output_type": "execute_result"
    }
   ],
   "source": [
    "#Printing the shape\n",
    "c.shape"
   ]
  },
  {
   "cell_type": "markdown",
   "id": "e6efaf7f",
   "metadata": {},
   "source": [
    "##### Creating Arrays Using Various Methods"
   ]
  },
  {
   "cell_type": "code",
   "execution_count": 9,
   "id": "7ae14510",
   "metadata": {},
   "outputs": [
    {
     "data": {
      "text/plain": [
       "array([0., 0., 0., 0., 0., 0., 0., 0.])"
      ]
     },
     "execution_count": 9,
     "metadata": {},
     "output_type": "execute_result"
    }
   ],
   "source": [
    "#The zeros function\n",
    "#Creates a one dimensional array with the number of zeros specified\n",
    "np.zeros(8)"
   ]
  },
  {
   "cell_type": "code",
   "execution_count": 10,
   "id": "082ec640",
   "metadata": {},
   "outputs": [
    {
     "data": {
      "text/plain": [
       "array([[0., 0., 0., 0., 0., 0.],\n",
       "       [0., 0., 0., 0., 0., 0.],\n",
       "       [0., 0., 0., 0., 0., 0.],\n",
       "       [0., 0., 0., 0., 0., 0.]])"
      ]
     },
     "execution_count": 10,
     "metadata": {},
     "output_type": "execute_result"
    }
   ],
   "source": [
    "#Two dimensional zeros \n",
    "np.zeros((4,6))"
   ]
  },
  {
   "cell_type": "code",
   "execution_count": 11,
   "id": "92804968",
   "metadata": {},
   "outputs": [
    {
     "data": {
      "text/plain": [
       "array([[[0., 0., 0., 0.],\n",
       "        [0., 0., 0., 0.],\n",
       "        [0., 0., 0., 0.]],\n",
       "\n",
       "       [[0., 0., 0., 0.],\n",
       "        [0., 0., 0., 0.],\n",
       "        [0., 0., 0., 0.]]])"
      ]
     },
     "execution_count": 11,
     "metadata": {},
     "output_type": "execute_result"
    }
   ],
   "source": [
    "#Three dimensional zeros \n",
    "np.zeros((2,3,4))"
   ]
  },
  {
   "cell_type": "code",
   "execution_count": 12,
   "id": "9ae91549",
   "metadata": {},
   "outputs": [
    {
     "data": {
      "text/plain": [
       "array([[1, 1, 1, 1],\n",
       "       [1, 1, 1, 1],\n",
       "       [1, 1, 1, 1]], dtype=int16)"
      ]
     },
     "execution_count": 12,
     "metadata": {},
     "output_type": "execute_result"
    }
   ],
   "source": [
    "#Two dimensional ones\n",
    "np.ones((3,4), dtype=np.int16)"
   ]
  },
  {
   "cell_type": "markdown",
   "id": "49394dbe",
   "metadata": {},
   "source": [
    "#### empty creates an array without initializing its values to any particular value\n",
    "We pass in a tuple to determine its shape"
   ]
  },
  {
   "cell_type": "code",
   "execution_count": 24,
   "id": "cc228bd6",
   "metadata": {
    "scrolled": true
   },
   "outputs": [
    {
     "data": {
      "text/plain": [
       "array([[[6.23042070e-307, 4.67296746e-307, 1.69121096e-306,\n",
       "         3.33772113e-307],\n",
       "        [4.45047026e-308, 6.23044107e-307, 8.45593934e-307,\n",
       "         7.56593017e-307],\n",
       "        [1.11258854e-306, 1.11261502e-306, 1.42410839e-306,\n",
       "         7.56597770e-307]],\n",
       "\n",
       "       [[6.23059726e-307, 1.42419530e-306, 7.56602523e-307,\n",
       "         1.29061821e-306],\n",
       "        [1.78020169e-306, 1.33511290e-306, 1.78019082e-306,\n",
       "         8.45559303e-307],\n",
       "        [8.06613465e-308, 6.89810244e-307, 1.22387550e-307,\n",
       "         2.22522596e-306]]])"
      ]
     },
     "execution_count": 24,
     "metadata": {},
     "output_type": "execute_result"
    }
   ],
   "source": [
    "# Using the 'empty' function\n",
    "np.empty((2,3,4))"
   ]
  },
  {
   "cell_type": "markdown",
   "id": "8b0d8b23",
   "metadata": {},
   "source": [
    "#### The Arange Function\n",
    "arange is an array-valued version of the built-in python range function."
   ]
  },
  {
   "cell_type": "code",
   "execution_count": 25,
   "id": "f924ae1d",
   "metadata": {},
   "outputs": [
    {
     "data": {
      "text/plain": [
       "array([ 0,  1,  2,  3,  4,  5,  6,  7,  8,  9, 10, 11])"
      ]
     },
     "execution_count": 25,
     "metadata": {},
     "output_type": "execute_result"
    }
   ],
   "source": [
    "np.arange(12)"
   ]
  },
  {
   "cell_type": "code",
   "execution_count": 7,
   "id": "e34bfec1",
   "metadata": {},
   "outputs": [
    {
     "data": {
      "text/plain": [
       "array([[ 5,  6],\n",
       "       [ 7,  8],\n",
       "       [ 9, 10],\n",
       "       [11, 12]])"
      ]
     },
     "execution_count": 7,
     "metadata": {},
     "output_type": "execute_result"
    }
   ],
   "source": [
    "#With starting point\n",
    "import numpy as np\n",
    "np.arange(5,13)\n",
    "a.reshape(4,2)"
   ]
  },
  {
   "cell_type": "code",
   "execution_count": null,
   "id": "5d818140",
   "metadata": {},
   "outputs": [],
   "source": []
  },
  {
   "cell_type": "code",
   "execution_count": null,
   "id": "696d0442",
   "metadata": {},
   "outputs": [],
   "source": []
  },
  {
   "cell_type": "code",
   "execution_count": null,
   "id": "52625d2f",
   "metadata": {},
   "outputs": [],
   "source": []
  },
  {
   "cell_type": "markdown",
   "id": "e9a6d5ae",
   "metadata": {},
   "source": [
    "#### Accessing Array Elements\n",
    "Array indexing is the same as accessing an array element.\n",
    "\n",
    "You can access an array element by referring to its index number.\n",
    "\n",
    "The indexes in NumPy arrays start with 0, meaning that the first element has index 0, and the second has index 1 etc."
   ]
  },
  {
   "cell_type": "code",
   "execution_count": 28,
   "id": "8e897b83",
   "metadata": {},
   "outputs": [
    {
     "name": "stdout",
     "output_type": "stream",
     "text": [
      "4\n"
     ]
    }
   ],
   "source": [
    "# Example \n",
    "import numpy as np\n",
    "arr = np.array([1,2,3,4,5])\n",
    "print(arr[3])"
   ]
  },
  {
   "cell_type": "code",
   "execution_count": 29,
   "id": "b826af78",
   "metadata": {},
   "outputs": [
    {
     "name": "stdout",
     "output_type": "stream",
     "text": [
      "7\n"
     ]
    }
   ],
   "source": [
    "print(arr[3] + arr[2])"
   ]
  },
  {
   "cell_type": "markdown",
   "id": "eb819464",
   "metadata": {},
   "source": [
    "##### Accessing 2-D Arrays\n",
    "To access elements from 2-D arrays we can use comma separated integers representing the dimension and the index of the element."
   ]
  },
  {
   "cell_type": "code",
   "execution_count": 31,
   "id": "006a8823",
   "metadata": {},
   "outputs": [
    {
     "name": "stdout",
     "output_type": "stream",
     "text": [
      "9\n",
      "8\n"
     ]
    }
   ],
   "source": [
    "import numpy as np\n",
    "arr = np.array([\n",
    "    [1,2,3,4,5],\n",
    "    [7,5,9,4,8]\n",
    "])\n",
    "\n",
    "print(arr[1][2])\n",
    "print(arr[1,4])"
   ]
  },
  {
   "cell_type": "markdown",
   "id": "b0101dc3",
   "metadata": {},
   "source": [
    "3-D Arrays"
   ]
  },
  {
   "cell_type": "code",
   "execution_count": 33,
   "id": "cc974e33",
   "metadata": {},
   "outputs": [
    {
     "name": "stdout",
     "output_type": "stream",
     "text": [
      "4\n",
      "6\n"
     ]
    }
   ],
   "source": [
    "import numpy as np\n",
    "d = np.array([\n",
    "    [\n",
    "        [2,3,4],\n",
    "        [6,8,4]\n",
    "    ],\n",
    "    \n",
    "    [\n",
    "        [1,8,4],\n",
    "        [6,9,2]\n",
    "    ]\n",
    "])\n",
    "\n",
    "print(d[1,0,2])\n",
    "print(d[0][1][0])"
   ]
  },
  {
   "cell_type": "markdown",
   "id": "b77df368",
   "metadata": {},
   "source": [
    "Negative Indexing"
   ]
  },
  {
   "cell_type": "code",
   "execution_count": 36,
   "id": "4d671687",
   "metadata": {},
   "outputs": [
    {
     "name": "stdout",
     "output_type": "stream",
     "text": [
      "2\n"
     ]
    }
   ],
   "source": [
    "print(d[-1,-1,-1])"
   ]
  },
  {
   "cell_type": "code",
   "execution_count": 35,
   "id": "8b45b060",
   "metadata": {},
   "outputs": [
    {
     "name": "stdout",
     "output_type": "stream",
     "text": [
      "[[6 8 4]\n",
      " [6 9 2]]\n"
     ]
    }
   ],
   "source": [
    "print(d[:,-1,:])"
   ]
  },
  {
   "cell_type": "markdown",
   "id": "7eff6fe8",
   "metadata": {},
   "source": [
    "#### Slicing arrays\n",
    "Slicing in python means taking elements from one given index to another given index.\n",
    "\n",
    "We pass slice instead of index like this: [start:end].\n",
    "\n",
    "We can also define the step, like this: [start:end:step].\n",
    "\n",
    "If we don't pass start its considered 0\n",
    "\n",
    "If we don't pass end its considered length of array in that dimension\n",
    "\n",
    "If we don't pass step its considered 1"
   ]
  },
  {
   "cell_type": "code",
   "execution_count": 45,
   "id": "123060a5",
   "metadata": {},
   "outputs": [],
   "source": [
    "import numpy as np\n",
    "d = np.array([\n",
    "    [\n",
    "        [2,3,4],\n",
    "        [6,8,4]\n",
    "    ],\n",
    "    \n",
    "    [\n",
    "        [1,8,4],\n",
    "        [6,9,2]\n",
    "    ]\n",
    "])"
   ]
  },
  {
   "cell_type": "code",
   "execution_count": 52,
   "id": "fbcc014b",
   "metadata": {},
   "outputs": [
    {
     "name": "stdout",
     "output_type": "stream",
     "text": [
      "[[1 8]\n",
      " [6 9]]\n"
     ]
    }
   ],
   "source": [
    "print(d[1,:,0:2])"
   ]
  },
  {
   "cell_type": "code",
   "execution_count": 53,
   "id": "9b0280eb",
   "metadata": {},
   "outputs": [
    {
     "name": "stdout",
     "output_type": "stream",
     "text": [
      "[[1]\n",
      " [6]]\n"
     ]
    }
   ],
   "source": [
    "print(d[1,:,0:2:2])"
   ]
  },
  {
   "cell_type": "code",
   "execution_count": 55,
   "id": "a0ab9156",
   "metadata": {},
   "outputs": [
    {
     "name": "stdout",
     "output_type": "stream",
     "text": [
      "[[ 4  5]\n",
      " [ 9 10]]\n"
     ]
    }
   ],
   "source": [
    "import numpy as np\n",
    "arr = np.array([[1, 2, 3, 4, 5], [6, 7, 8, 9, 10]])\n",
    "print(arr[:,-2:])"
   ]
  },
  {
   "cell_type": "markdown",
   "id": "f7e194a2",
   "metadata": {},
   "source": [
    "##### Data Types in NumPy\n",
    "NumPy has some extra data types, and refer to data types with one character, like i for integers, u for unsigned integers etc.\n",
    "\n",
    "Below is a list of all data types in NumPy and the characters used to represent them.\n",
    "\n",
    "- i - integer\n",
    "- b - boolean\n",
    "- u - unsigned integer\n",
    "- f - float\n",
    "- c - complex float\n",
    "- m - timedelta\n",
    "- M - datetime\n",
    "- O - object\n",
    "- S - string\n",
    "- U - unicode string\n",
    "- V - fixed chunk of memory for other type ( void )"
   ]
  },
  {
   "cell_type": "code",
   "execution_count": 58,
   "id": "2808b672",
   "metadata": {},
   "outputs": [
    {
     "name": "stdout",
     "output_type": "stream",
     "text": [
      "int32\n"
     ]
    }
   ],
   "source": [
    "# Checking the data type\n",
    "import numpy as np\n",
    "\n",
    "arr = np.array([[1, 2, 3, 4, 5], [6, 7, 8, 9, 10]])\n",
    "print(arr.dtype)"
   ]
  },
  {
   "cell_type": "code",
   "execution_count": 59,
   "id": "34c828f4",
   "metadata": {},
   "outputs": [
    {
     "name": "stdout",
     "output_type": "stream",
     "text": [
      "<U6\n"
     ]
    }
   ],
   "source": [
    "import numpy as np\n",
    "\n",
    "arr = np.array(['apple', 'banana', 'cherry'])\n",
    "print(arr.dtype)"
   ]
  },
  {
   "cell_type": "markdown",
   "id": "8724526d",
   "metadata": {},
   "source": [
    "#### Creating Arrays With a Defined Data Type\n",
    "We use the array() function to create arrays, this function can take an optional argument: dtype that allows us to define the expected data type of the array elements:"
   ]
  },
  {
   "cell_type": "code",
   "execution_count": 63,
   "id": "74ae0858",
   "metadata": {},
   "outputs": [
    {
     "name": "stdout",
     "output_type": "stream",
     "text": [
      "[[ 1.  2.  3.  4.  5.]\n",
      " [ 6.  7.  8.  9. 10.]]\n",
      "float32\n"
     ]
    }
   ],
   "source": [
    "import numpy as np\n",
    "arr = np.array([[1, 2, 3, 4, 5], [6, 7, 8, 9, 10]], dtype=\"f\")\n",
    "print(arr)\n",
    "print(arr.dtype)"
   ]
  },
  {
   "cell_type": "code",
   "execution_count": 65,
   "id": "492b0625",
   "metadata": {},
   "outputs": [
    {
     "name": "stdout",
     "output_type": "stream",
     "text": [
      "Help on class nditer in module numpy:\n",
      "\n",
      "class nditer(builtins.object)\n",
      " |  nditer(op, flags=None, op_flags=None, op_dtypes=None, order='K', casting='safe', op_axes=None, itershape=None, buffersize=0)\n",
      " |  \n",
      " |  Efficient multi-dimensional iterator object to iterate over arrays.\n",
      " |  To get started using this object, see the\n",
      " |  :ref:`introductory guide to array iteration <arrays.nditer>`.\n",
      " |  \n",
      " |  Parameters\n",
      " |  ----------\n",
      " |  op : ndarray or sequence of array_like\n",
      " |      The array(s) to iterate over.\n",
      " |  \n",
      " |  flags : sequence of str, optional\n",
      " |        Flags to control the behavior of the iterator.\n",
      " |  \n",
      " |        * ``buffered`` enables buffering when required.\n",
      " |        * ``c_index`` causes a C-order index to be tracked.\n",
      " |        * ``f_index`` causes a Fortran-order index to be tracked.\n",
      " |        * ``multi_index`` causes a multi-index, or a tuple of indices\n",
      " |          with one per iteration dimension, to be tracked.\n",
      " |        * ``common_dtype`` causes all the operands to be converted to\n",
      " |          a common data type, with copying or buffering as necessary.\n",
      " |        * ``copy_if_overlap`` causes the iterator to determine if read\n",
      " |          operands have overlap with write operands, and make temporary\n",
      " |          copies as necessary to avoid overlap. False positives (needless\n",
      " |          copying) are possible in some cases.\n",
      " |        * ``delay_bufalloc`` delays allocation of the buffers until\n",
      " |          a reset() call is made. Allows ``allocate`` operands to\n",
      " |          be initialized before their values are copied into the buffers.\n",
      " |        * ``external_loop`` causes the ``values`` given to be\n",
      " |          one-dimensional arrays with multiple values instead of\n",
      " |          zero-dimensional arrays.\n",
      " |        * ``grow_inner`` allows the ``value`` array sizes to be made\n",
      " |          larger than the buffer size when both ``buffered`` and\n",
      " |          ``external_loop`` is used.\n",
      " |        * ``ranged`` allows the iterator to be restricted to a sub-range\n",
      " |          of the iterindex values.\n",
      " |        * ``refs_ok`` enables iteration of reference types, such as\n",
      " |          object arrays.\n",
      " |        * ``reduce_ok`` enables iteration of ``readwrite`` operands\n",
      " |          which are broadcasted, also known as reduction operands.\n",
      " |        * ``zerosize_ok`` allows `itersize` to be zero.\n",
      " |  op_flags : list of list of str, optional\n",
      " |        This is a list of flags for each operand. At minimum, one of\n",
      " |        ``readonly``, ``readwrite``, or ``writeonly`` must be specified.\n",
      " |  \n",
      " |        * ``readonly`` indicates the operand will only be read from.\n",
      " |        * ``readwrite`` indicates the operand will be read from and written to.\n",
      " |        * ``writeonly`` indicates the operand will only be written to.\n",
      " |        * ``no_broadcast`` prevents the operand from being broadcasted.\n",
      " |        * ``contig`` forces the operand data to be contiguous.\n",
      " |        * ``aligned`` forces the operand data to be aligned.\n",
      " |        * ``nbo`` forces the operand data to be in native byte order.\n",
      " |        * ``copy`` allows a temporary read-only copy if required.\n",
      " |        * ``updateifcopy`` allows a temporary read-write copy if required.\n",
      " |        * ``allocate`` causes the array to be allocated if it is None\n",
      " |          in the ``op`` parameter.\n",
      " |        * ``no_subtype`` prevents an ``allocate`` operand from using a subtype.\n",
      " |        * ``arraymask`` indicates that this operand is the mask to use\n",
      " |          for selecting elements when writing to operands with the\n",
      " |          'writemasked' flag set. The iterator does not enforce this,\n",
      " |          but when writing from a buffer back to the array, it only\n",
      " |          copies those elements indicated by this mask.\n",
      " |        * ``writemasked`` indicates that only elements where the chosen\n",
      " |          ``arraymask`` operand is True will be written to.\n",
      " |        * ``overlap_assume_elementwise`` can be used to mark operands that are\n",
      " |          accessed only in the iterator order, to allow less conservative\n",
      " |          copying when ``copy_if_overlap`` is present.\n",
      " |  op_dtypes : dtype or tuple of dtype(s), optional\n",
      " |      The required data type(s) of the operands. If copying or buffering\n",
      " |      is enabled, the data will be converted to/from their original types.\n",
      " |  order : {'C', 'F', 'A', 'K'}, optional\n",
      " |      Controls the iteration order. 'C' means C order, 'F' means\n",
      " |      Fortran order, 'A' means 'F' order if all the arrays are Fortran\n",
      " |      contiguous, 'C' order otherwise, and 'K' means as close to the\n",
      " |      order the array elements appear in memory as possible. This also\n",
      " |      affects the element memory order of ``allocate`` operands, as they\n",
      " |      are allocated to be compatible with iteration order.\n",
      " |      Default is 'K'.\n",
      " |  casting : {'no', 'equiv', 'safe', 'same_kind', 'unsafe'}, optional\n",
      " |      Controls what kind of data casting may occur when making a copy\n",
      " |      or buffering.  Setting this to 'unsafe' is not recommended,\n",
      " |      as it can adversely affect accumulations.\n",
      " |  \n",
      " |      * 'no' means the data types should not be cast at all.\n",
      " |      * 'equiv' means only byte-order changes are allowed.\n",
      " |      * 'safe' means only casts which can preserve values are allowed.\n",
      " |      * 'same_kind' means only safe casts or casts within a kind,\n",
      " |        like float64 to float32, are allowed.\n",
      " |      * 'unsafe' means any data conversions may be done.\n",
      " |  op_axes : list of list of ints, optional\n",
      " |      If provided, is a list of ints or None for each operands.\n",
      " |      The list of axes for an operand is a mapping from the dimensions\n",
      " |      of the iterator to the dimensions of the operand. A value of\n",
      " |      -1 can be placed for entries, causing that dimension to be\n",
      " |      treated as `newaxis`.\n",
      " |  itershape : tuple of ints, optional\n",
      " |      The desired shape of the iterator. This allows ``allocate`` operands\n",
      " |      with a dimension mapped by op_axes not corresponding to a dimension\n",
      " |      of a different operand to get a value not equal to 1 for that\n",
      " |      dimension.\n",
      " |  buffersize : int, optional\n",
      " |      When buffering is enabled, controls the size of the temporary\n",
      " |      buffers. Set to 0 for the default value.\n",
      " |  \n",
      " |  Attributes\n",
      " |  ----------\n",
      " |  dtypes : tuple of dtype(s)\n",
      " |      The data types of the values provided in `value`. This may be\n",
      " |      different from the operand data types if buffering is enabled.\n",
      " |      Valid only before the iterator is closed.\n",
      " |  finished : bool\n",
      " |      Whether the iteration over the operands is finished or not.\n",
      " |  has_delayed_bufalloc : bool\n",
      " |      If True, the iterator was created with the ``delay_bufalloc`` flag,\n",
      " |      and no reset() function was called on it yet.\n",
      " |  has_index : bool\n",
      " |      If True, the iterator was created with either the ``c_index`` or\n",
      " |      the ``f_index`` flag, and the property `index` can be used to\n",
      " |      retrieve it.\n",
      " |  has_multi_index : bool\n",
      " |      If True, the iterator was created with the ``multi_index`` flag,\n",
      " |      and the property `multi_index` can be used to retrieve it.\n",
      " |  index\n",
      " |      When the ``c_index`` or ``f_index`` flag was used, this property\n",
      " |      provides access to the index. Raises a ValueError if accessed\n",
      " |      and ``has_index`` is False.\n",
      " |  iterationneedsapi : bool\n",
      " |      Whether iteration requires access to the Python API, for example\n",
      " |      if one of the operands is an object array.\n",
      " |  iterindex : int\n",
      " |      An index which matches the order of iteration.\n",
      " |  itersize : int\n",
      " |      Size of the iterator.\n",
      " |  itviews\n",
      " |      Structured view(s) of `operands` in memory, matching the reordered\n",
      " |      and optimized iterator access pattern. Valid only before the iterator\n",
      " |      is closed.\n",
      " |  multi_index\n",
      " |      When the ``multi_index`` flag was used, this property\n",
      " |      provides access to the index. Raises a ValueError if accessed\n",
      " |      accessed and ``has_multi_index`` is False.\n",
      " |  ndim : int\n",
      " |      The dimensions of the iterator.\n",
      " |  nop : int\n",
      " |      The number of iterator operands.\n",
      " |  operands : tuple of operand(s)\n",
      " |      The array(s) to be iterated over. Valid only before the iterator is\n",
      " |      closed.\n",
      " |  shape : tuple of ints\n",
      " |      Shape tuple, the shape of the iterator.\n",
      " |  value\n",
      " |      Value of ``operands`` at current iteration. Normally, this is a\n",
      " |      tuple of array scalars, but if the flag ``external_loop`` is used,\n",
      " |      it is a tuple of one dimensional arrays.\n",
      " |  \n",
      " |  Notes\n",
      " |  -----\n",
      " |  `nditer` supersedes `flatiter`.  The iterator implementation behind\n",
      " |  `nditer` is also exposed by the NumPy C API.\n",
      " |  \n",
      " |  The Python exposure supplies two iteration interfaces, one which follows\n",
      " |  the Python iterator protocol, and another which mirrors the C-style\n",
      " |  do-while pattern.  The native Python approach is better in most cases, but\n",
      " |  if you need the coordinates or index of an iterator, use the C-style pattern.\n",
      " |  \n",
      " |  Examples\n",
      " |  --------\n",
      " |  Here is how we might write an ``iter_add`` function, using the\n",
      " |  Python iterator protocol:\n",
      " |  \n",
      " |  >>> def iter_add_py(x, y, out=None):\n",
      " |  ...     addop = np.add\n",
      " |  ...     it = np.nditer([x, y, out], [],\n",
      " |  ...                 [['readonly'], ['readonly'], ['writeonly','allocate']])\n",
      " |  ...     with it:\n",
      " |  ...         for (a, b, c) in it:\n",
      " |  ...             addop(a, b, out=c)\n",
      " |  ...     return it.operands[2]\n",
      " |  \n",
      " |  Here is the same function, but following the C-style pattern:\n",
      " |  \n",
      " |  >>> def iter_add(x, y, out=None):\n",
      " |  ...    addop = np.add\n",
      " |  ...    it = np.nditer([x, y, out], [],\n",
      " |  ...                [['readonly'], ['readonly'], ['writeonly','allocate']])\n",
      " |  ...    with it:\n",
      " |  ...        while not it.finished:\n",
      " |  ...            addop(it[0], it[1], out=it[2])\n",
      " |  ...            it.iternext()\n",
      " |  ...        return it.operands[2]\n",
      " |  \n",
      " |  Here is an example outer product function:\n",
      " |  \n",
      " |  >>> def outer_it(x, y, out=None):\n",
      " |  ...     mulop = np.multiply\n",
      " |  ...     it = np.nditer([x, y, out], ['external_loop'],\n",
      " |  ...             [['readonly'], ['readonly'], ['writeonly', 'allocate']],\n",
      " |  ...             op_axes=[list(range(x.ndim)) + [-1] * y.ndim,\n",
      " |  ...                      [-1] * x.ndim + list(range(y.ndim)),\n",
      " |  ...                      None])\n",
      " |  ...     with it:\n",
      " |  ...         for (a, b, c) in it:\n",
      " |  ...             mulop(a, b, out=c)\n",
      " |  ...         return it.operands[2]\n",
      " |  \n",
      " |  >>> a = np.arange(2)+1\n",
      " |  >>> b = np.arange(3)+1\n",
      " |  >>> outer_it(a,b)\n",
      " |  array([[1, 2, 3],\n",
      " |         [2, 4, 6]])\n",
      " |  \n",
      " |  Here is an example function which operates like a \"lambda\" ufunc:\n",
      " |  \n",
      " |  >>> def luf(lamdaexpr, *args, **kwargs):\n",
      " |  ...    '''luf(lambdaexpr, op1, ..., opn, out=None, order='K', casting='safe', buffersize=0)'''\n",
      " |  ...    nargs = len(args)\n",
      " |  ...    op = (kwargs.get('out',None),) + args\n",
      " |  ...    it = np.nditer(op, ['buffered','external_loop'],\n",
      " |  ...            [['writeonly','allocate','no_broadcast']] +\n",
      " |  ...                            [['readonly','nbo','aligned']]*nargs,\n",
      " |  ...            order=kwargs.get('order','K'),\n",
      " |  ...            casting=kwargs.get('casting','safe'),\n",
      " |  ...            buffersize=kwargs.get('buffersize',0))\n",
      " |  ...    while not it.finished:\n",
      " |  ...        it[0] = lamdaexpr(*it[1:])\n",
      " |  ...        it.iternext()\n",
      " |  ...    return it.operands[0]\n",
      " |  \n",
      " |  >>> a = np.arange(5)\n",
      " |  >>> b = np.ones(5)\n",
      " |  >>> luf(lambda i,j:i*i + j/2, a, b)\n",
      " |  array([  0.5,   1.5,   4.5,   9.5,  16.5])\n",
      " |  \n",
      " |  If operand flags `\"writeonly\"` or `\"readwrite\"` are used the\n",
      " |  operands may be views into the original data with the\n",
      " |  `WRITEBACKIFCOPY` flag. In this case `nditer` must be used as a\n",
      " |  context manager or the `nditer.close` method must be called before\n",
      " |  using the result. The temporary data will be written back to the\n",
      " |  original data when the `__exit__` function is called but not before:\n",
      " |  \n",
      " |  >>> a = np.arange(6, dtype='i4')[::-2]\n",
      " |  >>> with np.nditer(a, [],\n",
      " |  ...        [['writeonly', 'updateifcopy']],\n",
      " |  ...        casting='unsafe',\n",
      " |  ...        op_dtypes=[np.dtype('f4')]) as i:\n",
      " |  ...    x = i.operands[0]\n",
      " |  ...    x[:] = [-1, -2, -3]\n",
      " |  ...    # a still unchanged here\n",
      " |  >>> a, x\n",
      " |  (array([-1, -2, -3], dtype=int32), array([-1., -2., -3.], dtype=float32))\n",
      " |  \n",
      " |  It is important to note that once the iterator is exited, dangling\n",
      " |  references (like `x` in the example) may or may not share data with\n",
      " |  the original data `a`. If writeback semantics were active, i.e. if\n",
      " |  `x.base.flags.writebackifcopy` is `True`, then exiting the iterator\n",
      " |  will sever the connection between `x` and `a`, writing to `x` will\n",
      " |  no longer write to `a`. If writeback semantics are not active, then\n",
      " |  `x.data` will still point at some part of `a.data`, and writing to\n",
      " |  one will affect the other.\n",
      " |  \n",
      " |  Context management and the `close` method appeared in version 1.15.0.\n",
      " |  \n",
      " |  Methods defined here:\n",
      " |  \n",
      " |  __copy__(...)\n",
      " |  \n",
      " |  __delitem__(self, key, /)\n",
      " |      Delete self[key].\n",
      " |  \n",
      " |  __enter__(...)\n",
      " |  \n",
      " |  __exit__(...)\n",
      " |  \n",
      " |  __getitem__(self, key, /)\n",
      " |      Return self[key].\n",
      " |  \n",
      " |  __init__(self, /, *args, **kwargs)\n",
      " |      Initialize self.  See help(type(self)) for accurate signature.\n",
      " |  \n",
      " |  __iter__(self, /)\n",
      " |      Implement iter(self).\n",
      " |  \n",
      " |  __len__(self, /)\n",
      " |      Return len(self).\n",
      " |  \n",
      " |  __next__(self, /)\n",
      " |      Implement next(self).\n",
      " |  \n",
      " |  __setitem__(self, key, value, /)\n",
      " |      Set self[key] to value.\n",
      " |  \n",
      " |  close(...)\n",
      " |      close()\n",
      " |      \n",
      " |      Resolve all writeback semantics in writeable operands.\n",
      " |      \n",
      " |      .. versionadded:: 1.15.0\n",
      " |      \n",
      " |      See Also\n",
      " |      --------\n",
      " |      \n",
      " |      :ref:`nditer-context-manager`\n",
      " |  \n",
      " |  copy(...)\n",
      " |      copy()\n",
      " |      \n",
      " |      Get a copy of the iterator in its current state.\n",
      " |      \n",
      " |      Examples\n",
      " |      --------\n",
      " |      >>> x = np.arange(10)\n",
      " |      >>> y = x + 1\n",
      " |      >>> it = np.nditer([x, y])\n",
      " |      >>> next(it)\n",
      " |      (array(0), array(1))\n",
      " |      >>> it2 = it.copy()\n",
      " |      >>> next(it2)\n",
      " |      (array(1), array(2))\n",
      " |  \n",
      " |  debug_print(...)\n",
      " |      debug_print()\n",
      " |      \n",
      " |      Print the current state of the `nditer` instance and debug info to stdout.\n",
      " |  \n",
      " |  enable_external_loop(...)\n",
      " |      enable_external_loop()\n",
      " |      \n",
      " |      When the \"external_loop\" was not used during construction, but\n",
      " |      is desired, this modifies the iterator to behave as if the flag\n",
      " |      was specified.\n",
      " |  \n",
      " |  iternext(...)\n",
      " |      iternext()\n",
      " |      \n",
      " |      Check whether iterations are left, and perform a single internal iteration\n",
      " |      without returning the result.  Used in the C-style pattern do-while\n",
      " |      pattern.  For an example, see `nditer`.\n",
      " |      \n",
      " |      Returns\n",
      " |      -------\n",
      " |      iternext : bool\n",
      " |          Whether or not there are iterations left.\n",
      " |  \n",
      " |  remove_axis(...)\n",
      " |      remove_axis(i)\n",
      " |      \n",
      " |      Removes axis `i` from the iterator. Requires that the flag \"multi_index\"\n",
      " |      be enabled.\n",
      " |  \n",
      " |  remove_multi_index(...)\n",
      " |      remove_multi_index()\n",
      " |      \n",
      " |      When the \"multi_index\" flag was specified, this removes it, allowing\n",
      " |      the internal iteration structure to be optimized further.\n",
      " |  \n",
      " |  reset(...)\n",
      " |      reset()\n",
      " |      \n",
      " |      Reset the iterator to its initial state.\n",
      " |  \n",
      " |  ----------------------------------------------------------------------\n",
      " |  Static methods defined here:\n",
      " |  \n",
      " |  __new__(*args, **kwargs) from builtins.type\n",
      " |      Create and return a new object.  See help(type) for accurate signature.\n",
      " |  \n",
      " |  ----------------------------------------------------------------------\n",
      " |  Data descriptors defined here:\n",
      " |  \n",
      " |  dtypes\n",
      " |  \n",
      " |  finished\n",
      " |  \n",
      " |  has_delayed_bufalloc\n",
      " |  \n",
      " |  has_index\n",
      " |  \n",
      " |  has_multi_index\n",
      " |  \n",
      " |  index\n",
      " |  \n",
      " |  iterationneedsapi\n",
      " |  \n",
      " |  iterindex\n",
      " |  \n",
      " |  iterrange\n",
      " |  \n",
      " |  itersize\n",
      " |  \n",
      " |  itviews\n",
      " |  \n",
      " |  multi_index\n",
      " |  \n",
      " |  ndim\n",
      " |  \n",
      " |  nop\n",
      " |  \n",
      " |  operands\n",
      " |      operands[`Slice`]\n",
      " |      \n",
      " |      The array(s) to be iterated over. Valid only before the iterator is closed.\n",
      " |  \n",
      " |  shape\n",
      " |  \n",
      " |  value\n",
      "\n"
     ]
    }
   ],
   "source": [
    "help(np.nditer)"
   ]
  },
  {
   "cell_type": "code",
   "execution_count": null,
   "id": "5d4fd005",
   "metadata": {},
   "outputs": [],
   "source": []
  },
  {
   "cell_type": "code",
   "execution_count": null,
   "id": "3d817ef8",
   "metadata": {},
   "outputs": [],
   "source": []
  },
  {
   "cell_type": "code",
   "execution_count": null,
   "id": "38558ccd",
   "metadata": {},
   "outputs": [],
   "source": []
  },
  {
   "cell_type": "code",
   "execution_count": null,
   "id": "3e16881b",
   "metadata": {},
   "outputs": [],
   "source": []
  },
  {
   "cell_type": "code",
   "execution_count": null,
   "id": "01e4cd38",
   "metadata": {},
   "outputs": [],
   "source": []
  },
  {
   "cell_type": "code",
   "execution_count": null,
   "id": "0cdaaa69",
   "metadata": {},
   "outputs": [],
   "source": []
  },
  {
   "cell_type": "code",
   "execution_count": null,
   "id": "070d3bbc",
   "metadata": {},
   "outputs": [],
   "source": []
  }
 ],
 "metadata": {
  "kernelspec": {
   "display_name": "Python 3 (ipykernel)",
   "language": "python",
   "name": "python3"
  },
  "language_info": {
   "codemirror_mode": {
    "name": "ipython",
    "version": 3
   },
   "file_extension": ".py",
   "mimetype": "text/x-python",
   "name": "python",
   "nbconvert_exporter": "python",
   "pygments_lexer": "ipython3",
   "version": "3.9.13"
  }
 },
 "nbformat": 4,
 "nbformat_minor": 5
}
