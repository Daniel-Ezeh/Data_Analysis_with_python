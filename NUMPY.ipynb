{
 "cells": [
  {
   "cell_type": "markdown",
   "id": "23e8567d",
   "metadata": {},
   "source": [
    "# WHAT IS NUMPY?"
   ]
  },
  {
   "cell_type": "markdown",
   "id": "f0caf5f6",
   "metadata": {},
   "source": [
    "Numpy is the core library for scientific computing in Python.\n",
    "It provides a high-performance multidimensional array object, and tools for working with these array\n",
    "\n",
    "### Application of Numpy\n",
    "-Image Processing \n",
    "\n",
    "-Signal Processing\n",
    "\n",
    "-Linear algebra\n",
    "\n"
   ]
  },
  {
   "cell_type": "code",
   "execution_count": null,
   "id": "bf2e8ce8",
   "metadata": {},
   "outputs": [],
   "source": [
    "import numpy as np"
   ]
  },
  {
   "cell_type": "code",
   "execution_count": null,
   "id": "2bdaf2d6",
   "metadata": {},
   "outputs": [],
   "source": [
    "a = np.array([1,2,3])\n",
    "b = np.array([(1,2,3),(4,5,6)])"
   ]
  },
  {
   "cell_type": "code",
   "execution_count": null,
   "id": "61ba0f64",
   "metadata": {},
   "outputs": [],
   "source": [
    "print(a)"
   ]
  },
  {
   "cell_type": "code",
   "execution_count": null,
   "id": "b3bb971c",
   "metadata": {},
   "outputs": [],
   "source": [
    "print(b)"
   ]
  },
  {
   "cell_type": "markdown",
   "id": "91aa6dd5",
   "metadata": {},
   "source": [
    "# Advantage of Numpy over List"
   ]
  },
  {
   "cell_type": "markdown",
   "id": "2a2d3642",
   "metadata": {},
   "source": [
    "It occupies less memory.\n",
    "It is fast. \n",
    "It is more convenient.\n"
   ]
  },
  {
   "cell_type": "markdown",
   "id": "f15ffb4c",
   "metadata": {},
   "source": [
    "# A Multidimensional Array Object"
   ]
  },
  {
   "cell_type": "markdown",
   "id": "1bac1976",
   "metadata": {},
   "source": [
    "Arrays enable you to perform mathematical operations on whole blocks of data using similar syntax to the equivalentoperations between scalar elements:"
   ]
  },
  {
   "cell_type": "markdown",
   "id": "697293d7",
   "metadata": {},
   "source": [
    "## Creating ndarrays"
   ]
  },
  {
   "cell_type": "code",
   "execution_count": null,
   "id": "6cffadda",
   "metadata": {},
   "outputs": [],
   "source": [
    "data1 = [6, 5, 7, 3, 3.6]"
   ]
  },
  {
   "cell_type": "code",
   "execution_count": null,
   "id": "7d08fc27",
   "metadata": {},
   "outputs": [],
   "source": [
    "arr1 = np.array(data1)"
   ]
  },
  {
   "cell_type": "code",
   "execution_count": null,
   "id": "3007bc08",
   "metadata": {},
   "outputs": [],
   "source": [
    "arr1"
   ]
  },
  {
   "cell_type": "code",
   "execution_count": 20,
   "id": "3291a29c",
   "metadata": {},
   "outputs": [],
   "source": [
    "data2 = [[1,2,3,1],[4,2,7,6]]\n",
    "arr2 = np.array(data2)"
   ]
  },
  {
   "cell_type": "code",
   "execution_count": null,
   "id": "b8ef8306",
   "metadata": {},
   "outputs": [],
   "source": [
    "#Specifying the data type\n",
    "arr4 = np.array(data2, dtype=np.float64)\n",
    "arr4"
   ]
  },
  {
   "cell_type": "code",
   "execution_count": null,
   "id": "ea6d3e06",
   "metadata": {},
   "outputs": [],
   "source": [
    "arr4.dtype\n"
   ]
  },
  {
   "cell_type": "code",
   "execution_count": null,
   "id": "a1473973",
   "metadata": {},
   "outputs": [],
   "source": [
    "#Item size\n",
    "arr4.itemsize"
   ]
  },
  {
   "cell_type": "code",
   "execution_count": null,
   "id": "947b26f7",
   "metadata": {},
   "outputs": [],
   "source": [
    "arr2"
   ]
  },
  {
   "cell_type": "code",
   "execution_count": null,
   "id": "ee8e7e1d",
   "metadata": {},
   "outputs": [],
   "source": [
    "#Printing the dimension\n",
    "arr2.ndim"
   ]
  },
  {
   "cell_type": "code",
   "execution_count": null,
   "id": "caa92159",
   "metadata": {},
   "outputs": [],
   "source": [
    "#Printing the size of an array\n",
    "arr2.size"
   ]
  },
  {
   "cell_type": "code",
   "execution_count": null,
   "id": "b4b2bf41",
   "metadata": {},
   "outputs": [],
   "source": [
    "#Printing the shape\n",
    "arr2.shape"
   ]
  },
  {
   "cell_type": "markdown",
   "id": "82f58a42",
   "metadata": {},
   "source": [
    "#### You can Reshape an array\n",
    "It is just like transposing the array, but I think there is a difference.\n",
    "\n",
    "When reshaping arrays, the size must be consistent with the original."
   ]
  },
  {
   "cell_type": "code",
   "execution_count": null,
   "id": "981aa16b",
   "metadata": {},
   "outputs": [],
   "source": [
    "arr2"
   ]
  },
  {
   "cell_type": "code",
   "execution_count": null,
   "id": "7b9da87f",
   "metadata": {},
   "outputs": [],
   "source": [
    "res = arr2.reshape(4,2)\n",
    "res"
   ]
  },
  {
   "cell_type": "code",
   "execution_count": null,
   "id": "b7994d6e",
   "metadata": {},
   "outputs": [],
   "source": [
    "#This case, the second condition is determined automatically\n",
    "res = arr2.reshape(4,-1)\n",
    "res"
   ]
  },
  {
   "cell_type": "code",
   "execution_count": null,
   "id": "bf45a00c",
   "metadata": {},
   "outputs": [],
   "source": [
    "res = arr2.reshape(8,1)\n",
    "res"
   ]
  },
  {
   "cell_type": "code",
   "execution_count": null,
   "id": "939c06ee",
   "metadata": {},
   "outputs": [],
   "source": [
    "#Transpose of an array\n",
    "# (2,3,4,5) becomes (5,4,3,2)\n",
    "res = arr2.T\n",
    "res"
   ]
  },
  {
   "cell_type": "code",
   "execution_count": null,
   "id": "60da2363",
   "metadata": {},
   "outputs": [],
   "source": [
    "#Data type used\n",
    "arr2.dtype"
   ]
  },
  {
   "cell_type": "code",
   "execution_count": null,
   "id": "adbe025e",
   "metadata": {},
   "outputs": [],
   "source": [
    "arr1.dtype"
   ]
  },
  {
   "cell_type": "code",
   "execution_count": 24,
   "id": "1c636ce8",
   "metadata": {},
   "outputs": [
    {
     "data": {
      "text/plain": [
       "array([4, 3, 1, 3, 4, 5, 5, 2])"
      ]
     },
     "execution_count": 24,
     "metadata": {},
     "output_type": "execute_result"
    }
   ],
   "source": [
    "foo = np.random.randint(low=1, high=6, size=(8))\n",
    "foo"
   ]
  },
  {
   "cell_type": "code",
   "execution_count": null,
   "id": "572a5268",
   "metadata": {},
   "outputs": [],
   "source": [
    "# Row major order\n",
    "# orders the row axis first\n",
    "foo.reshape((4,2), order='C')"
   ]
  },
  {
   "cell_type": "code",
   "execution_count": null,
   "id": "59ce899c",
   "metadata": {},
   "outputs": [],
   "source": [
    "# Row major order\n",
    "# orders the row axis first\n",
    "foo.reshape((2,2,2), order='C')"
   ]
  },
  {
   "cell_type": "code",
   "execution_count": null,
   "id": "c6b2097f",
   "metadata": {},
   "outputs": [],
   "source": [
    "# Column major order\n",
    "#Orders the last axis (column) first\n",
    "foo.reshape((4,2), order='F')"
   ]
  },
  {
   "cell_type": "code",
   "execution_count": null,
   "id": "979229cc",
   "metadata": {},
   "outputs": [],
   "source": [
    "# Column major order\n",
    "#Orders the last axis (column) first\n",
    "foo.reshape((2,2,2), order='F')"
   ]
  },
  {
   "cell_type": "code",
   "execution_count": null,
   "id": "8269fedd",
   "metadata": {},
   "outputs": [],
   "source": [
    "foo.shape = (4,2)\n",
    "foo"
   ]
  },
  {
   "cell_type": "code",
   "execution_count": null,
   "id": "951ae1ca",
   "metadata": {},
   "outputs": [],
   "source": [
    "foo.T\n",
    "# or\n",
    "np.transpose(foo)"
   ]
  },
  {
   "cell_type": "code",
   "execution_count": null,
   "id": "6b6934fa",
   "metadata": {},
   "outputs": [],
   "source": []
  },
  {
   "cell_type": "code",
   "execution_count": 27,
   "id": "fae9eae5",
   "metadata": {},
   "outputs": [
    {
     "data": {
      "text/plain": [
       "array([ 5. ,  5.3,  5.6,  5.9,  6.2,  6.5,  6.8,  7.1,  7.4,  7.7,  8. ,\n",
       "        8.3,  8.6,  8.9,  9.2,  9.5,  9.8, 10.1, 10.4, 10.7, 11. , 11.3,\n",
       "       11.6, 11.9])"
      ]
     },
     "execution_count": 27,
     "metadata": {},
     "output_type": "execute_result"
    }
   ],
   "source": [
    "#With starting point and steps\n",
    "np.arange(5,12,0.3)"
   ]
  },
  {
   "cell_type": "markdown",
   "id": "77cefcb7",
   "metadata": {},
   "source": [
    "### SLICING"
   ]
  },
  {
   "cell_type": "code",
   "execution_count": null,
   "id": "54f682bc",
   "metadata": {},
   "outputs": [],
   "source": [
    "arr2"
   ]
  },
  {
   "cell_type": "code",
   "execution_count": null,
   "id": "735da5c5",
   "metadata": {},
   "outputs": [],
   "source": [
    "# Selecting the 3rd element in the second row\n",
    "arr2[1,2]\n"
   ]
  },
  {
   "cell_type": "markdown",
   "id": "cb478dd1",
   "metadata": {},
   "source": [
    "### Splitting Arrays\n",
    "It takes two arguments, the array to be splitted and the number of splits"
   ]
  },
  {
   "cell_type": "code",
   "execution_count": null,
   "id": "4f971cd7",
   "metadata": {},
   "outputs": [],
   "source": [
    "arr2"
   ]
  },
  {
   "cell_type": "code",
   "execution_count": null,
   "id": "b9db92d1",
   "metadata": {},
   "outputs": [],
   "source": [
    "np.hsplit(arr2,4)"
   ]
  },
  {
   "cell_type": "code",
   "execution_count": null,
   "id": "2e81278e",
   "metadata": {},
   "outputs": [],
   "source": [
    "#Indexing the splitted array\n",
    "np.hsplit(arr2,4)[1][1][0]"
   ]
  },
  {
   "cell_type": "code",
   "execution_count": null,
   "id": "6d7de11f",
   "metadata": {},
   "outputs": [],
   "source": [
    "np.vsplit(arr2,2)"
   ]
  },
  {
   "cell_type": "markdown",
   "id": "6661cda2",
   "metadata": {},
   "source": [
    "#### linspace function prints equidistant numbers between two range"
   ]
  },
  {
   "cell_type": "code",
   "execution_count": 8,
   "id": "eb2bbd04",
   "metadata": {},
   "outputs": [
    {
     "data": {
      "text/plain": [
       "array([1.        , 1.14285714, 1.28571429, 1.42857143, 1.57142857,\n",
       "       1.71428571, 1.85714286, 2.        ])"
      ]
     },
     "execution_count": 8,
     "metadata": {},
     "output_type": "execute_result"
    }
   ],
   "source": [
    "#Specifies the range and the number of elements\n",
    "#The default space is 50\n",
    "new = np.linspace(1,2,8)\n",
    "new"
   ]
  },
  {
   "cell_type": "code",
   "execution_count": null,
   "id": "e831906b",
   "metadata": {},
   "outputs": [],
   "source": [
    "np.linspace(start=0, stop=10, num = 8)"
   ]
  },
  {
   "cell_type": "code",
   "execution_count": null,
   "id": "946e43c6",
   "metadata": {},
   "outputs": [],
   "source": [
    "np.linspace(start=[0,5,6], stop=[10,15,7], num = 10)"
   ]
  },
  {
   "cell_type": "code",
   "execution_count": null,
   "id": "f14404ec",
   "metadata": {},
   "outputs": [],
   "source": [
    "np.linspace(start=[0,5,6], stop=[10,15,7], num = 10, axis=1)"
   ]
  },
  {
   "cell_type": "code",
   "execution_count": null,
   "id": "ace8afe7",
   "metadata": {},
   "outputs": [],
   "source": []
  },
  {
   "cell_type": "markdown",
   "id": "1906ea6e",
   "metadata": {},
   "source": [
    "#### Printing sum, max, min"
   ]
  },
  {
   "cell_type": "code",
   "execution_count": null,
   "id": "2add6616",
   "metadata": {},
   "outputs": [],
   "source": [
    "#Returns the maximum number\n",
    "arr2.max()"
   ]
  },
  {
   "cell_type": "code",
   "execution_count": null,
   "id": "dcfff2b0",
   "metadata": {},
   "outputs": [],
   "source": [
    "#Returns the minimum number\n",
    "arr2.min()"
   ]
  },
  {
   "cell_type": "code",
   "execution_count": null,
   "id": "e83f1970",
   "metadata": {},
   "outputs": [],
   "source": [
    "#Returns the sum of the array\n",
    "arr2.sum()"
   ]
  },
  {
   "cell_type": "markdown",
   "id": "6df9aa32",
   "metadata": {},
   "source": [
    "#### The rows are called axis1 and the columns are called axis 0\n",
    "You can find the sum of the variious axes"
   ]
  },
  {
   "cell_type": "code",
   "execution_count": null,
   "id": "03bd48e8",
   "metadata": {},
   "outputs": [],
   "source": [
    "arr2.sum(axis=0)"
   ]
  },
  {
   "cell_type": "code",
   "execution_count": null,
   "id": "886b61af",
   "metadata": {},
   "outputs": [],
   "source": [
    "arr2.sum(axis=1)"
   ]
  },
  {
   "cell_type": "code",
   "execution_count": null,
   "id": "43ec3cb4",
   "metadata": {},
   "outputs": [],
   "source": [
    "arr2"
   ]
  },
  {
   "cell_type": "code",
   "execution_count": null,
   "id": "2c55f34f",
   "metadata": {},
   "outputs": [],
   "source": [
    "#Finding the square root \n",
    "np.sqrt(arr2)"
   ]
  },
  {
   "cell_type": "code",
   "execution_count": null,
   "id": "16e488d7",
   "metadata": {},
   "outputs": [],
   "source": [
    "#Finding the standard deviation\n",
    "np.std(arr2)"
   ]
  },
  {
   "cell_type": "markdown",
   "id": "6fa8d331",
   "metadata": {},
   "source": [
    "## BASIC ARITHMETIC OPERATIONS\n",
    "These operations are done element wise."
   ]
  },
  {
   "cell_type": "code",
   "execution_count": 32,
   "id": "cd05c083",
   "metadata": {},
   "outputs": [],
   "source": [
    "#Example\n",
    "a =np.array([[1,5,7],[4,7,9]])\n",
    "b =np.array([[5,9,1],[4.3,8,3]])\n"
   ]
  },
  {
   "cell_type": "code",
   "execution_count": 27,
   "id": "a03c042f",
   "metadata": {},
   "outputs": [],
   "source": [
    "c =np.array([[5,9],[4.3,8],[33,6]])"
   ]
  },
  {
   "cell_type": "code",
   "execution_count": null,
   "id": "c572a609",
   "metadata": {},
   "outputs": [],
   "source": [
    "a"
   ]
  },
  {
   "cell_type": "code",
   "execution_count": null,
   "id": "c978d8c8",
   "metadata": {},
   "outputs": [],
   "source": [
    "b\n"
   ]
  },
  {
   "cell_type": "code",
   "execution_count": null,
   "id": "bf96668b",
   "metadata": {},
   "outputs": [],
   "source": [
    "c\n"
   ]
  },
  {
   "cell_type": "code",
   "execution_count": 33,
   "id": "e1e98651",
   "metadata": {},
   "outputs": [
    {
     "data": {
      "text/plain": [
       "8"
      ]
     },
     "execution_count": 33,
     "metadata": {},
     "output_type": "execute_result"
    }
   ],
   "source": [
    "c.itemsize\n",
    "b.itemsize"
   ]
  },
  {
   "cell_type": "code",
   "execution_count": null,
   "id": "bbc2633d",
   "metadata": {},
   "outputs": [],
   "source": [
    "#ADDITION\n",
    "a+b"
   ]
  },
  {
   "cell_type": "code",
   "execution_count": 25,
   "id": "0125b450",
   "metadata": {},
   "outputs": [
    {
     "ename": "ValueError",
     "evalue": "operands could not be broadcast together with shapes (8,) (2,3) ",
     "output_type": "error",
     "traceback": [
      "\u001b[1;31m---------------------------------------------------------------------------\u001b[0m",
      "\u001b[1;31mValueError\u001b[0m                                Traceback (most recent call last)",
      "Cell \u001b[1;32mIn [25], line 3\u001b[0m\n\u001b[0;32m      1\u001b[0m dd \u001b[38;5;241m=\u001b[39m np\u001b[38;5;241m.\u001b[39mfull(shape\u001b[38;5;241m=\u001b[39m(\u001b[38;5;241m2\u001b[39m,\u001b[38;5;241m3\u001b[39m), fill_value\u001b[38;5;241m=\u001b[39m\u001b[38;5;241m6\u001b[39m)\n\u001b[0;32m      2\u001b[0m dd\n\u001b[1;32m----> 3\u001b[0m \u001b[43ma\u001b[49m\u001b[43m \u001b[49m\u001b[38;5;241;43m+\u001b[39;49m\u001b[43m \u001b[49m\u001b[43mdd\u001b[49m\n",
      "\u001b[1;31mValueError\u001b[0m: operands could not be broadcast together with shapes (8,) (2,3) "
     ]
    }
   ],
   "source": [
    "dd = np.full(shape=(2,3), fill_value=6)\n",
    "dd\n",
    "a + dd"
   ]
  },
  {
   "cell_type": "code",
   "execution_count": null,
   "id": "bcfa4836",
   "metadata": {},
   "outputs": [],
   "source": [
    "#SUBTRACTION\n",
    "a-b"
   ]
  },
  {
   "cell_type": "code",
   "execution_count": null,
   "id": "16641ffa",
   "metadata": {},
   "outputs": [],
   "source": [
    "#MULTIPLICATION\n",
    "a*b"
   ]
  },
  {
   "cell_type": "code",
   "execution_count": null,
   "id": "72dd13ae",
   "metadata": {},
   "outputs": [],
   "source": [
    "#Matrix multiplication\n",
    "a @ c"
   ]
  },
  {
   "cell_type": "code",
   "execution_count": null,
   "id": "17d4dc71",
   "metadata": {},
   "outputs": [],
   "source": [
    "#DIVISION\n",
    "a/b"
   ]
  },
  {
   "cell_type": "markdown",
   "id": "e2cb1e5f",
   "metadata": {},
   "source": [
    "#### Vertical Stacking and Horizontal Stacking."
   ]
  },
  {
   "cell_type": "code",
   "execution_count": null,
   "id": "266b6a98",
   "metadata": {},
   "outputs": [],
   "source": [
    "## Vertical stacking\n",
    "np.vstack((a,b))"
   ]
  },
  {
   "cell_type": "code",
   "execution_count": null,
   "id": "7c7d4e8e",
   "metadata": {},
   "outputs": [],
   "source": [
    "## Horizontal stacking\n",
    "np.hstack((a,b))"
   ]
  },
  {
   "cell_type": "code",
   "execution_count": null,
   "id": "76405721",
   "metadata": {},
   "outputs": [],
   "source": [
    "#Converting ndarray to one dimension\n",
    "a.ravel()"
   ]
  },
  {
   "cell_type": "markdown",
   "id": "d48b90b0",
   "metadata": {},
   "source": [
    "## SPECIAL FUNCTIONS"
   ]
  },
  {
   "cell_type": "code",
   "execution_count": null,
   "id": "71fccd71",
   "metadata": {},
   "outputs": [],
   "source": [
    "import matplotlib.pyplot as plt"
   ]
  },
  {
   "cell_type": "code",
   "execution_count": null,
   "id": "265fa8b5",
   "metadata": {},
   "outputs": [],
   "source": [
    "x = np.arange(0,3*np.pi, 0.1)"
   ]
  },
  {
   "cell_type": "code",
   "execution_count": null,
   "id": "be44c0f9",
   "metadata": {},
   "outputs": [],
   "source": [
    "x\n"
   ]
  },
  {
   "cell_type": "code",
   "execution_count": null,
   "id": "e152cb56",
   "metadata": {},
   "outputs": [],
   "source": [
    "y= np.sin(x)"
   ]
  },
  {
   "cell_type": "code",
   "execution_count": null,
   "id": "ff613789",
   "metadata": {},
   "outputs": [],
   "source": [
    "y = np.cos(x)"
   ]
  },
  {
   "cell_type": "code",
   "execution_count": null,
   "id": "d9cee2e6",
   "metadata": {},
   "outputs": [],
   "source": [
    "y = np.tan(x)"
   ]
  },
  {
   "cell_type": "code",
   "execution_count": null,
   "id": "202e1dd3",
   "metadata": {},
   "outputs": [],
   "source": [
    "y\n"
   ]
  },
  {
   "cell_type": "code",
   "execution_count": null,
   "id": "47657b8b",
   "metadata": {},
   "outputs": [],
   "source": [
    "plt.plot(x,y)"
   ]
  },
  {
   "cell_type": "code",
   "execution_count": null,
   "id": "31d04dde",
   "metadata": {},
   "outputs": [],
   "source": [
    "plt.show()"
   ]
  },
  {
   "cell_type": "markdown",
   "id": "b577af76",
   "metadata": {},
   "source": [
    "### Exponential and Logarithmic Function"
   ]
  },
  {
   "cell_type": "code",
   "execution_count": null,
   "id": "a3974860",
   "metadata": {},
   "outputs": [],
   "source": [
    "arr2"
   ]
  },
  {
   "cell_type": "code",
   "execution_count": null,
   "id": "9f188c70",
   "metadata": {},
   "outputs": [],
   "source": [
    "ar = np.exp(arr2)\n",
    "ar"
   ]
  },
  {
   "cell_type": "code",
   "execution_count": null,
   "id": "7075e83b",
   "metadata": {},
   "outputs": [],
   "source": [
    "#Finding the natural logarithm\n",
    "ar = np.log(arr2)\n",
    "ar"
   ]
  },
  {
   "cell_type": "code",
   "execution_count": null,
   "id": "eb8fbc18",
   "metadata": {},
   "outputs": [],
   "source": [
    "#Finding the logarithm to base 10\n",
    "ar = np.log10(arr2)\n",
    "ar"
   ]
  },
  {
   "cell_type": "code",
   "execution_count": null,
   "id": "42dd3a36",
   "metadata": {},
   "outputs": [],
   "source": []
  },
  {
   "cell_type": "code",
   "execution_count": null,
   "id": "299473b5",
   "metadata": {},
   "outputs": [],
   "source": [
    "##25/08/2023"
   ]
  },
  {
   "cell_type": "markdown",
   "id": "24d5e648",
   "metadata": {},
   "source": [
    " Every element in the array must be of the same type and size.\n",
    "\n",
    "If an array's elements are also arrays, those inner arrays must have the same type and number of elements as each other."
   ]
  },
  {
   "cell_type": "code",
   "execution_count": null,
   "id": "cc3072cd",
   "metadata": {},
   "outputs": [],
   "source": [
    "np.zeros(shape=(3,5))"
   ]
  },
  {
   "cell_type": "code",
   "execution_count": 40,
   "id": "e2b5c04f",
   "metadata": {},
   "outputs": [
    {
     "data": {
      "text/plain": [
       "array([['dog', 'dog', 'dog', 'dog', 'dog'],\n",
       "       ['dog', 'dog', 'dog', 'dog', 'dog'],\n",
       "       ['dog', 'dog', 'dog', 'dog', 'dog']], dtype='<U3')"
      ]
     },
     "execution_count": 40,
     "metadata": {},
     "output_type": "execute_result"
    }
   ],
   "source": [
    "##Making use of the fill value\n",
    "np.full(shape=(3,5), fill_value=\"dog\")"
   ]
  },
  {
   "cell_type": "code",
   "execution_count": 39,
   "id": "18cc3e56",
   "metadata": {},
   "outputs": [
    {
     "data": {
      "text/plain": [
       "array([1, 3, 5, 7, 9])"
      ]
     },
     "execution_count": 39,
     "metadata": {},
     "output_type": "execute_result"
    }
   ],
   "source": [
    "np.arange(start=1, stop=10, step=2)"
   ]
  },
  {
   "cell_type": "markdown",
   "id": "aa00fc74",
   "metadata": {},
   "source": [
    "#### Slicing operation\n",
    "Syntax: foo[Start index : end index : Step size]"
   ]
  },
  {
   "cell_type": "code",
   "execution_count": 38,
   "id": "78dd06a4",
   "metadata": {},
   "outputs": [
    {
     "data": {
      "text/plain": [
       "array([[[19, 48, 22, 70, 34],\n",
       "        [52, 61,  1, 39, 32]],\n",
       "\n",
       "       [[85, 23, 11, 13, 89],\n",
       "        [58, 63, 40, 52, 65]],\n",
       "\n",
       "       [[ 5, 48,  5, 57, 84],\n",
       "        [ 6, 62, 83, 18, 12]]])"
      ]
     },
     "execution_count": 38,
     "metadata": {},
     "output_type": "execute_result"
    }
   ],
   "source": [
    "np.random.randint(low=1, high=90, size=(3,2,5))"
   ]
  },
  {
   "cell_type": "code",
   "execution_count": 43,
   "id": "ac23dae3",
   "metadata": {},
   "outputs": [],
   "source": [
    "foo = np.random.randint(low=1, high=90, size=(8))"
   ]
  },
  {
   "cell_type": "code",
   "execution_count": null,
   "id": "12d92eb0",
   "metadata": {},
   "outputs": [],
   "source": [
    "foo"
   ]
  },
  {
   "cell_type": "code",
   "execution_count": null,
   "id": "ba10fe5d",
   "metadata": {},
   "outputs": [],
   "source": [
    "#Prints from the begining to the fourth element\n",
    "foo[:4]"
   ]
  },
  {
   "cell_type": "code",
   "execution_count": null,
   "id": "75f379f4",
   "metadata": {},
   "outputs": [],
   "source": [
    "#Prints from the fifth element to the end\n",
    "foo[4:]"
   ]
  },
  {
   "cell_type": "code",
   "execution_count": 44,
   "id": "2784e309",
   "metadata": {},
   "outputs": [
    {
     "data": {
      "text/plain": [
       "array([89, 70, 86])"
      ]
     },
     "execution_count": 44,
     "metadata": {},
     "output_type": "execute_result"
    }
   ],
   "source": [
    "#Prints from the begining to the end skipping with steps\n",
    "foo[::3]"
   ]
  },
  {
   "cell_type": "code",
   "execution_count": null,
   "id": "b09e6372",
   "metadata": {},
   "outputs": [],
   "source": [
    "#we can modify multiple element at once\n",
    "# However the shape must be same\n",
    "foo[::3] = [100,200,300]"
   ]
  },
  {
   "cell_type": "code",
   "execution_count": null,
   "id": "94ddc02d",
   "metadata": {},
   "outputs": [],
   "source": [
    "foo"
   ]
  },
  {
   "cell_type": "code",
   "execution_count": null,
   "id": "1b6e5be8",
   "metadata": {},
   "outputs": [],
   "source": [
    "##For the last element\n",
    "foo[-1]\n",
    "foo[len(foo)-1]"
   ]
  },
  {
   "cell_type": "code",
   "execution_count": null,
   "id": "715fe36b",
   "metadata": {},
   "outputs": [],
   "source": [
    "##You can pass in a list\n",
    "foo[[1,2,1,-1]]"
   ]
  },
  {
   "cell_type": "code",
   "execution_count": null,
   "id": "4e42c499",
   "metadata": {},
   "outputs": [],
   "source": [
    "##the inner expression produces a list of zeros\n",
    "##Which is used as the index\n",
    "foo[np.zeros(shape=3, dtype='int32')]"
   ]
  },
  {
   "cell_type": "markdown",
   "id": "5dc91044",
   "metadata": {},
   "source": [
    "#### Working with 2-D Arrays"
   ]
  },
  {
   "cell_type": "code",
   "execution_count": null,
   "id": "6e39a5dc",
   "metadata": {},
   "outputs": [],
   "source": [
    "bar = np.array(\n",
    "    [\n",
    "        [5,10,15,20],\n",
    "        [25,30,35,40],\n",
    "        [45,50,55,60]\n",
    "    ]\n",
    ")"
   ]
  },
  {
   "cell_type": "code",
   "execution_count": null,
   "id": "a542a134",
   "metadata": {},
   "outputs": [],
   "source": [
    "bar"
   ]
  },
  {
   "cell_type": "code",
   "execution_count": null,
   "id": "7f567106",
   "metadata": {},
   "outputs": [],
   "source": [
    "#Entire row\n",
    "bar[0]"
   ]
  },
  {
   "cell_type": "code",
   "execution_count": null,
   "id": "7ad5b38b",
   "metadata": {},
   "outputs": [],
   "source": [
    "#single row as a 2-d array\n",
    "bar[1,None]"
   ]
  },
  {
   "cell_type": "code",
   "execution_count": null,
   "id": "67692709",
   "metadata": {},
   "outputs": [],
   "source": [
    "bar[-1]"
   ]
  },
  {
   "cell_type": "code",
   "execution_count": null,
   "id": "8353e965",
   "metadata": {},
   "outputs": [],
   "source": [
    "bar[:2]"
   ]
  },
  {
   "cell_type": "code",
   "execution_count": null,
   "id": "f41f3524",
   "metadata": {},
   "outputs": [],
   "source": [
    "#comma can be used to swparate row index from the column index\n",
    "bar[1:3,[-2,-1]]"
   ]
  },
  {
   "cell_type": "code",
   "execution_count": null,
   "id": "53f38d37",
   "metadata": {},
   "outputs": [],
   "source": [
    "#same thing\n",
    "bar[0,0]\n",
    "bar[0][0]"
   ]
  },
  {
   "cell_type": "code",
   "execution_count": null,
   "id": "baab75b4",
   "metadata": {},
   "outputs": [],
   "source": [
    "#replacing values\n",
    "bar[0,0] = -1\n",
    "bar"
   ]
  },
  {
   "cell_type": "code",
   "execution_count": null,
   "id": "ac34791a",
   "metadata": {},
   "outputs": [],
   "source": [
    "#replacing one row with the other\n",
    "bar[1] = bar[2]\n",
    "bar"
   ]
  },
  {
   "cell_type": "code",
   "execution_count": null,
   "id": "1ce66435",
   "metadata": {},
   "outputs": [],
   "source": [
    "#Printing zeros across the diagnal\n",
    "bar[np.arange(3),np.arange(3)] = np.zeros(3, 'int32')\n",
    "bar\n",
    "\n",
    "#bar[[0,1,2],[0,1,2]] = [0,0,0]"
   ]
  },
  {
   "cell_type": "code",
   "execution_count": null,
   "id": "9110854e",
   "metadata": {},
   "outputs": [],
   "source": [
    "np.zeros(3, 'int32')"
   ]
  },
  {
   "cell_type": "markdown",
   "id": "c96964d1",
   "metadata": {},
   "source": [
    "ONE DIMENSIONAL ARRAY --> ROW\n",
    "\n",
    "TWO DIMENSIONAL ARRAY --> MATRIX\n",
    "\n",
    "THREE DIMENSIONAL ARRAY --> ROW OF MATRICES\n",
    "\n",
    "FOUR DIMENSIONAL ARRAY --> MATRIX OF MATRICES"
   ]
  },
  {
   "cell_type": "code",
   "execution_count": null,
   "id": "22ad75dd",
   "metadata": {},
   "outputs": [],
   "source": [
    "#Creating a three dimensional array\n",
    "zoo =  np.array([\n",
    "    [\n",
    "        [10,20],\n",
    "        [30,40],\n",
    "        [50,60]\n",
    "    ],\n",
    "    [\n",
    "        [11,12],\n",
    "        [13,14],\n",
    "        [15,16]\n",
    "    ],\n",
    "])\n",
    "zoo"
   ]
  },
  {
   "cell_type": "code",
   "execution_count": null,
   "id": "fab083e2",
   "metadata": {},
   "outputs": [],
   "source": [
    "##Replacing 1 matrix, every row, of the 2 column with a number\n",
    "zoo[0,:,1] = 5\n",
    "zoo\n"
   ]
  },
  {
   "cell_type": "markdown",
   "id": "542ab6ff",
   "metadata": {},
   "source": [
    "### Challenge 1\n",
    "#### Setup\n",
    "With your high school reunion fast approaching, you decide to get in shape and lose some weight. You record your weight every day for five weeks on a Monday. Given these daily weights, build an array with your average weight per weekend\n"
   ]
  },
  {
   "cell_type": "code",
   "execution_count": null,
   "id": "208feb1f",
   "metadata": {},
   "outputs": [],
   "source": [
    "dailywts = 185 - np.arange(5*7)/5\n",
    "dailywts\n"
   ]
  },
  {
   "cell_type": "code",
   "execution_count": null,
   "id": "5b8bc69e",
   "metadata": {},
   "outputs": [],
   "source": [
    "np.arange(5*7)/5"
   ]
  },
  {
   "cell_type": "code",
   "execution_count": null,
   "id": "50397064",
   "metadata": {},
   "outputs": [],
   "source": [
    "np.arange(35)/5"
   ]
  },
  {
   "cell_type": "markdown",
   "id": "59c3c69a",
   "metadata": {},
   "source": [
    "#### Solution"
   ]
  },
  {
   "cell_type": "code",
   "execution_count": null,
   "id": "7af32248",
   "metadata": {},
   "outputs": [],
   "source": [
    "##Getting Friday and Saturday\n",
    "dailywts[5::7]"
   ]
  },
  {
   "cell_type": "code",
   "execution_count": null,
   "id": "b14a95ce",
   "metadata": {},
   "outputs": [],
   "source": [
    "#Saturday\n",
    "dailywts[6::7]"
   ]
  },
  {
   "cell_type": "code",
   "execution_count": null,
   "id": "8c35c85e",
   "metadata": {},
   "outputs": [],
   "source": [
    "#Adding the two arrays element wise\n",
    "dailywts[5::7] + dailywts[6::7]"
   ]
  },
  {
   "cell_type": "code",
   "execution_count": null,
   "id": "61fb83c5",
   "metadata": {},
   "outputs": [],
   "source": [
    "#Getting the average by division\n",
    "(dailywts[5::7] + dailywts[6::7])/2"
   ]
  },
  {
   "cell_type": "code",
   "execution_count": null,
   "id": "cabbde2d",
   "metadata": {},
   "outputs": [],
   "source": []
  },
  {
   "cell_type": "markdown",
   "id": "291b3499",
   "metadata": {},
   "source": [
    "### Challenge 2\n",
    "#### Setup\n",
    "After binge watching the discovery channel, you dich your job as a trial lawyer to become a gold miner. You decide to prospect five locations underneath a 7*7 grid of land. How much gold to you uncover at each location?\n"
   ]
  },
  {
   "cell_type": "code",
   "execution_count": null,
   "id": "8f2766d7",
   "metadata": {},
   "outputs": [],
   "source": [
    "np.random.seed(5555)\n",
    "gold = np.random.randint(0,10,(7,7))\n",
    "## gold = np.random.randint(low=0,high=10,size=(7,7))\n",
    "gold"
   ]
  },
  {
   "cell_type": "code",
   "execution_count": null,
   "id": "6d8951a7",
   "metadata": {},
   "outputs": [],
   "source": [
    "locs = np.array([\n",
    "    [0,4],\n",
    "    [2,2],\n",
    "    [2,3],\n",
    "    [5,1],\n",
    "    [6,3]\n",
    "])\n",
    "locs"
   ]
  },
  {
   "cell_type": "markdown",
   "id": "07c0fd34",
   "metadata": {},
   "source": [
    "#### Solution"
   ]
  },
  {
   "cell_type": "code",
   "execution_count": null,
   "id": "a4a997e3",
   "metadata": {},
   "outputs": [],
   "source": [
    "gold[0,4]"
   ]
  },
  {
   "cell_type": "code",
   "execution_count": null,
   "id": "38f1f4ec",
   "metadata": {},
   "outputs": [],
   "source": [
    "gold[2,2]"
   ]
  },
  {
   "cell_type": "code",
   "execution_count": null,
   "id": "22e3bbf7",
   "metadata": {},
   "outputs": [],
   "source": [
    "#Passing a list of row indices and column indices\n",
    "gold[[0,2],[4,2]]"
   ]
  },
  {
   "cell_type": "code",
   "execution_count": null,
   "id": "b476dfef",
   "metadata": {},
   "outputs": [],
   "source": [
    "#getting entire row and column indices\n",
    "locs[:, 0]"
   ]
  },
  {
   "cell_type": "code",
   "execution_count": null,
   "id": "3072d243",
   "metadata": {},
   "outputs": [],
   "source": [
    "locs[:,1]"
   ]
  },
  {
   "cell_type": "code",
   "execution_count": null,
   "id": "34e8c80b",
   "metadata": {},
   "outputs": [],
   "source": [
    "gold[locs[:, 0],locs[:,1]]"
   ]
  },
  {
   "cell_type": "markdown",
   "id": "8df01cf2",
   "metadata": {},
   "source": [
    "### Broadcasting \n",
    "Suppose we want to add two arrays, A and B...\n",
    "\n",
    "Moving Backwards from the last dimension of each array, we check if their dimensions are compatible.\n",
    "\n",
    "Dimensions are compatible if they are equal or either of them is one.\n",
    "\n",
    "If all of A's dimension are compatible with B's dimensions, or vice versa, they are compatible arrays."
   ]
  },
  {
   "cell_type": "code",
   "execution_count": null,
   "id": "8145de6e",
   "metadata": {},
   "outputs": [],
   "source": [
    "#Examples\n",
    "np.random.seed(1234)\n",
    "A = np.random.randint(low=1, high=10, size = (3,4))\n",
    "B = np.random.randint(low=1, high=10, size = (3,1))\n"
   ]
  },
  {
   "cell_type": "code",
   "execution_count": null,
   "id": "4fa53d64",
   "metadata": {},
   "outputs": [],
   "source": [
    "A"
   ]
  },
  {
   "cell_type": "code",
   "execution_count": null,
   "id": "9df9c614",
   "metadata": {},
   "outputs": [],
   "source": [
    "B"
   ]
  },
  {
   "cell_type": "code",
   "execution_count": null,
   "id": "65609eec",
   "metadata": {},
   "outputs": [],
   "source": [
    "A+B"
   ]
  },
  {
   "cell_type": "code",
   "execution_count": null,
   "id": "a4bfb3b4",
   "metadata": {},
   "outputs": [],
   "source": [
    "np.random.seed(1234)\n",
    "A = np.random.randint(low=1, high=10, size = (4,4))\n",
    "B = np.random.randint(low=1, high=10, size = (2,1))\n"
   ]
  },
  {
   "cell_type": "code",
   "execution_count": null,
   "id": "52b65b93",
   "metadata": {},
   "outputs": [],
   "source": [
    "A + B"
   ]
  },
  {
   "cell_type": "code",
   "execution_count": null,
   "id": "b2ad6d58",
   "metadata": {},
   "outputs": [],
   "source": [
    "np.random.seed(1234)\n",
    "A = np.random.randint(low=1, high=10, size = (3,1,4))\n",
    "B = np.random.randint(low=1, high=10, size = (2,1))\n"
   ]
  },
  {
   "cell_type": "code",
   "execution_count": null,
   "id": "14ee37b6",
   "metadata": {},
   "outputs": [],
   "source": [
    "A"
   ]
  },
  {
   "cell_type": "code",
   "execution_count": null,
   "id": "3ffa7f8d",
   "metadata": {},
   "outputs": [],
   "source": [
    "B"
   ]
  },
  {
   "cell_type": "code",
   "execution_count": null,
   "id": "0aac773b",
   "metadata": {},
   "outputs": [],
   "source": [
    "A+B"
   ]
  },
  {
   "cell_type": "code",
   "execution_count": null,
   "id": "8a002f65",
   "metadata": {},
   "outputs": [],
   "source": [
    "##Making use of the newaxis\n",
    "#Creates a new axis either in front or behind, depending on where the functtion\n",
    "# is placed. It converts a 1-d array to 2,3...d array."
   ]
  },
  {
   "cell_type": "code",
   "execution_count": null,
   "id": "72d698b9",
   "metadata": {},
   "outputs": [],
   "source": [
    "#Example\n",
    "aa = np.array([3, 11, 4, 5])\n",
    "bb = np.array([5, 0, 3])"
   ]
  },
  {
   "cell_type": "code",
   "execution_count": null,
   "id": "a2a4b362",
   "metadata": {},
   "outputs": [],
   "source": [
    "aa\n"
   ]
  },
  {
   "cell_type": "code",
   "execution_count": null,
   "id": "ad5709fd",
   "metadata": {},
   "outputs": [],
   "source": [
    "bb"
   ]
  },
  {
   "cell_type": "code",
   "execution_count": null,
   "id": "24006daa",
   "metadata": {},
   "outputs": [],
   "source": [
    "#More of a transpose\n",
    "aa[:, np.newaxis]"
   ]
  },
  {
   "cell_type": "code",
   "execution_count": null,
   "id": "a23f379b",
   "metadata": {},
   "outputs": [],
   "source": [
    "bb[np.newaxis,:]"
   ]
  },
  {
   "cell_type": "code",
   "execution_count": null,
   "id": "1eb985e7",
   "metadata": {},
   "outputs": [],
   "source": [
    "##Newaxis is an alias for the 'None' keyword\n",
    "bb[None,:]"
   ]
  },
  {
   "cell_type": "markdown",
   "id": "9725dff2",
   "metadata": {},
   "source": [
    "### Boolean Indexing"
   ]
  },
  {
   "cell_type": "code",
   "execution_count": null,
   "id": "913a061d",
   "metadata": {},
   "outputs": [],
   "source": [
    "import numpy as np"
   ]
  },
  {
   "cell_type": "code",
   "execution_count": null,
   "id": "1ac54d55",
   "metadata": {},
   "outputs": [],
   "source": [
    "np.random.seed(1234)\n",
    "foo = np.random.randint(1,9,(3,3))\n",
    "foo"
   ]
  },
  {
   "cell_type": "code",
   "execution_count": null,
   "id": "bbbb9bdc",
   "metadata": {},
   "outputs": [],
   "source": [
    "#Gives an array of boolean values\n",
    "foo == 5"
   ]
  },
  {
   "cell_type": "code",
   "execution_count": null,
   "id": "186e141b",
   "metadata": {},
   "outputs": [],
   "source": [
    "foo < 5"
   ]
  },
  {
   "cell_type": "code",
   "execution_count": null,
   "id": "a8a95460",
   "metadata": {},
   "outputs": [],
   "source": [
    "foo > 5"
   ]
  },
  {
   "cell_type": "code",
   "execution_count": null,
   "id": "46f25fff",
   "metadata": {},
   "outputs": [],
   "source": [
    "foo <= 5"
   ]
  },
  {
   "cell_type": "code",
   "execution_count": null,
   "id": "fc81b460",
   "metadata": {},
   "outputs": [],
   "source": [
    "foo >= 5"
   ]
  },
  {
   "cell_type": "code",
   "execution_count": null,
   "id": "e6d50bfe",
   "metadata": {},
   "outputs": [],
   "source": [
    "(foo == 5) | (foo != 5)"
   ]
  },
  {
   "cell_type": "code",
   "execution_count": null,
   "id": "f53e6182",
   "metadata": {},
   "outputs": [],
   "source": [
    "(foo == 5) & (foo != 5)"
   ]
  },
  {
   "cell_type": "code",
   "execution_count": null,
   "id": "8a837953",
   "metadata": {},
   "outputs": [],
   "source": [
    "foo != 5"
   ]
  },
  {
   "cell_type": "code",
   "execution_count": null,
   "id": "24ab4acf",
   "metadata": {},
   "outputs": [],
   "source": [
    "mask = foo != 5"
   ]
  },
  {
   "cell_type": "code",
   "execution_count": null,
   "id": "3f9f1909",
   "metadata": {},
   "outputs": [],
   "source": [
    "foo"
   ]
  },
  {
   "cell_type": "code",
   "execution_count": null,
   "id": "d4b2df6e",
   "metadata": {},
   "outputs": [],
   "source": [
    "foo[mask]"
   ]
  },
  {
   "cell_type": "code",
   "execution_count": null,
   "id": "ee004815",
   "metadata": {},
   "outputs": [],
   "source": [
    "#We can set all the values that corresponds to True to zero or any number\n",
    "foo[mask] = 100\n",
    "foo"
   ]
  },
  {
   "cell_type": "markdown",
   "id": "301f180d",
   "metadata": {},
   "source": [
    "#### Using a 1-D boolean array to pick rows from a 2-D array"
   ]
  },
  {
   "cell_type": "code",
   "execution_count": null,
   "id": "d33ee29c",
   "metadata": {},
   "outputs": [],
   "source": [
    "#You can use a 1-D boolean array to pick rows from a 2-D array\n",
    "rows_1_and_3 = np.array([True, False, True])\n",
    "cols_2_and_3 = np.array([False, True, True])"
   ]
  },
  {
   "cell_type": "code",
   "execution_count": null,
   "id": "2e10db2d",
   "metadata": {},
   "outputs": [],
   "source": [
    "#It since the array is a 1-D array, it pick the first and the third row\n",
    "foo[rows_1_and_3] #like foo[[0,2]]"
   ]
  },
  {
   "cell_type": "code",
   "execution_count": null,
   "id": "43746bbd",
   "metadata": {},
   "outputs": [],
   "source": [
    " foo[[0,2]]"
   ]
  },
  {
   "cell_type": "code",
   "execution_count": null,
   "id": "ceec7044",
   "metadata": {},
   "outputs": [],
   "source": [
    "#It since the array is a 1-D array, it pick the second and the third row\n",
    "foo[cols_2_and_3] #like foo[:, [1,2]]"
   ]
  },
  {
   "cell_type": "code",
   "execution_count": null,
   "id": "49c56b06",
   "metadata": {},
   "outputs": [],
   "source": [
    "# Selecting all the rows, then the column number that corresponds to True in\n",
    "# boolean array\n",
    "foo[:, rows_2_and_3]"
   ]
  },
  {
   "cell_type": "code",
   "execution_count": null,
   "id": "ba91e362",
   "metadata": {},
   "outputs": [],
   "source": [
    "foo[:, [1,2]]"
   ]
  },
  {
   "cell_type": "code",
   "execution_count": null,
   "id": "641ca555",
   "metadata": {},
   "outputs": [],
   "source": [
    "foo[rows_1_and_3, cols_2_and_3] #like foo[[0,2],[1,2]]"
   ]
  },
  {
   "cell_type": "code",
   "execution_count": null,
   "id": "332e8b74",
   "metadata": {},
   "outputs": [],
   "source": [
    "# Here we have lists of pairs of row indices and column indices\n",
    "foo[[0,2],[1,2]] "
   ]
  },
  {
   "cell_type": "markdown",
   "id": "912327a4",
   "metadata": {},
   "source": [
    "#### Examples of Boolean indexing in action"
   ]
  },
  {
   "cell_type": "code",
   "execution_count": null,
   "id": "f8f1c06d",
   "metadata": {},
   "outputs": [],
   "source": [
    "import numpy as np"
   ]
  },
  {
   "cell_type": "code",
   "execution_count": null,
   "id": "0fcdf1ba",
   "metadata": {},
   "outputs": [],
   "source": [
    "names = np.array([\"Dennis\", \"Lucius\", \"Mike\", \"Frank\", \"Bae\"])\n",
    "ages = np.array([43, 44, 43, 42, 74])\n",
    "genders =np.array(['male', 'female', 'male', 'male', 'female'])"
   ]
  },
  {
   "cell_type": "code",
   "execution_count": null,
   "id": "b29c36cb",
   "metadata": {},
   "outputs": [],
   "source": [
    "#Who's at least 44?\n",
    "ages >= 44"
   ]
  },
  {
   "cell_type": "code",
   "execution_count": null,
   "id": "cf6b1300",
   "metadata": {},
   "outputs": [],
   "source": [
    "names[ages >= 44]"
   ]
  },
  {
   "cell_type": "code",
   "execution_count": null,
   "id": "367a84b5",
   "metadata": {},
   "outputs": [],
   "source": [
    "#Which males are over 42?\n",
    "genders == 'male'"
   ]
  },
  {
   "cell_type": "code",
   "execution_count": null,
   "id": "a8b82322",
   "metadata": {},
   "outputs": [],
   "source": [
    "ages > 42"
   ]
  },
  {
   "cell_type": "code",
   "execution_count": null,
   "id": "0706fd25",
   "metadata": {},
   "outputs": [],
   "source": [
    "(genders == 'male') & (ages > 42)"
   ]
  },
  {
   "cell_type": "code",
   "execution_count": null,
   "id": "f5400929",
   "metadata": {},
   "outputs": [],
   "source": [
    "names[(genders == 'male') & (ages > 42)]"
   ]
  },
  {
   "cell_type": "code",
   "execution_count": null,
   "id": "fe01f38d",
   "metadata": {},
   "outputs": [],
   "source": [
    "#And who's not a male or is younger than 43?\n",
    "~(genders == 'male') | (ages < 43)"
   ]
  },
  {
   "cell_type": "code",
   "execution_count": null,
   "id": "96fd81e8",
   "metadata": {},
   "outputs": [],
   "source": [
    "names[~(genders == 'male') | (ages < 43)]"
   ]
  },
  {
   "cell_type": "markdown",
   "id": "0e1a5124",
   "metadata": {},
   "source": [
    "### nan\n",
    "Use to represent missing or invalid values"
   ]
  },
  {
   "cell_type": "code",
   "execution_count": null,
   "id": "91d97bcd",
   "metadata": {},
   "outputs": [],
   "source": [
    "bot = np.ones(shape=(3,4))\n",
    "bot[[0,2],[1,2]] = np.nan\n",
    "bot"
   ]
  },
  {
   "cell_type": "code",
   "execution_count": null,
   "id": "8848520f",
   "metadata": {},
   "outputs": [],
   "source": [
    "## you may want to identify which element are nan,\n",
    "# but the result will surprise you\n",
    "bot == np.nan"
   ]
  },
  {
   "cell_type": "code",
   "execution_count": null,
   "id": "69d01753",
   "metadata": {},
   "outputs": [],
   "source": [
    "np.nan == np.nan"
   ]
  },
  {
   "cell_type": "code",
   "execution_count": null,
   "id": "5f61b328",
   "metadata": {},
   "outputs": [],
   "source": [
    "#Equivalence between missing or invalid values is not well defined\n",
    "np.nan != np.nan"
   ]
  },
  {
   "cell_type": "code",
   "execution_count": null,
   "id": "9ffc3e11",
   "metadata": {},
   "outputs": [],
   "source": [
    "#you can use this function to check which element is nan\n",
    "np.isnan(bot)"
   ]
  },
  {
   "cell_type": "code",
   "execution_count": null,
   "id": "e721d9dc",
   "metadata": {},
   "outputs": [],
   "source": [
    "#nan is a special floating point constant, it can only exist in an arrya of\n",
    "#floats\n",
    "doo = np.array([1,2,1,5], dtype='int32')\n",
    "doo[:2] = np.nan"
   ]
  },
  {
   "cell_type": "markdown",
   "id": "40d18bf1",
   "metadata": {},
   "source": [
    "#### Infinite Values in Numpy"
   ]
  },
  {
   "cell_type": "code",
   "execution_count": null,
   "id": "b4994191",
   "metadata": {},
   "outputs": [],
   "source": [
    "import numpy as np"
   ]
  },
  {
   "cell_type": "code",
   "execution_count": null,
   "id": "a7a22354",
   "metadata": {},
   "outputs": [],
   "source": [
    "np.array([np.inf, np.NINF])"
   ]
  },
  {
   "cell_type": "code",
   "execution_count": null,
   "id": "fa3294f4",
   "metadata": {},
   "outputs": [],
   "source": [
    "#These value occur when you divide by zero\n",
    "np.array([1, -1])/0"
   ]
  },
  {
   "cell_type": "code",
   "execution_count": null,
   "id": "2fbeb6c4",
   "metadata": {},
   "outputs": [],
   "source": [
    "np.inf * 2 "
   ]
  },
  {
   "cell_type": "code",
   "execution_count": null,
   "id": "4d50d247",
   "metadata": {},
   "outputs": [],
   "source": [
    "np.inf + np.inf"
   ]
  },
  {
   "cell_type": "code",
   "execution_count": null,
   "id": "ae883896",
   "metadata": {},
   "outputs": [],
   "source": [
    "np.inf - np.inf"
   ]
  },
  {
   "cell_type": "code",
   "execution_count": null,
   "id": "d1e75b22",
   "metadata": {},
   "outputs": [],
   "source": [
    "np.inf / np.inf"
   ]
  },
  {
   "cell_type": "code",
   "execution_count": null,
   "id": "f4b37fbe",
   "metadata": {},
   "outputs": [],
   "source": [
    "np.inf == np.inf"
   ]
  },
  {
   "cell_type": "code",
   "execution_count": null,
   "id": "4f929354",
   "metadata": {},
   "outputs": [],
   "source": [
    "np.NINF == np.NINF"
   ]
  },
  {
   "cell_type": "code",
   "execution_count": null,
   "id": "26711f8e",
   "metadata": {},
   "outputs": [],
   "source": [
    "coo = np.array([2, 4, np.inf, 8, np.NINF])"
   ]
  },
  {
   "cell_type": "code",
   "execution_count": null,
   "id": "abbaf56d",
   "metadata": {},
   "outputs": [],
   "source": [
    "coo == np.NINF"
   ]
  },
  {
   "cell_type": "code",
   "execution_count": null,
   "id": "19b113a3",
   "metadata": {},
   "outputs": [],
   "source": [
    "coo == np.inf"
   ]
  },
  {
   "cell_type": "code",
   "execution_count": null,
   "id": "f08a3ff0",
   "metadata": {},
   "outputs": [],
   "source": [
    "np.isposinf(coo)"
   ]
  },
  {
   "cell_type": "code",
   "execution_count": null,
   "id": "911366ea",
   "metadata": {},
   "outputs": [],
   "source": [
    "np.isneginf(coo)"
   ]
  },
  {
   "cell_type": "code",
   "execution_count": null,
   "id": "d0e6d61f",
   "metadata": {},
   "outputs": [],
   "source": [
    "np.isinf(coo)"
   ]
  },
  {
   "cell_type": "markdown",
   "id": "f7215bac",
   "metadata": {},
   "source": [
    "#### Random Values in Numpy"
   ]
  },
  {
   "cell_type": "code",
   "execution_count": null,
   "id": "f102b883",
   "metadata": {},
   "outputs": [],
   "source": [
    "import numpy as np"
   ]
  },
  {
   "cell_type": "code",
   "execution_count": null,
   "id": "57abd8a4",
   "metadata": {},
   "outputs": [],
   "source": [
    "#Getting reproducable result\n",
    "np.random.seed(1111)\n",
    "np.random.randint(low=1, high=7, size=3)"
   ]
  },
  {
   "cell_type": "code",
   "execution_count": null,
   "id": "6839098a",
   "metadata": {},
   "outputs": [],
   "source": [
    "##Drawing values without replacement\n",
    "np.random.seed(22357)\n",
    "np.random.choice(\n",
    "    a = np.arange(1,7), #this is the choice of list\n",
    "    size = 3,\n",
    "    replace = False,\n",
    "    p = None\n",
    ")"
   ]
  },
  {
   "cell_type": "code",
   "execution_count": null,
   "id": "781e6c80",
   "metadata": {},
   "outputs": [],
   "source": [
    "##Creating samples with different probabilites\n",
    "## 'p' should have the same number of element as \n",
    "##the array of values\n",
    "## sum of the probability should be equal to one\n",
    "##Drawing values without replacement\n",
    "\n",
    "np.random.choice(\n",
    "    a = np.arange(1,7), #this is the choice of list\n",
    "    size = 3,\n",
    "    replace = False, \n",
    "    p = np.array([0.1,0.1,0.1,0.1,0.3,0.3])\n",
    ")"
   ]
  },
  {
   "cell_type": "code",
   "execution_count": null,
   "id": "aad51150",
   "metadata": {},
   "outputs": [],
   "source": [
    "## Sampling strins without replacement\n",
    "np.random.choice(\n",
    "    a = np.array(['you', 'can', 'use', 'strings','too']),\n",
    "    size = 3, \n",
    "    replace = False,\n",
    "    p = None\n",
    ")"
   ]
  },
  {
   "cell_type": "code",
   "execution_count": null,
   "id": "9d1beb15",
   "metadata": {},
   "outputs": [],
   "source": [
    "##Sampling rows from a 2-D array\n",
    "soo = np.arange(1,11)\n",
    "soo"
   ]
  },
  {
   "cell_type": "code",
   "execution_count": null,
   "id": "b86f9446",
   "metadata": {},
   "outputs": [],
   "source": [
    "soo = soo.reshape((5,-1), order = 'C')\n",
    "soo"
   ]
  },
  {
   "cell_type": "code",
   "execution_count": null,
   "id": "d054df20",
   "metadata": {},
   "outputs": [],
   "source": [
    "soo.shape[0]"
   ]
  },
  {
   "cell_type": "code",
   "execution_count": null,
   "id": "523f1914",
   "metadata": {},
   "outputs": [],
   "source": [
    "##Sampling 3 rows with replacement\n",
    "np.random.seed()\n",
    "rand_rows = np.random.randint(\n",
    "    low = 0,\n",
    "    high = soo.shape[0],\n",
    "    size = 3\n",
    ")\n",
    "rand_rows"
   ]
  },
  {
   "cell_type": "code",
   "execution_count": null,
   "id": "4692039b",
   "metadata": {},
   "outputs": [],
   "source": [
    "soo[rand_rows]"
   ]
  },
  {
   "cell_type": "code",
   "execution_count": null,
   "id": "db5e5624",
   "metadata": {},
   "outputs": [],
   "source": [
    "#Sampling without replacement\n",
    "np.random.seed(1234)\n",
    "rand_rows = np.random.choice(\n",
    "    a = np.arange(start=0, stop=soo.shape[0]),\n",
    "    replace = False,\n",
    "    size = 3\n",
    ")\n",
    "print(rand_rows)"
   ]
  },
  {
   "cell_type": "code",
   "execution_count": null,
   "id": "6e03324b",
   "metadata": {},
   "outputs": [],
   "source": [
    "#Subsetting soo\n",
    "soo[rand_rows]"
   ]
  },
  {
   "cell_type": "code",
   "execution_count": null,
   "id": "058d9426",
   "metadata": {},
   "outputs": [],
   "source": [
    "soo\n"
   ]
  },
  {
   "cell_type": "code",
   "execution_count": null,
   "id": "89210d52",
   "metadata": {},
   "outputs": [],
   "source": [
    "##it only shuffles the data along its first axis\n",
    "#only the rows\n",
    "np.random.permutation(soo)"
   ]
  },
  {
   "cell_type": "code",
   "execution_count": null,
   "id": "8f165761",
   "metadata": {},
   "outputs": [],
   "source": [
    "##uniform distribution\n",
    "np.random.uniform(low=1.0, high=3.0, size=(2,2))"
   ]
  },
  {
   "cell_type": "code",
   "execution_count": null,
   "id": "24476b61",
   "metadata": {},
   "outputs": [],
   "source": [
    "#Normal distribution\n",
    "#here 'loc'= mean, 'scale' = stdev, 'size' = tuple\n",
    "np.random.normal(loc=0.0, scale=1.0, size=(2,3))"
   ]
  },
  {
   "cell_type": "code",
   "execution_count": null,
   "id": "142bc651",
   "metadata": {},
   "outputs": [],
   "source": [
    "#Binomial distribution\n",
    "np.random.binomial(n = 60, p = 0.25, size = (4,2))"
   ]
  },
  {
   "cell_type": "markdown",
   "id": "753e1b65",
   "metadata": {},
   "source": [
    "##### Creating a Customized Random Generator"
   ]
  },
  {
   "cell_type": "code",
   "execution_count": null,
   "id": "4597af81",
   "metadata": {},
   "outputs": [],
   "source": [
    "#Create a generator\n",
    "generator = np.random.default_rng(seed=123)"
   ]
  },
  {
   "cell_type": "code",
   "execution_count": null,
   "id": "80064d8f",
   "metadata": {},
   "outputs": [],
   "source": [
    "#Sampling three ints between 1 and 6 with replacement\n",
    "#np.random.randint(low=1, high=7, size=3)\n",
    "generator.integers(low=1, high=7, size=3)"
   ]
  },
  {
   "cell_type": "code",
   "execution_count": null,
   "id": "4d5b44f2",
   "metadata": {},
   "outputs": [],
   "source": [
    "#Sampling three ints between 1 and 8 without replacement\n",
    "#np.random.choice(a=9, size=3, replace=True)\n",
    "generator.choice(a=9, size=3, replace=True)"
   ]
  },
  {
   "cell_type": "code",
   "execution_count": null,
   "id": "bb72d0a9",
   "metadata": {},
   "outputs": [],
   "source": [
    "soo"
   ]
  },
  {
   "cell_type": "code",
   "execution_count": null,
   "id": "59d6b1bc",
   "metadata": {},
   "outputs": [],
   "source": [
    "#Randomly shuffling the rows of a 2d array, soo\n",
    "#np.random.permutation(foo)\n",
    "\n",
    "generator.permutation(soo, axis=1)"
   ]
  },
  {
   "cell_type": "code",
   "execution_count": null,
   "id": "43034568",
   "metadata": {},
   "outputs": [],
   "source": [
    "#Randomly sampling values from a uniform distribution\n",
    "#np.random.uniform(low=1.0, high=2.0, size=(2,2))\n",
    "generator.uniform(low=1.0, high=2.0, size=(2,2))"
   ]
  },
  {
   "cell_type": "code",
   "execution_count": null,
   "id": "4d833d61",
   "metadata": {},
   "outputs": [],
   "source": [
    "#Randomly sampling values from a standard normal distribution\n",
    "#np.random.normal(loc=0.0, scale=1.0, size=2)\n",
    "generator.normal(loc=0.0, scale=1.0, size=3)"
   ]
  },
  {
   "cell_type": "markdown",
   "id": "348782d8",
   "metadata": {},
   "source": [
    "### Challenge 3\n",
    "You're a relationship scientist and you've developed a questionaire that determines a person's love score, a real-valued number between 0 and 100. Your theory is that two people with similar love score should make a good match. Given the love scores for 10 different people, create a matrix where (i,j) give the absolute difference of the love scores for person i and person j."
   ]
  },
  {
   "cell_type": "code",
   "execution_count": null,
   "id": "098487f6",
   "metadata": {},
   "outputs": [],
   "source": [
    "import numpy as np"
   ]
  },
  {
   "cell_type": "code",
   "execution_count": null,
   "id": "885c9a0c",
   "metadata": {},
   "outputs": [],
   "source": [
    "generator = np.random.default_rng(1010)\n",
    "love_scores = np.round(generator.uniform(low=0, high=100, size=10), 2)\n",
    "love_scores"
   ]
  },
  {
   "cell_type": "markdown",
   "id": "41c09bfe",
   "metadata": {},
   "source": [
    "#### Solution"
   ]
  },
  {
   "cell_type": "code",
   "execution_count": null,
   "id": "6cbc9206",
   "metadata": {},
   "outputs": [],
   "source": [
    "np.set_printoptions(linewidth=999)\n",
    "#don't wrap print until 999 characters"
   ]
  },
  {
   "cell_type": "code",
   "execution_count": null,
   "id": "44854ec4",
   "metadata": {},
   "outputs": [],
   "source": [
    "a = love_scores[:,None]\n",
    "a"
   ]
  },
  {
   "cell_type": "code",
   "execution_count": null,
   "id": "a64a8069",
   "metadata": {},
   "outputs": [],
   "source": [
    "b = love_scores[None, :]\n",
    "b"
   ]
  },
  {
   "cell_type": "code",
   "execution_count": null,
   "id": "a8a8ac64",
   "metadata": {},
   "outputs": [],
   "source": [
    "np.set_printoptions(linewidth=999)\n",
    "a - b"
   ]
  },
  {
   "cell_type": "code",
   "execution_count": null,
   "id": "f4a531c8",
   "metadata": {},
   "outputs": [],
   "source": [
    "np.set_printoptions(linewidth=999)\n",
    "abs(a - b)"
   ]
  },
  {
   "cell_type": "markdown",
   "id": "ecc7b60e",
   "metadata": {},
   "source": [
    "### Challenge 4\n",
    "You're a vindictive, hate professor and one of your pet peeves is when students rush through their exams. To teach them a lesson, you decide to give 0s to the first three students who score less than sixty, in the order they turned in their exams. So, given a 1d array of integers, identify the first three values less than sixty and replace them with zero\n"
   ]
  },
  {
   "cell_type": "code",
   "execution_count": null,
   "id": "97d32d8d",
   "metadata": {},
   "outputs": [],
   "source": [
    "import numpy as np"
   ]
  },
  {
   "cell_type": "code",
   "execution_count": null,
   "id": "905330a9",
   "metadata": {},
   "outputs": [],
   "source": [
    "genrator = np.random.default_rng(80085)\n",
    "score = np.round(generator.uniform(low=30, high=100, size=15))\n",
    "score"
   ]
  },
  {
   "cell_type": "markdown",
   "id": "f0cf25ca",
   "metadata": {},
   "source": [
    "#### Solution"
   ]
  },
  {
   "cell_type": "code",
   "execution_count": null,
   "id": "a4950698",
   "metadata": {},
   "outputs": [],
   "source": [
    "score < 60"
   ]
  },
  {
   "cell_type": "code",
   "execution_count": null,
   "id": "a5a726da",
   "metadata": {},
   "outputs": [],
   "source": [
    "(score<60).nonzero()"
   ]
  },
  {
   "cell_type": "code",
   "execution_count": null,
   "id": "a102f474",
   "metadata": {},
   "outputs": [],
   "source": [
    "(score<60).nonzero()[0]"
   ]
  },
  {
   "cell_type": "code",
   "execution_count": null,
   "id": "e4dc68f5",
   "metadata": {},
   "outputs": [],
   "source": [
    "(score<60).nonzero()[0][:3]"
   ]
  },
  {
   "cell_type": "code",
   "execution_count": null,
   "id": "a74d2d3a",
   "metadata": {},
   "outputs": [],
   "source": [
    "score[(score<60).nonzero()[0][:3]]=0\n",
    "score"
   ]
  },
  {
   "cell_type": "code",
   "execution_count": null,
   "id": "81090132",
   "metadata": {},
   "outputs": [],
   "source": []
  },
  {
   "cell_type": "code",
   "execution_count": null,
   "id": "4d2a152f",
   "metadata": {},
   "outputs": [],
   "source": []
  },
  {
   "cell_type": "markdown",
   "id": "135a6ba0",
   "metadata": {},
   "source": [
    "# NUMPY INTRODUCTION"
   ]
  },
  {
   "cell_type": "markdown",
   "id": "f0660ad2",
   "metadata": {},
   "source": [
    "### What is NumPy?\n",
    "NumPy is a python library used for working with arrays.\n",
    "\n",
    "It also has functions for working in domain of linear algebra, fourier transform, and matrices.\n",
    "\n",
    "NumPy was created in 2005 by Travis Oliphant. It is an open source project and you can use it freely.\n",
    "\n",
    "NumPy stands for Numerical Python."
   ]
  },
  {
   "cell_type": "markdown",
   "id": "a1bb177f",
   "metadata": {},
   "source": [
    "### Why Use NumPy ?\n",
    "- In Python we have lists that serve the purpose of arrays, but they are slow to process.\n",
    "- NumPy aims to provide an array object that is up to 50x faster that traditional Python lists.\n",
    "- The array object in NumPy is called ndarray, it provides a lot of supporting functions that make working with ndarray very easy.\n",
    "- Arrays are very frequently used in data science, where speed and resources are very important."
   ]
  },
  {
   "cell_type": "markdown",
   "id": "19d2dba4",
   "metadata": {},
   "source": [
    "### Why is NumPy Faster Than Lists?\n",
    "NumPy arrays are stored at one continuous place in memory unlike lists, so processes can access and manipulate them very efficiently.\n",
    "\n",
    "This behavior is called locality of reference in computer science.\n",
    "\n",
    "This is the main reason why NumPy is faster than lists. Also it is optimized to work with latest CPU architectures.\n",
    "\n",
    "### Which Language is NumPy written in?\n",
    "NumPy is a Python library and is written partially in Python, but most of the parts that require fast computation are written in C or C++.\n",
    "\n",
    "### Where is the NumPy Codebase?\n",
    "The source code for NumPy is located at this github repository https://github.com/numpy/numpy"
   ]
  },
  {
   "cell_type": "code",
   "execution_count": 1,
   "id": "b0c66804",
   "metadata": {},
   "outputs": [],
   "source": [
    "import numpy as np"
   ]
  },
  {
   "cell_type": "code",
   "execution_count": null,
   "id": "61c41f4e",
   "metadata": {},
   "outputs": [],
   "source": [
    "print(np.__all__)"
   ]
  },
  {
   "cell_type": "code",
   "execution_count": null,
   "id": "2bf41e3a",
   "metadata": {},
   "outputs": [],
   "source": [
    "import random as rd"
   ]
  },
  {
   "cell_type": "code",
   "execution_count": null,
   "id": "9a1d67f4",
   "metadata": {},
   "outputs": [],
   "source": [
    "help(rd.randint)"
   ]
  },
  {
   "cell_type": "code",
   "execution_count": 2,
   "id": "13e2b12c",
   "metadata": {},
   "outputs": [],
   "source": [
    "import numpy as np"
   ]
  },
  {
   "cell_type": "code",
   "execution_count": null,
   "id": "d27c1890",
   "metadata": {},
   "outputs": [],
   "source": [
    "help(np.array)"
   ]
  },
  {
   "cell_type": "code",
   "execution_count": 2,
   "id": "a90e3f38",
   "metadata": {},
   "outputs": [],
   "source": [
    "arr = np.array([[1,2,3,4,5], [6,7,8,9,10]])"
   ]
  },
  {
   "cell_type": "code",
   "execution_count": 4,
   "id": "59daab54",
   "metadata": {},
   "outputs": [
    {
     "name": "stdout",
     "output_type": "stream",
     "text": [
      "[[ 1  2  3  4  5]\n",
      " [ 6  7  8  9 10]]\n"
     ]
    }
   ],
   "source": [
    "print(arr)"
   ]
  },
  {
   "cell_type": "code",
   "execution_count": 5,
   "id": "9198f579",
   "metadata": {},
   "outputs": [
    {
     "name": "stdout",
     "output_type": "stream",
     "text": [
      "10\n"
     ]
    }
   ],
   "source": [
    "print(arr[1,-1])"
   ]
  },
  {
   "cell_type": "code",
   "execution_count": null,
   "id": "6cbf2304",
   "metadata": {},
   "outputs": [],
   "source": [
    "arr = np.array([[[1, 2, 3], [4, 5, 6]], [[7, 8, 9], [10, 11, 12]]])"
   ]
  },
  {
   "cell_type": "code",
   "execution_count": 4,
   "id": "cc7570d8",
   "metadata": {},
   "outputs": [],
   "source": [
    "arr1 = np.array([\n",
    "    [\n",
    "        [1,2,3],\n",
    "        [4,5,6]\n",
    "    ],\n",
    "    \n",
    "    [\n",
    "        [7,8,9],\n",
    "        [10,11,12]\n",
    "    ],\n",
    "    \n",
    "    [\n",
    "        [47,48,73],\n",
    "        [35,92,-23]\n",
    "    ]\n",
    "])"
   ]
  },
  {
   "cell_type": "code",
   "execution_count": 5,
   "id": "b0fddae8",
   "metadata": {},
   "outputs": [
    {
     "name": "stdout",
     "output_type": "stream",
     "text": [
      "(array([0, 0, 0, 0, 0, 0, 1, 1, 1, 1, 1, 1, 2, 2, 2, 2, 2, 2], dtype=int64), array([0, 0, 0, 1, 1, 1, 0, 0, 0, 1, 1, 1, 0, 0, 0, 1, 1, 1], dtype=int64), array([0, 1, 2, 0, 1, 2, 0, 1, 2, 0, 1, 2, 0, 1, 2, 0, 1, 2], dtype=int64))\n"
     ]
    }
   ],
   "source": [
    "print(arr1.nonzero())"
   ]
  },
  {
   "cell_type": "markdown",
   "id": "6124551b",
   "metadata": {},
   "source": [
    "### Creating a NumPy ndarray Object\n",
    "NumPy is used to work with arrays. The array object in NumPy is called ndarray.\n",
    "\n",
    "We can create a NumPy ndarray object by using the array() function."
   ]
  },
  {
   "cell_type": "code",
   "execution_count": 8,
   "id": "f2aeb679",
   "metadata": {},
   "outputs": [
    {
     "name": "stdout",
     "output_type": "stream",
     "text": [
      "[1 2 3 4 6]\n",
      "<class 'numpy.ndarray'>\n"
     ]
    }
   ],
   "source": [
    "import numpy as np\n",
    "arr = np.array([1, 2, 3, 4, 6])\n",
    "print(arr)\n",
    "print(type(arr))"
   ]
  },
  {
   "cell_type": "code",
   "execution_count": 9,
   "id": "1eeaf979",
   "metadata": {},
   "outputs": [
    {
     "name": "stdout",
     "output_type": "stream",
     "text": [
      "[1 2 3 4 6]\n"
     ]
    }
   ],
   "source": [
    "# Using tuple to create arrays\n",
    "import numpy as np\n",
    "arr = np.array((1, 2, 3, 4, 6))\n",
    "print(arr)"
   ]
  },
  {
   "cell_type": "markdown",
   "id": "d58ed0f1",
   "metadata": {},
   "source": [
    "#### 0-D Arrays\n",
    "0-D arrays, or Scalars, are the elements in an array. Each value in an array is a 0-D array."
   ]
  },
  {
   "cell_type": "code",
   "execution_count": 11,
   "id": "1841d134",
   "metadata": {},
   "outputs": [
    {
     "name": "stdout",
     "output_type": "stream",
     "text": [
      "48\n"
     ]
    }
   ],
   "source": [
    "import numpy as np\n",
    "arr = np.array(48)\n",
    "print(arr)"
   ]
  },
  {
   "cell_type": "markdown",
   "id": "636c868c",
   "metadata": {},
   "source": [
    "#### 1-D Arrays\n",
    "An array that has 0-D arrays as its elements is called uni-dimensional or 1-D array.\n",
    "\n",
    "These are the most common and basic arrays."
   ]
  },
  {
   "cell_type": "code",
   "execution_count": 12,
   "id": "9825e133",
   "metadata": {},
   "outputs": [
    {
     "name": "stdout",
     "output_type": "stream",
     "text": [
      "[1 2 3 4 6]\n"
     ]
    }
   ],
   "source": [
    "import numpy as np\n",
    "arr = np.array([1, 2, 3, 4, 6])\n",
    "print(arr)"
   ]
  },
  {
   "cell_type": "markdown",
   "id": "c9441952",
   "metadata": {},
   "source": [
    "#### 2-D Arrays\n",
    "An array that has 1-D arrays as its elements is called a 2-D array.\n",
    "\n",
    "These are often used to represent matrix or 2nd order tensors."
   ]
  },
  {
   "cell_type": "code",
   "execution_count": 17,
   "id": "9c62f2ad",
   "metadata": {},
   "outputs": [
    {
     "name": "stdout",
     "output_type": "stream",
     "text": [
      "[[1 2 3]\n",
      " [4 5 7]]\n"
     ]
    }
   ],
   "source": [
    "import numpy as np\n",
    "arr = np.array([\n",
    "    [1,2,3],\n",
    "    [4,5,7]\n",
    "])\n",
    "\n",
    "print(arr)"
   ]
  },
  {
   "cell_type": "markdown",
   "id": "462103f5",
   "metadata": {},
   "source": [
    "#### 3-D arrays\n",
    "An array that has 2-D arrays (matrices) as its elements is called 3-D array.\n",
    "\n",
    "These are often used to represent a 3rd order tensor."
   ]
  },
  {
   "cell_type": "code",
   "execution_count": 18,
   "id": "376654ef",
   "metadata": {},
   "outputs": [
    {
     "name": "stdout",
     "output_type": "stream",
     "text": [
      "[[[2 3 4]\n",
      "  [6 8 4]]\n",
      "\n",
      " [[1 8 4]\n",
      "  [6 9 2]]]\n"
     ]
    }
   ],
   "source": [
    "import numpy as np\n",
    "arr = np.array([\n",
    "    [\n",
    "        [2,3,4],\n",
    "        [6,8,4]\n",
    "    ],\n",
    "    \n",
    "    [\n",
    "        [1,8,4],\n",
    "        [6,9,2]\n",
    "    ]\n",
    "])\n",
    "\n",
    "print(arr)"
   ]
  },
  {
   "cell_type": "markdown",
   "id": "64326b2f",
   "metadata": {},
   "source": [
    "#### Checking Number of Dimensions\n",
    "NumPy Arrays provides the ndim attribute that returns an integer that tells us how many dimensions the array have."
   ]
  },
  {
   "cell_type": "code",
   "execution_count": 19,
   "id": "7411ac15",
   "metadata": {},
   "outputs": [
    {
     "name": "stdout",
     "output_type": "stream",
     "text": [
      "0\n",
      "1\n",
      "2\n",
      "3\n"
     ]
    }
   ],
   "source": [
    "a = np.array(48)\n",
    "b = np.array([1, 2, 3, 4, 6])\n",
    "\n",
    "c = np.array([\n",
    "    [1,2,3],\n",
    "    [4,5,7]\n",
    "])\n",
    "\n",
    "d = np.array([\n",
    "    [\n",
    "        [2,3,4],\n",
    "        [6,8,4]\n",
    "    ],\n",
    "    \n",
    "    [\n",
    "        [1,8,4],\n",
    "        [6,9,2]\n",
    "    ]\n",
    "])\n",
    "\n",
    "print(a.ndim)\n",
    "print(b.ndim)\n",
    "print(c.ndim)\n",
    "print(d.ndim)\n"
   ]
  },
  {
   "cell_type": "markdown",
   "id": "cb580fd7",
   "metadata": {},
   "source": [
    "#### Higher Dimensional Arrays\n",
    "An array can have any number of dimensions.\n",
    "\n",
    "When the array is created, you can define the number of dimensions by using the ndmin argument."
   ]
  },
  {
   "cell_type": "code",
   "execution_count": 21,
   "id": "df1dd3d2",
   "metadata": {},
   "outputs": [
    {
     "name": "stdout",
     "output_type": "stream",
     "text": [
      "[[[[[1 2 3]\n",
      "    [4 5 7]]]]]\n",
      "5\n"
     ]
    }
   ],
   "source": [
    "import numpy as np\n",
    "c = np.array([\n",
    "    [1,2,3],\n",
    "    [4,5,7]\n",
    "], ndmin=5)\n",
    "\n",
    "print(c)\n",
    "print(c.ndim)"
   ]
  },
  {
   "cell_type": "code",
   "execution_count": 23,
   "id": "0c90f345",
   "metadata": {},
   "outputs": [
    {
     "data": {
      "text/plain": [
       "6"
      ]
     },
     "execution_count": 23,
     "metadata": {},
     "output_type": "execute_result"
    }
   ],
   "source": [
    "#Printing the size of an array\n",
    "c.size"
   ]
  },
  {
   "cell_type": "code",
   "execution_count": 22,
   "id": "be0bc760",
   "metadata": {},
   "outputs": [
    {
     "data": {
      "text/plain": [
       "(1, 1, 1, 2, 3)"
      ]
     },
     "execution_count": 22,
     "metadata": {},
     "output_type": "execute_result"
    }
   ],
   "source": [
    "#Printing the shape\n",
    "c.shape"
   ]
  },
  {
   "cell_type": "markdown",
   "id": "9640a1c3",
   "metadata": {},
   "source": [
    "##### Creating Arrays Using Various Methods"
   ]
  },
  {
   "cell_type": "markdown",
   "id": "180e8faf",
   "metadata": {},
   "source": [
    "There are other number of functions for creating new arrays\n",
    "##### i. Zeros Function"
   ]
  },
  {
   "cell_type": "code",
   "execution_count": 9,
   "id": "7ae14510",
   "metadata": {},
   "outputs": [
    {
     "data": {
      "text/plain": [
       "array([0., 0., 0., 0., 0., 0., 0., 0.])"
      ]
     },
     "execution_count": 9,
     "metadata": {},
     "output_type": "execute_result"
    }
   ],
   "source": [
    "#The zeros function\n",
    "#Creates a one dimensional array with the number of zeros specified\n",
    "np.zeros(8)"
   ]
  },
  {
   "cell_type": "code",
   "execution_count": 10,
   "id": "082ec640",
   "metadata": {},
   "outputs": [
    {
     "data": {
      "text/plain": [
       "array([[0., 0., 0., 0., 0., 0.],\n",
       "       [0., 0., 0., 0., 0., 0.],\n",
       "       [0., 0., 0., 0., 0., 0.],\n",
       "       [0., 0., 0., 0., 0., 0.]])"
      ]
     },
     "execution_count": 10,
     "metadata": {},
     "output_type": "execute_result"
    }
   ],
   "source": [
    "#Two dimensional zeros \n",
    "np.zeros((4,6))"
   ]
  },
  {
   "cell_type": "code",
   "execution_count": 11,
   "id": "92804968",
   "metadata": {},
   "outputs": [
    {
     "data": {
      "text/plain": [
       "array([[[0., 0., 0., 0.],\n",
       "        [0., 0., 0., 0.],\n",
       "        [0., 0., 0., 0.]],\n",
       "\n",
       "       [[0., 0., 0., 0.],\n",
       "        [0., 0., 0., 0.],\n",
       "        [0., 0., 0., 0.]]])"
      ]
     },
     "execution_count": 11,
     "metadata": {},
     "output_type": "execute_result"
    }
   ],
   "source": [
    "#Three dimensional zeros \n",
    "np.zeros((2,3,4))"
   ]
  },
  {
   "cell_type": "markdown",
   "id": "a14856e8",
   "metadata": {},
   "source": [
    "##### ii. Ones Function"
   ]
  },
  {
   "cell_type": "code",
   "execution_count": 17,
   "id": "90ba47b6",
   "metadata": {},
   "outputs": [
    {
     "data": {
      "text/plain": [
       "array([1, 1, 1, 1, 1], dtype=int8)"
      ]
     },
     "execution_count": 17,
     "metadata": {},
     "output_type": "execute_result"
    }
   ],
   "source": [
    "# Ones method\n",
    "np.ones(5, dtype=np.int8)"
   ]
  },
  {
   "cell_type": "code",
   "execution_count": 12,
   "id": "9ae91549",
   "metadata": {},
   "outputs": [
    {
     "data": {
      "text/plain": [
       "array([[1, 1, 1, 1],\n",
       "       [1, 1, 1, 1],\n",
       "       [1, 1, 1, 1]], dtype=int16)"
      ]
     },
     "execution_count": 12,
     "metadata": {},
     "output_type": "execute_result"
    }
   ],
   "source": [
    "#Two dimensional ones\n",
    "np.ones((3,4), dtype=np.int16)"
   ]
  },
  {
   "cell_type": "markdown",
   "id": "4ac2814e",
   "metadata": {},
   "source": [
    "##### iii. Empty function"
   ]
  },
  {
   "cell_type": "markdown",
   "id": "49394dbe",
   "metadata": {},
   "source": [
    "#### empty creates an array without initializing its values to any particular value\n",
    "We pass in a tuple to determine its shape"
   ]
  },
  {
   "cell_type": "code",
   "execution_count": 23,
   "id": "07153150",
   "metadata": {},
   "outputs": [
    {
     "data": {
      "text/plain": [
       "array([[1.31999105e-311, 3.16202013e-322, 0.00000000e+000,\n",
       "        0.00000000e+000],\n",
       "       [1.08221785e-312, 1.22286436e+161, 6.01788585e-067,\n",
       "        1.70388597e-051],\n",
       "       [7.25911189e-043, 8.98210395e-067, 2.89817785e-057,\n",
       "        4.27406336e-033]])"
      ]
     },
     "execution_count": 23,
     "metadata": {},
     "output_type": "execute_result"
    }
   ],
   "source": [
    "### Using the 'empty' function\n",
    "np.empty((3,4))"
   ]
  },
  {
   "cell_type": "markdown",
   "id": "8b0d8b23",
   "metadata": {},
   "source": [
    "##### iv The Arange Function\n",
    "arange is an array-valued version of the built-in python range function."
   ]
  },
  {
   "cell_type": "code",
   "execution_count": 25,
   "id": "f924ae1d",
   "metadata": {},
   "outputs": [
    {
     "data": {
      "text/plain": [
       "array([ 0,  1,  2,  3,  4,  5,  6,  7,  8,  9, 10, 11])"
      ]
     },
     "execution_count": 25,
     "metadata": {},
     "output_type": "execute_result"
    }
   ],
   "source": [
    "np.arange(12)"
   ]
  },
  {
   "cell_type": "code",
   "execution_count": 7,
   "id": "e34bfec1",
   "metadata": {},
   "outputs": [
    {
     "data": {
      "text/plain": [
       "array([[ 5,  6],\n",
       "       [ 7,  8],\n",
       "       [ 9, 10],\n",
       "       [11, 12]])"
      ]
     },
     "execution_count": 7,
     "metadata": {},
     "output_type": "execute_result"
    }
   ],
   "source": [
    "#With starting point\n",
    "import numpy as np\n",
    "np.arange(5,13)\n",
    "a.reshape(4,2)"
   ]
  },
  {
   "cell_type": "markdown",
   "id": "014ab040",
   "metadata": {},
   "source": [
    "##### v. The Eye function\n",
    "It creates a unit matrix (diagonal matrix) of one\n",
    "\n",
    "Syntax: eye(N, M=None, k=0, dtype=<class 'float'>, order='C', *, like=None)"
   ]
  },
  {
   "cell_type": "code",
   "execution_count": 48,
   "id": "5c9ee720",
   "metadata": {},
   "outputs": [
    {
     "name": "stdout",
     "output_type": "stream",
     "text": [
      "[[1. 0. 0.]\n",
      " [0. 1. 0.]\n",
      " [0. 0. 1.]]\n"
     ]
    }
   ],
   "source": [
    "import numpy as np\n",
    "c = np.eye(3)\n",
    "print(c)"
   ]
  },
  {
   "cell_type": "code",
   "execution_count": 52,
   "id": "ce3f49cd",
   "metadata": {},
   "outputs": [
    {
     "name": "stdout",
     "output_type": "stream",
     "text": [
      "[[0. 0. 0. 0.]\n",
      " [1. 0. 0. 0.]\n",
      " [0. 1. 0. 0.]\n",
      " [0. 0. 1. 0.]]\n"
     ]
    }
   ],
   "source": [
    "#Shifting the diagonal position\n",
    "import numpy as np\n",
    "d = np.eye(4, k=-1)\n",
    "print(d)"
   ]
  },
  {
   "cell_type": "code",
   "execution_count": 56,
   "id": "5c79f14b",
   "metadata": {},
   "outputs": [
    {
     "name": "stdout",
     "output_type": "stream",
     "text": [
      "[[0. 0. 1. 0. 0.]\n",
      " [0. 0. 0. 1. 0.]\n",
      " [0. 0. 0. 0. 1.]]\n"
     ]
    }
   ],
   "source": [
    "# Specifying the number of column\n",
    "import numpy as np\n",
    "e = np.eye(3, M=5, k=2)\n",
    "print(e)"
   ]
  },
  {
   "cell_type": "code",
   "execution_count": 66,
   "id": "f72fa34c",
   "metadata": {},
   "outputs": [
    {
     "name": "stdout",
     "output_type": "stream",
     "text": [
      "[[False False  True False False]\n",
      " [False False False  True False]\n",
      " [False False False False  True]]\n"
     ]
    }
   ],
   "source": [
    "# Specifying the data type\n",
    "import numpy as np\n",
    "e = np.eye(3, M=5, k=2, dtype=\"bool\")\n",
    "print(e)"
   ]
  },
  {
   "cell_type": "markdown",
   "id": "b8dd3cd5",
   "metadata": {},
   "source": [
    "##### vi. The identity function\n",
    "The identity array is a square array with ones on the main diagonal.\n",
    "\n",
    "\n",
    "Syntax: identity(n, dtype=None, *, like=None)"
   ]
  },
  {
   "cell_type": "code",
   "execution_count": 63,
   "id": "1de8795b",
   "metadata": {},
   "outputs": [
    {
     "data": {
      "text/plain": [
       "array([[1, 0, 0, 0, 0],\n",
       "       [0, 1, 0, 0, 0],\n",
       "       [0, 0, 1, 0, 0],\n",
       "       [0, 0, 0, 1, 0],\n",
       "       [0, 0, 0, 0, 1]])"
      ]
     },
     "execution_count": 63,
     "metadata": {},
     "output_type": "execute_result"
    }
   ],
   "source": [
    "# Example\n",
    "import numpy as np\n",
    "np.identity(5, dtype=\"int\")"
   ]
  },
  {
   "cell_type": "code",
   "execution_count": 64,
   "id": "5af16534",
   "metadata": {},
   "outputs": [
    {
     "data": {
      "text/plain": [
       "array([['1', '', '', '', ''],\n",
       "       ['', '1', '', '', ''],\n",
       "       ['', '', '1', '', ''],\n",
       "       ['', '', '', '1', ''],\n",
       "       ['', '', '', '', '1']], dtype='<U1')"
      ]
     },
     "execution_count": 64,
     "metadata": {},
     "output_type": "execute_result"
    }
   ],
   "source": [
    "# Example\n",
    "import numpy as np\n",
    "np.identity(5, dtype=\"str\")"
   ]
  },
  {
   "cell_type": "code",
   "execution_count": 65,
   "id": "245d43fa",
   "metadata": {},
   "outputs": [
    {
     "data": {
      "text/plain": [
       "array([[ True, False, False, False, False],\n",
       "       [False,  True, False, False, False],\n",
       "       [False, False,  True, False, False],\n",
       "       [False, False, False,  True, False],\n",
       "       [False, False, False, False,  True]])"
      ]
     },
     "execution_count": 65,
     "metadata": {},
     "output_type": "execute_result"
    }
   ],
   "source": [
    "# Example\n",
    "import numpy as np\n",
    "np.identity(5, dtype=\"bool\")"
   ]
  },
  {
   "cell_type": "markdown",
   "id": "d940ccf8",
   "metadata": {},
   "source": [
    "##### vii. The full function\n",
    " Return a new array of given shape and type, filled with `fill_value'\n",
    " \n",
    " Syntax: full(shape, fill_value, dtype=None, order='C', *, like=None)"
   ]
  },
  {
   "cell_type": "code",
   "execution_count": 70,
   "id": "be68c8eb",
   "metadata": {},
   "outputs": [
    {
     "data": {
      "text/plain": [
       "array([['dog', 'dog', 'dog', 'dog', 'dog'],\n",
       "       ['dog', 'dog', 'dog', 'dog', 'dog'],\n",
       "       ['dog', 'dog', 'dog', 'dog', 'dog']], dtype='<U3')"
      ]
     },
     "execution_count": 70,
     "metadata": {},
     "output_type": "execute_result"
    }
   ],
   "source": [
    "##Making use of the fill value\n",
    "import numpy as np\n",
    "np.full(shape=(3,5), fill_value=\"dog\")"
   ]
  },
  {
   "cell_type": "code",
   "execution_count": 74,
   "id": "a163f737",
   "metadata": {},
   "outputs": [
    {
     "data": {
      "text/plain": [
       "array([['dog', 'cow', 'rat', 'cat', 'hen'],\n",
       "       ['dog', 'cow', 'rat', 'cat', 'hen'],\n",
       "       ['dog', 'cow', 'rat', 'cat', 'hen']], dtype='<U3')"
      ]
     },
     "execution_count": 74,
     "metadata": {},
     "output_type": "execute_result"
    }
   ],
   "source": [
    "## The fill value can be inform of an array and\n",
    "# should be equal to the number of column of the array\n",
    "import numpy as np\n",
    "np.full(shape=(3,5), fill_value=[\"dog\", \"cow\", \"rat\", 'cat', 'hen'])"
   ]
  },
  {
   "cell_type": "code",
   "execution_count": null,
   "id": "38c711af",
   "metadata": {},
   "outputs": [],
   "source": []
  },
  {
   "cell_type": "code",
   "execution_count": null,
   "id": "cda957f0",
   "metadata": {},
   "outputs": [],
   "source": []
  },
  {
   "cell_type": "code",
   "execution_count": null,
   "id": "a56f5aa7",
   "metadata": {},
   "outputs": [],
   "source": []
  },
  {
   "cell_type": "markdown",
   "id": "e9a6d5ae",
   "metadata": {},
   "source": [
    "#### Accessing Array Elements\n",
    "Array indexing is the same as accessing an array element.\n",
    "\n",
    "You can access an array element by referring to its index number.\n",
    "\n",
    "The indexes in NumPy arrays start with 0, meaning that the first element has index 0, and the second has index 1 etc."
   ]
  },
  {
   "cell_type": "code",
   "execution_count": 34,
   "id": "8e897b83",
   "metadata": {},
   "outputs": [
    {
     "name": "stdout",
     "output_type": "stream",
     "text": [
      "4\n"
     ]
    }
   ],
   "source": [
    "# Example \n",
    "import numpy as np\n",
    "arr = np.array([1,2,3,4,5])\n",
    "print(arr[3])"
   ]
  },
  {
   "cell_type": "code",
   "execution_count": 29,
   "id": "b826af78",
   "metadata": {},
   "outputs": [
    {
     "name": "stdout",
     "output_type": "stream",
     "text": [
      "7\n"
     ]
    }
   ],
   "source": [
    "print(arr[3] + arr[2])"
   ]
  },
  {
   "cell_type": "markdown",
   "id": "eb819464",
   "metadata": {},
   "source": [
    "##### Accessing 2-D Arrays\n",
    "To access elements from 2-D arrays we can use comma separated integers representing the dimension and the index of the element."
   ]
  },
  {
   "cell_type": "code",
   "execution_count": 31,
   "id": "006a8823",
   "metadata": {},
   "outputs": [
    {
     "name": "stdout",
     "output_type": "stream",
     "text": [
      "9\n",
      "8\n"
     ]
    }
   ],
   "source": [
    "import numpy as np\n",
    "arr = np.array([\n",
    "    [1,2,3,4,5],\n",
    "    [7,5,9,4,8]\n",
    "])\n",
    "\n",
    "print(arr[1][2])\n",
    "print(arr[1,4])"
   ]
  },
  {
   "cell_type": "markdown",
   "id": "b0101dc3",
   "metadata": {},
   "source": [
    "3-D Arrays"
   ]
  },
  {
   "cell_type": "code",
   "execution_count": 83,
   "id": "cc974e33",
   "metadata": {},
   "outputs": [
    {
     "name": "stdout",
     "output_type": "stream",
     "text": [
      "4\n",
      "6\n"
     ]
    }
   ],
   "source": [
    "import numpy as np\n",
    "d = np.array([\n",
    "    [\n",
    "        [2,3,4],\n",
    "        [6,8,4]\n",
    "    ],\n",
    "    \n",
    "    [\n",
    "        [1,8,4],\n",
    "        [6,9,2]\n",
    "    ]\n",
    "])\n",
    "\n",
    "print(d[1,0,2])\n",
    "print(d[0][1][0])"
   ]
  },
  {
   "cell_type": "code",
   "execution_count": 90,
   "id": "28c1d972",
   "metadata": {},
   "outputs": [
    {
     "name": "stdout",
     "output_type": "stream",
     "text": [
      "[6 9 2]\n"
     ]
    }
   ],
   "source": [
    "# You can pass a list for indexing\n",
    "print(d[[1],1,[0,1,2]])"
   ]
  },
  {
   "cell_type": "markdown",
   "id": "b77df368",
   "metadata": {},
   "source": [
    "Negative Indexing"
   ]
  },
  {
   "cell_type": "code",
   "execution_count": 36,
   "id": "4d671687",
   "metadata": {},
   "outputs": [
    {
     "name": "stdout",
     "output_type": "stream",
     "text": [
      "2\n"
     ]
    }
   ],
   "source": [
    "print(d[-1,-1,-1])"
   ]
  },
  {
   "cell_type": "code",
   "execution_count": 35,
   "id": "8b45b060",
   "metadata": {},
   "outputs": [
    {
     "name": "stdout",
     "output_type": "stream",
     "text": [
      "[[6 8 4]\n",
      " [6 9 2]]\n"
     ]
    }
   ],
   "source": [
    "print(d[:,-1,:])"
   ]
  },
  {
   "cell_type": "markdown",
   "id": "7eff6fe8",
   "metadata": {},
   "source": [
    "## Slicing Arrays\n",
    "Slicing in python means taking elements from one given index to another given index.\n",
    "\n",
    "We pass slice instead of index like this: [start:end].\n",
    "\n",
    "We can also define the step, like this: [start:end:step].\n",
    "\n",
    "If we don't pass start its considered 0\n",
    "\n",
    "If we don't pass end its considered length of array in that dimension\n",
    "\n",
    "If we don't pass step its considered 1"
   ]
  },
  {
   "cell_type": "code",
   "execution_count": 45,
   "id": "123060a5",
   "metadata": {},
   "outputs": [],
   "source": [
    "import numpy as np\n",
    "d = np.array([\n",
    "    [\n",
    "        [2,3,4],\n",
    "        [6,8,4]\n",
    "    ],\n",
    "    \n",
    "    [\n",
    "        [1,8,4],\n",
    "        [6,9,2]\n",
    "    ]\n",
    "])"
   ]
  },
  {
   "cell_type": "code",
   "execution_count": 52,
   "id": "fbcc014b",
   "metadata": {},
   "outputs": [
    {
     "name": "stdout",
     "output_type": "stream",
     "text": [
      "[[1 8]\n",
      " [6 9]]\n"
     ]
    }
   ],
   "source": [
    "print(d[1,:,0:2])"
   ]
  },
  {
   "cell_type": "code",
   "execution_count": 53,
   "id": "9b0280eb",
   "metadata": {},
   "outputs": [
    {
     "name": "stdout",
     "output_type": "stream",
     "text": [
      "[[1]\n",
      " [6]]\n"
     ]
    }
   ],
   "source": [
    "print(d[1,:,0:2:2])"
   ]
  },
  {
   "cell_type": "code",
   "execution_count": 55,
   "id": "a0ab9156",
   "metadata": {},
   "outputs": [
    {
     "name": "stdout",
     "output_type": "stream",
     "text": [
      "[[ 4  5]\n",
      " [ 9 10]]\n"
     ]
    }
   ],
   "source": [
    "import numpy as np\n",
    "arr = np.array([[1, 2, 3, 4, 5], [6, 7, 8, 9, 10]])\n",
    "print(arr[:,-2:])"
   ]
  },
  {
   "cell_type": "markdown",
   "id": "3a21ceaa",
   "metadata": {},
   "source": [
    "##### Modifying the Element in an Array"
   ]
  },
  {
   "cell_type": "code",
   "execution_count": 43,
   "id": "d25d4205",
   "metadata": {},
   "outputs": [
    {
     "name": "stdout",
     "output_type": "stream",
     "text": [
      "[[ 1.  2.  3.  4.  5.]\n",
      " [ 6.  7.  8.  9. 10.]]\n"
     ]
    }
   ],
   "source": [
    "import numpy as np\n",
    "a = np.array([[1.0, 2, 3, 4, 5], [6, 7, 8, 9, 10]])\n",
    "print(a)\n",
    "a[1,-1] = np.NaN"
   ]
  },
  {
   "cell_type": "code",
   "execution_count": 44,
   "id": "9e2cabb5",
   "metadata": {},
   "outputs": [
    {
     "name": "stdout",
     "output_type": "stream",
     "text": [
      "[[ 1.  2.  3.  4.  5.]\n",
      " [ 6.  7.  8.  9. nan]]\n"
     ]
    }
   ],
   "source": [
    "print(a)"
   ]
  },
  {
   "cell_type": "markdown",
   "id": "6695a4a6",
   "metadata": {},
   "source": [
    "You can change multiple element in an array but you have to pass an array with the same shape as the array you want to change."
   ]
  },
  {
   "cell_type": "code",
   "execution_count": 38,
   "id": "a877e88f",
   "metadata": {},
   "outputs": [
    {
     "name": "stdout",
     "output_type": "stream",
     "text": [
      "[[ 4  5]\n",
      " [ 9 10]]\n",
      "[[1 2 3 5 6]\n",
      " [6 7 8 1 2]]\n"
     ]
    }
   ],
   "source": [
    "import numpy as np\n",
    "arr1 = np.array([[1, 2, 3, 4, 5], [6, 7, 8, 9, 10]])\n",
    "print(arr1[:,-2:])\n",
    "arr1[:,-2:] = [[5,6],[1,2]]\n",
    "print(arr1)"
   ]
  },
  {
   "cell_type": "markdown",
   "id": "f7e194a2",
   "metadata": {},
   "source": [
    "### Data Types in NumPy\n",
    "NumPy has some extra data types, and refer to data types with one character, like i for integers, u for unsigned integers etc.\n",
    "\n",
    "Below is a list of all data types in NumPy and the characters used to represent them.\n",
    "\n",
    "- i - integer\n",
    "- b - boolean\n",
    "- u - unsigned integer\n",
    "- f - float\n",
    "- c - complex float\n",
    "- m - timedelta\n",
    "- M - datetime\n",
    "- O - object\n",
    "- S - string\n",
    "- U - unicode string\n",
    "- V - fixed chunk of memory for other type ( void )"
   ]
  },
  {
   "cell_type": "code",
   "execution_count": 58,
   "id": "2808b672",
   "metadata": {},
   "outputs": [
    {
     "name": "stdout",
     "output_type": "stream",
     "text": [
      "int32\n"
     ]
    }
   ],
   "source": [
    "# Checking the data type\n",
    "import numpy as np\n",
    "\n",
    "arr = np.array([[1, 2, 3, 4, 5], [6, 7, 8, 9, 10]])\n",
    "print(arr.dtype)"
   ]
  },
  {
   "cell_type": "code",
   "execution_count": 59,
   "id": "34c828f4",
   "metadata": {},
   "outputs": [
    {
     "name": "stdout",
     "output_type": "stream",
     "text": [
      "<U6\n"
     ]
    }
   ],
   "source": [
    "import numpy as np\n",
    "\n",
    "arr = np.array(['apple', 'banana', 'cherry'])\n",
    "print(arr.dtype)"
   ]
  },
  {
   "cell_type": "markdown",
   "id": "8724526d",
   "metadata": {},
   "source": [
    "#### Creating Arrays With a Defined Data Type\n",
    "We use the array() function to create arrays, this function can take an optional argument: dtype that allows us to define the expected data type of the array elements:"
   ]
  },
  {
   "cell_type": "code",
   "execution_count": 63,
   "id": "74ae0858",
   "metadata": {},
   "outputs": [
    {
     "name": "stdout",
     "output_type": "stream",
     "text": [
      "[[ 1.  2.  3.  4.  5.]\n",
      " [ 6.  7.  8.  9. 10.]]\n",
      "float32\n"
     ]
    }
   ],
   "source": [
    "import numpy as np\n",
    "arr = np.array([[1, 2, 3, 4, 5], [6, 7, 8, 9, 10]], dtype=\"f\")\n",
    "print(arr)\n",
    "print(arr.dtype)"
   ]
  },
  {
   "cell_type": "markdown",
   "id": "a314ec79",
   "metadata": {},
   "source": [
    "#### Shape of an Array\n",
    "The shape of an array is the number of elements in each dimension.\n",
    "\n",
    "NumPy arrays have an attribute called shape that returns a tuple with each index having the number of corresponding elements."
   ]
  },
  {
   "cell_type": "code",
   "execution_count": 67,
   "id": "492b0625",
   "metadata": {},
   "outputs": [
    {
     "name": "stdout",
     "output_type": "stream",
     "text": [
      "(2, 4)\n"
     ]
    }
   ],
   "source": [
    "import numpy as np\n",
    "\n",
    "f = np.array([[1, 2, 3, 4], [5, 6, 7, 8]])\n",
    "print(f.shape)"
   ]
  },
  {
   "cell_type": "markdown",
   "id": "6070245f",
   "metadata": {},
   "source": [
    "### Array Reshaping\n",
    "Reshaping means changing the shape of an array.\n",
    "\n",
    "The shape of an array is the number of elements in each dimension.\n",
    "\n",
    "By reshaping we can add or remove dimensions or change number of elements in each dimension."
   ]
  },
  {
   "cell_type": "markdown",
   "id": "fca3e2cc",
   "metadata": {},
   "source": [
    "##### Reshaping from 1-D to 2-D"
   ]
  },
  {
   "cell_type": "code",
   "execution_count": 93,
   "id": "38558ccd",
   "metadata": {},
   "outputs": [
    {
     "name": "stdout",
     "output_type": "stream",
     "text": [
      "[ 1  2  3  4  5  6  7  8  9 10 11 12]\n"
     ]
    }
   ],
   "source": [
    "import numpy as np\n",
    "dd = np.arange(1,13)\n",
    "print(dd)"
   ]
  },
  {
   "cell_type": "code",
   "execution_count": 98,
   "id": "3e16881b",
   "metadata": {},
   "outputs": [
    {
     "name": "stdout",
     "output_type": "stream",
     "text": [
      "[[ 1  4  7 10]\n",
      " [ 2  5  8 11]\n",
      " [ 3  6  9 12]]\n"
     ]
    }
   ],
   "source": [
    "newdd = dd.reshape((3,4), order=\"f\")\n",
    "# \"F\" style arranges from the outer dimension of the array\n",
    "print(newdd)"
   ]
  },
  {
   "cell_type": "markdown",
   "id": "ec2925c5",
   "metadata": {},
   "source": [
    "##### Reshape From 1-D to 3-D"
   ]
  },
  {
   "cell_type": "code",
   "execution_count": 99,
   "id": "0cdaaa69",
   "metadata": {},
   "outputs": [
    {
     "name": "stdout",
     "output_type": "stream",
     "text": [
      "[ 1  2  3  4  5  6  7  8  9 10 11 12]\n"
     ]
    }
   ],
   "source": [
    "import numpy as np\n",
    "dd = np.arange(1,13)\n",
    "print(dd)"
   ]
  },
  {
   "cell_type": "code",
   "execution_count": 102,
   "id": "070d3bbc",
   "metadata": {},
   "outputs": [
    {
     "name": "stdout",
     "output_type": "stream",
     "text": [
      "[[[ 1  7]\n",
      "  [ 3  9]\n",
      "  [ 5 11]]\n",
      "\n",
      " [[ 2  8]\n",
      "  [ 4 10]\n",
      "  [ 6 12]]]\n"
     ]
    }
   ],
   "source": [
    "ss = dd.reshape((2,3,2), order=\"F\")\n",
    "print(ss)"
   ]
  },
  {
   "cell_type": "markdown",
   "id": "22e57a7f",
   "metadata": {},
   "source": [
    "##### Unknown Dimension\n",
    "You are allowed to have one \"unknown\" dimension.\n",
    "\n",
    "Meaning that you do not have to specify an exact number for one of the dimensions in the reshape method.\n",
    "\n",
    "Pass -1 as the value, and NumPy will calculate this number for you."
   ]
  },
  {
   "cell_type": "code",
   "execution_count": 99,
   "id": "7ceec6ac",
   "metadata": {},
   "outputs": [
    {
     "name": "stdout",
     "output_type": "stream",
     "text": [
      "[ 1  2  3  4  5  6  7  8  9 10 11 12]\n"
     ]
    }
   ],
   "source": [
    "import numpy as np\n",
    "dd = np.arange(1,13)\n",
    "print(dd)"
   ]
  },
  {
   "cell_type": "code",
   "execution_count": 109,
   "id": "574b1d11",
   "metadata": {},
   "outputs": [
    {
     "name": "stdout",
     "output_type": "stream",
     "text": [
      "[[[ 1  5  9]\n",
      "  [ 3  7 11]]\n",
      "\n",
      " [[ 2  6 10]\n",
      "  [ 4  8 12]]]\n"
     ]
    }
   ],
   "source": [
    "ss = dd.reshape((2,2,-1), order=\"F\")\n",
    "print(ss)"
   ]
  },
  {
   "cell_type": "markdown",
   "id": "b5c88aa7",
   "metadata": {},
   "source": [
    "##### Flattening the arrays\n",
    "Flattening array means converting a multidimensional array into a 1D array.\n",
    "\n",
    "We can use reshape(-1) to do this."
   ]
  },
  {
   "cell_type": "code",
   "execution_count": 111,
   "id": "9ce62b9a",
   "metadata": {},
   "outputs": [],
   "source": [
    "ss = np.array([[\n",
    "                    [ 1,  5,  9],\n",
    "                    [ 3,  7, 11]],\n",
    "                [\n",
    "                    [ 2,  6, 10],\n",
    "                    [ 4,  8, 12]]])"
   ]
  },
  {
   "cell_type": "code",
   "execution_count": 114,
   "id": "fae52d80",
   "metadata": {},
   "outputs": [
    {
     "name": "stdout",
     "output_type": "stream",
     "text": [
      "[ 1  2  3  4  5  6  7  8  9 10 11 12]\n"
     ]
    }
   ],
   "source": [
    "ff = ss.reshape((-1), order=\"F\")\n",
    "print(ff)"
   ]
  },
  {
   "cell_type": "markdown",
   "id": "37fd6535",
   "metadata": {},
   "source": [
    "Note: There are a lot of functions for changing the shapes of arrays in numpy flatten, ravel and also for rearranging the elements rot90, flip, fliplr, flipud etc. These fall under Intermediate to Advanced section of numpy."
   ]
  },
  {
   "cell_type": "code",
   "execution_count": 118,
   "id": "0f7cc4ed",
   "metadata": {},
   "outputs": [
    {
     "name": "stdout",
     "output_type": "stream",
     "text": [
      "[ 1  5  9  3  7 11  2  6 10  4  8 12]\n"
     ]
    }
   ],
   "source": [
    "# We can also use the flatten function\n",
    "# Returns a copy of the array collapsed into one dimension\n",
    "dd = ss.flatten(order=\"A\")\n",
    "print(dd)"
   ]
  },
  {
   "cell_type": "code",
   "execution_count": 121,
   "id": "121f28b4",
   "metadata": {},
   "outputs": [
    {
     "name": "stdout",
     "output_type": "stream",
     "text": [
      "[ 1  2  3  4  5  6  7  8  9 10 11 12]\n"
     ]
    }
   ],
   "source": [
    "# ravel function\n",
    "# Return a flattened array.\n",
    "gg = ss.ravel(order=\"F\")\n",
    "print(gg)"
   ]
  },
  {
   "cell_type": "code",
   "execution_count": 129,
   "id": "95020f50",
   "metadata": {},
   "outputs": [
    {
     "name": "stdout",
     "output_type": "stream",
     "text": [
      "[[[12  8  4]\n",
      "  [10  6  2]]\n",
      "\n",
      " [[11  7  3]\n",
      "  [ 9  5  1]]]\n"
     ]
    }
   ],
   "source": [
    "# help(np.flip)\n",
    "# flip(m, axis=None)\n",
    "# Reverse the order of elements in an array along the given axis.\n",
    "# The shape of the array is preserved, but the elements are reordered.\n",
    "ss = np.array([[\n",
    "                    [ 1,  5,  9],\n",
    "                    [ 3,  7, 11]],\n",
    "                [\n",
    "                    [ 2,  6, 10],\n",
    "                    [ 4,  8, 12]]])\n",
    "zz = np.flip(ss, axis=(0,1,2))\n",
    "print(zz)"
   ]
  },
  {
   "cell_type": "markdown",
   "id": "91be0480",
   "metadata": {},
   "source": [
    "### Copy vs View\n",
    "The main difference between a copy and a view of an array is that the copy is a new array, and the view is just a view of the original array.\n",
    "\n",
    "The copy owns the data and any changes made to the copy will not affect original array, and any changes made to the original array will not affect the copy.\n",
    "\n",
    "The view does not own the data and any changes made to the view will affect the original array, and any changes made to the original array will affect the view."
   ]
  },
  {
   "cell_type": "code",
   "execution_count": 136,
   "id": "9667b832",
   "metadata": {},
   "outputs": [
    {
     "name": "stdout",
     "output_type": "stream",
     "text": [
      "[57  2  3  4  5]\n",
      "[1 2 3 4 5]\n"
     ]
    }
   ],
   "source": [
    "# Make a copy, change the original array, and display both arrays:\n",
    "import numpy as np\n",
    "\n",
    "aa = np.arange(1,6)\n",
    "bb = aa.copy()\n",
    "aa[0] = 57\n",
    "\n",
    "print(aa)\n",
    "print(bb)"
   ]
  },
  {
   "cell_type": "code",
   "execution_count": null,
   "id": "68a3622c",
   "metadata": {},
   "outputs": [],
   "source": [
    "np.copyto"
   ]
  },
  {
   "cell_type": "code",
   "execution_count": 138,
   "id": "705c1231",
   "metadata": {},
   "outputs": [
    {
     "name": "stdout",
     "output_type": "stream",
     "text": [
      "[57  2  3  4  5]\n",
      "[57  2  3  4  5]\n"
     ]
    }
   ],
   "source": [
    "# Make a view, change the original array, and display both arrays:\n",
    "import numpy as np\n",
    "\n",
    "aa = np.arange(1,6)\n",
    "bb = aa.view()\n",
    "aa[0] = 57\n",
    "\n",
    "print(aa)\n",
    "print(bb)"
   ]
  },
  {
   "cell_type": "code",
   "execution_count": 144,
   "id": "852ae17e",
   "metadata": {},
   "outputs": [
    {
     "name": "stdout",
     "output_type": "stream",
     "text": [
      "[57.  2.  3.  4.  5.]\n"
     ]
    }
   ],
   "source": [
    "# USING THE COPYTO FUNCTION\n",
    "\n",
    "ee =np.empty(5)\n",
    "np.copyto(ee, aa, casting=\"same_kind\")\n",
    "print(ee)"
   ]
  },
  {
   "cell_type": "markdown",
   "id": "5d2999c7",
   "metadata": {},
   "source": [
    "##### Checking if Array owns it's Data\n",
    "As mentioned above, copies owns the data, and views does not own the data, but how can we check this?\n",
    "\n",
    "Every NumPy array has the attribute base that returns None if the array owns the data.\n",
    "\n",
    "Otherwise, the base  attribute refers to the original object."
   ]
  },
  {
   "cell_type": "code",
   "execution_count": 145,
   "id": "d0a32e62",
   "metadata": {},
   "outputs": [
    {
     "name": "stdout",
     "output_type": "stream",
     "text": [
      "[1 2 3 4 5]\n",
      "None\n"
     ]
    }
   ],
   "source": [
    "import numpy as np\n",
    "\n",
    "aa = np.arange(1,6)\n",
    "bb = aa.view()\n",
    "cc = aa.copy()\n",
    "\n",
    "print(bb.base)\n",
    "print(cc.base)\n"
   ]
  },
  {
   "cell_type": "markdown",
   "id": "269da501",
   "metadata": {},
   "source": [
    "### Array Iterating"
   ]
  },
  {
   "cell_type": "code",
   "execution_count": null,
   "id": "9a2865f3",
   "metadata": {},
   "outputs": [],
   "source": []
  },
  {
   "cell_type": "markdown",
   "id": "6eca4ead",
   "metadata": {},
   "source": [
    "### Joining Array\n",
    "Joining means putting contents of two or more arrays in a single array.\n",
    "\n",
    "In SQL we join tables based on a key, whereas in NumPy we join arrays by axes.\n",
    "\n",
    "We pass a sequence of arrays that we want to join to the concatenate() function, along with the axis. If axis is not explicitly passed, it is taken as 0."
   ]
  },
  {
   "cell_type": "code",
   "execution_count": 154,
   "id": "34c7a657",
   "metadata": {},
   "outputs": [
    {
     "name": "stdout",
     "output_type": "stream",
     "text": [
      "[1 2 3]\n",
      "[4 5 6]\n",
      "\n",
      "[1 2 3 4 5 6]\n"
     ]
    }
   ],
   "source": [
    "import numpy as np\n",
    "a1 = np.arange(1,4)\n",
    "a2 = np.arange(4,7)\n",
    "\n",
    "print(a1)\n",
    "print(a2)\n",
    "print(\"\")\n",
    "\n",
    "a3 = np.concatenate((a1,a2))\n",
    "print(a3)"
   ]
  },
  {
   "cell_type": "code",
   "execution_count": 174,
   "id": "4da4457a",
   "metadata": {},
   "outputs": [
    {
     "name": "stdout",
     "output_type": "stream",
     "text": [
      "[[1 2]\n",
      " [3 4]]\n",
      "[[4 5]\n",
      " [6 7]]\n",
      "\n",
      "[[1 2 4 5]\n",
      " [3 4 6 7]]\n"
     ]
    }
   ],
   "source": [
    "# JOINING 2-D ARRAYS ALONG ROWS\n",
    "# ROWS BECOME ONE\n",
    "\n",
    "import numpy as np\n",
    "a1 = np.arange(1,5).reshape((2,2))\n",
    "a2 = np.arange(4,8).reshape((2,2))\n",
    "\n",
    "print(a1)\n",
    "print(a2)\n",
    "print(\"\")\n",
    "\n",
    "a3 = np.concatenate((a1,a2), axis=1)\n",
    "print(a3)"
   ]
  },
  {
   "cell_type": "markdown",
   "id": "b6e1311c",
   "metadata": {},
   "source": [
    "##### Joining Arrays Using Stack Functions\n",
    "Stacking is same as concatenation, the only difference is that stacking is done along a new axis.\n",
    "\n",
    "We can concatenate two 1-D arrays along the second axis which would result in putting them one over the other, ie. stacking.\n",
    "\n",
    "We pass a sequence of arrays that we want to join to the concatenate() method along with the axis. If axis is not explicitly passed it is taken as 0."
   ]
  },
  {
   "cell_type": "code",
   "execution_count": 172,
   "id": "b8586dc2",
   "metadata": {},
   "outputs": [
    {
     "name": "stdout",
     "output_type": "stream",
     "text": [
      "[1 2 3]\n",
      "[4 5 6]\n",
      "\n",
      "[[1 4]\n",
      " [2 5]\n",
      " [3 6]]\n"
     ]
    }
   ],
   "source": [
    "import numpy as np\n",
    "a1 = np.arange(1,4)\n",
    "a2 = np.arange(4,7)\n",
    "\n",
    "print(a1)\n",
    "print(a2)\n",
    "print(\"\")\n",
    "\n",
    "a3 = np.stack((a1,a2), axis=1)\n",
    "print(a3)"
   ]
  },
  {
   "cell_type": "code",
   "execution_count": 170,
   "id": "e0de0340",
   "metadata": {},
   "outputs": [
    {
     "name": "stdout",
     "output_type": "stream",
     "text": [
      "[1 2 3]\n",
      "[4 5 6]\n",
      "\n",
      "[1 2 3 4 5 6]\n"
     ]
    }
   ],
   "source": [
    "# hstack()\n",
    "\n",
    "import numpy as np\n",
    "a1 = np.arange(1,4).reshape(-1)\n",
    "a2 = np.arange(4,7).reshape(-1)\n",
    "\n",
    "print(a1)\n",
    "print(a2)\n",
    "print(\"\")\n",
    "\n",
    "aaa = np.hstack((a1,a2))\n",
    "print(aaa)"
   ]
  },
  {
   "cell_type": "code",
   "execution_count": 179,
   "id": "fb34b8fd",
   "metadata": {},
   "outputs": [
    {
     "name": "stdout",
     "output_type": "stream",
     "text": [
      "[1 2 3]\n",
      "[4 5 6]\n",
      "\n",
      "[[1 2 3]\n",
      " [4 5 6]]\n"
     ]
    }
   ],
   "source": [
    "# vstack()\n",
    "\n",
    "import numpy as np\n",
    "a1 = np.arange(1,4)\n",
    "a2 = np.arange(4,7)\n",
    "\n",
    "print(a1)\n",
    "print(a2)\n",
    "print(\"\")\n",
    "\n",
    "aaa = np.vstack((a1,a2))\n",
    "print(aaa)\n"
   ]
  },
  {
   "cell_type": "code",
   "execution_count": 181,
   "id": "339a2b76",
   "metadata": {},
   "outputs": [
    {
     "name": "stdout",
     "output_type": "stream",
     "text": [
      "[1 2 3]\n",
      "[4 5 6]\n",
      "\n",
      "[[1 4]\n",
      " [2 5]\n",
      " [3 6]]\n"
     ]
    }
   ],
   "source": [
    "# column_stack()\n",
    "\n",
    "import numpy as np\n",
    "a1 = np.arange(1,4)\n",
    "a2 = np.arange(4,7)\n",
    "\n",
    "print(a1)\n",
    "print(a2)\n",
    "print(\"\")\n",
    "\n",
    "aaa = np.column_stack((a1,a2))\n",
    "print(aaa)\n"
   ]
  },
  {
   "cell_type": "code",
   "execution_count": 182,
   "id": "15b9a78c",
   "metadata": {},
   "outputs": [
    {
     "name": "stdout",
     "output_type": "stream",
     "text": [
      "[1 2 3]\n",
      "[4 5 6]\n",
      "\n",
      "[[[1 4]\n",
      "  [2 5]\n",
      "  [3 6]]]\n"
     ]
    }
   ],
   "source": [
    "# Stacking along Height (depth)\n",
    "\n",
    "import numpy as np\n",
    "a1 = np.arange(1,4)\n",
    "a2 = np.arange(4,7)\n",
    "\n",
    "print(a1)\n",
    "print(a2)\n",
    "print(\"\")\n",
    "\n",
    "aaa = np.dstack((a1,a2))\n",
    "print(aaa)\n"
   ]
  },
  {
   "cell_type": "markdown",
   "id": "48fe1c4d",
   "metadata": {},
   "source": [
    "##### Splitting Arrays\n",
    "Splitting is reverse operation of Joining.\n",
    "\n",
    "Joining merges multiple arrays into one and Splitting breaks one array into multiple.\n",
    "\n",
    "We use *array_split()* for splitting arrays, we pass it the array we want to split and the number of splits."
   ]
  },
  {
   "cell_type": "code",
   "execution_count": 193,
   "id": "982d6e7c",
   "metadata": {},
   "outputs": [
    {
     "name": "stdout",
     "output_type": "stream",
     "text": [
      "[array([1, 2, 3]), array([4, 5, 6])]\n"
     ]
    }
   ],
   "source": [
    "# Syntax: array_split(ary, indices_or_sections, axis=0)\n",
    "# Split an array into multiple sub-arrays.\n",
    "# Splitting the array in 3 parts\n",
    "a = np.arange(1,7)\n",
    "aa = np.array_split(a,2)\n",
    "print(aa)"
   ]
  },
  {
   "cell_type": "markdown",
   "id": "fa5a7802",
   "metadata": {},
   "source": [
    "If the array has less elements than required, it will adjust from the end accordingly."
   ]
  },
  {
   "cell_type": "code",
   "execution_count": 190,
   "id": "7fe2e684",
   "metadata": {},
   "outputs": [
    {
     "name": "stdout",
     "output_type": "stream",
     "text": [
      "[array([1, 2]), array([3]), array([4]), array([5]), array([6])]\n"
     ]
    }
   ],
   "source": [
    "# Splitting the array in 3 parts\n",
    "a = np.arange(1,7)\n",
    "aa = np.array_split(a,5)\n",
    "print(aa)"
   ]
  },
  {
   "cell_type": "markdown",
   "id": "f0b3a9cc",
   "metadata": {},
   "source": [
    "Note: We also have the method split() available but it will not adjust the elements when elements are less in source array for splitting like in example above, array_split() worked properly but split() would fail."
   ]
  },
  {
   "cell_type": "code",
   "execution_count": 195,
   "id": "c711f64e",
   "metadata": {},
   "outputs": [
    {
     "name": "stdout",
     "output_type": "stream",
     "text": [
      "[array([1, 2]), array([3, 4]), array([5, 6])]\n"
     ]
    }
   ],
   "source": [
    "# Using the split method\n",
    "a = np.arange(1,7)\n",
    "aa = np.split(a,3)\n",
    "print(aa)"
   ]
  },
  {
   "cell_type": "code",
   "execution_count": 198,
   "id": "1027eab9",
   "metadata": {},
   "outputs": [
    {
     "name": "stdout",
     "output_type": "stream",
     "text": [
      "[array([1, 2, 3]), array([4, 5, 6])]\n"
     ]
    }
   ],
   "source": [
    "# Using the split method\n",
    "a = np.arange(1,7)\n",
    "aa = np.split(a,4)\n",
    "print(aa)"
   ]
  },
  {
   "cell_type": "markdown",
   "id": "eb1ae910",
   "metadata": {},
   "source": [
    "##### Splitting 2-D Arrays\n",
    "Use the same syntax when splitting 2-D arrays.\n",
    "\n",
    "Use the array_split() method, pass in the array you want to split and the number of splits you want to do."
   ]
  },
  {
   "cell_type": "code",
   "execution_count": 209,
   "id": "d76b5d5f",
   "metadata": {},
   "outputs": [
    {
     "name": "stdout",
     "output_type": "stream",
     "text": [
      "[[ 1  2]\n",
      " [ 3  4]\n",
      " [ 5  6]\n",
      " [ 7  8]\n",
      " [ 9 10]\n",
      " [11 12]]\n",
      "[array([[1, 2],\n",
      "       [3, 4]]), array([[5, 6],\n",
      "       [7, 8]]), array([[ 9, 10],\n",
      "       [11, 12]])]\n"
     ]
    }
   ],
   "source": [
    "import numpy as np\n",
    "a = np.arange(1,13).reshape(6,-1)\n",
    "print(a)\n",
    "\n",
    "aa = np.array_split(a, 3)\n",
    "print(aa)"
   ]
  },
  {
   "cell_type": "code",
   "execution_count": 210,
   "id": "198a2a14",
   "metadata": {},
   "outputs": [
    {
     "name": "stdout",
     "output_type": "stream",
     "text": [
      "[[ 1  2]\n",
      " [ 3  4]\n",
      " [ 5  6]\n",
      " [ 7  8]\n",
      " [ 9 10]\n",
      " [11 12]]\n",
      "[array([[ 1],\n",
      "       [ 3],\n",
      "       [ 5],\n",
      "       [ 7],\n",
      "       [ 9],\n",
      "       [11]]), array([[ 2],\n",
      "       [ 4],\n",
      "       [ 6],\n",
      "       [ 8],\n",
      "       [10],\n",
      "       [12]]), array([], shape=(6, 0), dtype=int32)]\n"
     ]
    }
   ],
   "source": [
    "import numpy as np\n",
    "a = np.arange(1,13).reshape(6,-1)\n",
    "print(a)\n",
    "\n",
    "aa = np.array_split(a, 3, axis=1)\n",
    "print(aa)"
   ]
  },
  {
   "cell_type": "code",
   "execution_count": 213,
   "id": "ba79e861",
   "metadata": {},
   "outputs": [
    {
     "name": "stdout",
     "output_type": "stream",
     "text": [
      "[[ 1  2]\n",
      " [ 3  4]\n",
      " [ 5  6]\n",
      " [ 7  8]\n",
      " [ 9 10]\n",
      " [11 12]]\n",
      "\n",
      "[array([[1, 2],\n",
      "       [3, 4]]), array([[5, 6],\n",
      "       [7, 8]]), array([[ 9, 10],\n",
      "       [11, 12]])]\n"
     ]
    }
   ],
   "source": [
    "# Using the vsplit()\n",
    "import numpy as np\n",
    "a = np.arange(1,13).reshape(6,-1)\n",
    "print(a)\n",
    "print(\"\")\n",
    "\n",
    "aa = np.vsplit(a, 3)\n",
    "print(aa)"
   ]
  },
  {
   "cell_type": "code",
   "execution_count": 217,
   "id": "0e269782",
   "metadata": {},
   "outputs": [
    {
     "name": "stdout",
     "output_type": "stream",
     "text": [
      "[[ 1  2]\n",
      " [ 3  4]\n",
      " [ 5  6]\n",
      " [ 7  8]\n",
      " [ 9 10]\n",
      " [11 12]]\n",
      "\n",
      "[array([[ 1],\n",
      "       [ 3],\n",
      "       [ 5],\n",
      "       [ 7],\n",
      "       [ 9],\n",
      "       [11]]), array([[ 2],\n",
      "       [ 4],\n",
      "       [ 6],\n",
      "       [ 8],\n",
      "       [10],\n",
      "       [12]])]\n"
     ]
    }
   ],
   "source": [
    "# Using the hsplit()\n",
    "import numpy as np\n",
    "a = np.arange(1,13).reshape(6,-1)\n",
    "print(a)\n",
    "print(\"\")\n",
    "\n",
    "aa = np.hsplit(a,2)\n",
    "print(aa)"
   ]
  },
  {
   "cell_type": "markdown",
   "id": "59da1af5",
   "metadata": {},
   "source": [
    "### Searching Arrays\n",
    "You can search an array for a certain value, and return the indexes that get a match.\n",
    "\n",
    "To search an array, use the where() method."
   ]
  },
  {
   "cell_type": "code",
   "execution_count": 35,
   "id": "72b38bd2",
   "metadata": {},
   "outputs": [
    {
     "name": "stdout",
     "output_type": "stream",
     "text": [
      "(array([3, 4, 5, 6], dtype=int64),)\n"
     ]
    }
   ],
   "source": [
    "import numpy as np\n",
    "\n",
    "a = np.array([1, 2, 3, 4, 5, 4, 4])\n",
    "\n",
    "x = np.where(a > 3)\n",
    "\n",
    "print(x)"
   ]
  },
  {
   "cell_type": "markdown",
   "id": "eb6b8746",
   "metadata": {},
   "source": [
    "The returns a tuple that contains an array of indices that match with the search criteria.\n",
    "\n",
    "We can use this to pull out the actual result of the search."
   ]
  },
  {
   "cell_type": "code",
   "execution_count": 36,
   "id": "b97c6c15",
   "metadata": {},
   "outputs": [
    {
     "name": "stdout",
     "output_type": "stream",
     "text": [
      "[4 5 4 4]\n"
     ]
    }
   ],
   "source": [
    "print(a[x])"
   ]
  },
  {
   "cell_type": "code",
   "execution_count": 38,
   "id": "9d65acb2",
   "metadata": {},
   "outputs": [
    {
     "name": "stdout",
     "output_type": "stream",
     "text": [
      "(array([0, 2, 4, 6], dtype=int64),)\n",
      "[1 3 5 7]\n"
     ]
    }
   ],
   "source": [
    "# Example\n",
    "# Find the indexes where the values are odd:\n",
    "\n",
    "import numpy as np\n",
    "\n",
    "b = np.array([1, 2, 3, 4, 5, 6, 7, 8])\n",
    "\n",
    "x = np.where(arr%2 == 1)\n",
    "\n",
    "print(x)\n",
    "\n",
    "print(b[x])"
   ]
  },
  {
   "cell_type": "markdown",
   "id": "70408125",
   "metadata": {},
   "source": [
    "##### Search Sorted\n",
    "There is a method called searchsorted() which performs a binary search in the array, and returns the index where the specified value would be inserted to maintain the search order."
   ]
  },
  {
   "cell_type": "code",
   "execution_count": 41,
   "id": "96061e6b",
   "metadata": {},
   "outputs": [
    {
     "name": "stdout",
     "output_type": "stream",
     "text": [
      "4\n"
     ]
    }
   ],
   "source": [
    "# Working with unsorted data\n",
    "import numpy as np\n",
    "a = np.array([6, 7, 4, 1, 8, 9])\n",
    "\n",
    "x = np.searchsorted(a, 7)\n",
    "\n",
    "print(x)"
   ]
  },
  {
   "cell_type": "code",
   "execution_count": 43,
   "id": "a0e69858",
   "metadata": {},
   "outputs": [
    {
     "name": "stdout",
     "output_type": "stream",
     "text": [
      "2\n"
     ]
    }
   ],
   "source": [
    "# Working with sorted data\n",
    "import numpy as np\n",
    "a = np.array([4, 5, 8, 10, 12])\n",
    "x = np.searchsorted(a, 7)\n",
    "print(x)"
   ]
  },
  {
   "cell_type": "markdown",
   "id": "cb79cf73",
   "metadata": {},
   "source": [
    "##### Search From the Right Side\n",
    "By default the left most index is returned, but we can give side='right' to return the right most index instead."
   ]
  },
  {
   "cell_type": "code",
   "execution_count": 44,
   "id": "25be41a4",
   "metadata": {},
   "outputs": [
    {
     "name": "stdout",
     "output_type": "stream",
     "text": [
      "2\n"
     ]
    }
   ],
   "source": [
    "import numpy as np\n",
    "\n",
    "a = np.array([6, 7, 8, 9])\n",
    "\n",
    "x = np.searchsorted(a, 7, side='right')\n",
    "\n",
    "print(x)"
   ]
  },
  {
   "cell_type": "markdown",
   "id": "25503f3a",
   "metadata": {},
   "source": [
    "##### Multiple Values\n",
    "To search for more than one value, use an array with the specified values"
   ]
  },
  {
   "cell_type": "code",
   "execution_count": 47,
   "id": "37929ce5",
   "metadata": {},
   "outputs": [
    {
     "name": "stdout",
     "output_type": "stream",
     "text": [
      "[1 2 2 3]\n"
     ]
    }
   ],
   "source": [
    "import numpy as np\n",
    "a = np.array([1, 3, 7, 10])\n",
    "x = np.searchsorted(a, [2,6,5,9])\n",
    "print(x)"
   ]
  },
  {
   "cell_type": "markdown",
   "id": "1dba30b4",
   "metadata": {},
   "source": [
    "### Sorting Arrays\n",
    "Sorting means putting elements in a ordered sequence.\n",
    "\n",
    "Ordered sequence is any sequence that has an order corresponding to elements, like numeric or alphabetical, ascending or descending.\n",
    "\n",
    "The NumPy ndarray object has a function called sort(), that will sort a specified array."
   ]
  },
  {
   "cell_type": "code",
   "execution_count": 50,
   "id": "ef485c02",
   "metadata": {},
   "outputs": [
    {
     "name": "stdout",
     "output_type": "stream",
     "text": [
      "[ 1  3  5  6  9 12]\n"
     ]
    }
   ],
   "source": [
    "# Example\n",
    "import numpy as np\n",
    "a = np.array([3, 5, 6, 12, 9, 1])\n",
    "\n",
    "sort = np.sort(a)\n",
    "print(sort)"
   ]
  },
  {
   "cell_type": "markdown",
   "id": "006d0b67",
   "metadata": {},
   "source": [
    "You can also sort arrays of strings, or any other data type:"
   ]
  },
  {
   "cell_type": "code",
   "execution_count": 54,
   "id": "fe0c47ae",
   "metadata": {},
   "outputs": [
    {
     "name": "stdout",
     "output_type": "stream",
     "text": [
      "['Apple' 'Banana' 'Guava' 'Mango' 'Orange']\n"
     ]
    }
   ],
   "source": [
    "fruits = np.array([\"Mango\", 'Orange', 'Banana', 'Apple', 'Guava'])\n",
    "a = np.sort(fruits, kind=\"mergesort\")\n",
    "print(a)"
   ]
  },
  {
   "cell_type": "code",
   "execution_count": 52,
   "id": "386a3178",
   "metadata": {},
   "outputs": [
    {
     "name": "stdout",
     "output_type": "stream",
     "text": [
      "[False False False  True  True]\n"
     ]
    }
   ],
   "source": [
    "# Sorting a boolean array:\n",
    "a = np.array([True, False, True, False, False])\n",
    "x = np.sort(a)\n",
    "print(x)"
   ]
  },
  {
   "cell_type": "markdown",
   "id": "6e813f7b",
   "metadata": {},
   "source": [
    "##### Sorting a 2-D Array\n",
    "If you use the sort() method on a 2-D array, both arrays will be sorted:"
   ]
  },
  {
   "cell_type": "code",
   "execution_count": 59,
   "id": "c4b23ab6",
   "metadata": {},
   "outputs": [
    {
     "name": "stdout",
     "output_type": "stream",
     "text": [
      "[[3 2 4]\n",
      " [5 0 1]\n",
      " [2 9 6]]\n",
      "\n",
      "[[2 3 4]\n",
      " [0 1 5]\n",
      " [2 6 9]]\n"
     ]
    }
   ],
   "source": [
    "import numpy as np\n",
    "print(arr)\n",
    "print(\"\")\n",
    "arr = np.array([[3, 2, 4], [5, 0, 1], [2, 9, 6]])\n",
    "print(np.sort(arr))"
   ]
  },
  {
   "cell_type": "code",
   "execution_count": 57,
   "id": "79100e5e",
   "metadata": {},
   "outputs": [
    {
     "name": "stdout",
     "output_type": "stream",
     "text": [
      "[[2 0 1]\n",
      " [3 2 4]\n",
      " [5 9 6]]\n"
     ]
    }
   ],
   "source": [
    "# Specifying the axis\n",
    "import numpy as np\n",
    "arr = np.array([[3, 2, 4], [5, 0, 1], [2, 9, 6]])\n",
    "print(np.sort(arr, axis=0))"
   ]
  },
  {
   "cell_type": "markdown",
   "id": "7e7cfb2d",
   "metadata": {},
   "source": [
    "Sorting Multi-dimension arrays"
   ]
  },
  {
   "cell_type": "code",
   "execution_count": 61,
   "id": "6e6917d3",
   "metadata": {},
   "outputs": [
    {
     "name": "stdout",
     "output_type": "stream",
     "text": [
      "[[[  3   7   2   9]\n",
      "  [  6   2   9  12]\n",
      "  [  5   2  19  12]]\n",
      "\n",
      " [[  4   9   2  10]\n",
      "  [ -2   7 -12   4]\n",
      "  [  5  15  -4   7]]]\n"
     ]
    }
   ],
   "source": [
    "import numpy as np\n",
    "a = np.array([\n",
    "    [\n",
    "        [3,7,2,9],\n",
    "        [6,2,9,12],\n",
    "        [5,2,19,12]\n",
    "    ],\n",
    "    \n",
    "    [\n",
    "        [4,9,2,10],\n",
    "        [-2,7,-12, 4],\n",
    "        [5,15,-4,7]\n",
    "    ]\n",
    "])\n",
    "\n",
    "print(a)"
   ]
  },
  {
   "cell_type": "code",
   "execution_count": 62,
   "id": "a847eef3",
   "metadata": {},
   "outputs": [
    {
     "name": "stdout",
     "output_type": "stream",
     "text": [
      "[[[  2   3   7   9]\n",
      "  [  2   6   9  12]\n",
      "  [  2   5  12  19]]\n",
      "\n",
      " [[  2   4   9  10]\n",
      "  [-12  -2   4   7]\n",
      "  [ -4   5   7  15]]]\n"
     ]
    }
   ],
   "source": [
    "print(np.sort(a, axis=2))"
   ]
  },
  {
   "cell_type": "code",
   "execution_count": 67,
   "id": "4232fde0",
   "metadata": {},
   "outputs": [
    {
     "name": "stdout",
     "output_type": "stream",
     "text": [
      "[[[  3   2   2   9]\n",
      "  [  5   2   9  12]\n",
      "  [  6   7  19  12]]\n",
      "\n",
      " [[ -2   7 -12   4]\n",
      "  [  4   9  -4   7]\n",
      "  [  5  15   2  10]]]\n"
     ]
    }
   ],
   "source": [
    "print(np.sort(a, axis=1))"
   ]
  },
  {
   "cell_type": "code",
   "execution_count": 66,
   "id": "f5144adf",
   "metadata": {},
   "outputs": [
    {
     "name": "stdout",
     "output_type": "stream",
     "text": [
      "[[[  3   7   2   9]\n",
      "  [ -2   2 -12   4]\n",
      "  [  5   2  -4   7]]\n",
      "\n",
      " [[  4   9   2  10]\n",
      "  [  6   7   9  12]\n",
      "  [  5  15  19  12]]]\n"
     ]
    }
   ],
   "source": [
    "print(np.sort(a, axis=0))\n",
    "# Depth wise sorting"
   ]
  },
  {
   "cell_type": "markdown",
   "id": "abda2133",
   "metadata": {},
   "source": [
    "### Filtering Arrays\n",
    "Getting some elements out of an existing array and creating a new array out of them is called filtering.\n",
    "\n",
    "In NumPy, you filter an array using a boolean index list.\n",
    "\n",
    "A boolean index list is a list of booleans corresponding to indexes in the array.\n",
    "\n",
    "If the value at an index is True that element is contained in the filtered array, if the value at that index is False that element is excluded from the filtered array."
   ]
  },
  {
   "cell_type": "code",
   "execution_count": null,
   "id": "2c93572e",
   "metadata": {},
   "outputs": [],
   "source": []
  },
  {
   "cell_type": "code",
   "execution_count": null,
   "id": "1e091028",
   "metadata": {},
   "outputs": [],
   "source": []
  },
  {
   "cell_type": "code",
   "execution_count": null,
   "id": "390b0e16",
   "metadata": {},
   "outputs": [],
   "source": []
  },
  {
   "cell_type": "code",
   "execution_count": null,
   "id": "99cc816f",
   "metadata": {},
   "outputs": [],
   "source": []
  },
  {
   "cell_type": "code",
   "execution_count": null,
   "id": "5c328cd3",
   "metadata": {},
   "outputs": [],
   "source": []
  },
  {
   "cell_type": "code",
   "execution_count": null,
   "id": "1836c732",
   "metadata": {},
   "outputs": [],
   "source": []
  },
  {
   "cell_type": "code",
   "execution_count": null,
   "id": "e60b038f",
   "metadata": {},
   "outputs": [],
   "source": []
  },
  {
   "cell_type": "code",
   "execution_count": null,
   "id": "19f21708",
   "metadata": {},
   "outputs": [],
   "source": []
  },
  {
   "cell_type": "code",
   "execution_count": 219,
   "id": "7b7e390f",
   "metadata": {},
   "outputs": [
    {
     "name": "stdout",
     "output_type": "stream",
     "text": [
      "Help on function where in module numpy:\n",
      "\n",
      "where(...)\n",
      "    where(condition, [x, y])\n",
      "    \n",
      "    Return elements chosen from `x` or `y` depending on `condition`.\n",
      "    \n",
      "    .. note::\n",
      "        When only `condition` is provided, this function is a shorthand for\n",
      "        ``np.asarray(condition).nonzero()``. Using `nonzero` directly should be\n",
      "        preferred, as it behaves correctly for subclasses. The rest of this\n",
      "        documentation covers only the case where all three arguments are\n",
      "        provided.\n",
      "    \n",
      "    Parameters\n",
      "    ----------\n",
      "    condition : array_like, bool\n",
      "        Where True, yield `x`, otherwise yield `y`.\n",
      "    x, y : array_like\n",
      "        Values from which to choose. `x`, `y` and `condition` need to be\n",
      "        broadcastable to some shape.\n",
      "    \n",
      "    Returns\n",
      "    -------\n",
      "    out : ndarray\n",
      "        An array with elements from `x` where `condition` is True, and elements\n",
      "        from `y` elsewhere.\n",
      "    \n",
      "    See Also\n",
      "    --------\n",
      "    choose\n",
      "    nonzero : The function that is called when x and y are omitted\n",
      "    \n",
      "    Notes\n",
      "    -----\n",
      "    If all the arrays are 1-D, `where` is equivalent to::\n",
      "    \n",
      "        [xv if c else yv\n",
      "         for c, xv, yv in zip(condition, x, y)]\n",
      "    \n",
      "    Examples\n",
      "    --------\n",
      "    >>> a = np.arange(10)\n",
      "    >>> a\n",
      "    array([0, 1, 2, 3, 4, 5, 6, 7, 8, 9])\n",
      "    >>> np.where(a < 5, a, 10*a)\n",
      "    array([ 0,  1,  2,  3,  4, 50, 60, 70, 80, 90])\n",
      "    \n",
      "    This can be used on multidimensional arrays too:\n",
      "    \n",
      "    >>> np.where([[True, False], [True, True]],\n",
      "    ...          [[1, 2], [3, 4]],\n",
      "    ...          [[9, 8], [7, 6]])\n",
      "    array([[1, 8],\n",
      "           [3, 4]])\n",
      "    \n",
      "    The shapes of x, y, and the condition are broadcast together:\n",
      "    \n",
      "    >>> x, y = np.ogrid[:3, :4]\n",
      "    >>> np.where(x < y, x, 10 + y)  # both x and 10+y are broadcast\n",
      "    array([[10,  0,  0,  0],\n",
      "           [10, 11,  1,  1],\n",
      "           [10, 11, 12,  2]])\n",
      "    \n",
      "    >>> a = np.array([[0, 1, 2],\n",
      "    ...               [0, 2, 4],\n",
      "    ...               [0, 3, 6]])\n",
      "    >>> np.where(a < 4, a, -1)  # -1 is broadcast\n",
      "    array([[ 0,  1,  2],\n",
      "           [ 0,  2, -1],\n",
      "           [ 0,  3, -1]])\n",
      "\n"
     ]
    }
   ],
   "source": [
    "help(np.where)"
   ]
  },
  {
   "cell_type": "code",
   "execution_count": null,
   "id": "65e77092",
   "metadata": {},
   "outputs": [],
   "source": []
  },
  {
   "cell_type": "code",
   "execution_count": 10,
   "id": "751e0ab7",
   "metadata": {},
   "outputs": [
    {
     "name": "stdout",
     "output_type": "stream",
     "text": [
      "[    1    32   729 16384]\n"
     ]
    }
   ],
   "source": [
    "import numpy as np\n",
    "\n",
    "x = np.array([1, 2, 3, 4])\n",
    "y = np.array([4, 5, 6, 7])\n",
    "\n",
    "\n",
    "#z = np.add(x, y)\n",
    "z = x ** y\n",
    "\n",
    "print(z)"
   ]
  },
  {
   "cell_type": "code",
   "execution_count": null,
   "id": "eef6dad8",
   "metadata": {},
   "outputs": [],
   "source": []
  },
  {
   "cell_type": "code",
   "execution_count": 13,
   "id": "79116f50",
   "metadata": {},
   "outputs": [
    {
     "name": "stdout",
     "output_type": "stream",
     "text": [
      "[ 5 12 21 32]\n"
     ]
    }
   ],
   "source": [
    "import numpy as np\n",
    "\n",
    "arr1 = np.array([1, 2, 3, 4])\n",
    "arr2 = np.array([5, 6, 7, 8])\n",
    "\n",
    "newarr = np.prod([arr1, arr2], axis=0)\n",
    "\n",
    "print(newarr)"
   ]
  },
  {
   "cell_type": "code",
   "execution_count": 23,
   "id": "cdc3ccb6",
   "metadata": {},
   "outputs": [
    {
     "name": "stdout",
     "output_type": "stream",
     "text": [
      "[ True  True  True]\n"
     ]
    }
   ],
   "source": [
    "import numpy as np\n",
    "\n",
    "# Create a 2D NumPy array\n",
    "arr_2d = np.array([[1, 2, 3], [4, 5, 6], [7, 8, 9], [45,76,34]])\n",
    "\n",
    "# Check if any element in the 2D array is even\n",
    "result = np.any(arr_2d % 2 == 0, axis=0)\n",
    "\n",
    "# Print the result\n",
    "print(result)"
   ]
  },
  {
   "cell_type": "code",
   "execution_count": null,
   "id": "ac60b6b2",
   "metadata": {},
   "outputs": [],
   "source": []
  },
  {
   "cell_type": "code",
   "execution_count": null,
   "id": "cb7f9df4",
   "metadata": {},
   "outputs": [],
   "source": [
    "\n"
   ]
  },
  {
   "cell_type": "code",
   "execution_count": null,
   "id": "74022902",
   "metadata": {},
   "outputs": [],
   "source": []
  }
 ],
 "metadata": {
  "kernelspec": {
   "display_name": "Python 3 (ipykernel)",
   "language": "python",
   "name": "python3"
  },
  "language_info": {
   "codemirror_mode": {
    "name": "ipython",
    "version": 3
   },
   "file_extension": ".py",
   "mimetype": "text/x-python",
   "name": "python",
   "nbconvert_exporter": "python",
   "pygments_lexer": "ipython3",
   "version": "3.9.13"
  }
 },
 "nbformat": 4,
 "nbformat_minor": 5
}
